{
 "cells": [
  {
   "cell_type": "code",
   "execution_count": 1,
   "id": "1d8ea6f8",
   "metadata": {},
   "outputs": [],
   "source": [
    "%config Completer.use_jedi = False"
   ]
  },
  {
   "cell_type": "code",
   "execution_count": 2,
   "id": "6fc9c067",
   "metadata": {},
   "outputs": [
    {
     "data": {
      "text/html": [
       "Current session configs: <tt>{'conf': {'spark.pyspark.python': 'python3', 'spark.pyspark.virtualenv.enabled': 'true', 'spark.pyspark.virtualenv.type': 'native', 'spark.pyspark.virtualenv.bin.path': '/usr/bin/virtualenv', 'spark.jars': 's3://sagemaker-coherehealth-1/spark/elasticsearch-hadoop-7.10.1.jar,s3://sagemaker-coherehealth-1/spark/org.apache.commons.httpclient.jar'}, 'proxyUser': 'assumed-role_ML_EMR_User_Role_patton', 'kind': 'pyspark'}</tt><br>"
      ],
      "text/plain": [
       "<IPython.core.display.HTML object>"
      ]
     },
     "metadata": {},
     "output_type": "display_data"
    },
    {
     "data": {
      "text/html": [
       "<table>\n<tbody><tr><th>ID</th><th>YARN Application ID</th><th>Kind</th><th>State</th><th>Spark UI</th><th>Driver log</th><th>Current session?</th></tr><tr><td>1</td><td>application_1624978455841_0003</td><td>pyspark</td><td>idle</td><td><a target=\"_blank\" href=\"http://ip-172-31-1-66.ec2.internal:20888/proxy/application_1624978455841_0003/\" class=\"emr-proxy-link j-5LK8L9QU0O8X application_1624978455841_0003\" emr-resource=\"j-5LK8L9QU0O8X\n\" application-id=\"application_1624978455841_0003\">Link</a></td><td><a target=\"_blank\" href=\"http://ip-172-31-12-123.ec2.internal:8042/node/containerlogs/container_1624978455841_0003_01_000001/livy\">Link</a></td><td></td></tr></tbody></table>"
      ],
      "text/plain": [
       "<IPython.core.display.HTML object>"
      ]
     },
     "metadata": {},
     "output_type": "display_data"
    }
   ],
   "source": [
    "%%configure -f\n",
    "{\n",
    "    \"conf\": {\n",
    "           \"spark.pyspark.python\": \"python3\",\n",
    "           \"spark.pyspark.virtualenv.enabled\": \"true\",\n",
    "           \"spark.pyspark.virtualenv.type\":\"native\",\n",
    "           \"spark.pyspark.virtualenv.bin.path\":\"/usr/bin/virtualenv\",\n",
    "           \"spark.jars\" : \"s3://sagemaker-coherehealth-1/spark/elasticsearch-hadoop-7.10.1.jar,s3://sagemaker-coherehealth-1/spark/org.apache.commons.httpclient.jar\"\n",
    "    }\n",
    "}"
   ]
  },
  {
   "cell_type": "code",
   "execution_count": 3,
   "id": "380a485b",
   "metadata": {},
   "outputs": [
    {
     "data": {
      "text/html": [
       "<style>\n",
       "pre {white-space:pre !important;}\n",
       "</style>\n"
      ],
      "text/plain": [
       "<IPython.core.display.HTML object>"
      ]
     },
     "metadata": {},
     "output_type": "display_data"
    }
   ],
   "source": [
    "%%HTML\n",
    "<style>\n",
    "pre {white-space:pre !important;}\n",
    "</style>"
   ]
  },
  {
   "cell_type": "code",
   "execution_count": 4,
   "id": "9cb02af1",
   "metadata": {},
   "outputs": [
    {
     "data": {
      "application/vnd.jupyter.widget-view+json": {
       "model_id": "d225510e6ce1454f8ba1fc13f433635a",
       "version_major": 2,
       "version_minor": 0
      },
      "text/plain": [
       "VBox()"
      ]
     },
     "metadata": {},
     "output_type": "display_data"
    },
    {
     "name": "stdout",
     "output_type": "stream",
     "text": [
      "Starting Spark application\n"
     ]
    },
    {
     "data": {
      "text/html": [
       "<table>\n<tbody><tr><th>ID</th><th>YARN Application ID</th><th>Kind</th><th>State</th><th>Spark UI</th><th>Driver log</th><th>Current session?</th></tr><tr><td>3</td><td>application_1624978455841_0005</td><td>pyspark</td><td>idle</td><td><a target=\"_blank\" href=\"http://ip-172-31-1-66.ec2.internal:20888/proxy/application_1624978455841_0005/\" class=\"emr-proxy-link j-5LK8L9QU0O8X application_1624978455841_0005\" emr-resource=\"j-5LK8L9QU0O8X\n\" application-id=\"application_1624978455841_0005\">Link</a></td><td><a target=\"_blank\" href=\"http://ip-172-31-11-117.ec2.internal:8042/node/containerlogs/container_1624978455841_0005_01_000001/livy\">Link</a></td><td>✔</td></tr></tbody></table>"
      ],
      "text/plain": [
       "<IPython.core.display.HTML object>"
      ]
     },
     "metadata": {},
     "output_type": "display_data"
    },
    {
     "data": {
      "application/vnd.jupyter.widget-view+json": {
       "model_id": "",
       "version_major": 2,
       "version_minor": 0
      },
      "text/plain": [
       "FloatProgress(value=0.0, bar_style='info', description='Progress:', layout=Layout(height='25px', width='50%'),…"
      ]
     },
     "metadata": {},
     "output_type": "display_data"
    },
    {
     "name": "stdout",
     "output_type": "stream",
     "text": [
      "SparkSession available as 'spark'.\n"
     ]
    },
    {
     "data": {
      "application/vnd.jupyter.widget-view+json": {
       "model_id": "",
       "version_major": 2,
       "version_minor": 0
      },
      "text/plain": [
       "FloatProgress(value=0.0, bar_style='info', description='Progress:', layout=Layout(height='25px', width='50%'),…"
      ]
     },
     "metadata": {},
     "output_type": "display_data"
    },
    {
     "name": "stdout",
     "output_type": "stream",
     "text": [
      "Collecting boto3==1.17.74\n",
      "  Using cached https://files.pythonhosted.org/packages/63/ec/ce099cd67c8c8a60f2666d97d91e993c2dde968ec6fbaf1d06024591a38f/boto3-1.17.74-py2.py3-none-any.whl\n",
      "Collecting s3transfer<0.5.0,>=0.4.0 (from boto3==1.17.74)\n",
      "  Using cached https://files.pythonhosted.org/packages/63/d0/693477c688348654ddc21dcdce0817653a294aa43f41771084c25e7ff9c7/s3transfer-0.4.2-py2.py3-none-any.whl\n",
      "Requirement already satisfied: jmespath<1.0.0,>=0.7.1 in /usr/local/lib/python3.7/site-packages (from boto3==1.17.74)\n",
      "Collecting botocore<1.21.0,>=1.20.74 (from boto3==1.17.74)\n",
      "  Using cached https://files.pythonhosted.org/packages/2f/ae/55b37b5f87c31d391fe2befa0d49c8d7fcad5a2908147ab28c44e661d029/botocore-1.20.102-py2.py3-none-any.whl\n",
      "Collecting urllib3<1.27,>=1.25.4 (from botocore<1.21.0,>=1.20.74->boto3==1.17.74)\n",
      "  Using cached https://files.pythonhosted.org/packages/5f/64/43575537846896abac0b15c3e5ac678d787a4021e906703f1766bfb8ea11/urllib3-1.26.6-py2.py3-none-any.whl\n",
      "Collecting python-dateutil<3.0.0,>=2.1 (from botocore<1.21.0,>=1.20.74->boto3==1.17.74)\n",
      "  Using cached https://files.pythonhosted.org/packages/d4/70/d60450c3dd48ef87586924207ae8907090de0b306af2bce5d134d78615cb/python_dateutil-2.8.1-py2.py3-none-any.whl\n",
      "Requirement already satisfied: six>=1.5 in /usr/local/lib/python3.7/site-packages (from python-dateutil<3.0.0,>=2.1->botocore<1.21.0,>=1.20.74->boto3==1.17.74)\n",
      "Installing collected packages: urllib3, python-dateutil, botocore, s3transfer, boto3\n",
      "Successfully installed boto3-1.17.74 botocore-1.20.102 python-dateutil-2.8.1 s3transfer-0.4.2 urllib3-1.26.6\n",
      "\n",
      "Collecting biopython\n",
      "  Using cached https://files.pythonhosted.org/packages/5a/42/de1ed545df624180b84c613e5e4de4848f72989ce5846a74af6baa0737b9/biopython-1.79-cp37-cp37m-manylinux_2_5_x86_64.manylinux1_x86_64.whl\n",
      "Requirement already satisfied: numpy in /usr/local/lib64/python3.7/site-packages (from biopython)\n",
      "Installing collected packages: biopython\n",
      "Successfully installed biopython-1.79\n",
      "\n",
      "Collecting pandas\n",
      "  Using cached https://files.pythonhosted.org/packages/e6/0a/90da8840e044c329a0271fb0244ff40a68a2615bc360c296a3dc5e326ab6/pandas-1.2.5-cp37-cp37m-manylinux_2_5_x86_64.manylinux1_x86_64.whl\n",
      "Requirement already satisfied: numpy>=1.16.5 in /usr/local/lib64/python3.7/site-packages (from pandas)\n",
      "Requirement already satisfied: pytz>=2017.3 in /usr/local/lib/python3.7/site-packages (from pandas)\n",
      "Requirement already satisfied: python-dateutil>=2.7.3 in /mnt/tmp/1624981728970-0/lib/python3.7/site-packages (from pandas)\n",
      "Requirement already satisfied: six>=1.5 in /usr/local/lib/python3.7/site-packages (from python-dateutil>=2.7.3->pandas)\n",
      "Installing collected packages: pandas\n",
      "Successfully installed pandas-1.2.5\n",
      "\n",
      "Collecting ipython\n",
      "  Using cached https://files.pythonhosted.org/packages/f7/b2/733ea4551a04866bbcfbbade4d9d2c82c829cf1cc6fac1ac5974b8c7f756/ipython-7.25.0-py3-none-any.whl\n",
      "Collecting matplotlib-inline (from ipython)\n",
      "  Using cached https://files.pythonhosted.org/packages/7f/de/6c111d687335729cf8c156394c8d119b0dc3c34b6966ff2a2f7fe4aa79cf/matplotlib_inline-0.1.2-py3-none-any.whl\n",
      "Requirement already satisfied: setuptools>=18.5 in /mnt/tmp/1624981728970-0/lib/python3.7/site-packages (from ipython)\n",
      "Collecting pexpect>4.3; sys_platform != \"win32\" (from ipython)\n",
      "  Using cached https://files.pythonhosted.org/packages/39/7b/88dbb785881c28a102619d46423cb853b46dbccc70d3ac362d99773a78ce/pexpect-4.8.0-py2.py3-none-any.whl\n",
      "Collecting decorator (from ipython)\n",
      "  Using cached https://files.pythonhosted.org/packages/6a/36/b1b9bfdf28690ae01d9ca0aa5b0d07cb4448ac65fb91dc7e2d094e3d992f/decorator-5.0.9-py3-none-any.whl\n",
      "Collecting traitlets>=4.2 (from ipython)\n",
      "  Using cached https://files.pythonhosted.org/packages/f6/7d/3ecb0ebd0ce8dcdfa7bd47ab85c1d4a521e6770ef283d0824f5804994dfe/traitlets-5.0.5-py3-none-any.whl\n",
      "Collecting jedi>=0.16 (from ipython)\n",
      "  Using cached https://files.pythonhosted.org/packages/f9/36/7aa67ae2663025b49e8426ead0bad983fee1b73f472536e9790655da0277/jedi-0.18.0-py2.py3-none-any.whl\n",
      "Collecting prompt-toolkit!=3.0.0,!=3.0.1,<3.1.0,>=2.0.0 (from ipython)\n",
      "  Using cached https://files.pythonhosted.org/packages/1e/34/1d9880ac1339ad4c6697b330e7a507584105613751318249d9e820faa25f/prompt_toolkit-3.0.19-py3-none-any.whl\n",
      "Collecting pickleshare (from ipython)\n",
      "  Using cached https://files.pythonhosted.org/packages/9a/41/220f49aaea88bc6fa6cba8d05ecf24676326156c23b991e80b3f2fc24c77/pickleshare-0.7.5-py2.py3-none-any.whl\n",
      "Collecting backcall (from ipython)\n",
      "  Using cached https://files.pythonhosted.org/packages/4c/1c/ff6546b6c12603d8dd1070aa3c3d273ad4c07f5771689a7b69a550e8c951/backcall-0.2.0-py2.py3-none-any.whl\n",
      "Collecting pygments (from ipython)\n",
      "  Using cached https://files.pythonhosted.org/packages/a6/c9/be11fce9810793676017f79ffab3c6cb18575844a6c7b8d4ed92f95de604/Pygments-2.9.0-py3-none-any.whl\n",
      "Collecting ptyprocess>=0.5 (from pexpect>4.3; sys_platform != \"win32\"->ipython)\n",
      "  Using cached https://files.pythonhosted.org/packages/22/a6/858897256d0deac81a172289110f31629fc4cee19b6f01283303e18c8db3/ptyprocess-0.7.0-py2.py3-none-any.whl\n",
      "Collecting ipython-genutils (from traitlets>=4.2->ipython)\n",
      "  Using cached https://files.pythonhosted.org/packages/fa/bc/9bd3b5c2b4774d5f33b2d544f1460be9df7df2fe42f352135381c347c69a/ipython_genutils-0.2.0-py2.py3-none-any.whl\n",
      "Collecting parso<0.9.0,>=0.8.0 (from jedi>=0.16->ipython)\n",
      "  Using cached https://files.pythonhosted.org/packages/a9/c4/d5476373088c120ffed82f34c74b266ccae31a68d665b837354d4d8dc8be/parso-0.8.2-py2.py3-none-any.whl\n",
      "Collecting wcwidth (from prompt-toolkit!=3.0.0,!=3.0.1,<3.1.0,>=2.0.0->ipython)\n",
      "  Using cached https://files.pythonhosted.org/packages/59/7c/e39aca596badaf1b78e8f547c807b04dae603a433d3e7a7e04d67f2ef3e5/wcwidth-0.2.5-py2.py3-none-any.whl\n",
      "Installing collected packages: ipython-genutils, traitlets, matplotlib-inline, ptyprocess, pexpect, decorator, parso, jedi, wcwidth, prompt-toolkit, pickleshare, backcall, pygments, ipython\n",
      "Successfully installed backcall-0.2.0 decorator-5.0.9 ipython-7.25.0 ipython-genutils-0.2.0 jedi-0.18.0 matplotlib-inline-0.1.2 parso-0.8.2 pexpect-4.8.0 pickleshare-0.7.5 prompt-toolkit-3.0.19 ptyprocess-0.7.0 pygments-2.9.0 traitlets-5.0.5 wcwidth-0.2.5"
     ]
    }
   ],
   "source": [
    "sc.install_pypi_package('boto3==1.17.74')\n",
    "sc.install_pypi_package('biopython')\n",
    "sc.install_pypi_package('matplotlib')\n",
    "sc.install_pypi_package('pandas')\n",
    "sc.install_pypi_package('ipython')"
   ]
  },
  {
   "cell_type": "code",
   "execution_count": 5,
   "id": "75738ebf",
   "metadata": {},
   "outputs": [
    {
     "data": {
      "application/vnd.jupyter.widget-view+json": {
       "model_id": "8b381523aa23471ab2a803f1eb5fd52e",
       "version_major": 2,
       "version_minor": 0
      },
      "text/plain": [
       "VBox()"
      ]
     },
     "metadata": {},
     "output_type": "display_data"
    },
    {
     "data": {
      "application/vnd.jupyter.widget-view+json": {
       "model_id": "",
       "version_major": 2,
       "version_minor": 0
      },
      "text/plain": [
       "FloatProgress(value=0.0, bar_style='info', description='Progress:', layout=Layout(height='25px', width='50%'),…"
      ]
     },
     "metadata": {},
     "output_type": "display_data"
    },
    {
     "name": "stdout",
     "output_type": "stream",
     "text": [
      "+----------+---------------+--------------------+\n",
      "|member_ssn|diagnosis_code1| ord_procedure_codes|\n",
      "+----------+---------------+--------------------+\n",
      "|      null|        E103313|99213 92134 92273...|\n",
      "|      null|          E1069|99214 99213 83036...|\n",
      "|      null|           E319|83520 85613 85598...|\n",
      "|      null|           F315|99213 90837 90837...|\n",
      "|      null|         H18892|None 99283 99283 ...|\n",
      "|      null|         H833X3|99203 99203 97165...|\n",
      "|      null|           K658|88305 88307 88307...|\n",
      "|      null|         L03019|99213 87880 99213...|\n",
      "|      null|           M724|        99203 G0463 |\n",
      "|      null|          M7711|97035 G0283 97110...|\n",
      "|      null|          M8630|99213 99212 99211...|\n",
      "|      null|         M92521|97110 97112 97110...|\n",
      "|      null|        O691XX1|  88307 59400 88307 |\n",
      "|      null|          P0518|99239 99213 99221...|\n",
      "|      null|        S01502A|        99203 99212 |\n",
      "|      null|        S31603A|        99285 99285 |\n",
      "|      null|        S52132D|97165 97010 97110...|\n",
      "|      null|        S60221D|  99213 73130 99213 |\n",
      "|      null|        S60222D|99213 73130 73120...|\n",
      "|      null|          T3110|A0425 A0427 99213...|\n",
      "+----------+---------------+--------------------+\n",
      "only showing top 20 rows"
     ]
    }
   ],
   "source": [
    "list_df = spark.read.load('s3a://sagemaker-coherehealth-1/claims-data/grouped_claims_data/')\n",
    "# list_df.cache()\n",
    "list_df.show()"
   ]
  },
  {
   "cell_type": "code",
   "execution_count": 6,
   "id": "400962d6",
   "metadata": {},
   "outputs": [
    {
     "data": {
      "application/vnd.jupyter.widget-view+json": {
       "model_id": "e02485229c22476a8261e8cac20973ff",
       "version_major": 2,
       "version_minor": 0
      },
      "text/plain": [
       "VBox()"
      ]
     },
     "metadata": {},
     "output_type": "display_data"
    },
    {
     "data": {
      "application/vnd.jupyter.widget-view+json": {
       "model_id": "",
       "version_major": 2,
       "version_minor": 0
      },
      "text/plain": [
       "FloatProgress(value=0.0, bar_style='info', description='Progress:', layout=Layout(height='25px', width='50%'),…"
      ]
     },
     "metadata": {},
     "output_type": "display_data"
    }
   ],
   "source": [
    "import boto3\n",
    "import json\n",
    "import pandas as pd\n",
    "from io import StringIO\n",
    "\n",
    "def get_category_map(hierarchy):\n",
    "    cat_map = {}\n",
    "    for h in hierarchy:\n",
    "        for i in range(h['Start Code'], h['End Code'] + 1):\n",
    "            cat_map[str(i)] = h['CPT Minor Category']\n",
    "    return cat_map\n",
    "\n",
    "s3 = boto3.resource('s3')\n",
    "json_str = s3.Object('sagemaker-coherehealth-1', 'claims-data/carepaths.json').get()['Body'].read().decode('utf-8')\n",
    "data = json.loads(json_str)\n",
    "\n",
    "hierarchy_str = s3.Object('sagemaker-coherehealth-1', 'claims-data/hierarchy.csv').get()['Body'].read().decode('utf-8')\n",
    "hdf = pd.read_csv(StringIO(hierarchy_str))\n",
    "hdf.at[112, 'End Code'] = 99499\n",
    "hdf = hdf.astype({'End Code': 'int64'})\n",
    "hierarchy = list(hdf.T.to_dict().values())\n",
    "\n",
    "cat_map = get_category_map(hierarchy)"
   ]
  },
  {
   "cell_type": "code",
   "execution_count": 7,
   "id": "2ce36a0e",
   "metadata": {},
   "outputs": [
    {
     "data": {
      "application/vnd.jupyter.widget-view+json": {
       "model_id": "7f4e6f5f14b74d0dab7614b37ddc009e",
       "version_major": 2,
       "version_minor": 0
      },
      "text/plain": [
       "VBox()"
      ]
     },
     "metadata": {},
     "output_type": "display_data"
    },
    {
     "data": {
      "application/vnd.jupyter.widget-view+json": {
       "model_id": "",
       "version_major": 2,
       "version_minor": 0
      },
      "text/plain": [
       "FloatProgress(value=0.0, bar_style='info', description='Progress:', layout=Layout(height='25px', width='50%'),…"
      ]
     },
     "metadata": {},
     "output_type": "display_data"
    }
   ],
   "source": [
    "from pyspark.sql.types import FloatType, DoubleType, StringType\n",
    "from pyspark.sql import functions as F\n",
    "import os\n",
    "import ast\n",
    "import json\n",
    "from Bio import pairwise2\n",
    "\n",
    "\n",
    "# function to construct scoring dict\n",
    "def make_scoring_dict(target_str):\n",
    "    sdict = {}\n",
    "    for c1 in target_str:\n",
    "        for c2 in target_str:\n",
    "            if c1 == c2:\n",
    "                if c1 != '0' and c2 != '0':\n",
    "                    sdict[(c1, c2)] = 10\n",
    "                else:\n",
    "                    sdict[(c1, c2)] = 1000\n",
    "            elif c1 == '0' or c2 == '0':\n",
    "                sdict[(c1, c2)] = -1000\n",
    "            elif abs(int(c1) - int(c2)) == 1:\n",
    "                sdict[(c1, c2)] = 5\n",
    "            else:\n",
    "                sdict[(c1, c2)] = 0\n",
    "    return sdict\n",
    "\n",
    "\n",
    "# function to get target sequence from a list\n",
    "def get_target_sequence(carepath):\n",
    "    mapping = {}\n",
    "    key_list = list(carepath.keys())\n",
    "    target = '0'\n",
    "    for k in range(len(key_list)):\n",
    "        mapping[key_list[k]] = str(k+1)\n",
    "        target += str(k+1)\n",
    "        \n",
    "    return target, mapping\n",
    "\n",
    "\n",
    "# function to only have unique characters\n",
    "def get_reduced_str(input_str):\n",
    "    new = ''\n",
    "    for c in input_str:\n",
    "        if c not in new:\n",
    "            new += c\n",
    "    return new\n",
    "\n",
    "\n",
    "# FLAG -- we could roll up on both ends here\n",
    "# function to query pcd codes and get their service cateogry / construct pcd sequence\n",
    "def construct_pcd_seq(procedures, carepath, mapping):\n",
    "    pcd_seq = '0'\n",
    "    for procedure in procedures:\n",
    "        for key in carepath:\n",
    "            if procedure in carepath[key]:\n",
    "                pcd_seq += mapping[key]\n",
    "                break\n",
    "                \n",
    "    return pcd_seq, (len(pcd_seq)-1) / len(procedures)\n",
    "\n",
    "\n",
    "def code_to_category(code, hierarchy):\n",
    "    for h in hierarchy:\n",
    "        if code >= h['Start Code'] and code <= h['End Code']:\n",
    "            return h['CPT Minor Category']\n",
    "    return 'unknown'\n",
    "\n",
    "def get_category_map(hierarchy):\n",
    "    cat_map = {}\n",
    "    for h in hierarchy:\n",
    "        for i in range(h['Start Code'], h['End Code'] + 1):\n",
    "            cat_map[str(i)] = h['CPT Minor Category']\n",
    "    return cat_map\n",
    "\n",
    "\n",
    "def construct_rollup_pcd_seq(procedures, carepath, mapping):\n",
    "    pcd_seq = '0'\n",
    "    for procedure in procedures:\n",
    "        if procedure == 'None' or procedure == '':    # FLAG -- why were empty strings getting passed?????\n",
    "            continue\n",
    "            \n",
    "        exact_match = False\n",
    "        for key in carepath:\n",
    "            if procedure in carepath[key]:\n",
    "                pcd_seq += mapping[key]\n",
    "                exact_match = True\n",
    "                break\n",
    "        \n",
    "        # no direct match, attempt to roll up\n",
    "        if not exact_match and procedure.isdigit():\n",
    "            rollup_match = False\n",
    "            cat = code_to_category(ast.literal_eval(procedure.lstrip('0')), hierarchy)\n",
    "            for key in carepath:\n",
    "                for cp_prcd in carepath[key]:\n",
    "                    if cp_prcd.isdigit():\n",
    "                        if cat is code_to_category(ast.literal_eval(cp_prcd.lstrip('0')), hierarchy):\n",
    "                            pcd_seq += mapping[key]\n",
    "                            rollup_match = True\n",
    "                            break\n",
    "                if rollup_match:\n",
    "                    break\n",
    "                    \n",
    "    return pcd_seq, (len(pcd_seq)-1) / len(procedures)\n",
    "\n",
    "def construct_rollup_pcd_seq2(procedures, carepath, mapping, cat_map):\n",
    "    pcd_seq = '0'\n",
    "    for procedure in procedures:\n",
    "        if procedure == 'None' or procedure == '':    # FLAG -- why were empty strings getting passed?????\n",
    "            continue\n",
    "            \n",
    "        exact_match = False\n",
    "        for key in carepath:\n",
    "            if procedure in carepath[key]:\n",
    "                pcd_seq += mapping[key]\n",
    "                exact_match = True\n",
    "                break\n",
    "        \n",
    "        # no direct match, attempt to roll up\n",
    "        if not exact_match and procedure.isdigit():\n",
    "            rollup_match = False\n",
    "            try:\n",
    "                cat = cat_map[procedure.lstrip('0')]\n",
    "            except:\n",
    "                continue\n",
    "            for key in carepath:\n",
    "                for cp_prcd in carepath[key]:\n",
    "                    if cp_prcd.isdigit():\n",
    "                        try:\n",
    "                            prcd_cat = cat_map[cp_prcd.lstrip('0')]\n",
    "                        except:\n",
    "                            continue\n",
    "                        if cat is cat_map[cp_prcd.lstrip('0')]:\n",
    "                            pcd_seq += mapping[key]\n",
    "                            rollup_match = True\n",
    "                            break\n",
    "                if rollup_match:\n",
    "                    break\n",
    "                    \n",
    "#     print(pcd_seq, (len(pcd_seq)-1) / len(procedures))\n",
    "    return pcd_seq, (len(pcd_seq)-1) / len(procedures)\n",
    "\n",
    "\n",
    "def sequence_alignment(pcd_seq, cp_seq):\n",
    "    scoring = make_scoring_dict(cp_seq)\n",
    "    a = pairwise2.align.globaldd(cp_seq, \n",
    "                                 pcd_seq,\n",
    "                                 scoring,\n",
    "                                 -10,\n",
    "                                 0,\n",
    "                                 -5,\n",
    "                                 -1,\n",
    "                                 penalize_end_gaps=False,\n",
    "                                 score_only=True)\n",
    "    \n",
    "    return ((a-1000) / (len(pcd_seq)-1) / 10)\n",
    "\n",
    "\n",
    "def seq_alignment_adherence(diag_cd, procedure_cds):\n",
    "    try:\n",
    "        carepaths = data[diag_cd][0]\n",
    "        best_adh = 0.0\n",
    "        for cp in carepaths:\n",
    "            target, mapping = get_target_sequence(cp)\n",
    "            code_list = procedure_cds.split(' ')[:-1]\n",
    "            pcd_seq, frac = construct_pcd_seq(code_list, cp, mapping)\n",
    "            reduced_pcd_seq = get_reduced_str(pcd_seq)\n",
    "            if frac != 0:\n",
    "                adherence = sequence_alignment(reduced_pcd_seq, target) * frac\n",
    "                print(adherence)\n",
    "            else:\n",
    "                adherence = 0.0\n",
    "            if adherence > best_adh:\n",
    "                best_adh = adherence\n",
    "        return round(best_adh, 3)\n",
    "    except:\n",
    "        return -1.0\n",
    "\n",
    "    \n",
    "def generous_adherence(diag_cd, procedure_cds):\n",
    "    try:\n",
    "        carepaths = data[diag_cd][0]\n",
    "        best_adh = 0.0\n",
    "        for cp in carepaths:\n",
    "            target, mapping = get_target_sequence(cp)\n",
    "            code_list = procedure_cds.split(' ')[:-1]\n",
    "            pcd_seq, frac = construct_pcd_seq(code_list, cp, mapping)\n",
    "            reduced_pcd_seq = get_reduced_str(pcd_seq)\n",
    "            if frac != 0:\n",
    "                adherence = sequence_alignment(reduced_pcd_seq, target)\n",
    "            else:\n",
    "                best_adh = -1.0\n",
    "            if adherence > best_adh:\n",
    "                best_adh = adherence\n",
    "        return round(best_adh, 3)\n",
    "    except:\n",
    "        return -1.0\n",
    "        \n",
    "        \n",
    "def rollup_adherence(diag_cd, procedure_cds):\n",
    "    try:\n",
    "        carepaths = data[diag_cd][0]\n",
    "        best_adh = 0.0\n",
    "        for cp in carepaths:\n",
    "            target, mapping = get_target_sequence(cp)\n",
    "            code_list = procedure_cds.split(' ')[:-1]\n",
    "            pcd_seq, frac = construct_rollup_pcd_seq(code_list, cp, mapping)\n",
    "            reduced_pcd_seq = get_reduced_str(pcd_seq)\n",
    "            if frac != 0:\n",
    "                adherence = sequence_alignment(reduced_pcd_seq, target) * frac\n",
    "            else:\n",
    "                adherence = 0.0\n",
    "            if adherence > best_adh:\n",
    "                best_adh = adherence\n",
    "        return round(best_adh, 3)\n",
    "    except Exception as e:\n",
    "#         print(e)\n",
    "        return -1.0\n",
    "    \n",
    "def rollup_adherence2(diag_cd, procedure_cds):\n",
    "    try:\n",
    "        carepaths = data[diag_cd][0]\n",
    "        best_adh = 0.0\n",
    "        for cp in carepaths:\n",
    "            target, mapping = get_target_sequence(cp)\n",
    "            code_list = procedure_cds.split(' ')[:-1]\n",
    "            pcd_seq, frac = construct_rollup_pcd_seq2(code_list, cp, mapping, cat_map)\n",
    "            reduced_pcd_seq = get_reduced_str(pcd_seq)\n",
    "            if frac != 0:\n",
    "                adherence = sequence_alignment(reduced_pcd_seq, target) * frac\n",
    "            else:\n",
    "                adherence = 0.0\n",
    "            if adherence > best_adh:\n",
    "                best_adh = adherence\n",
    "        return round(best_adh, 3)\n",
    "    except Exception as e:\n",
    "#         print(str(e) + '!!!')\n",
    "        return -1.0\n",
    "\n",
    "adherence_udf = F.udf(seq_alignment_adherence, DoubleType())\n",
    "gen_adherence_udf = F.udf(generous_adherence, DoubleType())\n",
    "rollup_adherence_udf = F.udf(rollup_adherence, DoubleType())\n",
    "rollup_adherence2_udf = F.udf(rollup_adherence2, DoubleType())"
   ]
  },
  {
   "cell_type": "markdown",
   "id": "0511b82c",
   "metadata": {},
   "source": [
    "### SpeedTests"
   ]
  },
  {
   "cell_type": "code",
   "execution_count": 8,
   "id": "fbf4d134",
   "metadata": {},
   "outputs": [
    {
     "data": {
      "application/vnd.jupyter.widget-view+json": {
       "model_id": "2d2492ac4d884596b9ea1a4173bcfe76",
       "version_major": 2,
       "version_minor": 0
      },
      "text/plain": [
       "VBox()"
      ]
     },
     "metadata": {},
     "output_type": "display_data"
    },
    {
     "data": {
      "application/vnd.jupyter.widget-view+json": {
       "model_id": "",
       "version_major": 2,
       "version_minor": 0
      },
      "text/plain": [
       "FloatProgress(value=0.0, bar_style='info', description='Progress:', layout=Layout(height='25px', width='50%'),…"
      ]
     },
     "metadata": {},
     "output_type": "display_data"
    },
    {
     "name": "stdout",
     "output_type": "stream",
     "text": [
      "+----------+---------------+--------------------+-------------+\n",
      "|member_ssn|diagnosis_code1| ord_procedure_codes|seq_align_adh|\n",
      "+----------+---------------+--------------------+-------------+\n",
      "|      null|        E103313|99213 92134 92273...|         -1.0|\n",
      "|      null|          E1069|99214 99213 83036...|         -1.0|\n",
      "|      null|           E319|83520 85613 85598...|         -1.0|\n",
      "|      null|           F315|99213 90837 90837...|         -1.0|\n",
      "|      null|         H18892|None 99283 99283 ...|         -1.0|\n",
      "|      null|         H833X3|99203 99203 97165...|         -1.0|\n",
      "|      null|           K658|88305 88307 88307...|         -1.0|\n",
      "|      null|         L03019|99213 87880 99213...|         -1.0|\n",
      "|      null|           M724|        99203 G0463 |         -1.0|\n",
      "|      null|          M7711|97035 G0283 97110...|         -1.0|\n",
      "|      null|          M8630|99213 99212 99211...|         -1.0|\n",
      "|      null|         M92521|97110 97112 97110...|         -1.0|\n",
      "|      null|        O691XX1|  88307 59400 88307 |         -1.0|\n",
      "|      null|          P0518|99239 99213 99221...|         -1.0|\n",
      "|      null|        S01502A|        99203 99212 |         -1.0|\n",
      "|      null|        S31603A|        99285 99285 |         -1.0|\n",
      "|      null|        S52132D|97165 97010 97110...|         -1.0|\n",
      "|      null|        S60221D|  99213 73130 99213 |         -1.0|\n",
      "|      null|        S60222D|99213 73130 73120...|         -1.0|\n",
      "|      null|          T3110|A0425 A0427 99213...|         -1.0|\n",
      "+----------+---------------+--------------------+-------------+\n",
      "only showing top 20 rows"
     ]
    }
   ],
   "source": [
    "seq_speedtest = list_df.withColumn('seq_align_adh', adherence_udf(list_df.diagnosis_code1, list_df.ord_procedure_codes))\n",
    "seq_speedtest.show()"
   ]
  },
  {
   "cell_type": "code",
   "execution_count": 9,
   "id": "75d10777",
   "metadata": {},
   "outputs": [
    {
     "data": {
      "application/vnd.jupyter.widget-view+json": {
       "model_id": "56662a24ee614c969847f7c8c8cd7de7",
       "version_major": 2,
       "version_minor": 0
      },
      "text/plain": [
       "VBox()"
      ]
     },
     "metadata": {},
     "output_type": "display_data"
    },
    {
     "data": {
      "application/vnd.jupyter.widget-view+json": {
       "model_id": "",
       "version_major": 2,
       "version_minor": 0
      },
      "text/plain": [
       "FloatProgress(value=0.0, bar_style='info', description='Progress:', layout=Layout(height='25px', width='50%'),…"
      ]
     },
     "metadata": {},
     "output_type": "display_data"
    },
    {
     "name": "stdout",
     "output_type": "stream",
     "text": [
      "+----------+---------------+--------------------+----------+\n",
      "|member_ssn|diagnosis_code1| ord_procedure_codes|rollup_adh|\n",
      "+----------+---------------+--------------------+----------+\n",
      "|      null|        E103313|99213 92134 92273...|      -1.0|\n",
      "|      null|          E1069|99214 99213 83036...|      -1.0|\n",
      "|      null|           E319|83520 85613 85598...|      -1.0|\n",
      "|      null|           F315|99213 90837 90837...|      -1.0|\n",
      "|      null|         H18892|None 99283 99283 ...|      -1.0|\n",
      "|      null|         H833X3|99203 99203 97165...|      -1.0|\n",
      "|      null|           K658|88305 88307 88307...|      -1.0|\n",
      "|      null|         L03019|99213 87880 99213...|      -1.0|\n",
      "|      null|           M724|        99203 G0463 |      -1.0|\n",
      "|      null|          M7711|97035 G0283 97110...|      -1.0|\n",
      "|      null|          M8630|99213 99212 99211...|      -1.0|\n",
      "|      null|         M92521|97110 97112 97110...|      -1.0|\n",
      "|      null|        O691XX1|  88307 59400 88307 |      -1.0|\n",
      "|      null|          P0518|99239 99213 99221...|      -1.0|\n",
      "|      null|        S01502A|        99203 99212 |      -1.0|\n",
      "|      null|        S31603A|        99285 99285 |      -1.0|\n",
      "|      null|        S52132D|97165 97010 97110...|      -1.0|\n",
      "|      null|        S60221D|  99213 73130 99213 |      -1.0|\n",
      "|      null|        S60222D|99213 73130 73120...|      -1.0|\n",
      "|      null|          T3110|A0425 A0427 99213...|      -1.0|\n",
      "+----------+---------------+--------------------+----------+\n",
      "only showing top 20 rows"
     ]
    }
   ],
   "source": [
    "rollup1_speedtest = list_df.withColumn('rollup_adh', rollup_adherence_udf(list_df.diagnosis_code1, list_df.ord_procedure_codes))\n",
    "rollup1_speedtest.show()"
   ]
  },
  {
   "cell_type": "code",
   "execution_count": 10,
   "id": "27be5cc9",
   "metadata": {},
   "outputs": [
    {
     "data": {
      "application/vnd.jupyter.widget-view+json": {
       "model_id": "1f876f926f1b4a6eb07a9d3a454023c0",
       "version_major": 2,
       "version_minor": 0
      },
      "text/plain": [
       "VBox()"
      ]
     },
     "metadata": {},
     "output_type": "display_data"
    },
    {
     "data": {
      "application/vnd.jupyter.widget-view+json": {
       "model_id": "",
       "version_major": 2,
       "version_minor": 0
      },
      "text/plain": [
       "FloatProgress(value=0.0, bar_style='info', description='Progress:', layout=Layout(height='25px', width='50%'),…"
      ]
     },
     "metadata": {},
     "output_type": "display_data"
    },
    {
     "name": "stdout",
     "output_type": "stream",
     "text": [
      "+----------+---------------+--------------------+----------+\n",
      "|member_ssn|diagnosis_code1| ord_procedure_codes|rollup_adh|\n",
      "+----------+---------------+--------------------+----------+\n",
      "|      null|        E103313|99213 92134 92273...|      -1.0|\n",
      "|      null|          E1069|99214 99213 83036...|      -1.0|\n",
      "|      null|           E319|83520 85613 85598...|      -1.0|\n",
      "|      null|           F315|99213 90837 90837...|      -1.0|\n",
      "|      null|         H18892|None 99283 99283 ...|      -1.0|\n",
      "|      null|         H833X3|99203 99203 97165...|      -1.0|\n",
      "|      null|           K658|88305 88307 88307...|      -1.0|\n",
      "|      null|         L03019|99213 87880 99213...|      -1.0|\n",
      "|      null|           M724|        99203 G0463 |      -1.0|\n",
      "|      null|          M7711|97035 G0283 97110...|      -1.0|\n",
      "|      null|          M8630|99213 99212 99211...|      -1.0|\n",
      "|      null|         M92521|97110 97112 97110...|      -1.0|\n",
      "|      null|        O691XX1|  88307 59400 88307 |      -1.0|\n",
      "|      null|          P0518|99239 99213 99221...|      -1.0|\n",
      "|      null|        S01502A|        99203 99212 |      -1.0|\n",
      "|      null|        S31603A|        99285 99285 |      -1.0|\n",
      "|      null|        S52132D|97165 97010 97110...|      -1.0|\n",
      "|      null|        S60221D|  99213 73130 99213 |      -1.0|\n",
      "|      null|        S60222D|99213 73130 73120...|      -1.0|\n",
      "|      null|          T3110|A0425 A0427 99213...|      -1.0|\n",
      "+----------+---------------+--------------------+----------+\n",
      "only showing top 20 rows"
     ]
    }
   ],
   "source": [
    "rollup2_speedtest = list_df.withColumn('rollup_adh', rollup_adherence2_udf(list_df.diagnosis_code1, list_df.ord_procedure_codes))\n",
    "rollup2_speedtest.show()"
   ]
  },
  {
   "cell_type": "markdown",
   "id": "3f176d26",
   "metadata": {},
   "source": [
    "### Compile Results"
   ]
  },
  {
   "cell_type": "code",
   "execution_count": 11,
   "id": "837c7ba1",
   "metadata": {},
   "outputs": [
    {
     "data": {
      "application/vnd.jupyter.widget-view+json": {
       "model_id": "ce6355647cc74ab794fe84ae970c39be",
       "version_major": 2,
       "version_minor": 0
      },
      "text/plain": [
       "VBox()"
      ]
     },
     "metadata": {},
     "output_type": "display_data"
    },
    {
     "data": {
      "application/vnd.jupyter.widget-view+json": {
       "model_id": "",
       "version_major": 2,
       "version_minor": 0
      },
      "text/plain": [
       "FloatProgress(value=0.0, bar_style='info', description='Progress:', layout=Layout(height='25px', width='50%'),…"
      ]
     },
     "metadata": {},
     "output_type": "display_data"
    },
    {
     "name": "stdout",
     "output_type": "stream",
     "text": [
      "+----------+---------------+--------------------+-------------+------------+----------+\n",
      "|member_ssn|diagnosis_code1| ord_procedure_codes|seq_align_adh|generous_adh|rollup_adh|\n",
      "+----------+---------------+--------------------+-------------+------------+----------+\n",
      "|      null|        E103313|99213 92134 92273...|         -1.0|        -1.0|      -1.0|\n",
      "|      null|          E1069|99214 99213 83036...|         -1.0|        -1.0|      -1.0|\n",
      "|      null|           E319|83520 85613 85598...|         -1.0|        -1.0|      -1.0|\n",
      "|      null|           F315|99213 90837 90837...|         -1.0|        -1.0|      -1.0|\n",
      "|      null|         H18892|None 99283 99283 ...|         -1.0|        -1.0|      -1.0|\n",
      "|      null|         H833X3|99203 99203 97165...|         -1.0|        -1.0|      -1.0|\n",
      "|      null|           K658|88305 88307 88307...|         -1.0|        -1.0|      -1.0|\n",
      "|      null|         L03019|99213 87880 99213...|         -1.0|        -1.0|      -1.0|\n",
      "|      null|           M724|        99203 G0463 |         -1.0|        -1.0|      -1.0|\n",
      "|      null|          M7711|97035 G0283 97110...|         -1.0|        -1.0|      -1.0|\n",
      "|      null|          M8630|99213 99212 99211...|         -1.0|        -1.0|      -1.0|\n",
      "|      null|         M92521|97110 97112 97110...|         -1.0|        -1.0|      -1.0|\n",
      "|      null|        O691XX1|  88307 59400 88307 |         -1.0|        -1.0|      -1.0|\n",
      "|      null|          P0518|99239 99213 99221...|         -1.0|        -1.0|      -1.0|\n",
      "|      null|        S01502A|        99203 99212 |         -1.0|        -1.0|      -1.0|\n",
      "|      null|        S31603A|        99285 99285 |         -1.0|        -1.0|      -1.0|\n",
      "|      null|        S52132D|97165 97010 97110...|         -1.0|        -1.0|      -1.0|\n",
      "|      null|        S60221D|  99213 73130 99213 |         -1.0|        -1.0|      -1.0|\n",
      "|      null|        S60222D|99213 73130 73120...|         -1.0|        -1.0|      -1.0|\n",
      "|      null|          T3110|A0425 A0427 99213...|         -1.0|        -1.0|      -1.0|\n",
      "+----------+---------------+--------------------+-------------+------------+----------+\n",
      "only showing top 20 rows"
     ]
    }
   ],
   "source": [
    "adh_df = list_df.withColumn('seq_align_adh', adherence_udf(list_df.diagnosis_code1, list_df.ord_procedure_codes))\n",
    "adh_df = adh_df.withColumn('generous_adh', gen_adherence_udf(list_df.diagnosis_code1, list_df.ord_procedure_codes))\n",
    "adh_df = adh_df.withColumn('rollup_adh', rollup_adherence2_udf(list_df.diagnosis_code1, list_df.ord_procedure_codes))\n",
    "adh_df.cache()\n",
    "adh_df.show()"
   ]
  },
  {
   "cell_type": "code",
   "execution_count": 12,
   "id": "f04f8c0d",
   "metadata": {},
   "outputs": [
    {
     "data": {
      "application/vnd.jupyter.widget-view+json": {
       "model_id": "443026cfe4ca4fe4b02c1b79591486a2",
       "version_major": 2,
       "version_minor": 0
      },
      "text/plain": [
       "VBox()"
      ]
     },
     "metadata": {},
     "output_type": "display_data"
    },
    {
     "data": {
      "application/vnd.jupyter.widget-view+json": {
       "model_id": "",
       "version_major": 2,
       "version_minor": 0
      },
      "text/plain": [
       "FloatProgress(value=0.0, bar_style='info', description='Progress:', layout=Layout(height='25px', width='50%'),…"
      ]
     },
     "metadata": {},
     "output_type": "display_data"
    },
    {
     "name": "stdout",
     "output_type": "stream",
     "text": [
      "+----------+---------------+------------------------------------------------------------------------------------------------------------------------------------------------------------------------+-------------+------------+----------+\n",
      "|member_ssn|diagnosis_code1|ord_procedure_codes                                                                                                                                                     |seq_align_adh|generous_adh|rollup_adh|\n",
      "+----------+---------------+------------------------------------------------------------------------------------------------------------------------------------------------------------------------+-------------+------------+----------+\n",
      "|001307496 |M48062         |99214 97110 97140 97161 J1040 62323 J1030 99214 64483 64484 99214                                                                                                       |0.409        |0.75        |0.409     |\n",
      "|001428812 |S83231A        |J3010 None J2405 None J1100 29881 None J2704 None J1885 J2405 J3010 J2250                                                                                               |0.031        |0.4         |0.031     |\n",
      "|001507035 |M25571         |73650 73610 J1030 20551 99214 73610 73650 20551 J1030                                                                                                                   |0.0          |-1.0        |0.111     |\n",
      "|001967984 |M542           |97014 97035 98941 98941 97010 97014 97014 97012 98941 98941 97014 97012 98941 97012 97014 98941 97014 97012 97014 98941 97012 98941 97014 97012 97014 98941 97012       |0.667        |1.0         |0.667     |\n",
      "|002323650 |M25512         |73030 99443 73030 99443 73030 99203 20610 J0702 73221 99213                                                                                                             |0.05         |-1.0        |0.4       |\n",
      "|004584849 |M25571         |99213                                                                                                                                                                   |0.0          |-1.0        |0.0       |\n",
      "|006403741 |M25511         |99214 73030 85652 86140 None 20610 77002 77002 83516 20610 86140 89051 99213 20610 J1030 73030                                                                          |0.0          |-1.0        |0.234     |\n",
      "|007349181 |M25562         |A0425 A0429 27520 99213 73562                                                                                                                                           |0.0          |-1.0        |0.4       |\n",
      "|007440989 |M79671         |73620 99203                                                                                                                                                             |0.0          |-1.0        |0.0       |\n",
      "|007441125 |M47816         |72100                                                                                                                                                                   |0.0          |-1.0        |0.5       |\n",
      "|007547189 |M47817         |J1030 64493 64494 99213 64495 64493 64494 J1030 J1030 99213 99213 J1030 64636 64635 99213 64635 64636 J1030 20610 99214 J1030 99214 J1030 20610 20610 J1030 72114 99213 |0.241        |0.75        |0.348     |\n",
      "|008281392 |M79662         |99203                                                                                                                                                                   |0.0          |-1.0        |0.0       |\n",
      "|008506803 |M5417          |99204 99213 J1100 64483 Q9967 None 99213                                                                                                                                |0.057        |0.4         |0.057     |\n",
      "|008608755 |M25551         |99203 73502 99213                                                                                                                                                       |0.0          |-1.0        |0.167     |\n",
      "|009188307 |M533           |99213                                                                                                                                                                   |0.0          |-1.0        |0.0       |\n",
      "|009220892 |M79672         |73630 R0070 Q0092                                                                                                                                                       |0.0          |-1.0        |0.0       |\n",
      "|009567202 |M542           |99223 99232                                                                                                                                                             |0.0          |-1.0        |0.0       |\n",
      "|010304452 |M5416          |95886 95910                                                                                                                                                             |0.0          |-1.0        |0.0       |\n",
      "|010409765 |M5442          |99213 72100 97110 97140 None 97535 97140 97110 97140 97110 97110 97161 97140 97110                                                                                      |0.786        |1.0         |0.214     |\n",
      "|010426700 |M542           |72040 72070 99204 73130 99214 99213                                                                                                                                     |0.0          |-1.0        |0.5       |\n",
      "+----------+---------------+------------------------------------------------------------------------------------------------------------------------------------------------------------------------+-------------+------------+----------+\n",
      "only showing top 20 rows"
     ]
    }
   ],
   "source": [
    "filter_df = adh_df.filter(adh_df.seq_align_adh != -1)\n",
    "filter_df.show(truncate=False)"
   ]
  },
  {
   "cell_type": "code",
   "execution_count": 13,
   "id": "3013f5fc",
   "metadata": {},
   "outputs": [
    {
     "data": {
      "application/vnd.jupyter.widget-view+json": {
       "model_id": "a42a44e67e4b4ef7b2b443d1e84f4182",
       "version_major": 2,
       "version_minor": 0
      },
      "text/plain": [
       "VBox()"
      ]
     },
     "metadata": {},
     "output_type": "display_data"
    },
    {
     "data": {
      "application/vnd.jupyter.widget-view+json": {
       "model_id": "",
       "version_major": 2,
       "version_minor": 0
      },
      "text/plain": [
       "FloatProgress(value=0.0, bar_style='info', description='Progress:', layout=Layout(height='25px', width='50%'),…"
      ]
     },
     "metadata": {},
     "output_type": "display_data"
    }
   ],
   "source": [
    "# filter_df.describe('seq_align_adh').show()"
   ]
  },
  {
   "cell_type": "code",
   "execution_count": 14,
   "id": "ac817e5f",
   "metadata": {},
   "outputs": [
    {
     "data": {
      "application/vnd.jupyter.widget-view+json": {
       "model_id": "bb94b6ddacca4c1a981dc2c2c09da65b",
       "version_major": 2,
       "version_minor": 0
      },
      "text/plain": [
       "VBox()"
      ]
     },
     "metadata": {},
     "output_type": "display_data"
    },
    {
     "data": {
      "application/vnd.jupyter.widget-view+json": {
       "model_id": "",
       "version_major": 2,
       "version_minor": 0
      },
      "text/plain": [
       "FloatProgress(value=0.0, bar_style='info', description='Progress:', layout=Layout(height='25px', width='50%'),…"
      ]
     },
     "metadata": {},
     "output_type": "display_data"
    },
    {
     "name": "stdout",
     "output_type": "stream",
     "text": [
      "+-------+-------------------+\n",
      "|summary|         rollup_adh|\n",
      "+-------+-------------------+\n",
      "|  count|            7043004|\n",
      "|   mean| 0.2677263700262324|\n",
      "| stddev|0.29781890670151107|\n",
      "|    min|                0.0|\n",
      "|    max|                1.0|\n",
      "+-------+-------------------+"
     ]
    }
   ],
   "source": [
    "filter_df.describe('rollup_adh').show()"
   ]
  },
  {
   "cell_type": "code",
   "execution_count": 16,
   "id": "e643a5dc",
   "metadata": {},
   "outputs": [
    {
     "data": {
      "application/vnd.jupyter.widget-view+json": {
       "model_id": "60ff3e28f3b14e38a15340acfc721e24",
       "version_major": 2,
       "version_minor": 0
      },
      "text/plain": [
       "VBox()"
      ]
     },
     "metadata": {},
     "output_type": "display_data"
    },
    {
     "data": {
      "application/vnd.jupyter.widget-view+json": {
       "model_id": "",
       "version_major": 2,
       "version_minor": 0
      },
      "text/plain": [
       "FloatProgress(value=0.0, bar_style='info', description='Progress:', layout=Layout(height='25px', width='50%'),…"
      ]
     },
     "metadata": {},
     "output_type": "display_data"
    },
    {
     "name": "stdout",
     "output_type": "stream",
     "text": [
      "Collecting matplotlib\n",
      "  Using cached https://files.pythonhosted.org/packages/24/33/5568d443ba438d95d4db635dd69958056f087e57e1026bee56f959d53f9d/matplotlib-3.4.2-cp37-cp37m-manylinux1_x86_64.whl\n",
      "Requirement already satisfied: numpy>=1.16 in /usr/local/lib64/python3.7/site-packages (from matplotlib)\n",
      "Collecting pyparsing>=2.2.1 (from matplotlib)\n",
      "  Using cached https://files.pythonhosted.org/packages/8a/bb/488841f56197b13700afd5658fc279a2025a39e22449b7cf29864669b15d/pyparsing-2.4.7-py2.py3-none-any.whl\n",
      "Requirement already satisfied: python-dateutil>=2.7 in /mnt/tmp/1624981728970-0/lib/python3.7/site-packages (from matplotlib)\n",
      "Collecting pillow>=6.2.0 (from matplotlib)\n",
      "  Using cached https://files.pythonhosted.org/packages/33/34/542152297dcc6c47a9dcb0685eac6d652d878ed3cea83bf2b23cb988e857/Pillow-8.2.0-cp37-cp37m-manylinux1_x86_64.whl\n",
      "Collecting cycler>=0.10 (from matplotlib)\n",
      "  Using cached https://files.pythonhosted.org/packages/f7/d2/e07d3ebb2bd7af696440ce7e754c59dd546ffe1bbe732c8ab68b9c834e61/cycler-0.10.0-py2.py3-none-any.whl\n",
      "Collecting kiwisolver>=1.0.1 (from matplotlib)\n",
      "  Using cached https://files.pythonhosted.org/packages/d2/46/231de802ade4225b76b96cffe419cf3ce52bbe92e3b092cf12db7d11c207/kiwisolver-1.3.1-cp37-cp37m-manylinux1_x86_64.whl\n",
      "Requirement already satisfied: six>=1.5 in /usr/local/lib/python3.7/site-packages (from python-dateutil>=2.7->matplotlib)\n",
      "Installing collected packages: pyparsing, pillow, cycler, kiwisolver, matplotlib\n",
      "Successfully installed cycler-0.10.0 kiwisolver-1.3.1 matplotlib-3.4.2 pillow-8.2.0 pyparsing-2.4.7"
     ]
    }
   ],
   "source": [
    "sc.install_pypi_package('matplotlib')"
   ]
  },
  {
   "cell_type": "code",
   "execution_count": 17,
   "id": "9d2bb735",
   "metadata": {},
   "outputs": [
    {
     "data": {
      "application/vnd.jupyter.widget-view+json": {
       "model_id": "a5f0a77027454f6d93119cce74315dd6",
       "version_major": 2,
       "version_minor": 0
      },
      "text/plain": [
       "VBox()"
      ]
     },
     "metadata": {},
     "output_type": "display_data"
    },
    {
     "data": {
      "application/vnd.jupyter.widget-view+json": {
       "model_id": "",
       "version_major": 2,
       "version_minor": 0
      },
      "text/plain": [
       "FloatProgress(value=0.0, bar_style='info', description='Progress:', layout=Layout(height='25px', width='50%'),…"
      ]
     },
     "metadata": {},
     "output_type": "display_data"
    },
    {
     "name": "stdout",
     "output_type": "stream",
     "text": [
      "(array([2541665.,   66901.,   95370.,   95995.,   97636.,  157813.,\n",
      "        220574.,   69774.,  182098.,   37769.,  229677.,   43708.,\n",
      "        365312.,   58868.,   35559.,  130001.,  177996.,   26007.,\n",
      "        102011.,   10929.,  217780.,   29864.,   39958.,   23932.,\n",
      "          9616., 1140586.,   12392.,    9219.,   19726.,    7692.,\n",
      "         31910.,   11440.,   13407.,   49090.,   24005.,    9095.,\n",
      "          7810.,   33839.,    7054.,    3844.,   14948.,    8469.,\n",
      "          8785.,    7340.,    7208.,   10865.,   10750.,   11278.,\n",
      "         11352.,  504087.]), array([0.  , 0.02, 0.04, 0.06, 0.08, 0.1 , 0.12, 0.14, 0.16, 0.18, 0.2 ,\n",
      "       0.22, 0.24, 0.26, 0.28, 0.3 , 0.32, 0.34, 0.36, 0.38, 0.4 , 0.42,\n",
      "       0.44, 0.46, 0.48, 0.5 , 0.52, 0.54, 0.56, 0.58, 0.6 , 0.62, 0.64,\n",
      "       0.66, 0.68, 0.7 , 0.72, 0.74, 0.76, 0.78, 0.8 , 0.82, 0.84, 0.86,\n",
      "       0.88, 0.9 , 0.92, 0.94, 0.96, 0.98, 1.  ]), <BarContainer object of 50 artists>)"
     ]
    }
   ],
   "source": [
    "import matplotlib.pyplot as plt\n",
    "\n",
    "fig, ax = plt.subplots()\n",
    "ax.hist(list(filter_df.select('rollup_adh').toPandas()['rollup_adh']), bins=50, color='blue')"
   ]
  },
  {
   "cell_type": "code",
   "execution_count": 18,
   "id": "17e823c6",
   "metadata": {},
   "outputs": [
    {
     "data": {
      "application/vnd.jupyter.widget-view+json": {
       "model_id": "",
       "version_major": 2,
       "version_minor": 0
      },
      "text/plain": [
       "FloatProgress(value=0.0, bar_style='info', description='Progress:', layout=Layout(height='25px', width='50%'),…"
      ]
     },
     "metadata": {},
     "output_type": "display_data"
    },
    {
     "data": {
      "image/png": "[encoded data removed]",
      "text/plain": [
       "<IPython.core.display.Image object>"
      ]
     },
     "metadata": {},
     "output_type": "display_data"
    }
   ],
   "source": [
    "%matplot plt"
   ]
  },
  {
   "cell_type": "code",
   "execution_count": null,
   "id": "55ef8b9c",
   "metadata": {},
   "outputs": [],
   "source": []
  }
 ],
 "metadata": {
  "kernelspec": {
   "display_name": "PySpark",
   "language": "",
   "name": "pysparkkernel"
  },
  "language_info": {
   "codemirror_mode": {
    "name": "python",
    "version": 3
   },
   "mimetype": "text/x-python",
   "name": "pyspark",
   "pygments_lexer": "python3"
  }
 },
 "nbformat": 4,
 "nbformat_minor": 5
}
