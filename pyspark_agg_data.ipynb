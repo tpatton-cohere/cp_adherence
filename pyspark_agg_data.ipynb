{
 "cells": [
  {
   "cell_type": "code",
   "execution_count": 1,
   "id": "35dd21db",
   "metadata": {},
   "outputs": [
    {
     "data": {
      "text/html": [
       "Current session configs: <tt>{'conf': {'spark.pyspark.python': 'python3', 'spark.pyspark.virtualenv.enabled': 'true', 'spark.pyspark.virtualenv.type': 'native', 'spark.pyspark.virtualenv.bin.path': '/usr/bin/virtualenv', 'spark.jars': 's3://sagemaker-coherehealth-1/spark/elasticsearch-hadoop-7.10.1.jar,s3://sagemaker-coherehealth-1/spark/org.apache.commons.httpclient.jar'}, 'proxyUser': 'assumed-role_ML_EMR_User_Role_patton', 'kind': 'pyspark'}</tt><br>"
      ],
      "text/plain": [
       "<IPython.core.display.HTML object>"
      ]
     },
     "metadata": {},
     "output_type": "display_data"
    },
    {
     "data": {
      "text/html": [
       "<table>\n",
       "<tbody><tr><th>ID</th><th>YARN Application ID</th><th>Kind</th><th>State</th><th>Spark UI</th><th>Driver log</th><th>Current session?</th></tr><tr><td>15</td><td>application_1624902329262_0016</td><td>pyspark</td><td>idle</td><td><a target=\"_blank\" href=\"http://ip-172-31-5-242.ec2.internal:20888/proxy/application_1624902329262_0016/\" class=\"emr-proxy-link j-3AU7U271TFKYJ application_1624902329262_0016\" emr-resource=\"j-3AU7U271TFKYJ\n",
       "\" application-id=\"application_1624902329262_0016\">Link</a></td><td><a target=\"_blank\" href=\"http://ip-172-31-5-222.ec2.internal:8042/node/containerlogs/container_1624902329262_0016_01_000001/livy\">Link</a></td><td></td></tr><tr><td>16</td><td>application_1624902329262_0017</td><td>pyspark</td><td>idle</td><td><a target=\"_blank\" href=\"http://ip-172-31-5-242.ec2.internal:20888/proxy/application_1624902329262_0017/\" class=\"emr-proxy-link j-3AU7U271TFKYJ application_1624902329262_0017\" emr-resource=\"j-3AU7U271TFKYJ\n",
       "\" application-id=\"application_1624902329262_0017\">Link</a></td><td><a target=\"_blank\" href=\"http://ip-172-31-1-110.ec2.internal:8042/node/containerlogs/container_1624902329262_0017_01_000001/livy\">Link</a></td><td></td></tr></tbody></table>"
      ],
      "text/plain": [
       "<IPython.core.display.HTML object>"
      ]
     },
     "metadata": {},
     "output_type": "display_data"
    }
   ],
   "source": [
    "%%configure -f\n",
    "{\n",
    "    \"conf\": {\n",
    "           \"spark.pyspark.python\": \"python3\",\n",
    "           \"spark.pyspark.virtualenv.enabled\": \"true\",\n",
    "           \"spark.pyspark.virtualenv.type\":\"native\",\n",
    "           \"spark.pyspark.virtualenv.bin.path\":\"/usr/bin/virtualenv\",\n",
    "           \"spark.jars\" : \"s3://sagemaker-coherehealth-1/spark/elasticsearch-hadoop-7.10.1.jar,s3://sagemaker-coherehealth-1/spark/org.apache.commons.httpclient.jar\"\n",
    "    }\n",
    "}"
   ]
  },
  {
   "cell_type": "code",
   "execution_count": 2,
   "id": "fc2cc0bd",
   "metadata": {},
   "outputs": [
    {
     "data": {
      "text/html": [
       "<style>\n",
       "pre {white-space:pre !important;}\n",
       "</style>\n"
      ],
      "text/plain": [
       "<IPython.core.display.HTML object>"
      ]
     },
     "metadata": {},
     "output_type": "display_data"
    }
   ],
   "source": [
    "%%HTML\n",
    "<style>\n",
    "pre {white-space:pre !important;}\n",
    "</style>"
   ]
  },
  {
   "cell_type": "code",
   "execution_count": 3,
   "id": "4648bbc2",
   "metadata": {},
   "outputs": [
    {
     "data": {
      "application/vnd.jupyter.widget-view+json": {
       "model_id": "d6c35968979c4fdebb2888ad1a71ad2e",
       "version_major": 2,
       "version_minor": 0
      },
      "text/plain": [
       "VBox()"
      ]
     },
     "metadata": {},
     "output_type": "display_data"
    },
    {
     "name": "stdout",
     "output_type": "stream",
     "text": [
      "Starting Spark application\n"
     ]
    },
    {
     "data": {
      "text/html": [
       "<table>\n",
       "<tbody><tr><th>ID</th><th>YARN Application ID</th><th>Kind</th><th>State</th><th>Spark UI</th><th>Driver log</th><th>Current session?</th></tr><tr><td>17</td><td>application_1624902329262_0018</td><td>pyspark</td><td>idle</td><td><a target=\"_blank\" href=\"http://ip-172-31-5-242.ec2.internal:20888/proxy/application_1624902329262_0018/\" class=\"emr-proxy-link j-3AU7U271TFKYJ application_1624902329262_0018\" emr-resource=\"j-3AU7U271TFKYJ\n",
       "\" application-id=\"application_1624902329262_0018\">Link</a></td><td><a target=\"_blank\" href=\"http://ip-172-31-4-80.ec2.internal:8042/node/containerlogs/container_1624902329262_0018_01_000001/livy\">Link</a></td><td>✔</td></tr></tbody></table>"
      ],
      "text/plain": [
       "<IPython.core.display.HTML object>"
      ]
     },
     "metadata": {},
     "output_type": "display_data"
    },
    {
     "data": {
      "application/vnd.jupyter.widget-view+json": {
       "model_id": "",
       "version_major": 2,
       "version_minor": 0
      },
      "text/plain": [
       "FloatProgress(value=0.0, bar_style='info', description='Progress:', layout=Layout(height='25px', width='50%'),…"
      ]
     },
     "metadata": {},
     "output_type": "display_data"
    },
    {
     "name": "stdout",
     "output_type": "stream",
     "text": [
      "SparkSession available as 'spark'.\n"
     ]
    },
    {
     "data": {
      "application/vnd.jupyter.widget-view+json": {
       "model_id": "",
       "version_major": 2,
       "version_minor": 0
      },
      "text/plain": [
       "FloatProgress(value=0.0, bar_style='info', description='Progress:', layout=Layout(height='25px', width='50%'),…"
      ]
     },
     "metadata": {},
     "output_type": "display_data"
    }
   ],
   "source": [
    "import pyspark\n",
    "from pyspark.sql import SparkSession\n",
    "spark = SparkSession.builder.appName('test').getOrCreate()"
   ]
  },
  {
   "cell_type": "code",
   "execution_count": 4,
   "id": "b0268736",
   "metadata": {},
   "outputs": [
    {
     "data": {
      "application/vnd.jupyter.widget-view+json": {
       "model_id": "0447d6a3fe5745e984ae469712269df8",
       "version_major": 2,
       "version_minor": 0
      },
      "text/plain": [
       "VBox()"
      ]
     },
     "metadata": {},
     "output_type": "display_data"
    },
    {
     "data": {
      "application/vnd.jupyter.widget-view+json": {
       "model_id": "",
       "version_major": 2,
       "version_minor": 0
      },
      "text/plain": [
       "FloatProgress(value=0.0, bar_style='info', description='Progress:', layout=Layout(height='25px', width='50%'),…"
      ]
     },
     "metadata": {},
     "output_type": "display_data"
    },
    {
     "name": "stdout",
     "output_type": "stream",
     "text": [
      "Collecting boto3==1.17.74\n",
      "  Using cached https://files.pythonhosted.org/packages/63/ec/ce099cd67c8c8a60f2666d97d91e993c2dde968ec6fbaf1d06024591a38f/boto3-1.17.74-py2.py3-none-any.whl\n",
      "Collecting s3transfer<0.5.0,>=0.4.0 (from boto3==1.17.74)\n",
      "  Using cached https://files.pythonhosted.org/packages/63/d0/693477c688348654ddc21dcdce0817653a294aa43f41771084c25e7ff9c7/s3transfer-0.4.2-py2.py3-none-any.whl\n",
      "Requirement already satisfied: jmespath<1.0.0,>=0.7.1 in /usr/local/lib/python3.7/site-packages (from boto3==1.17.74)\n",
      "Collecting botocore<1.21.0,>=1.20.74 (from boto3==1.17.74)\n",
      "  Using cached https://files.pythonhosted.org/packages/2f/ae/55b37b5f87c31d391fe2befa0d49c8d7fcad5a2908147ab28c44e661d029/botocore-1.20.102-py2.py3-none-any.whl\n",
      "Collecting urllib3<1.27,>=1.25.4 (from botocore<1.21.0,>=1.20.74->boto3==1.17.74)\n",
      "  Using cached https://files.pythonhosted.org/packages/5f/64/43575537846896abac0b15c3e5ac678d787a4021e906703f1766bfb8ea11/urllib3-1.26.6-py2.py3-none-any.whl\n",
      "Collecting python-dateutil<3.0.0,>=2.1 (from botocore<1.21.0,>=1.20.74->boto3==1.17.74)\n",
      "  Using cached https://files.pythonhosted.org/packages/d4/70/d60450c3dd48ef87586924207ae8907090de0b306af2bce5d134d78615cb/python_dateutil-2.8.1-py2.py3-none-any.whl\n",
      "Requirement already satisfied: six>=1.5 in /usr/local/lib/python3.7/site-packages (from python-dateutil<3.0.0,>=2.1->botocore<1.21.0,>=1.20.74->boto3==1.17.74)\n",
      "Installing collected packages: urllib3, python-dateutil, botocore, s3transfer, boto3\n",
      "Successfully installed boto3-1.17.74 botocore-1.20.102 python-dateutil-2.8.1 s3transfer-0.4.2 urllib3-1.26.6\n",
      "\n",
      "Collecting biopython\n",
      "  Using cached https://files.pythonhosted.org/packages/5a/42/de1ed545df624180b84c613e5e4de4848f72989ce5846a74af6baa0737b9/biopython-1.79-cp37-cp37m-manylinux_2_5_x86_64.manylinux1_x86_64.whl\n",
      "Requirement already satisfied: numpy in /usr/local/lib64/python3.7/site-packages (from biopython)\n",
      "Installing collected packages: biopython\n",
      "Successfully installed biopython-1.79\n",
      "\n",
      "Collecting matplotlib\n",
      "  Using cached https://files.pythonhosted.org/packages/24/33/5568d443ba438d95d4db635dd69958056f087e57e1026bee56f959d53f9d/matplotlib-3.4.2-cp37-cp37m-manylinux1_x86_64.whl\n",
      "Requirement already satisfied: numpy>=1.16 in /usr/local/lib64/python3.7/site-packages (from matplotlib)\n",
      "Collecting pyparsing>=2.2.1 (from matplotlib)\n",
      "  Using cached https://files.pythonhosted.org/packages/8a/bb/488841f56197b13700afd5658fc279a2025a39e22449b7cf29864669b15d/pyparsing-2.4.7-py2.py3-none-any.whl\n",
      "Requirement already satisfied: python-dateutil>=2.7 in /mnt/tmp/1624911387254-0/lib/python3.7/site-packages (from matplotlib)\n",
      "Collecting pillow>=6.2.0 (from matplotlib)\n",
      "  Using cached https://files.pythonhosted.org/packages/33/34/542152297dcc6c47a9dcb0685eac6d652d878ed3cea83bf2b23cb988e857/Pillow-8.2.0-cp37-cp37m-manylinux1_x86_64.whl\n",
      "Collecting cycler>=0.10 (from matplotlib)\n",
      "  Using cached https://files.pythonhosted.org/packages/f7/d2/e07d3ebb2bd7af696440ce7e754c59dd546ffe1bbe732c8ab68b9c834e61/cycler-0.10.0-py2.py3-none-any.whl\n",
      "Collecting kiwisolver>=1.0.1 (from matplotlib)\n",
      "  Using cached https://files.pythonhosted.org/packages/d2/46/231de802ade4225b76b96cffe419cf3ce52bbe92e3b092cf12db7d11c207/kiwisolver-1.3.1-cp37-cp37m-manylinux1_x86_64.whl\n",
      "Requirement already satisfied: six>=1.5 in /usr/local/lib/python3.7/site-packages (from python-dateutil>=2.7->matplotlib)\n",
      "Installing collected packages: pyparsing, pillow, cycler, kiwisolver, matplotlib\n",
      "Successfully installed cycler-0.10.0 kiwisolver-1.3.1 matplotlib-3.4.2 pillow-8.2.0 pyparsing-2.4.7\n",
      "\n",
      "Collecting pandas\n",
      "  Using cached https://files.pythonhosted.org/packages/e6/0a/90da8840e044c329a0271fb0244ff40a68a2615bc360c296a3dc5e326ab6/pandas-1.2.5-cp37-cp37m-manylinux_2_5_x86_64.manylinux1_x86_64.whl\n",
      "Requirement already satisfied: numpy>=1.16.5 in /usr/local/lib64/python3.7/site-packages (from pandas)\n",
      "Requirement already satisfied: pytz>=2017.3 in /usr/local/lib/python3.7/site-packages (from pandas)\n",
      "Requirement already satisfied: python-dateutil>=2.7.3 in /mnt/tmp/1624911387254-0/lib/python3.7/site-packages (from pandas)\n",
      "Requirement already satisfied: six>=1.5 in /usr/local/lib/python3.7/site-packages (from python-dateutil>=2.7.3->pandas)\n",
      "Installing collected packages: pandas\n",
      "Successfully installed pandas-1.2.5\n",
      "\n",
      "Collecting ipython\n",
      "  Using cached https://files.pythonhosted.org/packages/f7/b2/733ea4551a04866bbcfbbade4d9d2c82c829cf1cc6fac1ac5974b8c7f756/ipython-7.25.0-py3-none-any.whl\n",
      "Collecting matplotlib-inline (from ipython)\n",
      "  Using cached https://files.pythonhosted.org/packages/7f/de/6c111d687335729cf8c156394c8d119b0dc3c34b6966ff2a2f7fe4aa79cf/matplotlib_inline-0.1.2-py3-none-any.whl\n",
      "Requirement already satisfied: setuptools>=18.5 in /mnt/tmp/1624911387254-0/lib/python3.7/site-packages (from ipython)\n",
      "Collecting pexpect>4.3; sys_platform != \"win32\" (from ipython)\n",
      "  Using cached https://files.pythonhosted.org/packages/39/7b/88dbb785881c28a102619d46423cb853b46dbccc70d3ac362d99773a78ce/pexpect-4.8.0-py2.py3-none-any.whl\n",
      "Collecting decorator (from ipython)\n",
      "  Using cached https://files.pythonhosted.org/packages/6a/36/b1b9bfdf28690ae01d9ca0aa5b0d07cb4448ac65fb91dc7e2d094e3d992f/decorator-5.0.9-py3-none-any.whl\n",
      "Collecting traitlets>=4.2 (from ipython)\n",
      "  Using cached https://files.pythonhosted.org/packages/f6/7d/3ecb0ebd0ce8dcdfa7bd47ab85c1d4a521e6770ef283d0824f5804994dfe/traitlets-5.0.5-py3-none-any.whl\n",
      "Collecting jedi>=0.16 (from ipython)\n",
      "  Using cached https://files.pythonhosted.org/packages/f9/36/7aa67ae2663025b49e8426ead0bad983fee1b73f472536e9790655da0277/jedi-0.18.0-py2.py3-none-any.whl\n",
      "Collecting prompt-toolkit!=3.0.0,!=3.0.1,<3.1.0,>=2.0.0 (from ipython)\n",
      "  Using cached https://files.pythonhosted.org/packages/1e/34/1d9880ac1339ad4c6697b330e7a507584105613751318249d9e820faa25f/prompt_toolkit-3.0.19-py3-none-any.whl\n",
      "Collecting pickleshare (from ipython)\n",
      "  Using cached https://files.pythonhosted.org/packages/9a/41/220f49aaea88bc6fa6cba8d05ecf24676326156c23b991e80b3f2fc24c77/pickleshare-0.7.5-py2.py3-none-any.whl\n",
      "Collecting backcall (from ipython)\n",
      "  Using cached https://files.pythonhosted.org/packages/4c/1c/ff6546b6c12603d8dd1070aa3c3d273ad4c07f5771689a7b69a550e8c951/backcall-0.2.0-py2.py3-none-any.whl\n",
      "Collecting pygments (from ipython)\n",
      "  Using cached https://files.pythonhosted.org/packages/a6/c9/be11fce9810793676017f79ffab3c6cb18575844a6c7b8d4ed92f95de604/Pygments-2.9.0-py3-none-any.whl\n",
      "Collecting ptyprocess>=0.5 (from pexpect>4.3; sys_platform != \"win32\"->ipython)\n",
      "  Using cached https://files.pythonhosted.org/packages/22/a6/858897256d0deac81a172289110f31629fc4cee19b6f01283303e18c8db3/ptyprocess-0.7.0-py2.py3-none-any.whl\n",
      "Collecting ipython-genutils (from traitlets>=4.2->ipython)\n",
      "  Using cached https://files.pythonhosted.org/packages/fa/bc/9bd3b5c2b4774d5f33b2d544f1460be9df7df2fe42f352135381c347c69a/ipython_genutils-0.2.0-py2.py3-none-any.whl\n",
      "Collecting parso<0.9.0,>=0.8.0 (from jedi>=0.16->ipython)\n",
      "  Using cached https://files.pythonhosted.org/packages/a9/c4/d5476373088c120ffed82f34c74b266ccae31a68d665b837354d4d8dc8be/parso-0.8.2-py2.py3-none-any.whl\n",
      "Collecting wcwidth (from prompt-toolkit!=3.0.0,!=3.0.1,<3.1.0,>=2.0.0->ipython)\n",
      "  Using cached https://files.pythonhosted.org/packages/59/7c/e39aca596badaf1b78e8f547c807b04dae603a433d3e7a7e04d67f2ef3e5/wcwidth-0.2.5-py2.py3-none-any.whl\n",
      "Installing collected packages: ipython-genutils, traitlets, matplotlib-inline, ptyprocess, pexpect, decorator, parso, jedi, wcwidth, prompt-toolkit, pickleshare, backcall, pygments, ipython\n",
      "Successfully installed backcall-0.2.0 decorator-5.0.9 ipython-7.25.0 ipython-genutils-0.2.0 jedi-0.18.0 matplotlib-inline-0.1.2 parso-0.8.2 pexpect-4.8.0 pickleshare-0.7.5 prompt-toolkit-3.0.19 ptyprocess-0.7.0 pygments-2.9.0 traitlets-5.0.5 wcwidth-0.2.5"
     ]
    }
   ],
   "source": [
    "sc.install_pypi_package('boto3==1.17.74')\n",
    "sc.install_pypi_package('biopython')\n",
    "sc.install_pypi_package('matplotlib')\n",
    "sc.install_pypi_package('pandas')\n",
    "sc.install_pypi_package('ipython')"
   ]
  },
  {
   "cell_type": "code",
   "execution_count": 5,
   "id": "b1a7250f",
   "metadata": {},
   "outputs": [
    {
     "data": {
      "application/vnd.jupyter.widget-view+json": {
       "model_id": "eb58f93e425a4ab0b7dcf4d49cd0db76",
       "version_major": 2,
       "version_minor": 0
      },
      "text/plain": [
       "VBox()"
      ]
     },
     "metadata": {},
     "output_type": "display_data"
    },
    {
     "data": {
      "application/vnd.jupyter.widget-view+json": {
       "model_id": "",
       "version_major": 2,
       "version_minor": 0
      },
      "text/plain": [
       "FloatProgress(value=0.0, bar_style='info', description='Progress:', layout=Layout(height='25px', width='50%'),…"
      ]
     },
     "metadata": {},
     "output_type": "display_data"
    }
   ],
   "source": [
    "# df = spark.read.option('header',\"true\").option(\"delimeter\", \"|\").csv(\"s3a://sagemaker-coherehealth-1/HUMANA_MEDCLAIM_201811.txt\", sep=\"|\")\n",
    "df = spark.read.load('s3a://emr-cohere-data-management/humana/med_claims/transformed/')"
   ]
  },
  {
   "cell_type": "code",
   "execution_count": 6,
   "id": "a8f1c395",
   "metadata": {},
   "outputs": [
    {
     "data": {
      "application/vnd.jupyter.widget-view+json": {
       "model_id": "b9ae1cabac264e47bbe0b02b79f20dcf",
       "version_major": 2,
       "version_minor": 0
      },
      "text/plain": [
       "VBox()"
      ]
     },
     "metadata": {},
     "output_type": "display_data"
    },
    {
     "data": {
      "application/vnd.jupyter.widget-view+json": {
       "model_id": "",
       "version_major": 2,
       "version_minor": 0
      },
      "text/plain": [
       "FloatProgress(value=0.0, bar_style='info', description='Progress:', layout=Layout(height='25px', width='50%'),…"
      ]
     },
     "metadata": {},
     "output_type": "display_data"
    }
   ],
   "source": [
    "df = df.select('member_ssn', 'claim_id', 'service_from_date', 'diagnosis_code1', 'procedure_code')"
   ]
  },
  {
   "cell_type": "code",
   "execution_count": 7,
   "id": "3b7aebfb",
   "metadata": {},
   "outputs": [
    {
     "data": {
      "application/vnd.jupyter.widget-view+json": {
       "model_id": "8eb4951315814e7c8fa07f9a0bcb77f6",
       "version_major": 2,
       "version_minor": 0
      },
      "text/plain": [
       "VBox()"
      ]
     },
     "metadata": {},
     "output_type": "display_data"
    },
    {
     "data": {
      "application/vnd.jupyter.widget-view+json": {
       "model_id": "",
       "version_major": 2,
       "version_minor": 0
      },
      "text/plain": [
       "FloatProgress(value=0.0, bar_style='info', description='Progress:', layout=Layout(height='25px', width='50%'),…"
      ]
     },
     "metadata": {},
     "output_type": "display_data"
    },
    {
     "name": "stdout",
     "output_type": "stream",
     "text": [
      "+----------+---------------+-----------------+---------------+--------------+\n",
      "|member_ssn|       claim_id|service_from_date|diagnosis_code1|procedure_code|\n",
      "+----------+---------------+-----------------+---------------+--------------+\n",
      "| 400966111|820211270234971|       2021-05-06|           D181|         11301|\n",
      "| 249601794|820211270235781|       2021-05-04|          N3000|         A0428|\n",
      "| 237740988|820211390434029|       2021-04-16|          M5412|         95886|\n",
      "| 309461548|820211400367502|       2021-04-27|         Z79899|         84460|\n",
      "| 252319039|820211400331529|       2021-03-25|         Z13220|         84460|\n",
      "| 291746766|820211400367556|       2021-04-30|         Z20822|         U0003|\n",
      "| 911161866|820211400359474|       2021-05-12|           N186|         83615|\n",
      "| 540527529|820211400371164|       2021-05-07|           C021|         38724|\n",
      "| 141306794|820211330196534|       2021-05-11|        H401133|         92083|\n",
      "| 991326332|820211321436188|       2021-04-23|           R079|         A0427|\n",
      "| 377382202|820211321463141|       2021-05-10|           E162|         99215|\n",
      "| 272307193|820211321456663|       2021-05-06|           K631|         99233|\n",
      "| 371905245|820211321474974|       2021-05-11|           M549|         72148|\n",
      "| 993905169|820211321464061|       2021-01-26|           E119|         85027|\n",
      "| 311301078|820211321464125|       2021-05-03|           E039|         36415|\n",
      "| 917130757|820211321473313|       2021-05-10|           J320|         99213|\n",
      "| 274560099|820211321470174|       2021-05-10|         H26492|         99213|\n",
      "| 251960809|820211191555638|       2021-04-22|           I428|          null|\n",
      "| 993524468|820210110401414|       2020-12-08|           N184|         97530|\n",
      "| 993524468|820210110401414|       2020-12-08|           N184|         97530|\n",
      "+----------+---------------+-----------------+---------------+--------------+\n",
      "only showing top 20 rows"
     ]
    }
   ],
   "source": [
    "df.show()"
   ]
  },
  {
   "cell_type": "code",
   "execution_count": 8,
   "id": "d377731c",
   "metadata": {},
   "outputs": [
    {
     "data": {
      "application/vnd.jupyter.widget-view+json": {
       "model_id": "b70f784b6dfa478b820f20d9c44d6305",
       "version_major": 2,
       "version_minor": 0
      },
      "text/plain": [
       "VBox()"
      ]
     },
     "metadata": {},
     "output_type": "display_data"
    },
    {
     "data": {
      "application/vnd.jupyter.widget-view+json": {
       "model_id": "",
       "version_major": 2,
       "version_minor": 0
      },
      "text/plain": [
       "FloatProgress(value=0.0, bar_style='info', description='Progress:', layout=Layout(height='25px', width='50%'),…"
      ]
     },
     "metadata": {},
     "output_type": "display_data"
    },
    {
     "name": "stdout",
     "output_type": "stream",
     "text": [
      "604812713"
     ]
    }
   ],
   "source": [
    "df.count()"
   ]
  },
  {
   "cell_type": "code",
   "execution_count": 9,
   "id": "e3a14b33",
   "metadata": {},
   "outputs": [
    {
     "data": {
      "application/vnd.jupyter.widget-view+json": {
       "model_id": "e225a01249f74a26be82fb2288811d5f",
       "version_major": 2,
       "version_minor": 0
      },
      "text/plain": [
       "VBox()"
      ]
     },
     "metadata": {},
     "output_type": "display_data"
    },
    {
     "data": {
      "application/vnd.jupyter.widget-view+json": {
       "model_id": "",
       "version_major": 2,
       "version_minor": 0
      },
      "text/plain": [
       "FloatProgress(value=0.0, bar_style='info', description='Progress:', layout=Layout(height='25px', width='50%'),…"
      ]
     },
     "metadata": {},
     "output_type": "display_data"
    },
    {
     "name": "stdout",
     "output_type": "stream",
     "text": [
      "604811764"
     ]
    }
   ],
   "source": [
    "df = df.filter(df.diagnosis_code1.isNotNull())\n",
    "df.count()"
   ]
  },
  {
   "cell_type": "code",
   "execution_count": 24,
   "id": "023b3725",
   "metadata": {},
   "outputs": [
    {
     "data": {
      "application/vnd.jupyter.widget-view+json": {
       "model_id": "a5f875400eef43668bca90abe49ce6d0",
       "version_major": 2,
       "version_minor": 0
      },
      "text/plain": [
       "VBox()"
      ]
     },
     "metadata": {},
     "output_type": "display_data"
    },
    {
     "data": {
      "application/vnd.jupyter.widget-view+json": {
       "model_id": "",
       "version_major": 2,
       "version_minor": 0
      },
      "text/plain": [
       "FloatProgress(value=0.0, bar_style='info', description='Progress:', layout=Layout(height='25px', width='50%'),…"
      ]
     },
     "metadata": {},
     "output_type": "display_data"
    }
   ],
   "source": [
    "import boto3 \n",
    "import pandas as pd\n",
    "from io import StringIO\n",
    "\n",
    "path = 'csv/cpt_codes.csv'\n",
    "\n",
    "s3 = boto3.resource('s3')\n",
    "codes_csv = s3.Object('sagemaker-coherehealth-1', path).get()['Body'].read().decode('utf-8')\n",
    "\n",
    "cpt_dict = {couple[0]: couple[1] for couple in [item.split(',') for item in codes_csv.split('\\n')]}"
   ]
  },
  {
   "cell_type": "code",
   "execution_count": 31,
   "id": "53c4f8e7",
   "metadata": {},
   "outputs": [
    {
     "data": {
      "application/vnd.jupyter.widget-view+json": {
       "model_id": "939a26221d1d4a3db6727389a2927ede",
       "version_major": 2,
       "version_minor": 0
      },
      "text/plain": [
       "VBox()"
      ]
     },
     "metadata": {},
     "output_type": "display_data"
    },
    {
     "data": {
      "application/vnd.jupyter.widget-view+json": {
       "model_id": "",
       "version_major": 2,
       "version_minor": 0
      },
      "text/plain": [
       "FloatProgress(value=0.0, bar_style='info', description='Progress:', layout=Layout(height='25px', width='50%'),…"
      ]
     },
     "metadata": {},
     "output_type": "display_data"
    },
    {
     "name": "stderr",
     "output_type": "stream",
     "text": [
      "An error was encountered:\n",
      "name 'json' is not defined\n",
      "Traceback (most recent call last):\n",
      "NameError: name 'json' is not defined\n",
      "\n"
     ]
    }
   ],
   "source": [
    "import json\n",
    "\n",
    "s3 = boto3.resource('s3')\n",
    "json_str = s3.Object('sagemaker-coherehealth-1', 'claims-data/carepaths.json').get()['Body'].read().decode('utf-8')\n",
    "data = json.loads(json_str)\n",
    "data['M545']"
   ]
  },
  {
   "cell_type": "code",
   "execution_count": 32,
   "id": "5ad756c2",
   "metadata": {},
   "outputs": [
    {
     "data": {
      "application/vnd.jupyter.widget-view+json": {
       "model_id": "888f7057cf664012af70d8d3d0163944",
       "version_major": 2,
       "version_minor": 0
      },
      "text/plain": [
       "VBox()"
      ]
     },
     "metadata": {},
     "output_type": "display_data"
    },
    {
     "data": {
      "application/vnd.jupyter.widget-view+json": {
       "model_id": "",
       "version_major": 2,
       "version_minor": 0
      },
      "text/plain": [
       "FloatProgress(value=0.0, bar_style='info', description='Progress:', layout=Layout(height='25px', width='50%'),…"
      ]
     },
     "metadata": {},
     "output_type": "display_data"
    }
   ],
   "source": [
    "import json\n",
    "\n",
    "data = json.loads(json_str)"
   ]
  },
  {
   "cell_type": "code",
   "execution_count": 55,
   "id": "bb4e3b93",
   "metadata": {},
   "outputs": [
    {
     "data": {
      "application/vnd.jupyter.widget-view+json": {
       "model_id": "6adcf3e01cce453b81c98c635064fe62",
       "version_major": 2,
       "version_minor": 0
      },
      "text/plain": [
       "VBox()"
      ]
     },
     "metadata": {},
     "output_type": "display_data"
    },
    {
     "data": {
      "application/vnd.jupyter.widget-view+json": {
       "model_id": "",
       "version_major": 2,
       "version_minor": 0
      },
      "text/plain": [
       "FloatProgress(value=0.0, bar_style='info', description='Progress:', layout=Layout(height='25px', width='50%'),…"
      ]
     },
     "metadata": {},
     "output_type": "display_data"
    },
    {
     "name": "stderr",
     "output_type": "stream",
     "text": [
      "An error was encountered:\n",
      "'64493'\n",
      "Traceback (most recent call last):\n",
      "KeyError: '64493'\n",
      "\n"
     ]
    }
   ],
   "source": [
    "# 99213 99213 99214 99214 99214 99214 72110\n",
    "# '72110' in data['M545'][0][0]['Diagnostics']\n",
    "make_readable(' '.join(data['M545'][0][0]['Diagnostics']))\n",
    "cpt_dict['64493']"
   ]
  },
  {
   "cell_type": "code",
   "execution_count": 45,
   "id": "0c20df01",
   "metadata": {},
   "outputs": [
    {
     "data": {
      "application/vnd.jupyter.widget-view+json": {
       "model_id": "c9852ec692304215b10fde3989605601",
       "version_major": 2,
       "version_minor": 0
      },
      "text/plain": [
       "VBox()"
      ]
     },
     "metadata": {},
     "output_type": "display_data"
    },
    {
     "data": {
      "application/vnd.jupyter.widget-view+json": {
       "model_id": "",
       "version_major": 2,
       "version_minor": 0
      },
      "text/plain": [
       "FloatProgress(value=0.0, bar_style='info', description='Progress:', layout=Layout(height='25px', width='50%'),…"
      ]
     },
     "metadata": {},
     "output_type": "display_data"
    },
    {
     "name": "stdout",
     "output_type": "stream",
     "text": [
      "dict_keys(['Conservative Therapy', 'Diagnostics', 'Non-Surgical Management', 'Advanced Imaging', 'Surgical Management', 'Post-Operative Care'])"
     ]
    }
   ],
   "source": [
    "# cpt_dict['72110']\n",
    "data['M545'][0][0].keys()"
   ]
  },
  {
   "cell_type": "code",
   "execution_count": 27,
   "id": "722ec5c1",
   "metadata": {},
   "outputs": [
    {
     "data": {
      "application/vnd.jupyter.widget-view+json": {
       "model_id": "a572153bc99344599c811616c4678f40",
       "version_major": 2,
       "version_minor": 0
      },
      "text/plain": [
       "VBox()"
      ]
     },
     "metadata": {},
     "output_type": "display_data"
    },
    {
     "data": {
      "application/vnd.jupyter.widget-view+json": {
       "model_id": "",
       "version_major": 2,
       "version_minor": 0
      },
      "text/plain": [
       "FloatProgress(value=0.0, bar_style='info', description='Progress:', layout=Layout(height='25px', width='50%'),…"
      ]
     },
     "metadata": {},
     "output_type": "display_data"
    }
   ],
   "source": [
    "def get_label(code):\n",
    "    try:\n",
    "        return cpt_dict[code]\n",
    "    except:\n",
    "        return code\n",
    "\n",
    "def make_readable(code_str):\n",
    "    return ' -> '.join([get_label(code) for code in code_str.split(' ')])"
   ]
  },
  {
   "cell_type": "code",
   "execution_count": 28,
   "id": "ee996681",
   "metadata": {},
   "outputs": [
    {
     "data": {
      "application/vnd.jupyter.widget-view+json": {
       "model_id": "061b686343894d8e84de7902bf815cff",
       "version_major": 2,
       "version_minor": 0
      },
      "text/plain": [
       "VBox()"
      ]
     },
     "metadata": {},
     "output_type": "display_data"
    },
    {
     "data": {
      "application/vnd.jupyter.widget-view+json": {
       "model_id": "",
       "version_major": 2,
       "version_minor": 0
      },
      "text/plain": [
       "FloatProgress(value=0.0, bar_style='info', description='Progress:', layout=Layout(height='25px', width='50%'),…"
      ]
     },
     "metadata": {},
     "output_type": "display_data"
    },
    {
     "name": "stdout",
     "output_type": "stream",
     "text": [
      "Comprehen metabolic panel -> Routine venipuncture -> Lipid panel -> \"Urinalysis -> X-ray exam of lower spine -> Lipid panel -> \"Office/outpatient visit -> G0439 -> X-ray exam of lower spine -> \"Office/outpatient visit -> Complete cbc w/auto diff wbc -> Glycated hemoglobin test -> Assay thyroid stim hormone -> G0439 -> X-ray exam of lower spine -> Comprehen metabolic panel -> Routine venipuncture -> X-ray exam of lower spine -> Assay thyroid stim hormone -> \"Urinalysis -> Complete cbc w/auto diff wbc -> Glycated hemoglobin test ->"
     ]
    }
   ],
   "source": [
    "def test_make_readable():\n",
    "    test_input = '80053 36415 80061 81003 72100 80061 99213 G0439 72100 99213 85025 83036 84443 G0439 72100 80053 36415 72100 84443 81003 85025 83036 '\n",
    "    print(make_readable(test_input))\n",
    "    \n",
    "test_make_readable()"
   ]
  },
  {
   "cell_type": "code",
   "execution_count": 10,
   "id": "81d002ef",
   "metadata": {},
   "outputs": [
    {
     "data": {
      "application/vnd.jupyter.widget-view+json": {
       "model_id": "fff3133a5fd244c1a4580bce4055bd1c",
       "version_major": 2,
       "version_minor": 0
      },
      "text/plain": [
       "VBox()"
      ]
     },
     "metadata": {},
     "output_type": "display_data"
    },
    {
     "data": {
      "application/vnd.jupyter.widget-view+json": {
       "model_id": "",
       "version_major": 2,
       "version_minor": 0
      },
      "text/plain": [
       "FloatProgress(value=0.0, bar_style='info', description='Progress:', layout=Layout(height='25px', width='50%'),…"
      ]
     },
     "metadata": {},
     "output_type": "display_data"
    },
    {
     "name": "stdout",
     "output_type": "stream",
     "text": [
      "+----------+---------------+--------------------+\n",
      "|member_ssn|diagnosis_code1| ord_procedure_codes|\n",
      "+----------+---------------+--------------------+\n",
      "|      null|          D4862|99244 77065 99214...|\n",
      "|      null|           F900|99214 99213 99214...|\n",
      "|      null|        H4031X0|              99213 |\n",
      "|      null|         L97818|11043 11046 11045...|\n",
      "|      null|          M5031|J0702 20610 99213...|\n",
      "|      null|         M67432|20612 99213 L3808...|\n",
      "|      null|         O99815|        36415 82947 |\n",
      "|      null|           P761|74021 71045 74018...|\n",
      "|      null|         R41841|92523 99214 92523...|\n",
      "|      null|           R791|71275 93010 93010...|\n",
      "|      null|        S2001XA|99283 00400 76642...|\n",
      "|      null|        S32312A|73700 99283 73501...|\n",
      "|      null|        S3692XA|        99221 99231 |\n",
      "|      null|        S61219A|99213 12002 90471...|\n",
      "|      null|        S8251XB|              01480 |\n",
      "|      null|        S86111D|97110 97161 97010...|\n",
      "|      null|        S98132D|73630 99203 99213...|\n",
      "|      null|        S99922S|              73630 |\n",
      "|      null|          Z3862|99205 99204 99205...|\n",
      "|      null|         Z87440|87086 76805 76805...|\n",
      "+----------+---------------+--------------------+\n",
      "only showing top 20 rows"
     ]
    }
   ],
   "source": [
    "from pyspark.sql import functions as F\n",
    "import operator\n",
    "\n",
    "# primary grouping - \n",
    "# goal here is to form groups of members and diagnosis codes (i.e. member 1, diag 1 / member 2, diag 1 / member 1 diag 2 ...)\n",
    "# then for each diag we collect the SET of claim id's and the ordered LIST of procedure codes.\n",
    "# since spark does not guarantee order in F.collect_list, we form a struct and then sort by service_from_date\n",
    "\n",
    "# sorter, stolen from StackOverflow\n",
    "def sorter(l):\n",
    "    res = sorted(l, key=operator.itemgetter(0))\n",
    "    ord_ret = ''\n",
    "    for struct in res:\n",
    "        ord_ret += str(struct[1]) + ' '\n",
    "    return ord_ret\n",
    "    \n",
    "sort_udf = F.udf(sorter)\n",
    "\n",
    "grp = (\n",
    "        df\n",
    "         .groupby('member_ssn', 'diagnosis_code1')\n",
    "         .agg(\n",
    "              F.collect_list(\n",
    "                             F.struct('service_from_date', \n",
    "                                      'procedure_code')\n",
    "                            ).alias('list_col')\n",
    "             )\n",
    "      )\n",
    "    \n",
    "list_df = grp.select('member_ssn', \n",
    "                     'diagnosis_code1',\n",
    "                     sort_udf('list_col').alias('ord_procedure_codes'))\n",
    "\n",
    "list_df.show()"
   ]
  },
  {
   "cell_type": "code",
   "execution_count": 11,
   "id": "929ada01",
   "metadata": {},
   "outputs": [
    {
     "data": {
      "application/vnd.jupyter.widget-view+json": {
       "model_id": "07baf1855cfc45d4b86571964f2be086",
       "version_major": 2,
       "version_minor": 0
      },
      "text/plain": [
       "VBox()"
      ]
     },
     "metadata": {},
     "output_type": "display_data"
    },
    {
     "data": {
      "application/vnd.jupyter.widget-view+json": {
       "model_id": "",
       "version_major": 2,
       "version_minor": 0
      },
      "text/plain": [
       "FloatProgress(value=0.0, bar_style='info', description='Progress:', layout=Layout(height='25px', width='50%'),…"
      ]
     },
     "metadata": {},
     "output_type": "display_data"
    },
    {
     "name": "stdout",
     "output_type": "stream",
     "text": [
      "+----------+---------------+------------------------------------------------------------------------------------------------------------------------------------------------------------------------------------------------------------------------------------------------------------------------------------------------------------------------------------------------------------------------------------------------------------------------------------------------------------------------------------------------------------------------------------------------------------------------------------------------------------------------------------------------------------------------------+\n",
      "|member_ssn|diagnosis_code1|ord_procedure_codes                                                                                                                                                                                                                                                                                                                                                                                                                                                                                                                                                                                                                                                           |\n",
      "+----------+---------------+------------------------------------------------------------------------------------------------------------------------------------------------------------------------------------------------------------------------------------------------------------------------------------------------------------------------------------------------------------------------------------------------------------------------------------------------------------------------------------------------------------------------------------------------------------------------------------------------------------------------------------------------------------------------------+\n",
      "|001441451 |M545           |99213 99213 99214 99214 99214 99214 72110                                                                                                                                                                                                                                                                                                                                                                                                                                                                                                                                                                                                                                     |\n",
      "|009326594 |M545           |97110 97162 97140 97110 97110 97140 97140 97110 97140 97110 97140 97110 97140 97110 97110 97140                                                                                                                                                                                                                                                                                                                                                                                                                                                                                                                                                                               |\n",
      "|009327207 |M545           |72110                                                                                                                                                                                                                                                                                                                                                                                                                                                                                                                                                                                                                                                                         |\n",
      "|023286498 |M545           |99203 72100 99204 72050 72100 99214 72100 J1100 20610 72100 99213                                                                                                                                                                                                                                                                                                                                                                                                                                                                                                                                                                                                             |\n",
      "|043529881 |M545           |99213 99213 90471 90674 99213 72072 99213 99213 99213 99213 99213 99213 99213 99213                                                                                                                                                                                                                                                                                                                                                                                                                                                                                                                                                                                           |\n",
      "|049224817 |M545           |99213                                                                                                                                                                                                                                                                                                                                                                                                                                                                                                                                                                                                                                                                         |\n",
      "|052567744 |M545           |99283 99283 99214 A0425 A0425 A0429 A0429 99215 96372 85025 J1885 99284                                                                                                                                                                                                                                                                                                                                                                                                                                                                                                                                                                                                       |\n",
      "|054423019 |M545           |80053 36415 80061 81003 72100 80061 99213 G0439 72100 99213 85025 83036 84443 G0439 72100 80053 36415 72100 84443 81003 85025 83036                                                                                                                                                                                                                                                                                                                                                                                                                                                                                                                                           |\n",
      "|057361297 |M545           |96374 93010 85025 J3010 83690 J7030 84484 99284 Q9967 J2270 96375 80053 71045 93005 74177 81001 99285 99223 99233                                                                                                                                                                                                                                                                                                                                                                                                                                                                                                                                                             |\n",
      "|062605639 |M545           |72131                                                                                                                                                                                                                                                                                                                                                                                                                                                                                                                                                                                                                                                                         |\n",
      "|070581660 |M545           |99284 None 80048 87086 82947 81001 81025 81025 99285 72110 99284 72052 96372 72110 J1170                                                                                                                                                                                                                                                                                                                                                                                                                                                                                                                                                                                      |\n",
      "|086425100 |M545           |99213 72100 99212                                                                                                                                                                                                                                                                                                                                                                                                                                                                                                                                                                                                                                                             |\n",
      "|089863140 |M545           |96374 80053 85025 99284 Q9967 83690 72072 J1885 J2405 74177 96375 81003 72110 99285                                                                                                                                                                                                                                                                                                                                                                                                                                                                                                                                                                                           |\n",
      "|099585832 |M545           |81003 99285 72100 J3301 G0481 20551 80307 20551 20551 99213 20551 20551 J3301 99213                                                                                                                                                                                                                                                                                                                                                                                                                                                                                                                                                                                           |\n",
      "|131300579 |M545           |72100                                                                                                                                                                                                                                                                                                                                                                                                                                                                                                                                                                                                                                                                         |\n",
      "|140484379 |M545           |72100                                                                                                                                                                                                                                                                                                                                                                                                                                                                                                                                                                                                                                                                         |\n",
      "|148828873 |M545           |72100 72100 72040                                                                                                                                                                                                                                                                                                                                                                                                                                                                                                                                                                                                                                                             |\n",
      "|153341498 |M545           |97161 97124 97161 97110 97161 97161 97161 97124 97110 97140 97110 97140 97110 97140 97140 97110 97110 97110 97124 97110 97124 97110 97124 97124 97110 97124 97110 97110 97124                                                                                                                                                                                                                                                                                                                                                                                                                                                                                                 |\n",
      "|162328522 |M545           |84484 99283 72100 85025 81003 80048 99283                                                                                                                                                                                                                                                                                                                                                                                                                                                                                                                                                                                                                                     |\n",
      "|164307078 |M545           |None None None None J1030 None 27096 27096                                                                                                                                                                                                                                                                                                                                                                                                                                                                                                                                                                                                                                    |\n",
      "|165201002 |M545           |85730 None 80053 81001 93005 36415 99284 84484 85025 Q9967 85610 74177                                                                                                                                                                                                                                                                                                                                                                                                                                                                                                                                                                                                        |\n",
      "|165323826 |M545           |99214 99214 97110 97162 97530 97140 97530 97140 97112 97110 97140 97112 97110 97530 97110 97112 97530 97140 97140 97112 97530 97530 97530 97110 97110 97112 97530 97140 97112 97110 97140 97530 97140 97110 97530 97112                                                                                                                                                                                                                                                                                                                                                                                                                                                       |\n",
      "|170326299 |M545           |99214 99213 20550 81002 99213                                                                                                                                                                                                                                                                                                                                                                                                                                                                                                                                                                                                                                                 |\n",
      "|170820339 |M545           |99213                                                                                                                                                                                                                                                                                                                                                                                                                                                                                                                                                                                                                                                                         |\n",
      "|182226870 |M545           |99214                                                                                                                                                                                                                                                                                                                                                                                                                                                                                                                                                                                                                                                                         |\n",
      "|182587669 |M545           |73502 72110                                                                                                                                                                                                                                                                                                                                                                                                                                                                                                                                                                                                                                                                   |\n",
      "|184527107 |M545           |99213 G0463                                                                                                                                                                                                                                                                                                                                                                                                                                                                                                                                                                                                                                                                   |\n",
      "|187327913 |M545           |L0637 36415 85025 83735 80048 72100 99213 99213 72110 99213 99213 99213 99213                                                                                                                                                                                                                                                                                                                                                                                                                                                                                                                                                                                                 |\n",
      "|192728273 |M545           |99213 G0463 97162 97530 97110 97110 97530 97530 97110 82787 80053 86162 82550 85025 36415 86038 86160 72202 84443 86140 82306 72200 85651 86431 86235 86200 82784                                                                                                                                                                                                                                                                                                                                                                                                                                                                                                             |\n",
      "|193401986 |M545           |72131 72100                                                                                                                                                                                                                                                                                                                                                                                                                                                                                                                                                                                                                                                                   |\n",
      "|200425526 |M545           |98927 99213                                                                                                                                                                                                                                                                                                                                                                                                                                                                                                                                                                                                                                                                   |\n",
      "|204267727 |M545           |99213 99213 99213 99213 99213 99213 98927 99213 99213 99213 90662 G0008 98927 99213 99213 99213 98927 98927 99213 99213 99213 99213 99214 99213 98928 99213 99213 99214 97112 97163 97110 97110 97112 97112 97110 99214 97110 97164 97112 97110 97112 97112 97110 97112 97110 97112 97110 97112 97110 97112 97110 97110 97112 97164 97110 97112 72100 73502                                                                                                                                                                                                                                                                                                                   |\n",
      "|205367884 |M545           |99284 72110 99284 J7512 72110 99284 99213 99213 99213 J3301 99214 20610 73030 99213                                                                                                                                                                                                                                                                                                                                                                                                                                                                                                                                                                                           |\n",
      "|211300862 |M545           |99343                                                                                                                                                                                                                                                                                                                                                                                                                                                                                                                                                                                                                                                                         |\n",
      "|214563290 |M545           |99214 81002                                                                                                                                                                                                                                                                                                                                                                                                                                                                                                                                                                                                                                                                   |\n",
      "|215600606 |M545           |G0463 99214 99214                                                                                                                                                                                                                                                                                                                                                                                                                                                                                                                                                                                                                                                             |\n",
      "|217445196 |M545           |99285 99221                                                                                                                                                                                                                                                                                                                                                                                                                                                                                                                                                                                                                                                                   |\n",
      "|223062556 |M545           |99204                                                                                                                                                                                                                                                                                                                                                                                                                                                                                                                                                                                                                                                                         |\n",
      "|223317143 |M545           |72132 62304 97530 G0283 97530 97530 G0283 G0283 97530 97530 G0283 99204 99214                                                                                                                                                                                                                                                                                                                                                                                                                                                                                                                                                                                                 |\n",
      "|223488355 |M545           |99213 Q5001 G0493 5AFKS G0151 G0157 G0157 G0157 G0157 G0151 G0157 G0157 G0157 G0180 G0157 36415 72100 99213 81003 85025 72082 99203 99214 97530 97112 97162 97110 97530 97110 97140 97112 97530 97140 97530 97140 97112 97110 97112 97110 97530 97140 97110 97110 97140 97530 97112 97140 97112 97530 97110 97112 97110 97140 97140 97110 97112                                                                                                                                                                                                                                                                                                                               |\n",
      "|223683117 |M545           |99213                                                                                                                                                                                                                                                                                                                                                                                                                                                                                                                                                                                                                                                                         |\n",
      "|223768575 |M545           |99214 97140 97530 97161 97530 97140 97161 97530 97530 97530 97161 97140 97530 G0283 97530 97110 97530 97110 G0283 97530 97140 97110 97530 G0283 97530 97530 G0283 97140 97110 97140 97110 97530 97530 G0283 97110 G0283 97110 97530 97530 97140 97112 G0283 97530 97140 97530 97110 97110 97140 G0283 97110 97530 97140 97140 97530 G0283 97110 97112 97110 G0283 G0283 97110 97140 97530 97110 97140 G0283 97530 97530 97112 97110 97530 97530 97112 97110 97161 97110 97140 97530 97530 97530 97530 97140 G0283 97110 97110 G0283 97530 97140 97530 97530 G0283 97110 97112 97530 97110 97112 97530 G0283 G0283 97112 97530 97110 97112 G0283 97530 97110 72100 99213 99213 |\n",
      "|223863314 |M545           |72158                                                                                                                                                                                                                                                                                                                                                                                                                                                                                                                                                                                                                                                                         |\n",
      "|224082291 |M545           |85027 None 93005 None 80048 99284 93010 96374 99284                                                                                                                                                                                                                                                                                                                                                                                                                                                                                                                                                                                                                           |\n",
      "|224354092 |M545           |72110                                                                                                                                                                                                                                                                                                                                                                                                                                                                                                                                                                                                                                                                         |\n",
      "|224521049 |M545           |99214 99214 99214 36415 36415 36415                                                                                                                                                                                                                                                                                                                                                                                                                                                                                                                                                                                                                                           |\n",
      "|224685072 |M545           |99213 99214 99214                                                                                                                                                                                                                                                                                                                                                                                                                                                                                                                                                                                                                                                             |\n",
      "|225020071 |M545           |99203 72100                                                                                                                                                                                                                                                                                                                                                                                                                                                                                                                                                                                                                                                                   |\n",
      "|225488816 |M545           |36415 J1885 99214 96372                                                                                                                                                                                                                                                                                                                                                                                                                                                                                                                                                                                                                                                       |\n",
      "|225769183 |M545           |G0283 97140 97110 97161 G0283 97110 G0283 97110 97110 G0283 97110 G0283 97110 G0283 97110 G0283 97112 97110 G0283 97110 97112 97110                                                                                                                                                                                                                                                                                                                                                                                                                                                                                                                                           |\n",
      "+----------+---------------+------------------------------------------------------------------------------------------------------------------------------------------------------------------------------------------------------------------------------------------------------------------------------------------------------------------------------------------------------------------------------------------------------------------------------------------------------------------------------------------------------------------------------------------------------------------------------------------------------------------------------------------------------------------------------+\n",
      "only showing top 50 rows"
     ]
    }
   ],
   "source": [
    "filter_df = list_df.filter(list_df.diagnosis_code1 == 'M545')\n",
    "filter_df.show(50, truncate=False)"
   ]
  },
  {
   "cell_type": "code",
   "execution_count": 30,
   "id": "b082ff5d",
   "metadata": {},
   "outputs": [
    {
     "data": {
      "application/vnd.jupyter.widget-view+json": {
       "model_id": "4ac8161323ee439fa9e79cd8a8a6dd8e",
       "version_major": 2,
       "version_minor": 0
      },
      "text/plain": [
       "VBox()"
      ]
     },
     "metadata": {},
     "output_type": "display_data"
    },
    {
     "data": {
      "application/vnd.jupyter.widget-view+json": {
       "model_id": "",
       "version_major": 2,
       "version_minor": 0
      },
      "text/plain": [
       "FloatProgress(value=0.0, bar_style='info', description='Progress:', layout=Layout(height='25px', width='50%'),…"
      ]
     },
     "metadata": {},
     "output_type": "display_data"
    },
    {
     "name": "stdout",
     "output_type": "stream",
     "text": [
      "+----------+---------------+--------------------+\n",
      "|member_ssn|diagnosis_code1| ord_procedure_codes|\n",
      "+----------+---------------+--------------------+\n",
      "| 001441451|           M545|99213 99213 99214...|\n",
      "| 002281800|           M545|        72110 72110 |\n",
      "| 003347490|           M545|              72148 |\n",
      "| 008265156|           M545|97161 97140 97112...|\n",
      "| 009326594|           M545|97110 97162 97140...|\n",
      "| 009327207|           M545|              72110 |\n",
      "| 012468031|           M545|              99213 |\n",
      "| 013177238|           M545|              72100 |\n",
      "| 015465630|           M545|97140 97161 97140...|\n",
      "| 022345880|           M545|99213 99213 80307...|\n",
      "| 023286498|           M545|72100 99203 99204...|\n",
      "| 023445202|           M545|              99213 |\n",
      "| 025467017|           M545|97110 97016 97016...|\n",
      "| 026368496|           M545|        99213 86140 |\n",
      "| 031362347|           M545|Q0092 R0075 72100...|\n",
      "| 031383789|           M545|99213 99213 72100...|\n",
      "| 032380756|           M545|20550 J0702 72100...|\n",
      "| 033442816|           M545|        99214 99214 |\n",
      "| 035327644|           M545|97162 97110 97110...|\n",
      "| 037301341|           M545|72100 G0480 80307...|\n",
      "+----------+---------------+--------------------+\n",
      "only showing top 20 rows"
     ]
    }
   ],
   "source": [
    "filter_df.cache().show()"
   ]
  },
  {
   "cell_type": "code",
   "execution_count": 18,
   "id": "7b96c372",
   "metadata": {},
   "outputs": [
    {
     "data": {
      "application/vnd.jupyter.widget-view+json": {
       "model_id": "2e6d2113b69e454291ffa2ebdfc07949",
       "version_major": 2,
       "version_minor": 0
      },
      "text/plain": [
       "VBox()"
      ]
     },
     "metadata": {},
     "output_type": "display_data"
    },
    {
     "data": {
      "application/vnd.jupyter.widget-view+json": {
       "model_id": "",
       "version_major": 2,
       "version_minor": 0
      },
      "text/plain": [
       "FloatProgress(value=0.0, bar_style='info', description='Progress:', layout=Layout(height='25px', width='50%'),…"
      ]
     },
     "metadata": {},
     "output_type": "display_data"
    },
    {
     "name": "stdout",
     "output_type": "stream",
     "text": [
      "     CPT_code                         label\n",
      "0       0003T                 Cervicography\n",
      "1       0008T   Upper gi endoscopy w/suture\n",
      "2       0010T     Tb test, gamma interferon\n",
      "3       0016T  Thermotx choroid vasc lesion\n",
      "4       0017T  Photocoagulat macular drusen\n",
      "...       ...                           ...\n",
      "8217    99511  Home visit, fecal/enema mgmt\n",
      "8218    99512   Home visit for hemodialysis\n",
      "8219    99600                Home visit nos\n",
      "8220    99601    Home infusion/visit, 2 hrs\n",
      "8221    99602  Home infusion, each addtl hr\n",
      "\n",
      "[8222 rows x 2 columns]"
     ]
    }
   ],
   "source": [
    "\n"
   ]
  },
  {
   "cell_type": "code",
   "execution_count": 20,
   "id": "0d15db4a",
   "metadata": {},
   "outputs": [
    {
     "data": {
      "application/vnd.jupyter.widget-view+json": {
       "model_id": "d4ce19b31fa04914bf1bd056a812550a",
       "version_major": 2,
       "version_minor": 0
      },
      "text/plain": [
       "VBox()"
      ]
     },
     "metadata": {},
     "output_type": "display_data"
    },
    {
     "data": {
      "application/vnd.jupyter.widget-view+json": {
       "model_id": "",
       "version_major": 2,
       "version_minor": 0
      },
      "text/plain": [
       "FloatProgress(value=0.0, bar_style='info', description='Progress:', layout=Layout(height='25px', width='50%'),…"
      ]
     },
     "metadata": {},
     "output_type": "display_data"
    },
    {
     "name": "stdout",
     "output_type": "stream",
     "text": [
      "{'CPT_code': 'label', '0003T': 'Cervicography', '0008T': 'Upper gi endoscopy w/suture', '0010T': '\"Tb test', '0016T': 'Thermotx choroid vasc lesion', '0017T': 'Photocoagulat macular drusen', '0018T': 'Transcranial magnetic stimul', '0019T': '\"Extracorp shock wave tx', '0020T': '\"Extracorp shock wave tx', '0021T': '\"Fetal oximetry', '0023T': '\"Phenotype drug test', '0024T': 'Transcath cardiac reduction', '0026T': 'Measure remnant lipoproteins', '0027T': 'Endoscopic epidural lysis', '0028T': 'Dexa body composition study', '0029T': 'Magnetic tx for incontinence', '0030T': 'Antiprothrombin antibody', '0031T': 'Speculoscopy', '0032T': 'Speculoscopy w/direct sample', '0033T': 'Endovasc taa repr incl subcl', '0034T': 'Endovasc taa repr w/o subcl', '0035T': '\"Insert endovasc prosth', '0036T': '\"Endovasc prosth', '0037T': 'Artery transpose/endovas taa', '0038T': 'Rad endovasc taa rpr w/cover', '0039T': '\"Rad s/i', '0040T': '\"Rad s/i', '0041T': 'Detect ur infect agnt w/cpas', '0042T': '\"Ct perfusion w/contrast', '0043T': 'Co expired gas analysis', '0044T': 'Whole body photography', '0045T': 'Whole body photography', '0046T': '\"Cath lavage', '0047T': '\"Cath lavage', '0048T': 'Implant ventricular device', '0049T': 'External circulation assist', '0050T': 'Removal circulation assist', '0051T': 'Implant total heart system', '0052T': 'Replace component heart syst', '0053T': 'Replace component heart syst', '0054T': 'Bone surgery using computer', '0055T': 'Bone surgery using computer', '0056T': 'Bone surgery using computer', '0058T': '\"Cryopreservation', '0059T': '\"Cryopreservation', '0060T': 'Electrical impedance scan', '0061T': '\"Destruction of tumor', '0062T': 'Rep intradisc annulus;1 lev', '0063T': 'Rep intradisc annulus;>1lev', '0064T': 'Spectroscop eval expired gas', '0065T': 'Ocular photoscreen bilat', '0066T': 'Ct colonography;screen', '0067T': 'Ct colonography;dx', '0068T': 'Interp/rept heart sound', '0069T': 'Analysis only heart sound', '0070T': 'Interp only heart sound', '0071T': 'U/s leiomyomata ablate <200', '0072T': 'U/s leiomyomata ablate >200', '0073T': '\"Delivery', '0074T': 'Online physician e/m', '0075T': 'Perq stent/chest vert art', '0076T': 'S&i stent/chest vert art', '0077T': 'Cereb therm perfusion probe', '0078T': 'Endovasc aort repr w/device', '0079T': 'Endovasc visc extnsn repr', '0080T': 'Endovasc aort repr rad s&i', '0081T': 'Endovasc visc extnsn s&i', '0082T': 'Stereotactic rad delivery', '0083T': 'Stereotactic rad tx mngmt', '0084T': 'Temp prostate urethral stent', '0085T': 'Breath test heart reject', '0086T': 'L ventricle fill pressure', '0087T': 'Sperm eval hyaluronan', '0088T': 'Rf tongue base vol reduxn', '0500F': 'Initial prenatal care visit', '0501F': 'Prenatal flow sheet', '0502F': 'Subsequent prenatal care', '0503F': 'Postpartum care visit', '1000F': '\"Tobacco use', '1001F': '\"Tobacco use', '10021': 'Fna w/o image', '10022': 'Fna w/image', '1002F': 'Assess anginal symptom/level', '10040': 'Acne surgery', '10060': 'Drainage of skin abscess', '10061': 'Drainage of skin abscess', '10080': 'Drainage of pilonidal cyst', '10081': 'Drainage of pilonidal cyst', '10120': 'Remove foreign body', '10121': 'Remove foreign body', '10140': 'Drainage of hematoma/fluid', '10160': 'Puncture drainage of lesion', '10180': '\"Complex drainage', '11000': 'Debride infected skin', '11001': 'Debride infected skin add-on', '11004': 'Debride genitalia & perineum', '11005': 'Debride abdom wall', '11006': 'Debride genit/per/abdom wall', '11008': 'Remove mesh from abd wall', '11010': '\"Debride skin', '11011': '\"Debride skin/muscle', '11012': '\"Debride skin/muscle/bone', '11040': '\"Debride skin', '11041': '\"Debride skin', '11042': 'Debride skin/tissue', '11043': 'Debride tissue/muscle', '11044': 'Debride tissue/muscle/bone', '11055': 'Trim skin lesion', '11056': '\"Trim skin lesions', '11057': '\"Trim skin lesions', '11100': '\"Biopsy', '11101': '\"Biopsy', '11200': 'Removal of skin tags', '11201': 'Remove skin tags add-on', '11300': 'Shave skin lesion', '11301': 'Shave skin lesion', '11302': 'Shave skin lesion', '11303': 'Shave skin lesion', '11305': 'Shave skin lesion', '11306': 'Shave skin lesion', '11307': 'Shave skin lesion', '11308': 'Shave skin lesion', '11310': 'Shave skin lesion', '11311': 'Shave skin lesion', '11312': 'Shave skin lesion', '11313': 'Shave skin lesion', '11400': 'Exc tr-ext b9+marg 0.5 < cm', '11401': 'Exc tr-ext b9+marg 0.6-1 cm', '11402': 'Exc tr-ext b9+marg 1.1-2 cm', '11403': 'Exc tr-ext b9+marg 2.1-3 cm', '11404': 'Exc tr-ext b9+marg 3.1-4 cm', '11406': 'Exc tr-ext b9+marg > 4.0 cm', '11420': 'Exc h-f-nk-sp b9+marg 0.5 <', '11421': 'Exc h-f-nk-sp b9+marg 0.6-1', '11422': 'Exc h-f-nk-sp b9+marg 1.1-2', '11423': 'Exc h-f-nk-sp b9+marg 2.1-3', '11424': 'Exc h-f-nk-sp b9+marg 3.1-4', '11426': 'Exc h-f-nk-sp b9+marg > 4 cm', '11440': 'Exc face-mm b9+marg 0.5 < cm', '11441': 'Exc face-mm b9+marg 0.6-1 cm', '11442': 'Exc face-mm b9+marg 1.1-2 cm', '11443': 'Exc face-mm b9+marg 2.1-3 cm', '11444': 'Exc face-mm b9+marg 3.1-4 cm', '11446': 'Exc face-mm b9+marg > 4 cm', '11450': '\"Removal', '11451': '\"Removal', '11462': '\"Removal', '11463': '\"Removal', '11470': '\"Removal', '11471': '\"Removal', '11600': 'Exc tr-ext mlg+marg 0.5 < cm', '11601': 'Exc tr-ext mlg+marg 0.6-1 cm', '11602': 'Exc tr-ext mlg+marg 1.1-2 cm', '11603': 'Exc tr-ext mlg+marg 2.1-3 cm', '11604': 'Exc tr-ext mlg+marg 3.1-4 cm', '11606': 'Exc tr-ext mlg+marg > 4 cm', '11620': 'Exc h-f-nk-sp mlg+marg 0.5 <', '11621': 'Exc h-f-nk-sp mlg+marg 0.6-1', '11622': 'Exc h-f-nk-sp mlg+marg 1.1-2', '11623': 'Exc h-f-nk-sp mlg+marg 2.1-3', '11624': 'Exc h-f-nk-sp mlg+marg 3.1-4', '11626': 'Exc h-f-nk-sp mlg+mar > 4 cm', '11640': 'Exc face-mm malig+marg 0.5 <', '11641': 'Exc face-mm malig+marg 0.6-1', '11642': 'Exc face-mm malig+marg 1.1-2', '11643': 'Exc face-mm malig+marg 2.1-3', '11644': 'Exc face-mm malig+marg 3.1-4', '11646': 'Exc face-mm mlg+marg > 4 cm', '11719': 'Trim nail(s)', '11720': '\"Debride nail', '11721': '\"Debride nail', '11730': 'Removal of nail plate', '11732': '\"Remove nail plate', '11740': 'Drain blood from under nail', '11750': 'Removal of nail bed', '11752': 'Remove nail bed/finger tip', '11755': '\"Biopsy', '11760': 'Repair of nail bed', '11762': 'Reconstruction of nail bed', '11765': '\"Excision of nail fold', '11770': 'Removal of pilonidal lesion', '11771': 'Removal of pilonidal lesion', '11772': 'Removal of pilonidal lesion', '11900': 'Injection into skin lesions', '11901': 'Added skin lesions injection', '11920': 'Correct skin color defects', '11921': 'Correct skin color defects', '11922': 'Correct skin color defects', '11950': 'Therapy for contour defects', '11951': 'Therapy for contour defects', '11952': 'Therapy for contour defects', '11954': 'Therapy for contour defects', '11960': 'Insert tissue expander(s)', '11970': 'Replace tissue expander', '11971': 'Remove tissue expander(s)', '11975': 'Insert contraceptive cap', '11976': 'Removal of contraceptive cap', '11977': 'Removal/reinsert contra cap', '11980': 'Implant hormone pellet(s)', '11981': 'Insert drug implant device', '11982': 'Remove drug implant device', '11983': 'Remove/insert drug implant', '12001': 'Repair superficial wound(s)', '12002': 'Repair superficial wound(s)', '12004': 'Repair superficial wound(s)', '12005': 'Repair superficial wound(s)', '12006': 'Repair superficial wound(s)', '12007': 'Repair superficial wound(s)', '12011': 'Repair superficial wound(s)', '12013': 'Repair superficial wound(s)', '12014': 'Repair superficial wound(s)', '12015': 'Repair superficial wound(s)', '12016': 'Repair superficial wound(s)', '12017': 'Repair superficial wound(s)', '12018': 'Repair superficial wound(s)', '12020': 'Closure of split wound', '12021': 'Closure of split wound', '12031': 'Layer closure of wound(s)', '12032': 'Layer closure of wound(s)', '12034': 'Layer closure of wound(s)', '12035': 'Layer closure of wound(s)', '12036': 'Layer closure of wound(s)', '12037': 'Layer closure of wound(s)', '12041': 'Layer closure of wound(s)', '12042': 'Layer closure of wound(s)', '12044': 'Layer closure of wound(s)', '12045': 'Layer closure of wound(s)', '12046': 'Layer closure of wound(s)', '12047': 'Layer closure of wound(s)', '12051': 'Layer closure of wound(s)', '12052': 'Layer closure of wound(s)', '12053': 'Layer closure of wound(s)', '12054': 'Layer closure of wound(s)', '12055': 'Layer closure of wound(s)', '12056': 'Layer closure of wound(s)', '12057': 'Layer closure of wound(s)', '13100': 'Repair of wound or lesion', '13101': 'Repair of wound or lesion', '13102': 'Repair wound/lesion add-on', '13120': 'Repair of wound or lesion', '13121': 'Repair of wound or lesion', '13122': 'Repair wound/lesion add-on', '13131': 'Repair of wound or lesion', '13132': 'Repair of wound or lesion', '13133': 'Repair wound/lesion add-on', '13150': 'Repair of wound or lesion', '13151': 'Repair of wound or lesion', '13152': 'Repair of wound or lesion', '13153': 'Repair wound/lesion add-on', '13160': 'Late closure of wound', '14000': 'Skin tissue rearrangement', '14001': 'Skin tissue rearrangement', '14020': 'Skin tissue rearrangement', '14021': 'Skin tissue rearrangement', '14040': 'Skin tissue rearrangement', '14041': 'Skin tissue rearrangement', '14060': 'Skin tissue rearrangement', '14061': 'Skin tissue rearrangement', '14300': 'Skin tissue rearrangement', '14350': 'Skin tissue rearrangement', '15000': 'Skin graft', '15001': 'Skin graft add-on', '15050': 'Skin pinch graft', '15100': 'Skin split graft', '15101': 'Skin split graft add-on', '15120': 'Skin split graft', '15121': 'Skin split graft add-on', '15200': 'Skin full graft', '15201': 'Skin full graft add-on', '15220': 'Skin full graft', '15221': 'Skin full graft add-on', '15240': 'Skin full graft', '15241': 'Skin full graft add-on', '15260': 'Skin full graft', '15261': 'Skin full graft add-on', '15342': '\"Cultured skin graft', '15343': 'Culture skn graft addl 25 cm', '15350': 'Skin homograft', '15351': 'Skin homograft add-on', '15400': 'Skin heterograft', '15401': 'Skin heterograft add-on', '15570': 'Form skin pedicle flap', '15572': 'Form skin pedicle flap', '15574': 'Form skin pedicle flap', '15576': 'Form skin pedicle flap', '15600': 'Skin graft', '15610': 'Skin graft', '15620': 'Skin graft', '15630': 'Skin graft', '15650': 'Transfer skin pedicle flap', '15732': '\"Muscle-skin graft', '15734': '\"Muscle-skin graft', '15736': '\"Muscle-skin graft', '15738': '\"Muscle-skin graft', '15740': 'Island pedicle flap graft', '15750': 'Neurovascular pedicle graft', '15756': 'Free myo/skin flap microvasc', '15757': '\"Free skin flap', '15758': '\"Free fascial flap', '15760': 'Composite skin graft', '15770': 'Derma-fat-fascia graft', '15775': 'Hair transplant punch grafts', '15776': 'Hair transplant punch grafts', '15780': 'Abrasion treatment of skin', '15781': 'Abrasion treatment of skin', '15782': 'Abrasion treatment of skin', '15783': 'Abrasion treatment of skin', '15786': '\"Abrasion', '15787': '\"Abrasion', '15788': '\"Chemical peel', '15789': '\"Chemical peel', '15792': '\"Chemical peel', '15793': '\"Chemical peel', '15810': 'Salabrasion', '15811': 'Salabrasion', '15819': '\"Plastic surgery', '15820': 'Revision of lower eyelid', '15821': 'Revision of lower eyelid', '15822': 'Revision of upper eyelid', '15823': 'Revision of upper eyelid', '15824': 'Removal of forehead wrinkles', '15825': 'Removal of neck wrinkles', '15826': 'Removal of brow wrinkles', '15828': 'Removal of face wrinkles', '15829': 'Removal of skin wrinkles', '15831': 'Excise excessive skin tissue', '15832': 'Excise excessive skin tissue', '15833': 'Excise excessive skin tissue', '15834': 'Excise excessive skin tissue', '15835': 'Excise excessive skin tissue', '15836': 'Excise excessive skin tissue', '15837': 'Excise excessive skin tissue', '15838': 'Excise excessive skin tissue', '15839': 'Excise excessive skin tissue', '15840': 'Graft for face nerve palsy', '15841': 'Graft for face nerve palsy', '15842': 'Flap for face nerve palsy', '15845': '\"Skin and muscle repair', '15850': 'Removal of sutures', '15851': 'Removal of sutures', '15852': 'Dressing change not for burn', '15860': 'Test for blood flow in graft', '15876': 'Suction assisted lipectomy', '15877': 'Suction assisted lipectomy', '15878': 'Suction assisted lipectomy', '15879': 'Suction assisted lipectomy', '15920': 'Removal of tail bone ulcer', '15922': 'Removal of tail bone ulcer', '15931': 'Remove sacrum pressure sore', '15933': 'Remove sacrum pressure sore', '15934': 'Remove sacrum pressure sore', '15935': 'Remove sacrum pressure sore', '15936': 'Remove sacrum pressure sore', '15937': 'Remove sacrum pressure sore', '15940': 'Remove hip pressure sore', '15941': 'Remove hip pressure sore', '15944': 'Remove hip pressure sore', '15945': 'Remove hip pressure sore', '15946': 'Remove hip pressure sore', '15950': 'Remove thigh pressure sore', '15951': 'Remove thigh pressure sore', '15952': 'Remove thigh pressure sore', '15953': 'Remove thigh pressure sore', '15956': 'Remove thigh pressure sore', '15958': 'Remove thigh pressure sore', '15999': 'Removal of pressure sore', '16000': 'Initial treatment of burn(s)', '16010': 'Treatment of burn(s)', '16015': 'Treatment of burn(s)', '16020': 'Treatment of burn(s)', '16025': 'Treatment of burn(s)', '16030': 'Treatment of burn(s)', '16035': '\"Incision of burn scab', '16036': 'Escharotomy; add?l incision', '17000': 'Destroy benign/premlg lesion', '17003': '\"Destroy lesions', '17004': '\"Destroy lesions', '17106': 'Destruction of skin lesions', '17107': 'Destruction of skin lesions', '17108': 'Destruction of skin lesions', '17110': '\"Destruct lesion', '17111': '\"Destruct lesion', '17250': '\"Chemical cautery', '17260': 'Destruction of skin lesions', '17261': 'Destruction of skin lesions', '17262': 'Destruction of skin lesions', '17263': 'Destruction of skin lesions', '17264': 'Destruction of skin lesions', '17266': 'Destruction of skin lesions', '17270': 'Destruction of skin lesions', '17271': 'Destruction of skin lesions', '17272': 'Destruction of skin lesions', '17273': 'Destruction of skin lesions', '17274': 'Destruction of skin lesions', '17276': 'Destruction of skin lesions', '17280': 'Destruction of skin lesions', '17281': 'Destruction of skin lesions', '17282': 'Destruction of skin lesions', '17283': 'Destruction of skin lesions', '17284': 'Destruction of skin lesions', '17286': 'Destruction of skin lesions', '17304': '\"1 stage mohs', '17305': '\"2 stage mohs', '17306': '\"3 stage mohs', '17307': 'Mohs addl stage up to 5 spec', '17310': 'Mohs any stage > 5 spec each', '17340': 'Cryotherapy of skin', '17360': 'Skin peel therapy', '17380': 'Hair removal by electrolysis', '17999': 'Skin tissue procedure', '19000': 'Drainage of breast lesion', '19001': 'Drain breast lesion add-on', '19020': 'Incision of breast lesion', '19030': 'Injection for breast x-ray', '19100': 'Bx breast percut w/o image', '19101': '\"Biopsy of breast', '19102': 'Bx breast percut w/image', '19103': 'Bx breast percut w/device', '19110': 'Nipple exploration', '19112': 'Excise breast duct fistula', '19120': 'Removal of breast lesion', '19125': '\"Excision', '19126': '\"Excision', '19140': 'Removal of breast tissue', '19160': 'Partial mastectomy', '19162': 'P-mastectomy w/ln removal', '19180': 'Removal of breast', '19182': 'Removal of breast', '19200': 'Removal of breast', '19220': 'Removal of breast', '19240': 'Removal of breast', '19260': 'Removal of chest wall lesion', '19271': 'Revision of chest wall', '19272': 'Extensive chest wall surgery', '19290': '\"Place needle wire', '19291': '\"Place needle wire', '19295': '\"Place breast clip', '19296': 'Place po breast cath for rad', '19297': 'Place breast cath for rad', '19298': 'Place breast rad tube/caths', '19316': 'Suspension of breast', '19318': 'Reduction of large breast', '19324': 'Enlarge breast', '19325': 'Enlarge breast with implant', '19328': 'Removal of breast implant', '19330': 'Removal of implant material', '19340': 'Immediate breast prosthesis', '19342': 'Delayed breast prosthesis', '19350': 'Breast reconstruction', '19355': 'Correct inverted nipple(s)', '19357': 'Breast reconstruction', '19361': 'Breast reconstruction', '19364': 'Breast reconstruction', '19366': 'Breast reconstruction', '19367': 'Breast reconstruction', '19368': 'Breast reconstruction', '19369': 'Breast reconstruction', '19370': 'Surgery of breast capsule', '19371': 'Removal of breast capsule', '19380': 'Revise breast reconstruction', '19396': 'Design custom breast implant', '19499': 'Breast surgery procedure', '20000': 'Incision of abscess', '20005': 'Incision of deep abscess', '2000F': '\"Blood pressure', '20100': '\"Explore wound', '20101': '\"Explore wound', '20102': '\"Explore wound', '20103': '\"Explore wound', '20150': 'Excise epiphyseal bar', '20200': 'Muscle biopsy', '20205': 'Deep muscle biopsy', '20206': '\"Needle biopsy', '20220': '\"Bone biopsy', '20225': '\"Bone biopsy', '20240': '\"Bone biopsy', '20245': '\"Bone biopsy', '20250': 'Open bone biopsy', '20251': 'Open bone biopsy', '20500': 'Injection of sinus tract', '20501': 'Inject sinus tract for x-ray', '20520': 'Removal of foreign body', '20525': 'Removal of foreign body', '20526': '\"Ther injection', '20550': 'Inj tendon sheath/ligament', '20551': 'Inj tendon origin/insertion', '20552': '\"Inj trigger point', '20553': '\"Inject trigger points', '20600': '\"Drain/inject', '20605': '\"Drain/inject', '20610': '\"Drain/inject', '20612': 'Aspirate/inj ganglion cyst', '20615': 'Treatment of bone cyst', '20650': 'Insert and remove bone pin', '20660': '\"Apply', '20661': 'Application of head brace', '20662': 'Application of pelvis brace', '20663': 'Application of thigh brace', '20664': 'Halo brace application', '20665': 'Removal of fixation device', '20670': 'Removal of support implant', '20680': 'Removal of support implant', '20690': 'Apply bone fixation device', '20692': 'Apply bone fixation device', '20693': 'Adjust bone fixation device', '20694': 'Remove bone fixation device', '20802': '\"Replantation', '20805': '\"Replant forearm', '20808': '\"Replantation hand', '20816': '\"Replantation digit', '20822': '\"Replantation digit', '20824': '\"Replantation thumb', '20827': '\"Replantation thumb', '20838': '\"Replantation foot', '20900': 'Removal of bone for graft', '20902': 'Removal of bone for graft', '20910': 'Remove cartilage for graft', '20912': 'Remove cartilage for graft', '20920': 'Removal of fascia for graft', '20922': 'Removal of fascia for graft', '20924': 'Removal of tendon for graft', '20926': 'Removal of tissue for graft', '20930': 'Spinal bone allograft', '20931': 'Spinal bone allograft', '20936': 'Spinal bone autograft', '20937': 'Spinal bone autograft', '20938': 'Spinal bone autograft', '20950': '\"Fluid pressure', '20955': '\"Fibula bone graft', '20956': '\"Iliac bone graft', '20957': '\"Mt bone graft', '20962': '\"Other bone graft', '20969': '\"Bone/skin graft', '20970': '\"Bone/skin graft', '20972': '\"Bone/skin graft', '20973': '\"Bone/skin graft', '20974': 'Electrical bone stimulation', '20975': 'Electrical bone stimulation', '20979': 'Us bone stimulation', '20982': '\"Ablate', '20999': 'Musculoskeletal surgery', '21010': 'Incision of jaw joint', '21015': 'Resection of facial tumor', '21025': '\"Excision of bone', '21026': 'Excision of facial bone(s)', '21029': 'Contour of face bone lesion', '21030': 'Excise max/zygoma b9 tumor', '21031': '\"Remove exostosis', '21032': '\"Remove exostosis', '21034': 'Excise max/zygoma mlg tumor', '21040': 'Excise mandible lesion', '21044': 'Removal of jaw bone lesion', '21045': 'Extensive jaw surgery', '21046': 'Remove mandible cyst complex', '21047': 'Excise lwr jaw cyst w/repair', '21048': 'Remove maxilla cyst complex', '21049': 'Excis uppr jaw cyst w/repair', '21050': 'Removal of jaw joint', '21060': 'Remove jaw joint cartilage', '21070': 'Remove coronoid process', '21076': 'Prepare face/oral prosthesis', '21077': 'Prepare face/oral prosthesis', '21079': 'Prepare face/oral prosthesis', '21080': 'Prepare face/oral prosthesis', '21081': 'Prepare face/oral prosthesis', '21082': 'Prepare face/oral prosthesis', '21083': 'Prepare face/oral prosthesis', '21084': 'Prepare face/oral prosthesis', '21085': 'Prepare face/oral prosthesis', '21086': 'Prepare face/oral prosthesis', '21087': 'Prepare face/oral prosthesis', '21088': 'Prepare face/oral prosthesis', '21089': 'Prepare face/oral prosthesis', '21100': 'Maxillofacial fixation', '21110': 'Interdental fixation', '21116': '\"Injection', '21120': 'Reconstruction of chin', '21121': 'Reconstruction of chin', '21122': 'Reconstruction of chin', '21123': 'Reconstruction of chin', '21125': '\"Augmentation', '21127': '\"Augmentation', '21137': 'Reduction of forehead', '21138': 'Reduction of forehead', '21139': 'Reduction of forehead', '21141': '\"Reconstruct midface', '21142': '\"Reconstruct midface', '21143': '\"Reconstruct midface', '21145': '\"Reconstruct midface', '21146': '\"Reconstruct midface', '21147': '\"Reconstruct midface', '21150': '\"Reconstruct midface', '21151': '\"Reconstruct midface', '21154': '\"Reconstruct midface', '21155': '\"Reconstruct midface', '21159': '\"Reconstruct midface', '21160': '\"Reconstruct midface', '21172': 'Reconstruct orbit/forehead', '21175': 'Reconstruct orbit/forehead', '21179': 'Reconstruct entire forehead', '21180': 'Reconstruct entire forehead', '21181': 'Contour cranial bone lesion', '21182': 'Reconstruct cranial bone', '21183': 'Reconstruct cranial bone', '21184': 'Reconstruct cranial bone', '21188': 'Reconstruction of midface', '21193': 'Reconst lwr jaw w/o graft', '21194': 'Reconst lwr jaw w/graft', '21195': 'Reconst lwr jaw w/o fixation', '21196': 'Reconst lwr jaw w/fixation', '21198': 'Reconstr lwr jaw segment', '21199': 'Reconstr lwr jaw w/advance', '21206': 'Reconstruct upper jaw bone', '21208': 'Augmentation of facial bones', '21209': 'Reduction of facial bones', '21210': 'Face bone graft', '21215': 'Lower jaw bone graft', '21230': 'Rib cartilage graft', '21235': 'Ear cartilage graft', '21240': 'Reconstruction of jaw joint', '21242': 'Reconstruction of jaw joint', '21243': 'Reconstruction of jaw joint', '21244': 'Reconstruction of lower jaw', '21245': 'Reconstruction of jaw', '21246': 'Reconstruction of jaw', '21247': 'Reconstruct lower jaw bone', '21248': 'Reconstruction of jaw', '21249': 'Reconstruction of jaw', '21255': 'Reconstruct lower jaw bone', '21256': 'Reconstruction of orbit', '21260': 'Revise eye sockets', '21261': 'Revise eye sockets', '21263': 'Revise eye sockets', '21267': 'Revise eye sockets', '21268': 'Revise eye sockets', '21270': '\"Augmentation', '21275': '\"Revision', '21280': 'Revision of eyelid', '21282': 'Revision of eyelid', '21295': 'Revision of jaw muscle/bone', '21296': 'Revision of jaw muscle/bone', '21299': 'Cranio/maxillofacial surgery', '21300': 'Treatment of skull fracture', '21310': 'Treatment of nose fracture', '21315': 'Treatment of nose fracture', '21320': 'Treatment of nose fracture', '21325': 'Treatment of nose fracture', '21330': 'Treatment of nose fracture', '21335': 'Treatment of nose fracture', '21336': 'Treat nasal septal fracture', '21337': 'Treat nasal septal fracture', '21338': 'Treat nasoethmoid fracture', '21339': 'Treat nasoethmoid fracture', '21340': 'Treatment of nose fracture', '21343': 'Treatment of sinus fracture', '21344': 'Treatment of sinus fracture', '21345': 'Treat nose/jaw fracture', '21346': 'Treat nose/jaw fracture', '21347': 'Treat nose/jaw fracture', '21348': 'Treat nose/jaw fracture', '21355': 'Treat cheek bone fracture', '21356': 'Treat cheek bone fracture', '21360': 'Treat cheek bone fracture', '21365': 'Treat cheek bone fracture', '21366': 'Treat cheek bone fracture', '21385': 'Treat eye socket fracture', '21386': 'Treat eye socket fracture', '21387': 'Treat eye socket fracture', '21390': 'Treat eye socket fracture', '21395': 'Treat eye socket fracture', '21400': 'Treat eye socket fracture', '21401': 'Treat eye socket fracture', '21406': 'Treat eye socket fracture', '21407': 'Treat eye socket fracture', '21408': 'Treat eye socket fracture', '21421': 'Treat mouth roof fracture', '21422': 'Treat mouth roof fracture', '21423': 'Treat mouth roof fracture', '21431': 'Treat craniofacial fracture', '21432': 'Treat craniofacial fracture', '21433': 'Treat craniofacial fracture', '21435': 'Treat craniofacial fracture', '21436': 'Treat craniofacial fracture', '21440': 'Treat dental ridge fracture', '21445': 'Treat dental ridge fracture', '21450': 'Treat lower jaw fracture', '21451': 'Treat lower jaw fracture', '21452': 'Treat lower jaw fracture', '21453': 'Treat lower jaw fracture', '21454': 'Treat lower jaw fracture', '21461': 'Treat lower jaw fracture', '21462': 'Treat lower jaw fracture', '21465': 'Treat lower jaw fracture', '21470': 'Treat lower jaw fracture', '21480': 'Reset dislocated jaw', '21485': 'Reset dislocated jaw', '21490': 'Repair dislocated jaw', '21493': 'Treat hyoid bone fracture', '21494': 'Treat hyoid bone fracture', '21495': 'Treat hyoid bone fracture', '21497': 'Interdental wiring', '21499': 'Head surgery procedure', '21501': 'Drain neck/chest lesion', '21502': 'Drain chest lesion', '21510': 'Drainage of bone lesion', '21550': 'Biopsy of neck/chest', '21555': '\"Remove lesion', '21556': '\"Remove lesion', '21557': '\"Remove tumor', '21600': 'Partial removal of rib', '21610': 'Partial removal of rib', '21615': 'Removal of rib', '21616': 'Removal of rib and nerves', '21620': 'Partial removal of sternum', '21627': 'Sternal debridement', '21630': 'Extensive sternum surgery', '21632': 'Extensive sternum surgery', '21685': 'Hyoid myotomy & suspension', '21700': 'Revision of neck muscle', '21705': 'Revision of neck muscle/rib', '21720': 'Revision of neck muscle', '21725': 'Revision of neck muscle', '21740': 'Reconstruction of sternum', '21742': 'Repair stern/nuss w/o scope', '21743': 'Repair sternum/nuss w/scope', '21750': 'Repair of sternum separation', '21800': 'Treatment of rib fracture', '21805': 'Treatment of rib fracture', '21810': 'Treatment of rib fracture(s)', '21820': 'Treat sternum fracture', '21825': 'Treat sternum fracture', '21899': 'Neck/chest surgery procedure', '21920': 'Biopsy soft tissue of back', '21925': 'Biopsy soft tissue of back', '21930': '\"Remove lesion', '21935': '\"Remove tumor', '22100': 'Remove part of neck vertebra', '22101': '\"Remove part', '22102': '\"Remove part', '22103': 'Remove extra spine segment', '22110': 'Remove part of neck vertebra', '22112': '\"Remove part', '22114': '\"Remove part', '22116': 'Remove extra spine segment', '22210': 'Revision of neck spine', '22212': 'Revision of thorax spine', '22214': 'Revision of lumbar spine', '22216': '\"Revise', '22220': 'Revision of neck spine', '22222': 'Revision of thorax spine', '22224': 'Revision of lumbar spine', '22226': '\"Revise', '22305': 'Treat spine process fracture', '22310': 'Treat spine fracture', '22315': 'Treat spine fracture', '22318': 'Treat odontoid fx w/o graft', '22319': 'Treat odontoid fx w/graft', '22325': 'Treat spine fracture', '22326': 'Treat neck spine fracture', '22327': 'Treat thorax spine fracture', '22328': 'Treat each add spine fx', '22505': 'Manipulation of spine', '22520': 'Percut vertebroplasty thor', '22521': 'Percut vertebroplasty lumb', '22522': 'Percut vertebroplasty add?l', '22532': 'Lat thorax spine fusion', '22533': 'Lat lumbar spine fusion', '22534': '\"Lat thor/lumb', '22548': 'Neck spine fusion', '22554': 'Neck spine fusion', '22556': 'Thorax spine fusion', '22558': 'Lumbar spine fusion', '22585': 'Additional spinal fusion', '22590': 'Spine & skull spinal fusion', '22595': 'Neck spinal fusion', '22600': 'Neck spine fusion', '22610': 'Thorax spine fusion', '22612': 'Lumbar spine fusion', '22614': '\"Spine fusion', '22630': 'Lumbar spine fusion', '22632': '\"Spine fusion', '22800': 'Fusion of spine', '22802': 'Fusion of spine', '22804': 'Fusion of spine', '22808': 'Fusion of spine', '22810': 'Fusion of spine', '22812': 'Fusion of spine', '22818': '\"Kyphectomy', '22819': '\"Kyphectomy', '22830': 'Exploration of spinal fusion', '22840': 'Insert spine fixation device', '22841': 'Insert spine fixation device', '22842': 'Insert spine fixation device', '22843': 'Insert spine fixation device', '22844': 'Insert spine fixation device', '22845': 'Insert spine fixation device', '22846': 'Insert spine fixation device', '22847': 'Insert spine fixation device', '22848': 'Insert pelv fixation device', '22849': 'Reinsert spinal fixation', '22850': 'Remove spine fixation device', '22851': 'Apply spine prosth device', '22852': 'Remove spine fixation device', '22855': 'Remove spine fixation device', '22899': 'Spine surgery procedure', '22900': 'Remove abdominal wall lesion', '22999': 'Abdomen surgery procedure', '23000': 'Removal of calcium deposits', '23020': 'Release shoulder joint', '23030': 'Drain shoulder lesion', '23031': 'Drain shoulder bursa', '23035': 'Drain shoulder bone lesion', '23040': 'Exploratory shoulder surgery', '23044': 'Exploratory shoulder surgery', '23065': 'Biopsy shoulder tissues', '23066': 'Biopsy shoulder tissues', '23075': 'Removal of shoulder lesion', '23076': 'Removal of shoulder lesion', '23077': 'Remove tumor of shoulder', '23100': 'Biopsy of shoulder joint', '23101': 'Shoulder joint surgery', '23105': 'Remove shoulder joint lining', '23106': 'Incision of collarbone joint', '23107': 'Explore treat shoulder joint', '23120': '\"Partial removal', '23125': 'Removal of collar bone', '23130': '\"Remove shoulder bone', '23140': 'Removal of bone lesion', '23145': 'Removal of bone lesion', '23146': 'Removal of bone lesion', '23150': 'Removal of humerus lesion', '23155': 'Removal of humerus lesion', '23156': 'Removal of humerus lesion', '23170': 'Remove collar bone lesion', '23172': 'Remove shoulder blade lesion', '23174': 'Remove humerus lesion', '23180': 'Remove collar bone lesion', '23182': 'Remove shoulder blade lesion', '23184': 'Remove humerus lesion', '23190': 'Partial removal of scapula', '23195': 'Removal of head of humerus', '23200': 'Removal of collar bone', '23210': 'Removal of shoulder blade', '23220': 'Partial removal of humerus', '23221': 'Partial removal of humerus', '23222': 'Partial removal of humerus', '23330': 'Remove shoulder foreign body', '23331': 'Remove shoulder foreign body', '23332': 'Remove shoulder foreign body', '23350': 'Injection for shoulder x-ray', '23395': '\"Muscle transfer', '23397': 'Muscle transfers', '23400': 'Fixation of shoulder blade', '23405': 'Incision of tendon & muscle', '23406': 'Incise tendon(s) & muscle(s)', '23410': '\"Repair rotator cuff', '23412': '\"Repair rotator cuff', '23415': 'Release of shoulder ligament', '23420': 'Repair of shoulder', '23430': 'Repair biceps tendon', '23440': 'Remove/transplant tendon', '23450': 'Repair shoulder capsule', '23455': 'Repair shoulder capsule', '23460': 'Repair shoulder capsule', '23462': 'Repair shoulder capsule', '23465': 'Repair shoulder capsule', '23466': 'Repair shoulder capsule', '23470': 'Reconstruct shoulder joint', '23472': 'Reconstruct shoulder joint', '23480': 'Revision of collar bone', '23485': 'Revision of collar bone', '23490': 'Reinforce clavicle', '23491': 'Reinforce shoulder bones', '23500': 'Treat clavicle fracture', '23505': 'Treat clavicle fracture', '23515': 'Treat clavicle fracture', '23520': 'Treat clavicle dislocation', '23525': 'Treat clavicle dislocation', '23530': 'Treat clavicle dislocation', '23532': 'Treat clavicle dislocation', '23540': 'Treat clavicle dislocation', '23545': 'Treat clavicle dislocation', '23550': 'Treat clavicle dislocation', '23552': 'Treat clavicle dislocation', '23570': 'Treat shoulder blade fx', '23575': 'Treat shoulder blade fx', '23585': 'Treat scapula fracture', '23600': 'Treat humerus fracture', '23605': 'Treat humerus fracture', '23615': 'Treat humerus fracture', '23616': 'Treat humerus fracture', '23620': 'Treat humerus fracture', '23625': 'Treat humerus fracture', '23630': 'Treat humerus fracture', '23650': 'Treat shoulder dislocation', '23655': 'Treat shoulder dislocation', '23660': 'Treat shoulder dislocation', '23665': 'Treat dislocation/fracture', '23670': 'Treat dislocation/fracture', '23675': 'Treat dislocation/fracture', '23680': 'Treat dislocation/fracture', '23700': 'Fixation of shoulder', '23800': 'Fusion of shoulder joint', '23802': 'Fusion of shoulder joint', '23900': 'Amputation of arm & girdle', '23920': 'Amputation at shoulder joint', '23921': 'Amputation follow-up surgery', '23929': 'Shoulder surgery procedure', '23930': 'Drainage of arm lesion', '23931': 'Drainage of arm bursa', '23935': 'Drain arm/elbow bone lesion', '24000': 'Exploratory elbow surgery', '24006': 'Release elbow joint', '24065': 'Biopsy arm/elbow soft tissue', '24066': 'Biopsy arm/elbow soft tissue', '24075': 'Remove arm/elbow lesion', '24076': 'Remove arm/elbow lesion', '24077': 'Remove tumor of arm/elbow', '24100': 'Biopsy elbow joint lining', '24101': 'Explore/treat elbow joint', '24102': 'Remove elbow joint lining', '24105': 'Removal of elbow bursa', '24110': 'Remove humerus lesion', '24115': 'Remove/graft bone lesion', '24116': 'Remove/graft bone lesion', '24120': 'Remove elbow lesion', '24125': 'Remove/graft bone lesion', '24126': 'Remove/graft bone lesion', '24130': 'Removal of head of radius', '24134': 'Removal of arm bone lesion', '24136': 'Remove radius bone lesion', '24138': 'Remove elbow bone lesion', '24140': 'Partial removal of arm bone', '24145': 'Partial removal of radius', '24147': 'Partial removal of elbow', '24149': 'Radical resection of elbow', '24150': 'Extensive humerus surgery', '24151': 'Extensive humerus surgery', '24152': 'Extensive radius surgery', '24153': 'Extensive radius surgery', '24155': 'Removal of elbow joint', '24160': 'Remove elbow joint implant', '24164': 'Remove radius head implant', '24200': 'Removal of arm foreign body', '24201': 'Removal of arm foreign body', '24220': 'Injection for elbow x-ray', '24300': 'Manipulate elbow w/anesth', '24301': 'Muscle/tendon transfer', '24305': 'Arm tendon lengthening', '24310': 'Revision of arm tendon', '24320': 'Repair of arm tendon', '24330': 'Revision of arm muscles', '24331': 'Revision of arm muscles', '24332': '\"Tenolysis', '24340': 'Repair of biceps tendon', '24341': 'Repair arm tendon/muscle', '24342': 'Repair of ruptured tendon', '24343': 'Repr elbow lat ligmnt w/tiss', '24344': 'Reconstruct elbow lat ligmnt', '24345': 'Repr elbw med ligmnt w/tissu', '24346': 'Reconstruct elbow med ligmnt', '24350': 'Repair of tennis elbow', '24351': 'Repair of tennis elbow', '24352': 'Repair of tennis elbow', '24354': 'Repair of tennis elbow', '24356': 'Revision of tennis elbow', '24360': 'Reconstruct elbow joint', '24361': 'Reconstruct elbow joint', '24362': 'Reconstruct elbow joint', '24363': 'Replace elbow joint', '24365': 'Reconstruct head of radius', '24366': 'Reconstruct head of radius', '24400': 'Revision of humerus', '24410': 'Revision of humerus', '24420': 'Revision of humerus', '24430': 'Repair of humerus', '24435': 'Repair humerus with graft', '24470': 'Revision of elbow joint', '24495': 'Decompression of forearm', '24498': 'Reinforce humerus', '24500': 'Treat humerus fracture', '24505': 'Treat humerus fracture', '24515': 'Treat humerus fracture', '24516': 'Treat humerus fracture', '24530': 'Treat humerus fracture', '24535': 'Treat humerus fracture', '24538': 'Treat humerus fracture', '24545': 'Treat humerus fracture', '24546': 'Treat humerus fracture', '24560': 'Treat humerus fracture', '24565': 'Treat humerus fracture', '24566': 'Treat humerus fracture', '24575': 'Treat humerus fracture', '24576': 'Treat humerus fracture', '24577': 'Treat humerus fracture', '24579': 'Treat humerus fracture', '24582': 'Treat humerus fracture', '24586': 'Treat elbow fracture', '24587': 'Treat elbow fracture', '24600': 'Treat elbow dislocation', '24605': 'Treat elbow dislocation', '24615': 'Treat elbow dislocation', '24620': 'Treat elbow fracture', '24635': 'Treat elbow fracture', '24640': 'Treat elbow dislocation', '24650': 'Treat radius fracture', '24655': 'Treat radius fracture', '24665': 'Treat radius fracture', '24666': 'Treat radius fracture', '24670': 'Treat ulnar fracture', '24675': 'Treat ulnar fracture', '24685': 'Treat ulnar fracture', '24800': 'Fusion of elbow joint', '24802': 'Fusion/graft of elbow joint', '24900': 'Amputation of upper arm', '24920': 'Amputation of upper arm', '24925': 'Amputation follow-up surgery', '24930': 'Amputation follow-up surgery', '24931': 'Amputate upper arm & implant', '24935': 'Revision of amputation', '24940': 'Revision of upper arm', '24999': 'Upper arm/elbow surgery', '25000': 'Incision of tendon sheath', '25001': 'Incise flexor carpi radialis', '25020': 'Decompress forearm 1 space', '25023': 'Decompress forearm 1 space', '25024': 'Decompress forearm 2 spaces', '25025': 'Decompress forearm 2 spaces', '25028': 'Drainage of forearm lesion', '25031': 'Drainage of forearm bursa', '25035': 'Treat forearm bone lesion', '25040': 'Explore/treat wrist joint', '25065': 'Biopsy forearm soft tissues', '25066': 'Biopsy forearm soft tissues', '25075': 'Removal forearm lesion subcu', '25076': 'Removal forearm lesion deep', '25077': '\"Remove tumor', '25085': 'Incision of wrist capsule', '25100': 'Biopsy of wrist joint', '25101': 'Explore/treat wrist joint', '25105': 'Remove wrist joint lining', '25107': 'Remove wrist joint cartilage', '25110': 'Remove wrist tendon lesion', '25111': 'Remove wrist tendon lesion', '25112': 'Reremove wrist tendon lesion', '25115': 'Remove wrist/forearm lesion', '25116': 'Remove wrist/forearm lesion', '25118': 'Excise wrist tendon sheath', '25119': 'Partial removal of ulna', '25120': 'Removal of forearm lesion', '25125': 'Remove/graft forearm lesion', '25126': 'Remove/graft forearm lesion', '25130': 'Removal of wrist lesion', '25135': 'Remove & graft wrist lesion', '25136': 'Remove & graft wrist lesion', '25145': 'Remove forearm bone lesion', '25150': 'Partial removal of ulna', '25151': 'Partial removal of radius', '25170': 'Extensive forearm surgery', '25210': 'Removal of wrist bone', '25215': 'Removal of wrist bones', '25230': 'Partial removal of radius', '25240': 'Partial removal of ulna', '25246': 'Injection for wrist x-ray', '25248': 'Remove forearm foreign body', '25250': 'Removal of wrist prosthesis', '25251': 'Removal of wrist prosthesis', '25259': 'Manipulate wrist w/anesthes', '25260': 'Repair forearm tendon/muscle', '25263': 'Repair forearm tendon/muscle', '25265': 'Repair forearm tendon/muscle', '25270': 'Repair forearm tendon/muscle', '25272': 'Repair forearm tendon/muscle', '25274': 'Repair forearm tendon/muscle', '25275': 'Repair forearm tendon sheath', '25280': 'Revise wrist/forearm tendon', '25290': 'Incise wrist/forearm tendon', '25295': 'Release wrist/forearm tendon', '25300': 'Fusion of tendons at wrist', '25301': 'Fusion of tendons at wrist', '25310': 'Transplant forearm tendon', '25312': 'Transplant forearm tendon', '25315': 'Revise palsy hand tendon(s)', '25316': 'Revise palsy hand tendon(s)', '25320': 'Repair/revise wrist joint', '25332': 'Revise wrist joint', '25335': 'Realignment of hand', '25337': 'Reconstruct ulna/radioulnar', '25350': 'Revision of radius', '25355': 'Revision of radius', '25360': 'Revision of ulna', '25365': 'Revise radius & ulna', '25370': 'Revise radius or ulna', '25375': 'Revise radius & ulna', '25390': 'Shorten radius or ulna', '25391': 'Lengthen radius or ulna', '25392': 'Shorten radius & ulna', '25393': 'Lengthen radius & ulna', '25394': '\"Repair carpal bone', '25400': 'Repair radius or ulna', '25405': 'Repair/graft radius or ulna', '25415': 'Repair radius & ulna', '25420': 'Repair/graft radius & ulna', '25425': 'Repair/graft radius or ulna', '25426': 'Repair/graft radius & ulna', '25430': 'Vasc graft into carpal bone', '25431': 'Repair nonunion carpal bone', '25440': 'Repair/graft wrist bone', '25441': 'Reconstruct wrist joint', '25442': 'Reconstruct wrist joint', '25443': 'Reconstruct wrist joint', '25444': 'Reconstruct wrist joint', '25445': 'Reconstruct wrist joint', '25446': 'Wrist replacement', '25447': 'Repair wrist joint(s)', '25449': 'Remove wrist joint implant', '25450': 'Revision of wrist joint', '25455': 'Revision of wrist joint', '25490': 'Reinforce radius', '25491': 'Reinforce ulna', '25492': 'Reinforce radius and ulna', '25500': 'Treat fracture of radius', '25505': 'Treat fracture of radius', '25515': 'Treat fracture of radius', '25520': 'Treat fracture of radius', '25525': 'Treat fracture of radius', '25526': 'Treat fracture of radius', '25530': 'Treat fracture of ulna', '25535': 'Treat fracture of ulna', '25545': 'Treat fracture of ulna', '25560': 'Treat fracture radius & ulna', '25565': 'Treat fracture radius & ulna', '25574': 'Treat fracture radius & ulna', '25575': 'Treat fracture radius/ulna', '25600': 'Treat fracture radius/ulna', '25605': 'Treat fracture radius/ulna', '25611': 'Treat fracture radius/ulna', '25620': 'Treat fracture radius/ulna', '25622': 'Treat wrist bone fracture', '25624': 'Treat wrist bone fracture', '25628': 'Treat wrist bone fracture', '25630': 'Treat wrist bone fracture', '25635': 'Treat wrist bone fracture', '25645': 'Treat wrist bone fracture', '25650': 'Treat wrist bone fracture', '25651': 'Pin ulnar styloid fracture', '25652': 'Treat fracture ulnar styloid', '25660': 'Treat wrist dislocation', '25670': 'Treat wrist dislocation', '25671': 'Pin radioulnar dislocation', '25675': 'Treat wrist dislocation', '25676': 'Treat wrist dislocation', '25680': 'Treat wrist fracture', '25685': 'Treat wrist fracture', '25690': 'Treat wrist dislocation', '25695': 'Treat wrist dislocation', '25800': 'Fusion of wrist joint', '25805': 'Fusion/graft of wrist joint', '25810': 'Fusion/graft of wrist joint', '25820': 'Fusion of hand bones', '25825': 'Fuse hand bones with graft', '25830': '\"Fusion', '25900': 'Amputation of forearm', '25905': 'Amputation of forearm', '25907': 'Amputation follow-up surgery', '25909': 'Amputation follow-up surgery', '25915': 'Amputation of forearm', '25920': 'Amputate hand at wrist', '25922': 'Amputate hand at wrist', '25924': 'Amputation follow-up surgery', '25927': 'Amputation of hand', '25929': 'Amputation follow-up surgery', '25931': 'Amputation follow-up surgery', '25999': 'Forearm or wrist surgery', '26010': 'Drainage of finger abscess', '26011': 'Drainage of finger abscess', '26020': 'Drain hand tendon sheath', '26025': 'Drainage of palm bursa', '26030': 'Drainage of palm bursa(s)', '26034': 'Treat hand bone lesion', '26035': 'Decompress fingers/hand', '26037': 'Decompress fingers/hand', '26040': 'Release palm contracture', '26045': 'Release palm contracture', '26055': 'Incise finger tendon sheath', '26060': 'Incision of finger tendon', '26070': 'Explore/treat hand joint', '26075': 'Explore/treat finger joint', '26080': 'Explore/treat finger joint', '26100': 'Biopsy hand joint lining', '26105': 'Biopsy finger joint lining', '26110': 'Biopsy finger joint lining', '26115': 'Removal hand lesion subcut', '26116': '\"Removal hand lesion', '26117': '\"Remove tumor', '26121': 'Release palm contracture', '26123': 'Release palm contracture', '26125': 'Release palm contracture', '26130': 'Remove wrist joint lining', '26135': '\"Revise finger joint', '26140': '\"Revise finger joint', '26145': '\"Tendon excision', '26160': 'Remove tendon sheath lesion', '26170': '\"Removal of palm tendon', '26180': 'Removal of finger tendon', '26185': 'Remove finger bone', '26200': 'Remove hand bone lesion', '26205': 'Remove/graft bone lesion', '26210': 'Removal of finger lesion', '26215': 'Remove/graft finger lesion', '26230': 'Partial removal of hand bone', '26235': '\"Partial removal', '26236': '\"Partial removal', '26250': 'Extensive hand surgery', '26255': 'Extensive hand surgery', '26260': 'Extensive finger surgery', '26261': 'Extensive finger surgery', '26262': 'Partial removal of finger', '26320': 'Removal of implant from hand', '26340': 'Manipulate finger w/anesth', '26350': 'Repair finger/hand tendon', '26352': 'Repair/graft hand tendon', '26356': 'Repair finger/hand tendon', '26357': 'Repair finger/hand tendon', '26358': 'Repair/graft hand tendon', '26370': 'Repair finger/hand tendon', '26372': 'Repair/graft hand tendon', '26373': 'Repair finger/hand tendon', '26390': 'Revise hand/finger tendon', '26392': 'Repair/graft hand tendon', '26410': 'Repair hand tendon', '26412': 'Repair/graft hand tendon', '26415': '\"Excision', '26416': 'Graft hand or finger tendon', '26418': 'Repair finger tendon', '26420': 'Repair/graft finger tendon', '26426': 'Repair finger/hand tendon', '26428': 'Repair/graft finger tendon', '26432': 'Repair finger tendon', '26433': 'Repair finger tendon', '26434': 'Repair/graft finger tendon', '26437': 'Realignment of tendons', '26440': 'Release palm/finger tendon', '26442': 'Release palm & finger tendon', '26445': 'Release hand/finger tendon', '26449': 'Release forearm/hand tendon', '26450': 'Incision of palm tendon', '26455': 'Incision of finger tendon', '26460': 'Incise hand/finger tendon', '26471': 'Fusion of finger tendons', '26474': 'Fusion of finger tendons', '26476': 'Tendon lengthening', '26477': 'Tendon shortening', '26478': 'Lengthening of hand tendon', '26479': 'Shortening of hand tendon', '26480': 'Transplant hand tendon', '26483': 'Transplant/graft hand tendon', '26485': 'Transplant palm tendon', '26489': 'Transplant/graft palm tendon', '26490': 'Revise thumb tendon', '26492': 'Tendon transfer with graft', '26494': 'Hand tendon/muscle transfer', '26496': 'Revise thumb tendon', '26497': 'Finger tendon transfer', '26498': 'Finger tendon transfer', '26499': 'Revision of finger', '26500': 'Hand tendon reconstruction', '26502': 'Hand tendon reconstruction', '26504': 'Hand tendon reconstruction', '26508': 'Release thumb contracture', '26510': 'Thumb tendon transfer', '26516': 'Fusion of knuckle joint', '26517': 'Fusion of knuckle joints', '26518': 'Fusion of knuckle joints', '26520': 'Release knuckle contracture', '26525': 'Release finger contracture', '26530': 'Revise knuckle joint', '26531': 'Revise knuckle with implant', '26535': 'Revise finger joint', '26536': 'Revise/implant finger joint', '26540': 'Repair hand joint', '26541': 'Repair hand joint with graft', '26542': 'Repair hand joint with graft', '26545': 'Reconstruct finger joint', '26546': 'Repair nonunion hand', '26548': 'Reconstruct finger joint', '26550': 'Construct thumb replacement', '26551': 'Great toe-hand transfer', '26553': '\"Single transfer', '26554': '\"Double transfer', '26555': 'Positional change of finger', '26556': 'Toe joint transfer', '26560': 'Repair of web finger', '26561': 'Repair of web finger', '26562': 'Repair of web finger', '26565': 'Correct metacarpal flaw', '26567': 'Correct finger deformity', '26568': 'Lengthen metacarpal/finger', '26580': 'Repair hand deformity', '26587': 'Reconstruct extra finger', '26590': 'Repair finger deformity', '26591': 'Repair muscles of hand', '26593': 'Release muscles of hand', '26596': 'Excision constricting tissue', '26600': 'Treat metacarpal fracture', '26605': 'Treat metacarpal fracture', '26607': 'Treat metacarpal fracture', '26608': 'Treat metacarpal fracture', '26615': 'Treat metacarpal fracture', '26641': 'Treat thumb dislocation', '26645': 'Treat thumb fracture', '26650': 'Treat thumb fracture', '26665': 'Treat thumb fracture', '26670': 'Treat hand dislocation', '26675': 'Treat hand dislocation', '26676': 'Pin hand dislocation', '26685': 'Treat hand dislocation', '26686': 'Treat hand dislocation', '26700': 'Treat knuckle dislocation', '26705': 'Treat knuckle dislocation', '26706': 'Pin knuckle dislocation', '26715': 'Treat knuckle dislocation', '26720': '\"Treat finger fracture', '26725': '\"Treat finger fracture', '26727': '\"Treat finger fracture', '26735': '\"Treat finger fracture', '26740': '\"Treat finger fracture', '26742': '\"Treat finger fracture', '26746': '\"Treat finger fracture', '26750': '\"Treat finger fracture', '26755': '\"Treat finger fracture', '26756': '\"Pin finger fracture', '26765': '\"Treat finger fracture', '26770': 'Treat finger dislocation', '26775': 'Treat finger dislocation', '26776': 'Pin finger dislocation', '26785': 'Treat finger dislocation', '26820': 'Thumb fusion with graft', '26841': 'Fusion of thumb', '26842': 'Thumb fusion with graft', '26843': 'Fusion of hand joint', '26844': 'Fusion/graft of hand joint', '26850': 'Fusion of knuckle', '26852': 'Fusion of knuckle with graft', '26860': 'Fusion of finger joint', '26861': '\"Fusion of finger jnt', '26862': 'Fusion/graft of finger joint', '26863': 'Fuse/graft added joint', '26910': 'Amputate metacarpal bone', '26951': 'Amputation of finger/thumb', '26952': 'Amputation of finger/thumb', '26989': 'Hand/finger surgery', '26990': 'Drainage of pelvis lesion', '26991': 'Drainage of pelvis bursa', '26992': 'Drainage of bone lesion', '27000': 'Incision of hip tendon', '27001': 'Incision of hip tendon', '27003': 'Incision of hip tendon', '27005': 'Incision of hip tendon', '27006': 'Incision of hip tendons', '27025': 'Incision of hip/thigh fascia', '27030': 'Drainage of hip joint', '27033': 'Exploration of hip joint', '27035': 'Denervation of hip joint', '27036': 'Excision of hip joint/muscle', '27040': 'Biopsy of soft tissues', '27041': 'Biopsy of soft tissues', '27047': 'Remove hip/pelvis lesion', '27048': 'Remove hip/pelvis lesion', '27049': '\"Remove tumor', '27050': 'Biopsy of sacroiliac joint', '27052': 'Biopsy of hip joint', '27054': 'Removal of hip joint lining', '27060': 'Removal of ischial bursa', '27062': 'Remove femur lesion/bursa', '27065': 'Removal of hip bone lesion', '27066': 'Removal of hip bone lesion', '27067': 'Remove/graft hip bone lesion', '27070': 'Partial removal of hip bone', '27071': 'Partial removal of hip bone', '27075': 'Extensive hip surgery', '27076': 'Extensive hip surgery', '27077': 'Extensive hip surgery', '27078': 'Extensive hip surgery', '27079': 'Extensive hip surgery', '27080': 'Removal of tail bone', '27086': 'Remove hip foreign body', '27087': 'Remove hip foreign body', '27090': 'Removal of hip prosthesis', '27091': 'Removal of hip prosthesis', '27093': 'Injection for hip x-ray', '27095': 'Injection for hip x-ray', '27096': 'Inject sacroiliac joint', '27097': 'Revision of hip tendon', '27098': 'Transfer tendon to pelvis', '27100': 'Transfer of abdominal muscle', '27105': 'Transfer of spinal muscle', '27110': 'Transfer of iliopsoas muscle', '27111': 'Transfer of iliopsoas muscle', '27120': 'Reconstruction of hip socket', '27122': 'Reconstruction of hip socket', '27125': 'Partial hip replacement', '27130': 'Total hip arthroplasty', '27132': 'Total hip arthroplasty', '27134': 'Revise hip joint replacement', '27137': 'Revise hip joint replacement', '27138': 'Revise hip joint replacement', '27140': 'Transplant femur ridge', '27146': 'Incision of hip bone', '27147': 'Revision of hip bone', '27151': 'Incision of hip bones', '27156': 'Revision of hip bones', '27158': 'Revision of pelvis', '27161': 'Incision of neck of femur', '27165': 'Incision/fixation of femur', '27170': 'Repair/graft femur head/neck', '27175': 'Treat slipped epiphysis', '27176': 'Treat slipped epiphysis', '27177': 'Treat slipped epiphysis', '27178': 'Treat slipped epiphysis', '27179': 'Revise head/neck of femur', '27181': 'Treat slipped epiphysis', '27185': 'Revision of femur epiphysis', '27187': 'Reinforce hip bones', '27193': 'Treat pelvic ring fracture', '27194': 'Treat pelvic ring fracture', '27200': 'Treat tail bone fracture', '27202': 'Treat tail bone fracture', '27215': 'Treat pelvic fracture(s)', '27216': 'Treat pelvic ring fracture', '27217': 'Treat pelvic ring fracture', '27218': 'Treat pelvic ring fracture', '27220': 'Treat hip socket fracture', '27222': 'Treat hip socket fracture', '27226': 'Treat hip wall fracture', '27227': 'Treat hip fracture(s)', '27228': 'Treat hip fracture(s)', '27230': 'Treat thigh fracture', '27232': 'Treat thigh fracture', '27235': 'Treat thigh fracture', '27236': 'Treat thigh fracture', '27238': 'Treat thigh fracture', '27240': 'Treat thigh fracture', '27244': 'Treat thigh fracture', '27245': 'Treat thigh fracture', '27246': 'Treat thigh fracture', '27248': 'Treat thigh fracture', '27250': 'Treat hip dislocation', '27252': 'Treat hip dislocation', '27253': 'Treat hip dislocation', '27254': 'Treat hip dislocation', '27256': 'Treat hip dislocation', '27257': 'Treat hip dislocation', '27258': 'Treat hip dislocation', '27259': 'Treat hip dislocation', '27265': 'Treat hip dislocation', '27266': 'Treat hip dislocation', '27275': 'Manipulation of hip joint', '27280': 'Fusion of sacroiliac joint', '27282': 'Fusion of pubic bones', '27284': 'Fusion of hip joint', '27286': 'Fusion of hip joint', '27290': 'Amputation of leg at hip', '27295': 'Amputation of leg at hip', '27299': 'Pelvis/hip joint surgery', '27301': 'Drain thigh/knee lesion', '27303': 'Drainage of bone lesion', '27305': 'Incise thigh tendon & fascia', '27306': 'Incision of thigh tendon', '27307': 'Incision of thigh tendons', '27310': 'Exploration of knee joint', '27315': '\"Partial removal', '27320': '\"Partial removal', '27323': '\"Biopsy', '27324': '\"Biopsy', '27327': 'Removal of thigh lesion', '27328': 'Removal of thigh lesion', '27329': '\"Remove tumor', '27330': '\"Biopsy', '27331': 'Explore/treat knee joint', '27332': 'Removal of knee cartilage', '27333': 'Removal of knee cartilage', '27334': 'Remove knee joint lining', '27335': 'Remove knee joint lining', '27340': 'Removal of kneecap bursa', '27345': 'Removal of knee cyst', '27347': 'Remove knee cyst', '27350': 'Removal of kneecap', '27355': 'Remove femur lesion', '27356': 'Remove femur lesion/graft', '27357': 'Remove femur lesion/graft', '27358': 'Remove femur lesion/fixation', '27360': '\"Partial removal', '27365': 'Extensive leg surgery', '27370': 'Injection for knee x-ray', '27372': 'Removal of foreign body', '27380': 'Repair of kneecap tendon', '27381': 'Repair/graft kneecap tendon', '27385': 'Repair of thigh muscle', '27386': 'Repair/graft of thigh muscle', '27390': 'Incision of thigh tendon', '27391': 'Incision of thigh tendons', '27392': 'Incision of thigh tendons', '27393': 'Lengthening of thigh tendon', '27394': 'Lengthening of thigh tendons', '27395': 'Lengthening of thigh tendons', '27396': 'Transplant of thigh tendon', '27397': 'Transplants of thigh tendons', '27400': 'Revise thigh muscles/tendons', '27403': 'Repair of knee cartilage', '27405': 'Repair of knee ligament', '27407': 'Repair of knee ligament', '27409': 'Repair of knee ligaments', '27412': 'Autochondrocyte implant knee', '27415': 'Osteochondral knee allograft', '27418': 'Repair degenerated kneecap', '27420': 'Revision of unstable kneecap', '27422': 'Revision of unstable kneecap', '27424': 'Revision/removal of kneecap', '27425': 'Lat retinacular release open', '27427': '\"Reconstruction', '27428': '\"Reconstruction', '27429': '\"Reconstruction', '27430': 'Revision of thigh muscles', '27435': 'Incision of knee joint', '27437': 'Revise kneecap', '27438': 'Revise kneecap with implant', '27440': 'Revision of knee joint', '27441': 'Revision of knee joint', '27442': 'Revision of knee joint', '27443': 'Revision of knee joint', '27445': 'Revision of knee joint', '27446': 'Revision of knee joint', '27447': 'Total knee arthroplasty', '27448': 'Incision of thigh', '27450': 'Incision of thigh', '27454': 'Realignment of thigh bone', '27455': 'Realignment of knee', '27457': 'Realignment of knee', '27465': 'Shortening of thigh bone', '27466': 'Lengthening of thigh bone', '27468': 'Shorten/lengthen thighs', '27470': 'Repair of thigh', '27472': 'Repair/graft of thigh', '27475': 'Surgery to stop leg growth', '27477': 'Surgery to stop leg growth', '27479': 'Surgery to stop leg growth', '27485': 'Surgery to stop leg growth', '27486': 'Revise/replace knee joint', '27487': 'Revise/replace knee joint', '27488': 'Removal of knee prosthesis', '27495': 'Reinforce thigh', '27496': 'Decompression of thigh/knee', '27497': 'Decompression of thigh/knee', '27498': 'Decompression of thigh/knee', '27499': 'Decompression of thigh/knee', '27500': 'Treatment of thigh fracture', '27501': 'Treatment of thigh fracture', '27502': 'Treatment of thigh fracture', '27503': 'Treatment of thigh fracture', '27506': 'Treatment of thigh fracture', '27507': 'Treatment of thigh fracture', '27508': 'Treatment of thigh fracture', '27509': 'Treatment of thigh fracture', '27510': 'Treatment of thigh fracture', '27511': 'Treatment of thigh fracture', '27513': 'Treatment of thigh fracture', '27514': 'Treatment of thigh fracture', '27516': 'Treat thigh fx growth plate', '27517': 'Treat thigh fx growth plate', '27519': 'Treat thigh fx growth plate', '27520': 'Treat kneecap fracture', '27524': 'Treat kneecap fracture', '27530': 'Treat knee fracture', '27532': 'Treat knee fracture', '27535': 'Treat knee fracture', '27536': 'Treat knee fracture', '27538': 'Treat knee fracture(s)', '27540': 'Treat knee fracture', '27550': 'Treat knee dislocation', '27552': 'Treat knee dislocation', '27556': 'Treat knee dislocation', '27557': 'Treat knee dislocation', '27558': 'Treat knee dislocation', '27560': 'Treat kneecap dislocation', '27562': 'Treat kneecap dislocation', '27566': 'Treat kneecap dislocation', '27570': 'Fixation of knee joint', '27580': 'Fusion of knee', '27590': 'Amputate leg at thigh', '27591': 'Amputate leg at thigh', '27592': 'Amputate leg at thigh', '27594': 'Amputation follow-up surgery', '27596': 'Amputation follow-up surgery', '27598': 'Amputate lower leg at knee', '27599': 'Leg surgery procedure', '27600': 'Decompression of lower leg', '27601': 'Decompression of lower leg', '27602': 'Decompression of lower leg', '27603': 'Drain lower leg lesion', '27604': 'Drain lower leg bursa', '27605': 'Incision of achilles tendon', '27606': 'Incision of achilles tendon', '27607': 'Treat lower leg bone lesion', '27610': 'Explore/treat ankle joint', '27612': 'Exploration of ankle joint', '27613': 'Biopsy lower leg soft tissue', '27614': 'Biopsy lower leg soft tissue', '27615': '\"Remove tumor', '27618': 'Remove lower leg lesion', '27619': 'Remove lower leg lesion', '27620': 'Explore/treat ankle joint', '27625': 'Remove ankle joint lining', '27626': 'Remove ankle joint lining', '27630': 'Removal of tendon lesion', '27635': 'Remove lower leg bone lesion', '27637': 'Remove/graft leg bone lesion', '27638': 'Remove/graft leg bone lesion', '27640': 'Partial removal of tibia', '27641': 'Partial removal of fibula', '27645': 'Extensive lower leg surgery', '27646': 'Extensive lower leg surgery', '27647': 'Extensive ankle/heel surgery', '27648': 'Injection for ankle x-ray', '27650': 'Repair achilles tendon', '27652': 'Repair/graft achilles tendon', '27654': 'Repair of achilles tendon', '27656': 'Repair leg fascia defect', '27658': '\"Repair of leg tendon', '27659': '\"Repair of leg tendon', '27664': '\"Repair of leg tendon', '27665': '\"Repair of leg tendon', '27675': 'Repair lower leg tendons', '27676': 'Repair lower leg tendons', '27680': 'Release of lower leg tendon', '27681': 'Release of lower leg tendons', '27685': 'Revision of lower leg tendon', '27686': 'Revise lower leg tendons', '27687': 'Revision of calf tendon', '27690': 'Revise lower leg tendon', '27691': 'Revise lower leg tendon', '27692': 'Revise additional leg tendon', '27695': 'Repair of ankle ligament', '27696': 'Repair of ankle ligaments', '27698': 'Repair of ankle ligament', '27700': 'Revision of ankle joint', '27702': 'Reconstruct ankle joint', '27703': '\"Reconstruction', '27704': 'Removal of ankle implant', '27705': 'Incision of tibia', '27707': 'Incision of fibula', '27709': 'Incision of tibia & fibula', '27712': 'Realignment of lower leg', '27715': 'Revision of lower leg', '27720': 'Repair of tibia', '27722': 'Repair/graft of tibia', '27724': 'Repair/graft of tibia', '27725': 'Repair of lower leg', '27727': 'Repair of lower leg', '27730': 'Repair of tibia epiphysis', '27732': 'Repair of fibula epiphysis', '27734': 'Repair lower leg epiphyses', '27740': 'Repair of leg epiphyses', '27742': 'Repair of leg epiphyses', '27745': 'Reinforce tibia', '27750': 'Treatment of tibia fracture', '27752': 'Treatment of tibia fracture', '27756': 'Treatment of tibia fracture', '27758': 'Treatment of tibia fracture', '27759': 'Treatment of tibia fracture', '27760': 'Treatment of ankle fracture', '27762': 'Treatment of ankle fracture', '27766': 'Treatment of ankle fracture', '27780': 'Treatment of fibula fracture', '27781': 'Treatment of fibula fracture', '27784': 'Treatment of fibula fracture', '27786': 'Treatment of ankle fracture', '27788': 'Treatment of ankle fracture', '27792': 'Treatment of ankle fracture', '27808': 'Treatment of ankle fracture', '27810': 'Treatment of ankle fracture', '27814': 'Treatment of ankle fracture', '27816': 'Treatment of ankle fracture', '27818': 'Treatment of ankle fracture', '27822': 'Treatment of ankle fracture', '27823': 'Treatment of ankle fracture', '27824': 'Treat lower leg fracture', '27825': 'Treat lower leg fracture', '27826': 'Treat lower leg fracture', '27827': 'Treat lower leg fracture', '27828': 'Treat lower leg fracture', '27829': 'Treat lower leg joint', '27830': 'Treat lower leg dislocation', '27831': 'Treat lower leg dislocation', '27832': 'Treat lower leg dislocation', '27840': 'Treat ankle dislocation', '27842': 'Treat ankle dislocation', '27846': 'Treat ankle dislocation', '27848': 'Treat ankle dislocation', '27860': 'Fixation of ankle joint', '27870': '\"Fusion of ankle joint', '27871': 'Fusion of tibiofibular joint', '27880': 'Amputation of lower leg', '27881': 'Amputation of lower leg', '27882': 'Amputation of lower leg', '27884': 'Amputation follow-up surgery', '27886': 'Amputation follow-up surgery', '27888': 'Amputation of foot at ankle', '27889': 'Amputation of foot at ankle', '27892': 'Decompression of leg', '27893': 'Decompression of leg', '27894': 'Decompression of leg', '27899': 'Leg/ankle surgery procedure', '28001': 'Drainage of bursa of foot', '28002': 'Treatment of foot infection', '28003': 'Treatment of foot infection', '28005': 'Treat foot bone lesion', '28008': 'Incision of foot fascia', '28010': 'Incision of toe tendon', '28011': 'Incision of toe tendons', '28020': 'Exploration of foot joint', '28022': 'Exploration of foot joint', '28024': 'Exploration of toe joint', '28030': 'Removal of foot nerve', '28035': 'Decompression of tibia nerve', '28043': 'Excision of foot lesion', '28045': 'Excision of foot lesion', '28046': '\"Resection of tumor', '28050': 'Biopsy of foot joint lining', '28052': 'Biopsy of foot joint lining', '28054': 'Biopsy of toe joint lining', '28060': '\"Partial removal', '28062': 'Removal of foot fascia', '28070': 'Removal of foot joint lining', '28072': 'Removal of foot joint lining', '28080': 'Removal of foot lesion', '28086': 'Excise foot tendon sheath', '28088': 'Excise foot tendon sheath', '28090': 'Removal of foot lesion', '28092': 'Removal of toe lesions', '28100': 'Removal of ankle/heel lesion', '28102': 'Remove/graft foot lesion', '28103': 'Remove/graft foot lesion', '28104': 'Removal of foot lesion', '28106': 'Remove/graft foot lesion', '28107': 'Remove/graft foot lesion', '28108': 'Removal of toe lesions', '28110': 'Part removal of metatarsal', '28111': 'Part removal of metatarsal', '28112': 'Part removal of metatarsal', '28113': 'Part removal of metatarsal', '28114': 'Removal of metatarsal heads', '28116': 'Revision of foot', '28118': 'Removal of heel bone', '28119': 'Removal of heel spur', '28120': 'Part removal of ankle/heel', '28122': 'Partial removal of foot bone', '28124': 'Partial removal of toe', '28126': 'Partial removal of toe', '28130': 'Removal of ankle bone', '28140': 'Removal of metatarsal', '28150': 'Removal of toe', '28153': 'Partial removal of toe', '28160': 'Partial removal of toe', '28171': 'Extensive foot surgery', '28173': 'Extensive foot surgery', '28175': 'Extensive foot surgery', '28190': 'Removal of foot foreign body', '28192': 'Removal of foot foreign body', '28193': 'Removal of foot foreign body', '28200': 'Repair of foot tendon', '28202': 'Repair/graft of foot tendon', '28208': 'Repair of foot tendon', '28210': 'Repair/graft of foot tendon', '28220': 'Release of foot tendon', '28222': 'Release of foot tendons', '28225': 'Release of foot tendon', '28226': 'Release of foot tendons', '28230': 'Incision of foot tendon(s)', '28232': 'Incision of toe tendon', '28234': 'Incision of foot tendon', '28238': 'Revision of foot tendon', '28240': 'Release of big toe', '28250': 'Revision of foot fascia', '28260': 'Release of midfoot joint', '28261': 'Revision of foot tendon', '28262': 'Revision of foot and ankle', '28264': 'Release of midfoot joint', '28270': 'Release of foot contracture', '28272': '\"Release of toe joint', '28280': 'Fusion of toes', '28285': 'Repair of hammertoe', '28286': 'Repair of hammertoe', '28288': 'Partial removal of foot bone', '28289': 'Repair hallux rigidus', '28290': 'Correction of bunion', '28292': 'Correction of bunion', '28293': 'Correction of bunion', '28294': 'Correction of bunion', '28296': 'Correction of bunion', '28297': 'Correction of bunion', '28298': 'Correction of bunion', '28299': 'Correction of bunion', '28300': 'Incision of heel bone', '28302': 'Incision of ankle bone', '28304': 'Incision of midfoot bones', '28305': 'Incise/graft midfoot bones', '28306': 'Incision of metatarsal', '28307': 'Incision of metatarsal', '28308': 'Incision of metatarsal', '28309': 'Incision of metatarsals', '28310': 'Revision of big toe', '28312': 'Revision of toe', '28313': 'Repair deformity of toe', '28315': 'Removal of sesamoid bone', '28320': 'Repair of foot bones', '28322': 'Repair of metatarsals', '28340': 'Resect enlarged toe tissue', '28341': 'Resect enlarged toe', '28344': 'Repair extra toe(s)', '28345': 'Repair webbed toe(s)', '28360': 'Reconstruct cleft foot', '28400': 'Treatment of heel fracture', '28405': 'Treatment of heel fracture', '28406': 'Treatment of heel fracture', '28415': 'Treat heel fracture', '28420': 'Treat/graft heel fracture', '28430': 'Treatment of ankle fracture', '28435': 'Treatment of ankle fracture', '28436': 'Treatment of ankle fracture', '28445': 'Treat ankle fracture', '28450': '\"Treat midfoot fracture', '28455': '\"Treat midfoot fracture', '28456': 'Treat midfoot fracture', '28465': '\"Treat midfoot fracture', '28470': 'Treat metatarsal fracture', '28475': 'Treat metatarsal fracture', '28476': 'Treat metatarsal fracture', '28485': 'Treat metatarsal fracture', '28490': 'Treat big toe fracture', '28495': 'Treat big toe fracture', '28496': 'Treat big toe fracture', '28505': 'Treat big toe fracture', '28510': 'Treatment of toe fracture', '28515': 'Treatment of toe fracture', '28525': 'Treat toe fracture', '28530': 'Treat sesamoid bone fracture', '28531': 'Treat sesamoid bone fracture', '28540': 'Treat foot dislocation', '28545': 'Treat foot dislocation', '28546': 'Treat foot dislocation', '28555': 'Repair foot dislocation', '28570': 'Treat foot dislocation', '28575': 'Treat foot dislocation', '28576': 'Treat foot dislocation', '28585': 'Repair foot dislocation', '28600': 'Treat foot dislocation', '28605': 'Treat foot dislocation', '28606': 'Treat foot dislocation', '28615': 'Repair foot dislocation', '28630': 'Treat toe dislocation', '28635': 'Treat toe dislocation', '28636': 'Treat toe dislocation', '28645': 'Repair toe dislocation', '28660': 'Treat toe dislocation', '28665': 'Treat toe dislocation', '28666': 'Treat toe dislocation', '28675': 'Repair of toe dislocation', '28705': 'Fusion of foot bones', '28715': 'Fusion of foot bones', '28725': 'Fusion of foot bones', '28730': 'Fusion of foot bones', '28735': 'Fusion of foot bones', '28737': 'Revision of foot bones', '28740': 'Fusion of foot bones', '28750': 'Fusion of big toe joint', '28755': 'Fusion of big toe joint', '28760': 'Fusion of big toe joint', '28800': 'Amputation of midfoot', '28805': 'Amputation thru metatarsal', '28810': 'Amputation toe & metatarsal', '28820': 'Amputation of toe', '28825': 'Partial amputation of toe', '28899': 'Foot/toes surgery procedure', '29000': 'Application of body cast', '29010': 'Application of body cast', '29015': 'Application of body cast', '29020': 'Application of body cast', '29025': 'Application of body cast', '29035': 'Application of body cast', '29040': 'Application of body cast', '29044': 'Application of body cast', '29046': 'Application of body cast', '29049': 'Application of figure eight', '29055': 'Application of shoulder cast', '29058': 'Application of shoulder cast', '29065': 'Application of long arm cast', '29075': 'Application of forearm cast', '29085': 'Apply hand/wrist cast', '29086': 'Apply finger cast', '29105': 'Apply long arm splint', '29125': 'Apply forearm splint', '29126': 'Apply forearm splint', '29130': 'Application of finger splint', '29131': 'Application of finger splint', '29200': 'Strapping of chest', '29220': 'Strapping of low back', '29240': 'Strapping of shoulder', '29260': 'Strapping of elbow or wrist', '29280': 'Strapping of hand or finger', '29305': 'Application of hip cast', '29325': 'Application of hip casts', '29345': 'Application of long leg cast', '29355': 'Application of long leg cast', '29358': 'Apply long leg cast brace', '29365': 'Application of long leg cast', '29405': 'Apply short leg cast', '29425': 'Apply short leg cast', '29435': 'Apply short leg cast', '29440': 'Addition of walker to cast', '29445': 'Apply rigid leg cast', '29450': 'Application of leg cast', '29505': '\"Application', '29515': 'Application lower leg splint', '29520': 'Strapping of hip', '29530': 'Strapping of knee', '29540': 'Strapping of ankle and/or ft', '29550': 'Strapping of toes', '29580': 'Application of paste boot', '29590': 'Application of foot splint', '29700': 'Removal/revision of cast', '29705': 'Removal/revision of cast', '29710': 'Removal/revision of cast', '29715': 'Removal/revision of cast', '29720': 'Repair of body cast', '29730': 'Windowing of cast', '29740': 'Wedging of cast', '29750': 'Wedging of clubfoot cast', '29799': 'Casting/strapping procedure', '29800': 'Jaw arthroscopy/surgery', '29804': 'Jaw arthroscopy/surgery', '29805': '\"Shoulder arthroscopy', '29806': 'Shoulder arthroscopy/surgery', '29807': 'Shoulder arthroscopy/surgery', '29819': 'Shoulder arthroscopy/surgery', '29820': 'Shoulder arthroscopy/surgery', '29821': 'Shoulder arthroscopy/surgery', '29822': 'Shoulder arthroscopy/surgery', '29823': 'Shoulder arthroscopy/surgery', '29824': 'Shoulder arthroscopy/surgery', '29825': 'Shoulder arthroscopy/surgery', '29826': 'Shoulder arthroscopy/surgery', '29827': 'Arthroscop rotator cuff repr', '29830': 'Elbow arthroscopy', '29834': 'Elbow arthroscopy/surgery', '29835': 'Elbow arthroscopy/surgery', '29836': 'Elbow arthroscopy/surgery', '29837': 'Elbow arthroscopy/surgery', '29838': 'Elbow arthroscopy/surgery', '29840': 'Wrist arthroscopy', '29843': 'Wrist arthroscopy/surgery', '29844': 'Wrist arthroscopy/surgery', '29845': 'Wrist arthroscopy/surgery', '29846': 'Wrist arthroscopy/surgery', '29847': 'Wrist arthroscopy/surgery', '29848': 'Wrist endoscopy/surgery', '29850': 'Knee arthroscopy/surgery', '29851': 'Knee arthroscopy/surgery', '29855': 'Tibial arthroscopy/surgery', '29856': 'Tibial arthroscopy/surgery', '29860': '\"Hip arthroscopy', '29861': 'Hip arthroscopy/surgery', '29862': 'Hip arthroscopy/surgery', '29863': 'Hip arthroscopy/surgery', '29866': '\"Autgrft implnt', '29867': '\"Allgrft implnt', '29868': '\"Meniscal trnspl', '29870': '\"Knee arthroscopy', '29871': 'Knee arthroscopy/drainage', '29873': 'Knee arthroscopy/surgery', '29874': 'Knee arthroscopy/surgery', '29875': 'Knee arthroscopy/surgery', '29876': 'Knee arthroscopy/surgery', '29877': 'Knee arthroscopy/surgery', '29879': 'Knee arthroscopy/surgery', '29880': 'Knee arthroscopy/surgery', '29881': 'Knee arthroscopy/surgery', '29882': 'Knee arthroscopy/surgery', '29883': 'Knee arthroscopy/surgery', '29884': 'Knee arthroscopy/surgery', '29885': 'Knee arthroscopy/surgery', '29886': 'Knee arthroscopy/surgery', '29887': 'Knee arthroscopy/surgery', '29888': 'Knee arthroscopy/surgery', '29889': 'Knee arthroscopy/surgery', '29891': 'Ankle arthroscopy/surgery', '29892': 'Ankle arthroscopy/surgery', '29893': '\"Scope', '29894': 'Ankle arthroscopy/surgery', '29895': 'Ankle arthroscopy/surgery', '29897': 'Ankle arthroscopy/surgery', '29898': 'Ankle arthroscopy/surgery', '29899': 'Ankle arthroscopy/surgery', '29900': '\"Mcp joint arthroscopy', '29901': '\"Mcp joint arthroscopy', '29902': '\"Mcp joint arthroscopy', '29999': 'Arthroscopy of joint', '30000': 'Drainage of nose lesion', '30020': 'Drainage of nose lesion', '30100': 'Intranasal biopsy', '30110': 'Removal of nose polyp(s)', '30115': 'Removal of nose polyp(s)', '30117': 'Removal of intranasal lesion', '30118': 'Removal of intranasal lesion', '30120': 'Revision of nose', '30124': 'Removal of nose lesion', '30125': 'Removal of nose lesion', '30130': 'Removal of turbinate bones', '30140': 'Removal of turbinate bones', '30150': 'Partial removal of nose', '30160': 'Removal of nose', '30200': 'Injection treatment of nose', '30210': 'Nasal sinus therapy', '30220': 'Insert nasal septal button', '30300': 'Remove nasal foreign body', '30310': 'Remove nasal foreign body', '30320': 'Remove nasal foreign body', '30400': 'Reconstruction of nose', '30410': 'Reconstruction of nose', '30420': 'Reconstruction of nose', '30430': 'Revision of nose', '30435': 'Revision of nose', '30450': 'Revision of nose', '30460': 'Revision of nose', '30462': 'Revision of nose', '30465': 'Repair nasal stenosis', '30520': 'Repair of nasal septum', '30540': 'Repair nasal defect', '30545': 'Repair nasal defect', '30560': 'Release of nasal adhesions', '30580': 'Repair upper jaw fistula', '30600': 'Repair mouth/nose fistula', '30620': 'Intranasal reconstruction', '30630': 'Repair nasal septum defect', '30801': '\"Cauterization', '30802': '\"Cauterization', '30901': 'Control of nosebleed', '30903': 'Control of nosebleed', '30905': 'Control of nosebleed', '30906': 'Repeat control of nosebleed', '30915': '\"Ligation', '30920': '\"Ligation', '30930': '\"Therapy', '30999': 'Nasal surgery procedure', '31000': '\"Irrigation', '31002': '\"Irrigation', '31020': '\"Exploration', '31030': '\"Exploration', '31032': '\"Explore sinus', '31040': 'Exploration behind upper jaw', '31050': '\"Exploration', '31051': 'Sphenoid sinus surgery', '31070': 'Exploration of frontal sinus', '31075': 'Exploration of frontal sinus', '31080': 'Removal of frontal sinus', '31081': 'Removal of frontal sinus', '31084': 'Removal of frontal sinus', '31085': 'Removal of frontal sinus', '31086': 'Removal of frontal sinus', '31087': 'Removal of frontal sinus', '31090': 'Exploration of sinuses', '31200': 'Removal of ethmoid sinus', '31201': 'Removal of ethmoid sinus', '31205': 'Removal of ethmoid sinus', '31225': 'Removal of upper jaw', '31230': 'Removal of upper jaw', '31231': '\"Nasal endoscopy', '31233': '\"Nasal/sinus endoscopy', '31235': '\"Nasal/sinus endoscopy', '31237': '\"Nasal/sinus endoscopy', '31238': '\"Nasal/sinus endoscopy', '31239': '\"Nasal/sinus endoscopy', '31240': '\"Nasal/sinus endoscopy', '31254': 'Revision of ethmoid sinus', '31255': 'Removal of ethmoid sinus', '31256': 'Exploration maxillary sinus', '31267': '\"Endoscopy', '31276': '\"Sinus endoscopy', '31287': '\"Nasal/sinus endoscopy', '31288': '\"Nasal/sinus endoscopy', '31290': '\"Nasal/sinus endoscopy', '31291': '\"Nasal/sinus endoscopy', '31292': '\"Nasal/sinus endoscopy', '31293': '\"Nasal/sinus endoscopy', '31294': '\"Nasal/sinus endoscopy', '31299': 'Sinus surgery procedure', '31300': 'Removal of larynx lesion', '31320': '\"Diagnostic incision', '31360': 'Removal of larynx', '31365': 'Removal of larynx', '31367': 'Partial removal of larynx', '31368': 'Partial removal of larynx', '31370': 'Partial removal of larynx', '31375': 'Partial removal of larynx', '31380': 'Partial removal of larynx', '31382': 'Partial removal of larynx', '31390': 'Removal of larynx & pharynx', '31395': 'Reconstruct larynx & pharynx', '31400': 'Revision of larynx', '31420': 'Removal of epiglottis', '31500': 'Insert emergency airway', '31502': 'Change of windpipe airway', '31505': 'Diagnostic laryngoscopy', '31510': 'Laryngoscopy with biopsy', '31511': '\"Remove foreign body', '31512': 'Removal of larynx lesion', '31513': 'Injection into vocal cord', '31515': 'Laryngoscopy for aspiration', '31520': 'Diagnostic laryngoscopy', '31525': 'Diagnostic laryngoscopy', '31526': 'Diagnostic laryngoscopy', '31527': 'Laryngoscopy for treatment', '31528': 'Laryngoscopy and dilation', '31529': 'Laryngoscopy and dilation', '31530': 'Operative laryngoscopy', '31531': 'Operative laryngoscopy', '31535': 'Operative laryngoscopy', '31536': 'Operative laryngoscopy', '31540': 'Operative laryngoscopy', '31541': 'Operative laryngoscopy', '31545': 'Remove vc lesion w/scope', '31546': 'Remove vc lesion scope/graft', '31560': 'Operative laryngoscopy', '31561': 'Operative laryngoscopy', '31570': 'Laryngoscopy with injection', '31571': 'Laryngoscopy with injection', '31575': 'Diagnostic laryngoscopy', '31576': 'Laryngoscopy with biopsy', '31577': '\"Remove foreign body', '31578': 'Removal of larynx lesion', '31579': 'Diagnostic laryngoscopy', '31580': 'Revision of larynx', '31582': 'Revision of larynx', '31584': 'Treat larynx fracture', '31585': 'Treat larynx fracture', '31586': 'Treat larynx fracture', '31587': 'Revision of larynx', '31588': 'Revision of larynx', '31590': 'Reinnervate larynx', '31595': 'Larynx nerve surgery', '31599': 'Larynx surgery procedure', '31600': 'Incision of windpipe', '31601': 'Incision of windpipe', '31603': 'Incision of windpipe', '31605': 'Incision of windpipe', '31610': 'Incision of windpipe', '31611': 'Surgery/speech prosthesis', '31612': 'Puncture/clear windpipe', '31613': 'Repair windpipe opening', '31614': 'Repair windpipe opening', '31615': 'Visualization of windpipe', '31620': 'Endobronchial us add-on', '31622': 'Dx bronchoscope/wash', '31623': 'Dx bronchoscope/brush', '31624': 'Dx bronchoscope/lavage', '31625': 'Bronchoscopy w/biopsy(s)', '31628': '\"Bronchoscopy/lung bx', '31629': '\"Bronchoscopy/needle bx', '31630': 'Bronchoscopy dilate/fx repr', '31631': '\"Bronchoscopy', '31632': '\"Bronchoscopy/lung bx', '31633': 'Bronchoscopy/needle bx add?l', '31635': 'Bronchoscopy w/fb removal', '31636': '\"Bronchoscopy', '31637': '\"Bronchoscopy', '31638': '\"Bronchoscopy', '31640': 'Bronchoscopy w/tumor excise', '31641': '\"Bronchoscopy', '31643': 'Diag bronchoscope/catheter', '31645': '\"Bronchoscopy', '31646': '\"Bronchoscopy', '31656': '\"Bronchoscopy', '31700': 'Insertion of airway catheter', '31708': 'Instill airway contrast dye', '31710': 'Insertion of airway catheter', '31715': 'Injection for bronchus x-ray', '31717': 'Bronchial brush biopsy', '31720': 'Clearance of airways', '31725': 'Clearance of airways', '31730': '\"Intro', '31750': 'Repair of windpipe', '31755': 'Repair of windpipe', '31760': 'Repair of windpipe', '31766': 'Reconstruction of windpipe', '31770': 'Repair/graft of bronchus', '31775': 'Reconstruct bronchus', '31780': 'Reconstruct windpipe', '31781': 'Reconstruct windpipe', '31785': 'Remove windpipe lesion', '31786': 'Remove windpipe lesion', '31800': 'Repair of windpipe injury', '31805': 'Repair of windpipe injury', '31820': 'Closure of windpipe lesion', '31825': 'Repair of windpipe defect', '31830': 'Revise windpipe scar', '31899': 'Airways surgical procedure', '32000': 'Drainage of chest', '32002': 'Treatment of collapsed lung', '32005': 'Treat lung lining chemically', '32019': 'Insert pleural catheter', '32020': 'Insertion of chest tube', '32035': 'Exploration of chest', '32036': 'Exploration of chest', '32095': 'Biopsy through chest wall', '32100': 'Exploration/biopsy of chest', '32110': 'Explore/repair chest', '32120': 'Re-exploration of chest', '32124': 'Explore chest free adhesions', '32140': 'Removal of lung lesion(s)', '32141': 'Remove/treat lung lesions', '32150': 'Removal of lung lesion(s)', '32151': 'Remove lung foreign body', '32160': 'Open chest heart massage', '32200': '\"Drain', '32201': '\"Drain', '32215': 'Treat chest lining', '32220': 'Release of lung', '32225': 'Partial release of lung', '32310': 'Removal of chest lining', '32320': 'Free/remove chest lining', '32400': 'Needle biopsy chest lining', '32402': 'Open biopsy chest lining', '32405': '\"Biopsy', '32420': 'Puncture/clear lung', '32440': 'Removal of lung', '32442': 'Sleeve pneumonectomy', '32445': 'Removal of lung', '32480': 'Partial removal of lung', '32482': 'Bilobectomy', '32484': 'Segmentectomy', '32486': 'Sleeve lobectomy', '32488': 'Completion pneumonectomy', '32491': 'Lung volume reduction', '32500': 'Partial removal of lung', '32501': 'Repair bronchus add-on', '32520': 'Remove lung & revise chest', '32522': 'Remove lung & revise chest', '32525': 'Remove lung & revise chest', '32540': 'Removal of lung lesion', '32601': '\"Thoracoscopy', '32602': '\"Thoracoscopy', '32603': '\"Thoracoscopy', '32604': '\"Thoracoscopy', '32605': '\"Thoracoscopy', '32606': '\"Thoracoscopy', '32650': '\"Thoracoscopy', '32651': '\"Thoracoscopy', '32652': '\"Thoracoscopy', '32653': '\"Thoracoscopy', '32654': '\"Thoracoscopy', '32655': '\"Thoracoscopy', '32656': '\"Thoracoscopy', '32657': '\"Thoracoscopy', '32658': '\"Thoracoscopy', '32659': '\"Thoracoscopy', '32660': '\"Thoracoscopy', '32661': '\"Thoracoscopy', '32662': '\"Thoracoscopy', '32663': '\"Thoracoscopy', '32664': '\"Thoracoscopy', '32665': '\"Thoracoscopy', '32800': 'Repair lung hernia', '32810': 'Close chest after drainage', '32815': 'Close bronchial fistula', '32820': 'Reconstruct injured chest', '32850': 'Donor pneumonectomy', '32851': '\"Lung transplant', '32852': 'Lung transplant with bypass', '32853': '\"Lung transplant', '32854': 'Lung transplant with bypass', '32855': '\"Prepare donor lung', '32856': '\"Prepare donor lung', '32900': 'Removal of rib(s)', '32905': 'Revise & repair chest wall', '32906': 'Revise & repair chest wall', '32940': 'Revision of lung', '32960': 'Therapeutic pneumothorax', '32997': 'Total lung lavage', '32999': 'Chest surgery procedure', '33010': 'Drainage of heart sac', '33011': 'Repeat drainage of heart sac', '33015': 'Incision of heart sac', '33020': 'Incision of heart sac', '33025': 'Incision of heart sac', '33030': 'Partial removal of heart sac', '33031': 'Partial removal of heart sac', '33050': 'Removal of heart sac lesion', '33120': 'Removal of heart lesion', '33130': 'Removal of heart lesion', '33140': 'Heart revascularize (tmr)', '33141': 'Heart tmr w/other procedure', '33200': 'Insertion of heart pacemaker', '33201': 'Insertion of heart pacemaker', '33206': 'Insertion of heart pacemaker', '33207': 'Insertion of heart pacemaker', '33208': 'Insertion of heart pacemaker', '33210': 'Insertion of heart electrode', '33211': 'Insertion of heart electrode', '33212': 'Insertion of pulse generator', '33213': 'Insertion of pulse generator', '33214': 'Upgrade of pacemaker system', '33215': 'Reposition pacing-defib lead', '33216': '\"Insert lead pace-defib', '33217': '\"Insert lead pace-defib', '33218': '\"Repair lead pace-defib', '33220': '\"Repair lead pace-defib', '33222': '\"Revise pocket', '33223': '\"Revise pocket', '33224': 'Insert pacing lead & connect', '33225': 'L ventric pacing lead add-on', '33226': 'Reposition l ventric lead', '33233': 'Removal of pacemaker system', '33234': 'Removal of pacemaker system', '33235': 'Removal pacemaker electrode', '33236': 'Remove electrode/thoracotomy', '33237': 'Remove electrode/thoracotomy', '33238': 'Remove electrode/thoracotomy', '33240': 'Insert pulse generator', '33241': 'Remove pulse generator', '33243': 'Remove eltrd/thoracotomy', '33244': '\"Remove eltrd', '33245': 'Insert epic eltrd pace-defib', '33246': 'Insert epic eltrd/generator', '33249': 'Eltrd/insert pace-defib', '33250': 'Ablate heart dysrhythm focus', '33251': 'Ablate heart dysrhythm focus', '33253': 'Reconstruct atria', '33261': 'Ablate heart dysrhythm focus', '33282': 'Implant pat-active ht record', '33284': 'Remove pat-active ht record', '33300': 'Repair of heart wound', '33305': 'Repair of heart wound', '33310': 'Exploratory heart surgery', '33315': 'Exploratory heart surgery', '33320': 'Repair major blood vessel(s)', '33321': 'Repair major vessel', '33322': 'Repair major blood vessel(s)', '33330': 'Insert major vessel graft', '33332': 'Insert major vessel graft', '33335': 'Insert major vessel graft', '33400': 'Repair of aortic valve', '33401': '\"Valvuloplasty', '33403': '\"Valvuloplasty', '33404': 'Prepare heart-aorta conduit', '33405': 'Replacement of aortic valve', '33406': 'Replacement of aortic valve', '33410': 'Replacement of aortic valve', '33411': 'Replacement of aortic valve', '33412': 'Replacement of aortic valve', '33413': 'Replacement of aortic valve', '33414': 'Repair of aortic valve', '33415': '\"Revision', '33416': 'Revise ventricle muscle', '33417': 'Repair of aortic valve', '33420': 'Revision of mitral valve', '33422': 'Revision of mitral valve', '33425': 'Repair of mitral valve', '33426': 'Repair of mitral valve', '33427': 'Repair of mitral valve', '33430': 'Replacement of mitral valve', '33460': 'Revision of tricuspid valve', '33463': '\"Valvuloplasty', '33464': '\"Valvuloplasty', '33465': 'Replace tricuspid valve', '33468': 'Revision of tricuspid valve', '33470': 'Revision of pulmonary valve', '33471': '\"Valvotomy', '33472': 'Revision of pulmonary valve', '33474': 'Revision of pulmonary valve', '33475': '\"Replacement', '33476': 'Revision of heart chamber', '33478': 'Revision of heart chamber', '33496': '\"Repair', '33500': 'Repair heart vessel fistula', '33501': 'Repair heart vessel fistula', '33502': 'Coronary artery correction', '33503': 'Coronary artery graft', '33504': 'Coronary artery graft', '33505': 'Repair artery w/tunnel', '33506': '\"Repair artery', '33508': 'Endoscopic vein harvest', '33510': '\"CABG', '33511': '\"CABG', '33512': '\"CABG', '33513': '\"CABG', '33514': '\"CABG', '33516': '\"Cabg', '33517': '\"CABG', '33518': '\"CABG', '33519': '\"CABG', '33521': '\"CABG', '33522': '\"CABG', '33523': '\"Cabg', '33530': '\"Coronary artery', '33533': '\"CABG', '33534': '\"CABG', '33535': '\"CABG', '33536': '\"Cabg', '33542': 'Removal of heart lesion', '33545': 'Repair of heart damage', '33572': 'Open coronary endarterectomy', '33600': 'Closure of valve', '33602': 'Closure of valve', '33606': 'Anastomosis/artery-aorta', '33608': 'Repair anomaly w/conduit', '33610': 'Repair by enlargement', '33611': 'Repair double ventricle', '33612': 'Repair double ventricle', '33615': '\"Repair', '33617': 'Repair single ventricle', '33619': 'Repair single ventricle', '33641': 'Repair heart septum defect', '33645': 'Revision of heart veins', '33647': 'Repair heart septum defects', '33660': 'Repair of heart defects', '33665': 'Repair of heart defects', '33670': 'Repair of heart chambers', '33681': 'Repair heart septum defect', '33684': 'Repair heart septum defect', '33688': 'Repair heart septum defect', '33690': 'Reinforce pulmonary artery', '33692': 'Repair of heart defects', '33694': 'Repair of heart defects', '33697': 'Repair of heart defects', '33702': 'Repair of heart defects', '33710': 'Repair of heart defects', '33720': 'Repair of heart defect', '33722': 'Repair of heart defect', '33730': 'Repair heart-vein defect(s)', '33732': 'Repair heart-vein defect', '33735': 'Revision of heart chamber', '33736': 'Revision of heart chamber', '33737': 'Revision of heart chamber', '33750': 'Major vessel shunt', '33755': 'Major vessel shunt', '33762': 'Major vessel shunt', '33764': 'Major vessel shunt & graft', '33766': 'Major vessel shunt', '33767': 'Major vessel shunt', '33770': 'Repair great vessels defect', '33771': 'Repair great vessels defect', '33774': 'Repair great vessels defect', '33775': 'Repair great vessels defect', '33776': 'Repair great vessels defect', '33777': 'Repair great vessels defect', '33778': 'Repair great vessels defect', '33779': 'Repair great vessels defect', '33780': 'Repair great vessels defect', '33781': 'Repair great vessels defect', '33786': 'Repair arterial trunk', '33788': 'Revision of pulmonary artery', '33800': 'Aortic suspension', '33802': 'Repair vessel defect', '33803': 'Repair vessel defect', '33813': 'Repair septal defect', '33814': 'Repair septal defect', '33820': 'Revise major vessel', '33822': 'Revise major vessel', '33824': 'Revise major vessel', '33840': 'Remove aorta constriction', '33845': 'Remove aorta constriction', '33851': 'Remove aorta constriction', '33852': 'Repair septal defect', '33853': 'Repair septal defect', '33860': 'Ascending aortic graft', '33861': 'Ascending aortic graft', '33863': 'Ascending aortic graft', '33870': 'Transverse aortic arch graft', '33875': 'Thoracic aortic graft', '33877': 'Thoracoabdominal graft', '33910': 'Remove lung artery emboli', '33915': 'Remove lung artery emboli', '33916': 'Surgery of great vessel', '33917': 'Repair pulmonary artery', '33918': 'Repair pulmonary atresia', '33919': 'Repair pulmonary atresia', '33920': 'Repair pulmonary atresia', '33922': 'Transect pulmonary artery', '33924': 'Remove pulmonary shunt', '33930': 'Removal of donor heart/lung', '33933': 'Prepare donor heart/lung', '33935': '\"Transplantation', '33940': 'Removal of donor heart', '33944': 'Prepare donor heart', '33945': 'Transplantation of heart', '33960': 'External circulation assist', '33961': 'External circulation assist', '33967': 'Insert ia percut device', '33968': 'Remove aortic assist device', '33970': 'Aortic circulation assist', '33971': 'Aortic circulation assist', '33973': 'Insert balloon device', '33974': 'Remove intra-aortic balloon', '33975': 'Implant ventricular device', '33976': 'Implant ventricular device', '33977': 'Remove ventricular device', '33978': 'Remove ventricular device', '33979': 'Insert intracorporeal device', '33980': 'Remove intracorporeal device', '33999': 'Cardiac surgery procedure', '34001': 'Removal of artery clot', '34051': 'Removal of artery clot', '34101': 'Removal of artery clot', '34111': 'Removal of arm artery clot', '34151': 'Removal of artery clot', '34201': 'Removal of artery clot', '34203': 'Removal of leg artery clot', '34401': 'Removal of vein clot', '34421': 'Removal of vein clot', '34451': 'Removal of vein clot', '34471': 'Removal of vein clot', '34490': 'Removal of vein clot', '34501': '\"Repair valve', '34502': 'Reconstruct vena cava', '34510': 'Transposition of vein valve', '34520': 'Cross-over vein graft', '34530': 'Leg vein fusion', '34800': 'Endovas aaa repr w/sm tube', '34802': 'Endovas aaa repr w/2-p part', '34803': 'Endovas aaa repr w/3-p part', '34804': 'Endovas aaa repr w/1-p part', '34805': 'Endovas aaa repr w/long tube', '34808': 'Endovas iliac a device addon', '34812': '\"Xpose for endoprosth', '34813': 'Femoral endovas graft add-on', '34820': '\"Xpose for endoprosth', '34825': '\"Endovasc extend prosth', '34826': '\"Endovasc exten prosth', '34830': 'Open aortic tube prosth repr', '34831': 'Open aortoiliac prosth repr', '34832': 'Open aortofemor prosth repr', '34833': '\"Xpose for endoprosth', '34834': '\"Xpose', '34900': 'Endovasc iliac repr w/graft', '35001': 'Repair defect of artery', '35002': '\"Repair artery rupture', '35005': 'Repair defect of artery', '35011': 'Repair defect of artery', '35013': '\"Repair artery rupture', '35021': 'Repair defect of artery', '35022': '\"Repair artery rupture', '35045': 'Repair defect of arm artery', '35081': 'Repair defect of artery', '35082': '\"Repair artery rupture', '35091': 'Repair defect of artery', '35092': '\"Repair artery rupture', '35102': 'Repair defect of artery', '35103': '\"Repair artery rupture', '35111': 'Repair defect of artery', '35112': '\"Repair artery rupture', '35121': 'Repair defect of artery', '35122': '\"Repair artery rupture', '35131': 'Repair defect of artery', '35132': '\"Repair artery rupture', '35141': 'Repair defect of artery', '35142': '\"Repair artery rupture', '35151': 'Repair defect of artery', '35152': '\"Repair artery rupture', '35180': 'Repair blood vessel lesion', '35182': 'Repair blood vessel lesion', '35184': 'Repair blood vessel lesion', '35188': 'Repair blood vessel lesion', '35189': 'Repair blood vessel lesion', '35190': 'Repair blood vessel lesion', '35201': 'Repair blood vessel lesion', '35206': 'Repair blood vessel lesion', '35207': 'Repair blood vessel lesion', '35211': 'Repair blood vessel lesion', '35216': 'Repair blood vessel lesion', '35221': 'Repair blood vessel lesion', '35226': 'Repair blood vessel lesion', '35231': 'Repair blood vessel lesion', '35236': 'Repair blood vessel lesion', '35241': 'Repair blood vessel lesion', '35246': 'Repair blood vessel lesion', '35251': 'Repair blood vessel lesion', '35256': 'Repair blood vessel lesion', '35261': 'Repair blood vessel lesion', '35266': 'Repair blood vessel lesion', '35271': 'Repair blood vessel lesion', '35276': 'Repair blood vessel lesion', '35281': 'Repair blood vessel lesion', '35286': 'Repair blood vessel lesion', '35301': 'Rechanneling of artery', '35311': 'Rechanneling of artery', '35321': 'Rechanneling of artery', '35331': 'Rechanneling of artery', '35341': 'Rechanneling of artery', '35351': 'Rechanneling of artery', '35355': 'Rechanneling of artery', '35361': 'Rechanneling of artery', '35363': 'Rechanneling of artery', '35371': 'Rechanneling of artery', '35372': 'Rechanneling of artery', '35381': 'Rechanneling of artery', '35390': '\"Reoperation', '35400': 'Angioscopy', '35450': 'Repair arterial blockage', '35452': 'Repair arterial blockage', '35454': 'Repair arterial blockage', '35456': 'Repair arterial blockage', '35458': 'Repair arterial blockage', '35459': 'Repair arterial blockage', '35460': 'Repair venous blockage', '35470': 'Repair arterial blockage', '35471': 'Repair arterial blockage', '35472': 'Repair arterial blockage', '35473': 'Repair arterial blockage', '35474': 'Repair arterial blockage', '35475': 'Repair arterial blockage', '35476': 'Repair venous blockage', '35480': '\"Atherectomy', '35481': '\"Atherectomy', '35482': '\"Atherectomy', '35483': '\"Atherectomy', '35484': '\"Atherectomy', '35485': '\"Atherectomy', '35490': '\"Atherectomy', '35491': '\"Atherectomy', '35492': '\"Atherectomy', '35493': '\"Atherectomy', '35494': '\"Atherectomy', '35495': '\"Atherectomy', '35500': 'Harvest vein for bypass', '35501': 'Artery bypass graft', '35506': 'Artery bypass graft', '35507': 'Artery bypass graft', '35508': 'Artery bypass graft', '35509': 'Artery bypass graft', '35510': 'Artery bypass graft', '35511': 'Artery bypass graft', '35512': 'Artery bypass graft', '35515': 'Artery bypass graft', '35516': 'Artery bypass graft', '35518': 'Artery bypass graft', '35521': 'Artery bypass graft', '35522': 'Artery bypass graft', '35525': 'Artery bypass graft', '35526': 'Artery bypass graft', '35531': 'Artery bypass graft', '35533': 'Artery bypass graft', '35536': 'Artery bypass graft', '35541': 'Artery bypass graft', '35546': 'Artery bypass graft', '35548': 'Artery bypass graft', '35549': 'Artery bypass graft', '35551': 'Artery bypass graft', '35556': 'Artery bypass graft', '35558': 'Artery bypass graft', '35560': 'Artery bypass graft', '35563': 'Artery bypass graft', '35565': 'Artery bypass graft', '35566': 'Artery bypass graft', '35571': 'Artery bypass graft', '35572': 'Harvest femoropopliteal vein', '35583': 'Vein bypass graft', '35585': 'Vein bypass graft', '35587': 'Vein bypass graft', '35600': 'Harvest artery for cabg', '35601': 'Artery bypass graft', '35606': 'Artery bypass graft', '35612': 'Artery bypass graft', '35616': 'Artery bypass graft', '35621': 'Artery bypass graft', '35623': '\"Bypass graft', '35626': 'Artery bypass graft', '35631': 'Artery bypass graft', '35636': 'Artery bypass graft', '35641': 'Artery bypass graft', '35642': 'Artery bypass graft', '35645': 'Artery bypass graft', '35646': 'Artery bypass graft', '35647': 'Artery bypass graft', '35650': 'Artery bypass graft', '35651': 'Artery bypass graft', '35654': 'Artery bypass graft', '35656': 'Artery bypass graft', '35661': 'Artery bypass graft', '35663': 'Artery bypass graft', '35665': 'Artery bypass graft', '35666': 'Artery bypass graft', '35671': 'Artery bypass graft', '35681': 'Composite bypass graft', '35682': 'Composite bypass graft', '35683': 'Composite bypass graft', '35685': 'Bypass graft patency/patch', '35686': 'Bypass graft/av fist patency', '35691': 'Arterial transposition', '35693': 'Arterial transposition', '35694': 'Arterial transposition', '35695': 'Arterial transposition', '35697': 'Reimplant artery each', '35700': '\"Reoperation', '35701': '\"Exploration', '35721': '\"Exploration', '35741': 'Exploration popliteal artery', '35761': 'Exploration of artery/vein', '35800': 'Explore neck vessels', '35820': 'Explore chest vessels', '35840': 'Explore abdominal vessels', '35860': 'Explore limb vessels', '35870': 'Repair vessel graft defect', '35875': 'Removal of clot in graft', '35876': 'Removal of clot in graft', '35879': 'Revise graft w/vein', '35881': 'Revise graft w/vein', '35901': '\"Excision', '35903': '\"Excision', '35905': '\"Excision', '35907': '\"Excision', '36000': 'Place needle in vein', '36002': 'Pseudoaneurysm injection trt', '36005': 'Injection ext venography', '36010': 'Place catheter in vein', '36011': 'Place catheter in vein', '36012': 'Place catheter in vein', '36013': 'Place catheter in artery', '36014': 'Place catheter in artery', '36015': 'Place catheter in artery', '36100': 'Establish access to artery', '36120': 'Establish access to artery', '36140': 'Establish access to artery', '36145': 'Artery to vein shunt', '36160': 'Establish access to aorta', '36200': 'Place catheter in aorta', '36215': 'Place catheter in artery', '36216': 'Place catheter in artery', '36217': 'Place catheter in artery', '36218': 'Place catheter in artery', '36245': 'Place catheter in artery', '36246': 'Place catheter in artery', '36247': 'Place catheter in artery', '36248': 'Place catheter in artery', '36260': 'Insertion of infusion pump', '36261': 'Revision of infusion pump', '36262': 'Removal of infusion pump', '36299': 'Vessel injection procedure', '36400': 'Bl draw < 3 yrs fem/jugular', '36405': 'Bl draw < 3 yrs scalp vein', '36406': 'Bl draw < 3 yrs other vein', '36410': 'Non-routine bl draw > 3 yrs', '36415': 'Routine venipuncture', '36416': 'Capillary blood draw', '36420': 'Vein access cutdown < 1 yr', '36425': 'Vein access cutdown > 1 yr', '36430': 'Blood transfusion service', '36440': '\"Bl push transfuse', '36450': '\"Bl exchange/transfuse', '36455': 'Bl exchange/transfuse non-nb', '36460': '\"Transfusion service', '36468': '\"Injection(s)', '36469': '\"Injection(s)', '36470': 'Injection therapy of vein', '36471': 'Injection therapy of veins', '36475': '\"Endovenous rf', '36476': '\"Endovenous rf', '36478': '\"Endovenous laser', '36479': 'Endovenous laser vein addon', '36481': '\"Insertion of catheter', '36500': '\"Insertion of catheter', '36510': '\"Insertion of catheter', '36511': 'Apheresis wbc', '36512': 'Apheresis rbc', '36513': 'Apheresis platelets', '36514': 'Apheresis plasma', '36515': '\"Apheresis', '36516': '\"Apheresis', '36522': 'Photopheresis', '36540': 'Collect blood venous device', '36550': 'Declot vascular device', '36555': 'Insert non-tunnel cv cath', '36556': 'Insert non-tunnel cv cath', '36557': 'Insert tunneled cv cath', '36558': 'Insert tunneled cv cath', '36560': 'Insert tunneled cv cath', '36561': 'Insert tunneled cv cath', '36563': 'Insert tunneled cv cath', '36565': 'Insert tunneled cv cath', '36566': 'Insert tunneled cv cath', '36568': 'Insert picc cath', '36569': 'Insert picc cath', '36570': 'Insert picvad cath', '36571': 'Insert picvad cath', '36575': 'Repair tunneled cv cath', '36576': 'Repair tunneled cv cath', '36578': 'Replace tunneled cv cath', '36580': 'Replace cvad cath', '36581': 'Replace tunneled cv cath', '36582': 'Replace tunneled cv cath', '36583': 'Replace tunneled cv cath', '36584': 'Replace picc cath', '36585': 'Replace picvad cath', '36589': 'Removal tunneled cv cath', '36590': 'Removal tunneled cv cath', '36595': 'Mech remov tunneled cv cath', '36596': 'Mech remov tunneled cv cath', '36597': 'Reposition venous catheter', '36600': 'Withdrawal of arterial blood', '36620': '\"Insertion catheter', '36625': '\"Insertion catheter', '36640': '\"Insertion catheter', '36660': '\"Insertion catheter', '36680': '\"Insert needle', '36800': 'Insertion of cannula', '36810': 'Insertion of cannula', '36815': 'Insertion of cannula', '36818': '\"Av fuse', '36819': '\"Av fuse', '36820': 'Av fusion/forearm vein', '36821': 'Av fusion direct any site', '36822': 'Insertion of cannula(s)', '36823': 'Insertion of cannula(s)', '36825': 'Artery-vein autograft', '36830': 'Artery-vein nonautograft', '36831': 'Open thrombect av fistula', '36832': '\"Av fistula revision', '36833': 'Av fistula revision', '36834': 'Repair A-V aneurysm', '36835': 'Artery to vein shunt', '36838': '\"Dist revas ligation', '36860': 'External cannula declotting', '36861': 'Cannula declotting', '36870': 'Percut thrombect av fistula', '37140': 'Revision of circulation', '37145': 'Revision of circulation', '37160': 'Revision of circulation', '37180': 'Revision of circulation', '37181': 'Splice spleen/kidney veins', '37182': 'Insert hepatic shunt (tips)', '37183': 'Remove hepatic shunt (tips)', '37195': '\"Thrombolytic therapy', '37200': 'Transcatheter biopsy', '37201': 'Transcatheter therapy infuse', '37202': 'Transcatheter therapy infuse', '37203': 'Transcatheter retrieval', '37204': 'Transcatheter occlusion', '37205': '\"Transcath iv stent', '37206': 'Transcath iv stent/perc addl', '37207': '\"Transcath iv stent', '37208': 'Transcath iv stent/open addl', '37209': 'Exchange arterial catheter', '37215': '\"Transcath stent', '37216': '\"Transcath stent', '37250': 'Iv us first vessel add-on', '37251': 'Iv us each add vessel add-on', '37500': 'Endoscopy ligate perf veins', '37501': 'Vascular endoscopy procedure', '37565': 'Ligation of neck vein', '37600': 'Ligation of neck artery', '37605': 'Ligation of neck artery', '37606': 'Ligation of neck artery', '37607': 'Ligation of a-v fistula', '37609': 'Temporal artery procedure', '37615': 'Ligation of neck artery', '37616': 'Ligation of chest artery', '37617': 'Ligation of abdomen artery', '37618': 'Ligation of extremity artery', '37620': 'Revision of major vein', '37650': 'Revision of major vein', '37660': 'Revision of major vein', '37700': 'Revise leg vein', '37720': 'Removal of leg vein', '37730': 'Removal of leg veins', '37735': 'Removal of leg veins/lesion', '37760': '\"Ligation', '37765': 'Phleb veins - extrem - to 20', '37766': 'Phleb veins - extrem 20+', '37780': 'Revision of leg vein', '37785': 'Ligate/divide/excise vein', '37788': '\"Revascularization', '37790': 'Penile venous occlusion', '37799': 'Vascular surgery procedure', '38100': '\"Removal of spleen', '38101': '\"Removal of spleen', '38102': '\"Removal of spleen', '38115': 'Repair of ruptured spleen', '38120': '\"Laparoscopy', '38129': '\"Laparoscope proc', '38200': 'Injection for spleen x-ray', '38204': 'Bl donor search management', '38205': 'Harvest allogenic stem cells', '38206': 'Harvest auto stem cells', '38207': 'Cryopreserve stem cells', '38208': 'Thaw preserved stem cells', '38209': 'Wash harvest stem cells', '38210': 'T-cell depletion of harvest', '38211': 'Tumor cell deplete of harvst', '38212': 'Rbc depletion of harvest', '38213': 'Platelet deplete of harvest', '38214': 'Volume deplete of harvest', '38215': 'Harvest stem cell concentrte', '38220': 'Bone marrow aspiration', '38221': 'Bone marrow biopsy', '38230': 'Bone marrow collection', '38240': 'Bone marrow/stem transplant', '38241': 'Bone marrow/stem transplant', '38242': 'Lymphocyte infuse transplant', '38300': '\"Drainage', '38305': '\"Drainage', '38308': 'Incision of lymph channels', '38380': 'Thoracic duct procedure', '38381': 'Thoracic duct procedure', '38382': 'Thoracic duct procedure', '38500': '\"Biopsy/removal', '38505': '\"Needle biopsy', '38510': '\"Biopsy/removal', '38520': '\"Biopsy/removal', '38525': '\"Biopsy/removal', '38530': '\"Biopsy/removal', '38542': '\"Explore deep node(s)', '38550': '\"Removal', '38555': '\"Removal', '38562': '\"Removal', '38564': '\"Removal', '38570': '\"Laparoscopy', '38571': '\"Laparoscopy', '38572': '\"Laparoscopy', '38589': '\"Laparoscope proc', '38700': '\"Removal of lymph nodes', '38720': '\"Removal of lymph nodes', '38724': '\"Removal of lymph nodes', '38740': 'Remove armpit lymph nodes', '38745': 'Remove armpit lymph nodes', '38746': 'Remove thoracic lymph nodes', '38747': 'Remove abdominal lymph nodes', '38760': 'Remove groin lymph nodes', '38765': 'Remove groin lymph nodes', '38770': 'Remove pelvis lymph nodes', '38780': 'Remove abdomen lymph nodes', '38790': 'Inject for lymphatic x-ray', '38792': 'Identify sentinel node', '38794': 'Access thoracic lymph duct', '38999': 'Blood/lymph system procedure', '39000': 'Exploration of chest', '39010': 'Exploration of chest', '39200': 'Removal chest lesion', '39220': 'Removal chest lesion', '39400': 'Visualization of chest', '39499': 'Chest procedure', '39501': 'Repair diaphragm laceration', '39502': 'Repair paraesophageal hernia', '39503': 'Repair of diaphragm hernia', '39520': 'Repair of diaphragm hernia', '39530': 'Repair of diaphragm hernia', '39531': 'Repair of diaphragm hernia', '39540': 'Repair of diaphragm hernia', '39541': 'Repair of diaphragm hernia', '39545': 'Revision of diaphragm', '39560': '\"Resect diaphragm', '39561': '\"Resect diaphragm', '39599': 'Diaphragm surgery procedure', '4000F': 'Tobacco use txmnt counseling', '4001F': '\"Tobacco use txmnt', '4002F': '\"Statin therapy', '4006F': '\"Beta-blocker therapy', '4009F': '\"Ace inhibitor therapy', '4011F': '\"Oral antiplatelet tx', '40490': 'Biopsy of lip', '40500': 'Partial excision of lip', '40510': 'Partial excision of lip', '40520': 'Partial excision of lip', '40525': 'Reconstruct lip with flap', '40527': 'Reconstruct lip with flap', '40530': 'Partial removal of lip', '40650': 'Repair lip', '40652': 'Repair lip', '40654': 'Repair lip', '40700': 'Repair cleft lip/nasal', '40701': 'Repair cleft lip/nasal', '40702': 'Repair cleft lip/nasal', '40720': 'Repair cleft lip/nasal', '40761': 'Repair cleft lip/nasal', '40799': 'Lip surgery procedure', '40800': 'Drainage of mouth lesion', '40801': 'Drainage of mouth lesion', '40804': '\"Removal', '40805': '\"Removal', '40806': 'Incision of lip fold', '40808': 'Biopsy of mouth lesion', '40810': 'Excision of mouth lesion', '40812': 'Excise/repair mouth lesion', '40814': 'Excise/repair mouth lesion', '40816': 'Excision of mouth lesion', '40818': 'Excise oral mucosa for graft', '40819': 'Excise lip or cheek fold', '40820': 'Treatment of mouth lesion', '40830': 'Repair mouth laceration', '40831': 'Repair mouth laceration', '40840': 'Reconstruction of mouth', '40842': 'Reconstruction of mouth', '40843': 'Reconstruction of mouth', '40844': 'Reconstruction of mouth', '40845': 'Reconstruction of mouth', '40899': 'Mouth surgery procedure', '41000': 'Drainage of mouth lesion', '41005': 'Drainage of mouth lesion', '41006': 'Drainage of mouth lesion', '41007': 'Drainage of mouth lesion', '41008': 'Drainage of mouth lesion', '41009': 'Drainage of mouth lesion', '41010': 'Incision of tongue fold', '41015': 'Drainage of mouth lesion', '41016': 'Drainage of mouth lesion', '41017': 'Drainage of mouth lesion', '41018': 'Drainage of mouth lesion', '41100': 'Biopsy of tongue', '41105': 'Biopsy of tongue', '41108': 'Biopsy of floor of mouth', '41110': 'Excision of tongue lesion', '41112': 'Excision of tongue lesion', '41113': 'Excision of tongue lesion', '41114': 'Excision of tongue lesion', '41115': 'Excision of tongue fold', '41116': 'Excision of mouth lesion', '41120': 'Partial removal of tongue', '41130': 'Partial removal of tongue', '41135': 'Tongue and neck surgery', '41140': 'Removal of tongue', '41145': '\"Tongue removal', '41150': '\"Tongue', '41153': '\"Tongue', '41155': '\"Tongue', '41250': 'Repair tongue laceration', '41251': 'Repair tongue laceration', '41252': 'Repair tongue laceration', '41500': 'Fixation of tongue', '41510': 'Tongue to lip surgery', '41520': '\"Reconstruction', '41599': 'Tongue and mouth surgery', '41800': 'Drainage of gum lesion', '41805': '\"Removal foreign body', '41806': '\"Removal foreign body', '41820': '\"Excision', '41821': 'Excision of gum flap', '41822': 'Excision of gum lesion', '41823': 'Excision of gum lesion', '41825': 'Excision of gum lesion', '41826': 'Excision of gum lesion', '41827': 'Excision of gum lesion', '41828': 'Excision of gum lesion', '41830': 'Removal of gum tissue', '41850': 'Treatment of gum lesion', '41870': 'Gum graft', '41872': 'Repair gum', '41874': 'Repair tooth socket', '41899': 'Dental surgery procedure', '42000': 'Drainage mouth roof lesion', '42100': 'Biopsy roof of mouth', '42104': '\"Excision lesion', '42106': '\"Excision lesion', '42107': '\"Excision lesion', '42120': 'Remove palate/lesion', '42140': 'Excision of uvula', '42145': '\"Repair palate', '42160': 'Treatment mouth roof lesion', '42180': 'Repair palate', '42182': 'Repair palate', '42200': 'Reconstruct cleft palate', '42205': 'Reconstruct cleft palate', '42210': 'Reconstruct cleft palate', '42215': 'Reconstruct cleft palate', '42220': 'Reconstruct cleft palate', '42225': 'Reconstruct cleft palate', '42226': 'Lengthening of palate', '42227': 'Lengthening of palate', '42235': 'Repair palate', '42260': 'Repair nose to lip fistula', '42280': '\"Preparation', '42281': '\"Insertion', '42299': 'Palate/uvula surgery', '42300': 'Drainage of salivary gland', '42305': 'Drainage of salivary gland', '42310': 'Drainage of salivary gland', '42320': 'Drainage of salivary gland', '42325': 'Create salivary cyst drain', '42326': 'Create salivary cyst drain', '42330': 'Removal of salivary stone', '42335': 'Removal of salivary stone', '42340': 'Removal of salivary stone', '42400': 'Biopsy of salivary gland', '42405': 'Biopsy of salivary gland', '42408': 'Excision of salivary cyst', '42409': 'Drainage of salivary cyst', '42410': 'Excise parotid gland/lesion', '42415': 'Excise parotid gland/lesion', '42420': 'Excise parotid gland/lesion', '42425': 'Excise parotid gland/lesion', '42426': 'Excise parotid gland/lesion', '42440': 'Excise submaxillary gland', '42450': 'Excise sublingual gland', '42500': 'Repair salivary duct', '42505': 'Repair salivary duct', '42507': 'Parotid duct diversion', '42508': 'Parotid duct diversion', '42509': 'Parotid duct diversion', '42510': 'Parotid duct diversion', '42550': 'Injection for salivary x-ray', '42600': 'Closure of salivary fistula', '42650': 'Dilation of salivary duct', '42660': 'Dilation of salivary duct', '42665': 'Ligation of salivary duct', '42699': 'Salivary surgery procedure', '42700': 'Drainage of tonsil abscess', '42720': 'Drainage of throat abscess', '42725': 'Drainage of throat abscess', '42800': 'Biopsy of throat', '42802': 'Biopsy of throat', '42804': 'Biopsy of upper nose/throat', '42806': 'Biopsy of upper nose/throat', '42808': 'Excise pharynx lesion', '42809': 'Remove pharynx foreign body', '42810': 'Excision of neck cyst', '42815': 'Excision of neck cyst', '42820': 'Remove tonsils and adenoids', '42821': 'Remove tonsils and adenoids', '42825': 'Removal of tonsils', '42826': 'Removal of tonsils', '42830': 'Removal of adenoids', '42831': 'Removal of adenoids', '42835': 'Removal of adenoids', '42836': 'Removal of adenoids', '42842': 'Extensive surgery of throat', '42844': 'Extensive surgery of throat', '42845': 'Extensive surgery of throat', '42860': 'Excision of tonsil tags', '42870': 'Excision of lingual tonsil', '42890': 'Partial removal of pharynx', '42892': 'Revision of pharyngeal walls', '42894': 'Revision of pharyngeal walls', '42900': 'Repair throat wound', '42950': 'Reconstruction of throat', '42953': '\"Repair throat', '42955': 'Surgical opening of throat', '42960': 'Control throat bleeding', '42961': 'Control throat bleeding', '42962': 'Control throat bleeding', '42970': 'Control nose/throat bleeding', '42971': 'Control nose/throat bleeding', '42972': 'Control nose/throat bleeding', '42999': 'Throat surgery procedure', '43020': 'Incision of esophagus', '43030': 'Throat muscle surgery', '43045': 'Incision of esophagus', '43100': 'Excision of esophagus lesion', '43101': 'Excision of esophagus lesion', '43107': 'Removal of esophagus', '43108': 'Removal of esophagus', '43112': 'Removal of esophagus', '43113': 'Removal of esophagus', '43116': 'Partial removal of esophagus', '43117': 'Partial removal of esophagus', '43118': 'Partial removal of esophagus', '43121': 'Partial removal of esophagus', '43122': 'Partial removal of esophagus', '43123': 'Partial removal of esophagus', '43124': 'Removal of esophagus', '43130': 'Removal of esophagus pouch', '43135': 'Removal of esophagus pouch', '43200': 'Esophagus endoscopy', '43201': 'Esoph scope w/submucous inj', '43202': '\"Esophagus endoscopy', '43204': 'Esoph scope w/sclerosis inj', '43205': 'Esophagus endoscopy/ligation', '43215': 'Esophagus endoscopy', '43216': 'Esophagus endoscopy/lesion', '43217': 'Esophagus endoscopy', '43219': 'Esophagus endoscopy', '43220': '\"Esoph endoscopy', '43226': '\"Esoph endoscopy', '43227': '\"Esoph endoscopy', '43228': '\"Esoph endoscopy', '43231': 'Esoph endoscopy w/us exam', '43232': 'Esoph endoscopy w/us fn bx', '43234': '\"Upper GI endoscopy', '43235': '\"Uppr gi endoscopy', '43236': 'Uppr gi scope w/submuc inj', '43237': '\"Endoscopic us exam', '43238': 'Uppr gi endoscopy w/us fn bx', '43239': '\"Upper GI endoscopy', '43240': 'Esoph endoscope w/drain cyst', '43241': 'Upper GI endoscopy with tube', '43242': 'Uppr gi endoscopy w/us fn bx', '43243': 'Upper gi endoscopy & inject', '43244': 'Upper GI endoscopy/ligation', '43245': 'Uppr gi scope dilate strictr', '43246': 'Place gastrostomy tube', '43247': 'Operative upper GI endoscopy', '43248': 'Uppr gi endoscopy/guide wire', '43249': '\"Esoph endoscopy', '43250': 'Upper GI endoscopy/tumor', '43251': 'Operative upper GI endoscopy', '43255': 'Operative upper GI endoscopy', '43256': 'Uppr gi endoscopy w/stent', '43257': 'Uppr gi scope w/thrml txmnt', '43258': 'Operative upper GI endoscopy', '43259': 'Endoscopic ultrasound exam', '43260': 'Endo cholangiopancreatograph', '43261': 'Endo cholangiopancreatograph', '43262': 'Endo cholangiopancreatograph', '43263': 'Endo cholangiopancreatograph', '43264': 'Endo cholangiopancreatograph', '43265': 'Endo cholangiopancreatograph', '43267': 'Endo cholangiopancreatograph', '43268': 'Endo cholangiopancreatograph', '43269': 'Endo cholangiopancreatograph', '43271': 'Endo cholangiopancreatograph', '43272': 'Endo cholangiopancreatograph', '43280': '\"Laparoscopy', '43289': '\"Laparoscope proc', '43300': 'Repair of esophagus', '43305': 'Repair esophagus and fistula', '43310': 'Repair of esophagus', '43312': 'Repair esophagus and fistula', '43313': 'Esophagoplasty congenital', '43314': 'Tracheo-esophagoplasty cong', '43320': 'Fuse esophagus & stomach', '43324': 'Revise esophagus & stomach', '43325': 'Revise esophagus & stomach', '43326': 'Revise esophagus & stomach', '43330': 'Repair of esophagus', '43331': 'Repair of esophagus', '43340': 'Fuse esophagus & intestine', '43341': 'Fuse esophagus & intestine', '43350': '\"Surgical opening', '43351': '\"Surgical opening', '43352': '\"Surgical opening', '43360': 'Gastrointestinal repair', '43361': 'Gastrointestinal repair', '43400': 'Ligate esophagus veins', '43401': 'Esophagus surgery for veins', '43405': 'Ligate/staple esophagus', '43410': 'Repair esophagus wound', '43415': 'Repair esophagus wound', '43420': 'Repair esophagus opening', '43425': 'Repair esophagus opening', '43450': 'Dilate esophagus', '43453': 'Dilate esophagus', '43456': 'Dilate esophagus', '43458': 'Dilate esophagus', '43460': 'Pressure treatment esophagus', '43496': '\"Free jejunum flap', '43499': 'Esophagus surgery procedure', '43500': 'Surgical opening of stomach', '43501': 'Surgical repair of stomach', '43502': 'Surgical repair of stomach', '43510': 'Surgical opening of stomach', '43520': 'Incision of pyloric muscle', '43600': 'Biopsy of stomach', '43605': 'Biopsy of stomach', '43610': 'Excision of stomach lesion', '43611': 'Excision of stomach lesion', '43620': 'Removal of stomach', '43621': 'Removal of stomach', '43622': 'Removal of stomach', '43631': '\"Removal of stomach', '43632': '\"Removal of stomach', '43633': '\"Removal of stomach', '43634': '\"Removal of stomach', '43635': '\"Removal of stomach', '43638': '\"Removal of stomach', '43639': '\"Removal of stomach', '43640': 'Vagotomy & pylorus repair', '43641': 'Vagotomy & pylorus repair', '43644': 'Lap gastric bypass/roux-en-y', '43645': 'Lap gastr bypass incl smll i', '43651': '\"Laparoscopy', '43652': '\"Laparoscopy', '43653': '\"Laparoscopy', '43659': '\"Laparoscope proc', '43750': 'Place gastrostomy tube', '43752': 'Nasal/orogastric w/stent', '43760': 'Change gastrostomy tube', '43761': 'Reposition gastrostomy tube', '43800': 'Reconstruction of pylorus', '43810': 'Fusion of stomach and bowel', '43820': 'Fusion of stomach and bowel', '43825': 'Fusion of stomach and bowel', '43830': 'Place gastrostomy tube', '43831': 'Place gastrostomy tube', '43832': 'Place gastrostomy tube', '43840': 'Repair of stomach lesion', '43842': 'V-band gastroplasty', '43843': 'Gastroplasty w/o v-band', '43845': 'Gastroplasty duodenal switch', '43846': 'Gastric bypass for obesity', '43847': 'Gastric bypass incl small i', '43848': 'Revision gastroplasty', '43850': 'Revise stomach-bowel fusion', '43855': 'Revise stomach-bowel fusion', '43860': 'Revise stomach-bowel fusion', '43865': 'Revise stomach-bowel fusion', '43870': 'Repair stomach opening', '43880': 'Repair stomach-bowel fistula', '43999': 'Stomach surgery procedure', '44005': 'Freeing of bowel adhesion', '44010': 'Incision of small bowel', '44015': 'Insert needle cath bowel', '44020': 'Explore small intestine', '44021': 'Decompress small bowel', '44025': 'Incision of large bowel', '44050': 'Reduce bowel obstruction', '44055': 'Correct malrotation of bowel', '44100': 'Biopsy of bowel', '44110': 'Excise intestine lesion(s)', '44111': 'Excision of bowel lesion(s)', '44120': 'Removal of small intestine', '44121': 'Removal of small intestine', '44125': 'Removal of small intestine', '44126': '\"Enterectomy w/o taper', '44127': '\"Enterectomy w/taper', '44128': '\"Enterectomy cong', '44130': 'Bowel to bowel fusion', '44132': '\"Enterectomy', '44133': '\"Enterectomy', '44135': '\"Intestine transplnt', '44136': '\"Intestine transplant', '44137': 'Remove intestinal allograft', '44139': 'Mobilization of colon', '44140': 'Partial removal of colon', '44141': 'Partial removal of colon', '44143': 'Partial removal of colon', '44144': 'Partial removal of colon', '44145': 'Partial removal of colon', '44146': 'Partial removal of colon', '44147': 'Partial removal of colon', '44150': 'Removal of colon', '44151': 'Removal of colon/ileostomy', '44152': 'Removal of colon/ileostomy', '44153': 'Removal of colon/ileostomy', '44155': 'Removal of colon/ileostomy', '44156': 'Removal of colon/ileostomy', '44160': 'Removal of colon', '44200': '\"Laparoscopy', '44201': '\"Laparoscopy', '44202': 'Lap resect s/intestine singl', '44203': '\"Lap resect s/intestine', '44204': 'Laparo partial colectomy', '44205': 'Lap colectomy part w/ileum', '44206': 'Lap part colectomy w/stoma', '44207': 'L colectomy/coloproctostomy', '44208': 'L colectomy/coloproctostomy', '44210': 'Laparo total proctocolectomy', '44211': 'Laparo total proctocolectomy', '44212': 'Laparo total proctocolectomy', '44238': '\"Laparoscope proc', '44239': '\"Laparoscope proc', '44300': 'Open bowel to skin', '44310': 'Ileostomy/jejunostomy', '44312': 'Revision of ileostomy', '44314': 'Revision of ileostomy', '44316': 'Devise bowel pouch', '44320': 'Colostomy', '44322': 'Colostomy with biopsies', '44340': 'Revision of colostomy', '44345': 'Revision of colostomy', '44346': 'Revision of colostomy', '44360': 'Small bowel endoscopy', '44361': 'Small bowel endoscopy/biopsy', '44363': 'Small bowel endoscopy', '44364': 'Small bowel endoscopy', '44365': 'Small bowel endoscopy', '44366': 'Small bowel endoscopy', '44369': 'Small bowel endoscopy', '44370': 'Small bowel endoscopy/stent', '44372': 'Small bowel endoscopy', '44373': 'Small bowel endoscopy', '44376': 'Small bowel endoscopy', '44377': 'Small bowel endoscopy/biopsy', '44378': 'Small bowel endoscopy', '44379': 'S bowel endoscope w/stent', '44380': 'Small bowel endoscopy', '44382': 'Small bowel endoscopy', '44383': 'Ileoscopy w/stent', '44385': 'Endoscopy of bowel pouch', '44386': '\"Endoscopy', '44388': 'Colonoscopy', '44389': 'Colonoscopy with biopsy', '44390': 'Colonoscopy for foreign body', '44391': 'Colonoscopy for bleeding', '44392': 'Colonoscopy & polypectomy', '44393': '\"Colonoscopy', '44394': 'Colonoscopy w/snare', '44397': 'Colonoscopy w/stent', '44500': '\"Intro', '44602': '\"Suture', '44603': '\"Suture', '44604': '\"Suture', '44605': 'Repair of bowel lesion', '44615': 'Intestinal stricturoplasty', '44620': 'Repair bowel opening', '44625': 'Repair bowel opening', '44626': 'Repair bowel opening', '44640': 'Repair bowel-skin fistula', '44650': 'Repair bowel fistula', '44660': 'Repair bowel-bladder fistula', '44661': 'Repair bowel-bladder fistula', '44680': '\"Surgical revision', '44700': 'Suspend bowel w/prosthesis', '44701': 'Intraop colon lavage add-on', '44715': 'Prepare donor intestine', '44720': 'Prep donor intestine/venous', '44721': 'Prep donor intestine/artery', '44799': 'Unlisted procedure intestine', '44800': 'Excision of bowel pouch', '44820': 'Excision of mesentery lesion', '44850': 'Repair of mesentery', '44899': 'Bowel surgery procedure', '44900': '\"Drain app abscess', '44901': '\"Drain app abscess', '44950': 'Appendectomy', '44955': 'Appendectomy add-on', '44960': 'Appendectomy', '44970': '\"Laparoscopy', '44979': '\"Laparoscope proc', '45000': 'Drainage of pelvic abscess', '45005': 'Drainage of rectal abscess', '45020': 'Drainage of rectal abscess', '45100': 'Biopsy of rectum', '45108': 'Removal of anorectal lesion', '45110': 'Removal of rectum', '45111': 'Partial removal of rectum', '45112': 'Removal of rectum', '45113': 'Partial proctectomy', '45114': 'Partial removal of rectum', '45116': 'Partial removal of rectum', '45119': 'Remove rectum w/reservoir', '45120': 'Removal of rectum', '45121': 'Removal of rectum and colon', '45123': 'Partial proctectomy', '45126': 'Pelvic exenteration', '45130': 'Excision of rectal prolapse', '45135': 'Excision of rectal prolapse', '45136': 'Excise ileoanal reservior', '45150': 'Excision of rectal stricture', '45160': 'Excision of rectal lesion', '45170': 'Excision of rectal lesion', '45190': '\"Destruction', '45300': 'Proctosigmoidoscopy dx', '45303': 'Proctosigmoidoscopy dilate', '45305': 'Proctosigmoidoscopy w/bx', '45307': 'Proctosigmoidoscopy fb', '45308': 'Proctosigmoidoscopy removal', '45309': 'Proctosigmoidoscopy removal', '45315': 'Proctosigmoidoscopy removal', '45317': 'Proctosigmoidoscopy bleed', '45320': 'Proctosigmoidoscopy ablate', '45321': 'Proctosigmoidoscopy volvul', '45327': 'Proctosigmoidoscopy w/stent', '45330': 'Diagnostic sigmoidoscopy', '45331': 'Sigmoidoscopy and biopsy', '45332': 'Sigmoidoscopy w/fb removal', '45333': 'Sigmoidoscopy & polypectomy', '45334': 'Sigmoidoscopy for bleeding', '45335': 'Sigmoidoscopy w/submuc inj', '45337': 'Sigmoidoscopy & decompress', '45338': 'Sigmoidoscopy w/tumr remove', '45339': 'Sigmoidoscopy w/ablate tumr', '45340': 'Sig w/balloon dilation', '45341': 'Sigmoidoscopy w/ultrasound', '45342': 'Sigmoidoscopy w/us guide bx', '45345': 'Sigmoidoscopy w/stent', '45355': 'Surgical colonoscopy', '45378': 'Diagnostic colonoscopy', '45379': 'Colonoscopy w/fb removal', '45380': 'Colonoscopy and biopsy', '45381': '\"Colonoscopy', '45382': 'Colonoscopy/control bleeding', '45383': 'Lesion removal colonoscopy', '45384': 'Lesion remove colonoscopy', '45385': 'Lesion removal colonoscopy', '45386': 'Colonoscopy dilate stricture', '45387': 'Colonoscopy w/stent', '45391': 'Colonoscopy w/endoscope us', '45392': 'Colonoscopy w/endoscopic fnb', '45500': 'Repair of rectum', '45505': 'Repair of rectum', '45520': 'Treatment of rectal prolapse', '45540': 'Correct rectal prolapse', '45541': 'Correct rectal prolapse', '45550': 'Repair rectum/remove sigmoid', '45560': 'Repair of rectocele', '45562': 'Exploration/repair of rectum', '45563': 'Exploration/repair of rectum', '45800': 'Repair rect/bladder fistula', '45805': 'Repair fistula w/colostomy', '45820': 'Repair rectourethral fistula', '45825': 'Repair fistula w/colostomy', '45900': 'Reduction of rectal prolapse', '45905': 'Dilation of anal sphincter', '45910': 'Dilation of rectal narrowing', '45915': 'Remove rectal obstruction', '45999': 'Rectum surgery procedure', '46020': 'Placement of seton', '46030': 'Removal of rectal marker', '46040': 'Incision of rectal abscess', '46045': 'Incision of rectal abscess', '46050': 'Incision of anal abscess', '46060': 'Incision of rectal abscess', '46070': 'Incision of anal septum', '46080': 'Incision of anal sphincter', '46083': 'Incise external hemorrhoid', '46200': 'Removal of anal fissure', '46210': 'Removal of anal crypt', '46211': 'Removal of anal crypts', '46220': 'Removal of anal tag', '46221': 'Ligation of hemorrhoid(s)', '46230': 'Removal of anal tags', '46250': 'Hemorrhoidectomy', '46255': 'Hemorrhoidectomy', '46257': 'Remove hemorrhoids & fissure', '46258': 'Remove hemorrhoids & fistula', '46260': 'Hemorrhoidectomy', '46261': 'Remove hemorrhoids & fissure', '46262': 'Remove hemorrhoids & fistula', '46270': 'Removal of anal fistula', '46275': 'Removal of anal fistula', '46280': 'Removal of anal fistula', '46285': 'Removal of anal fistula', '46288': 'Repair anal fistula', '46320': 'Removal of hemorrhoid clot', '46500': 'Injection into hemorrhoid(s)', '46600': 'Diagnostic anoscopy', '46604': 'Anoscopy and dilation', '46606': 'Anoscopy and biopsy', '46608': '\"Anoscopy', '46610': '\"Anoscopy', '46611': 'Anoscopy', '46612': '\"Anoscopy', '46614': '\"Anoscopy', '46615': 'Anoscopy', '46700': 'Repair of anal stricture', '46705': 'Repair of anal stricture', '46706': 'Repr of anal fistula w/glue', '46715': 'Rep perf anoper fistu', '46716': 'Rep perf anoper/vestib fistu', '46730': 'Construction of absent anus', '46735': 'Construction of absent anus', '46740': 'Construction of absent anus', '46742': 'Repair of imperforated anus', '46744': 'Repair of cloacal anomaly', '46746': 'Repair of cloacal anomaly', '46748': 'Repair of cloacal anomaly', '46750': 'Repair of anal sphincter', '46751': 'Repair of anal sphincter', '46753': 'Reconstruction of anus', '46754': 'Removal of suture from anus', '46760': 'Repair of anal sphincter', '46761': 'Repair of anal sphincter', '46762': 'Implant artificial sphincter', '46900': '\"Destruction', '46910': '\"Destruction', '46916': '\"Cryosurgery', '46917': '\"Laser surgery', '46922': 'Excision of anal lesion(s)', '46924': '\"Destruction', '46934': 'Destruction of hemorrhoids', '46935': 'Destruction of hemorrhoids', '46936': 'Destruction of hemorrhoids', '46937': 'Cryotherapy of rectal lesion', '46938': 'Cryotherapy of rectal lesion', '46940': 'Treatment of anal fissure', '46942': 'Treatment of anal fissure', '46945': 'Ligation of hemorrhoids', '46946': 'Ligation of hemorrhoids', '46947': 'Hemorrhoidopexy by stapling', '46999': 'Anus surgery procedure', '47000': 'Needle biopsy of liver', '47001': '\"Needle biopsy', '47010': '\"Open drainage', '47011': '\"Percut drain', '47015': 'Inject/aspirate liver cyst', '47100': 'Wedge biopsy of liver', '47120': 'Partial removal of liver', '47122': 'Extensive removal of liver', '47125': 'Partial removal of liver', '47130': 'Partial removal of liver', '47133': 'Removal of donor liver', '47135': 'Transplantation of liver', '47136': 'Transplantation of liver', '47140': '\"Partial removal', '47141': '\"Partial removal', '47142': '\"Partial removal', '47143': '\"Prep donor liver', '47144': '\"Prep donor liver', '47145': '\"Prep donor liver', '47146': 'Prep donor liver/venous', '47147': 'Prep donor liver/arterial', '47300': 'Surgery for liver lesion', '47350': 'Repair liver wound', '47360': 'Repair liver wound', '47361': 'Repair liver wound', '47362': 'Repair liver wound', '47370': 'Laparo ablate liver tumor rf', '47371': 'Laparo ablate liver cryosurg', '47379': '\"Laparoscope procedure', '47380': 'Open ablate liver tumor rf', '47381': 'Open ablate liver tumor cryo', '47382': 'Percut ablate liver rf', '47399': 'Liver surgery procedure', '47400': 'Incision of liver duct', '47420': 'Incision of bile duct', '47425': 'Incision of bile duct', '47460': 'Incise bile duct sphincter', '47480': 'Incision of gallbladder', '47490': 'Incision of gallbladder', '47500': 'Injection for liver x-rays', '47505': 'Injection for liver x-rays', '47510': '\"Insert catheter', '47511': 'Insert bile duct drain', '47525': 'Change bile duct catheter', '47530': 'Revise/reinsert bile tube', '47550': 'Bile duct endoscopy add-on', '47552': 'Biliary endoscopy thru skin', '47553': 'Biliary endoscopy thru skin', '47554': 'Biliary endoscopy thru skin', '47555': 'Biliary endoscopy thru skin', '47556': 'Biliary endoscopy thru skin', '47560': 'Laparoscopy w/cholangio', '47561': 'Laparo w/cholangio/biopsy', '47562': 'Laparoscopic cholecystectomy', '47563': 'Laparo cholecystectomy/graph', '47564': 'Laparo cholecystectomy/explr', '47570': 'Laparo cholecystoenterostomy', '47579': '\"Laparoscope proc', '47600': 'Removal of gallbladder', '47605': 'Removal of gallbladder', '47610': 'Removal of gallbladder', '47612': 'Removal of gallbladder', '47620': 'Removal of gallbladder', '47630': 'Remove bile duct stone', '47700': 'Exploration of bile ducts', '47701': 'Bile duct revision', '47711': 'Excision of bile duct tumor', '47712': 'Excision of bile duct tumor', '47715': 'Excision of bile duct cyst', '47716': 'Fusion of bile duct cyst', '47720': 'Fuse gallbladder & bowel', '47721': 'Fuse upper gi structures', '47740': 'Fuse gallbladder & bowel', '47741': 'Fuse gallbladder & bowel', '47760': 'Fuse bile ducts and bowel', '47765': 'Fuse liver ducts & bowel', '47780': 'Fuse bile ducts and bowel', '47785': 'Fuse bile ducts and bowel', '47800': 'Reconstruction of bile ducts', '47801': '\"Placement', '47802': 'Fuse liver duct & intestine', '47900': 'Suture bile duct injury', '47999': 'Bile tract surgery procedure', '48000': 'Drainage of abdomen', '48001': '\"Placement of drain', '48005': 'Resect/debride pancreas', '48020': 'Removal of pancreatic stone', '48100': '\"Biopsy of pancreas', '48102': '\"Needle biopsy', '48120': 'Removal of pancreas lesion', '48140': 'Partial removal of pancreas', '48145': 'Partial removal of pancreas', '48146': 'Pancreatectomy', '48148': 'Removal of pancreatic duct', '48150': 'Partial removal of pancreas', '48152': 'Pancreatectomy', '48153': 'Pancreatectomy', '48154': 'Pancreatectomy', '48155': 'Removal of pancreas', '48160': 'Pancreas removal/transplant', '48180': 'Fuse pancreas and bowel', '48400': '\"Injection', '48500': 'Surgery of pancreatic cyst', '48510': 'Drain pancreatic pseudocyst', '48511': 'Drain pancreatic pseudocyst', '48520': 'Fuse pancreas cyst and bowel', '48540': 'Fuse pancreas cyst and bowel', '48545': 'Pancreatorrhaphy', '48547': 'Duodenal exclusion', '48550': 'Donor pancreatectomy', '48551': 'Prep donor pancreas', '48552': 'Prep donor pancreas/venous', '48554': 'Transpl allograft pancreas', '48556': '\"Removal', '48999': 'Pancreas surgery procedure', '49000': 'Exploration of abdomen', '49002': 'Reopening of abdomen', '49010': 'Exploration behind abdomen', '49020': 'Drain abdominal abscess', '49021': 'Drain abdominal abscess', '49040': '\"Drain', '49041': '\"Drain', '49060': '\"Drain', '49061': '\"Drain', '49062': 'Drain to peritoneal cavity', '49080': '\"Puncture', '49081': 'Removal of abdominal fluid', '49085': 'Remove abdomen foreign body', '49180': '\"Biopsy', '49200': 'Removal of abdominal lesion', '49201': '\"Remove abdom lesion', '49215': 'Excise sacral spine tumor', '49220': '\"Multiple surgery', '49250': 'Excision of umbilicus', '49255': 'Removal of omentum', '49320': 'Diag laparo separate proc', '49321': '\"Laparoscopy', '49322': '\"Laparoscopy', '49323': 'Laparo drain lymphocele', '49329': '\"Laparo proc', '49400': 'Air injection into abdomen', '49419': 'Insrt abdom cath for chemotx', '49420': '\"Insert abdom drain', '49421': '\"Insert abdom drain', '49422': 'Remove perm cannula/catheter', '49423': 'Exchange drainage catheter', '49424': '\"Assess cyst', '49425': 'Insert abdomen-venous drain', '49426': 'Revise abdomen-venous shunt', '49427': '\"Injection', '49428': 'Ligation of shunt', '49429': 'Removal of shunt', '49491': 'Rpr hern preemie reduc', '49492': '\"Rpr ing hern premie', '49495': '\"Rpr ing hernia baby', '49496': '\"Rpr ing hernia baby', '49500': '\"Rpr ing hernia', '49501': '\"Rpr ing hernia', '49505': 'Prp i/hern init reduc >5 yr', '49507': 'Prp i/hern init block >5 yr', '49520': '\"Rerepair ing hernia', '49521': '\"Rerepair ing hernia', '49525': '\"Repair ing hernia', '49540': 'Repair lumbar hernia', '49550': '\"Rpr rem hernia', '49553': '\"Rpr fem hernia', '49555': '\"Rerepair fem hernia', '49557': '\"Rerepair fem hernia', '49560': '\"Rpr ventral hern init', '49561': '\"Rpr ventral hern init', '49565': '\"Rerepair ventrl hern', '49566': '\"Rerepair ventrl hern', '49568': 'Hernia repair w/mesh', '49570': '\"Rpr epigastric hern', '49572': '\"Rpr epigastric hern', '49580': '\"Rpr umbil hern', '49582': '\"Rpr umbil hern', '49585': '\"Rpr umbil hern', '49587': '\"Rpr umbil hern', '49590': 'Repair spigelian hernia', '49600': 'Repair umbilical lesion', '49605': 'Repair umbilical lesion', '49606': 'Repair umbilical lesion', '49610': 'Repair umbilical lesion', '49611': 'Repair umbilical lesion', '49650': 'Laparo hernia repair initial', '49651': 'Laparo hernia repair recur', '49659': '\"Laparo proc', '49900': 'Repair of abdominal wall', '49904': '\"Omental flap', '49905': '\"Omental flap', '49906': '\"Free omental flap', '49999': 'Abdomen surgery procedure', '50010': 'Exploration of kidney', '50020': '\"Renal abscess', '50021': '\"Renal abscess', '50040': 'Drainage of kidney', '50045': 'Exploration of kidney', '50060': 'Removal of kidney stone', '50065': 'Incision of kidney', '50070': 'Incision of kidney', '50075': 'Removal of kidney stone', '50080': 'Removal of kidney stone', '50081': 'Removal of kidney stone', '50100': 'Revise kidney blood vessels', '50120': 'Exploration of kidney', '50125': 'Explore and drain kidney', '50130': 'Removal of kidney stone', '50135': 'Exploration of kidney', '50200': 'Biopsy of kidney', '50205': 'Biopsy of kidney', '50220': '\"Remove kidney', '50225': '\"Removal kidney open', '50230': '\"Removal kidney open', '50234': 'Removal of kidney & ureter', '50236': 'Removal of kidney & ureter', '50240': 'Partial removal of kidney', '50280': 'Removal of kidney lesion', '50290': 'Removal of kidney lesion', '50300': 'Remove cadaver donor kidney', '50320': '\"Remove kidney', '50323': 'Prep cadaver renal allograft', '50325': 'Prep donor renal graft', '50327': 'Prep renal graft/venous', '50328': 'Prep renal graft/arterial', '50329': 'Prep renal graft/ureteral', '50340': 'Removal of kidney', '50360': 'Transplantation of kidney', '50365': 'Transplantation of kidney', '50370': 'Remove transplanted kidney', '50380': 'Reimplantation of kidney', '50390': 'Drainage of kidney lesion', '50391': 'Instll rx agnt into rnal tub', '50392': 'Insert kidney drain', '50393': 'Insert ureteral tube', '50394': 'Injection for kidney x-ray', '50395': 'Create passage to kidney', '50396': 'Measure kidney pressure', '50398': 'Change kidney tube', '50400': 'Revision of kidney/ureter', '50405': 'Revision of kidney/ureter', '50500': 'Repair of kidney wound', '50520': 'Close kidney-skin fistula', '50525': 'Repair renal-abdomen fistula', '50526': 'Repair renal-abdomen fistula', '50540': 'Revision of horseshoe kidney', '50541': 'Laparo ablate renal cyst', '50542': 'Laparo ablate renal mass', '50543': 'Laparo partial nephrectomy', '50544': '\"Laparoscopy', '50545': 'Laparo radical nephrectomy', '50546': 'Laparoscopic nephrectomy', '50547': 'Laparo removal donor kidney', '50548': 'Laparo remove w/ureter', '50549': '\"Laparoscope proc', '50551': 'Kidney endoscopy', '50553': 'Kidney endoscopy', '50555': 'Kidney endoscopy & biopsy', '50557': 'Kidney endoscopy & treatment', '50561': 'Kidney endoscopy & treatment', '50562': 'Renal scope w/tumor resect', '50570': 'Kidney endoscopy', '50572': 'Kidney endoscopy', '50574': 'Kidney endoscopy & biopsy', '50575': 'Kidney endoscopy', '50576': 'Kidney endoscopy & treatment', '50580': 'Kidney endoscopy & treatment', '50590': 'Fragmenting of kidney stone', '50600': 'Exploration of ureter', '50605': 'Insert ureteral support', '50610': 'Removal of ureter stone', '50620': 'Removal of ureter stone', '50630': 'Removal of ureter stone', '50650': 'Removal of ureter', '50660': 'Removal of ureter', '50684': 'Injection for ureter x-ray', '50686': 'Measure ureter pressure', '50688': 'Change of ureter tube', '50690': 'Injection for ureter x-ray', '50700': 'Revision of ureter', '50715': 'Release of ureter', '50722': 'Release of ureter', '50725': 'Release/revise ureter', '50727': 'Revise ureter', '50728': 'Revise ureter', '50740': 'Fusion of ureter & kidney', '50750': 'Fusion of ureter & kidney', '50760': 'Fusion of ureters', '50770': 'Splicing of ureters', '50780': 'Reimplant ureter in bladder', '50782': 'Reimplant ureter in bladder', '50783': 'Reimplant ureter in bladder', '50785': 'Reimplant ureter in bladder', '50800': 'Implant ureter in bowel', '50810': 'Fusion of ureter & bowel', '50815': 'Urine shunt to intestine', '50820': 'Construct bowel bladder', '50825': 'Construct bowel bladder', '50830': 'Revise urine flow', '50840': 'Replace ureter by bowel', '50845': 'Appendico-vesicostomy', '50860': 'Transplant ureter to skin', '50900': 'Repair of ureter', '50920': 'Closure ureter/skin fistula', '50930': 'Closure ureter/bowel fistula', '50940': 'Release of ureter', '50945': 'Laparoscopy ureterolithotomy', '50947': 'Laparo new ureter/bladder', '50948': 'Laparo new ureter/bladder', '50949': '\"Laparoscope proc', '50951': 'Endoscopy of ureter', '50953': 'Endoscopy of ureter', '50955': 'Ureter endoscopy & biopsy', '50957': 'Ureter endoscopy & treatment', '50961': 'Ureter endoscopy & treatment', '50970': 'Ureter endoscopy', '50972': 'Ureter endoscopy & catheter', '50974': 'Ureter endoscopy & biopsy', '50976': 'Ureter endoscopy & treatment', '50980': 'Ureter endoscopy & treatment', '51000': 'Drainage of bladder', '51005': 'Drainage of bladder', '51010': 'Drainage of bladder', '51020': 'Incise & treat bladder', '51030': 'Incise & treat bladder', '51040': 'Incise & drain bladder', '51045': 'Incise bladder/drain ureter', '51050': 'Removal of bladder stone', '51060': 'Removal of ureter stone', '51065': 'Remove ureter calculus', '51080': 'Drainage of bladder abscess', '51500': 'Removal of bladder cyst', '51520': 'Removal of bladder lesion', '51525': 'Removal of bladder lesion', '51530': 'Removal of bladder lesion', '51535': 'Repair of ureter lesion', '51550': 'Partial removal of bladder', '51555': 'Partial removal of bladder', '51565': 'Revise bladder & ureter(s)', '51570': 'Removal of bladder', '51575': 'Removal of bladder & nodes', '51580': 'Remove bladder/revise tract', '51585': 'Removal of bladder & nodes', '51590': 'Remove bladder/revise tract', '51595': 'Remove bladder/revise tract', '51596': 'Remove bladder/create pouch', '51597': 'Removal of pelvic structures', '51600': 'Injection for bladder x-ray', '51605': 'Preparation for bladder xray', '51610': 'Injection for bladder x-ray', '51700': 'Irrigation of bladder', '51701': 'Insert bladder catheter', '51702': 'Insert temp bladder cath', '51703': '\"Insert bladder cath', '51705': 'Change of bladder tube', '51710': 'Change of bladder tube', '51715': 'Endoscopic injection/implant', '51720': 'Treatment of bladder lesion', '51725': 'Simple cystometrogram', '51726': 'Complex cystometrogram', '51736': 'Urine flow measurement', '51741': '\"Electro-uroflowmetry', '51772': 'Urethra pressure profile', '51784': 'Anal/urinary muscle study', '51785': 'Anal/urinary muscle study', '51792': 'Urinary reflex study', '51795': 'Urine voiding pressure study', '51797': 'Intraabdominal pressure test', '51798': 'Us urine capacity measure', '51800': 'Revision of bladder/urethra', '51820': 'Revision of urinary tract', '51840': 'Attach bladder/urethra', '51841': 'Attach bladder/urethra', '51845': 'Repair bladder neck', '51860': 'Repair of bladder wound', '51865': 'Repair of bladder wound', '51880': 'Repair of bladder opening', '51900': 'Repair bladder/vagina lesion', '51920': 'Close bladder-uterus fistula', '51925': 'Hysterectomy/bladder repair', '51940': 'Correction of bladder defect', '51960': 'Revision of bladder & bowel', '51980': 'Construct bladder opening', '51990': 'Laparo urethral suspension', '51992': 'Laparo sling operation', '52000': 'Cystoscopy', '52001': '\"Cystoscopy', '52005': 'Cystoscopy & ureter catheter', '52007': 'Cystoscopy and biopsy', '52010': 'Cystoscopy & duct catheter', '52204': 'Cystoscopy', '52214': 'Cystoscopy and treatment', '52224': 'Cystoscopy and treatment', '52234': 'Cystoscopy and treatment', '52235': 'Cystoscopy and treatment', '52240': 'Cystoscopy and treatment', '52250': 'Cystoscopy and radiotracer', '52260': 'Cystoscopy and treatment', '52265': 'Cystoscopy and treatment', '52270': 'Cystoscopy & revise urethra', '52275': 'Cystoscopy & revise urethra', '52276': 'Cystoscopy and treatment', '52277': 'Cystoscopy and treatment', '52281': 'Cystoscopy and treatment', '52282': '\"Cystoscopy', '52283': 'Cystoscopy and treatment', '52285': 'Cystoscopy and treatment', '52290': 'Cystoscopy and treatment', '52300': 'Cystoscopy and treatment', '52301': 'Cystoscopy and treatment', '52305': 'Cystoscopy and treatment', '52310': 'Cystoscopy and treatment', '52315': 'Cystoscopy and treatment', '52317': 'Remove bladder stone', '52318': 'Remove bladder stone', '52320': 'Cystoscopy and treatment', '52325': '\"Cystoscopy', '52327': '\"Cystoscopy', '52330': 'Cystoscopy and treatment', '52332': 'Cystoscopy and treatment', '52334': 'Create passage to kidney', '52341': 'Cysto w/ureter stricture tx', '52342': 'Cysto w/up stricture tx', '52343': 'Cysto w/renal stricture tx', '52344': '\"Cysto/uretero', '52345': 'Cysto/uretero w/up stricture', '52346': 'Cystouretero w/renal strict', '52351': 'Cystouretero & or pyeloscope', '52352': 'Cystouretero w/stone remove', '52353': 'Cystouretero w/lithotripsy', '52354': 'Cystouretero w/biopsy', '52355': 'Cystouretero w/excise tumor', '52400': 'Cystouretero w/congen repr', '52402': 'Cystourethro cut ejacul duct', '52450': 'Incision of prostate', '52500': 'Revision of bladder neck', '52510': 'Dilation prostatic urethra', '52601': 'Prostatectomy (TURP)', '52606': 'Control postop bleeding', '52612': '\"Prostatectomy', '52614': '\"Prostatectomy', '52620': 'Remove residual prostate', '52630': 'Remove prostate regrowth', '52640': 'Relieve bladder contracture', '52647': 'Laser surgery of prostate', '52648': 'Laser surgery of prostate', '52700': 'Drainage of prostate abscess', '53000': 'Incision of urethra', '53010': 'Incision of urethra', '53020': 'Incision of urethra', '53025': 'Incision of urethra', '53040': 'Drainage of urethra abscess', '53060': 'Drainage of urethra abscess', '53080': 'Drainage of urinary leakage', '53085': 'Drainage of urinary leakage', '53200': 'Biopsy of urethra', '53210': 'Removal of urethra', '53215': 'Removal of urethra', '53220': 'Treatment of urethra lesion', '53230': 'Removal of urethra lesion', '53235': 'Removal of urethra lesion', '53240': 'Surgery for urethra pouch', '53250': 'Removal of urethra gland', '53260': 'Treatment of urethra lesion', '53265': 'Treatment of urethra lesion', '53270': 'Removal of urethra gland', '53275': 'Repair of urethra defect', '53400': '\"Revise urethra', '53405': '\"Revise urethra', '53410': 'Reconstruction of urethra', '53415': 'Reconstruction of urethra', '53420': '\"Reconstruct urethra', '53425': '\"Reconstruct urethra', '53430': 'Reconstruction of urethra', '53431': 'Reconstruct urethra/bladder', '53440': 'Male sling procedure', '53442': 'Remove/revise male sling', '53444': 'Insert tandem cuff', '53445': 'Insert uro/ves nck sphincter', '53446': 'Remove uro sphincter', '53447': 'Remove/replace ur sphincter', '53448': 'Remov/replc ur sphinctr comp', '53449': 'Repair uro sphincter', '53450': 'Revision of urethra', '53460': 'Revision of urethra', '53500': '\"Urethrlys', '53502': 'Repair of urethra injury', '53505': 'Repair of urethra injury', '53510': 'Repair of urethra injury', '53515': 'Repair of urethra injury', '53520': 'Repair of urethra defect', '53600': 'Dilate urethra stricture', '53601': 'Dilate urethra stricture', '53605': 'Dilate urethra stricture', '53620': 'Dilate urethra stricture', '53621': 'Dilate urethra stricture', '53660': 'Dilation of urethra', '53661': 'Dilation of urethra', '53665': 'Dilation of urethra', '53850': 'Prostatic microwave thermotx', '53852': 'Prostatic rf thermotx', '53853': 'Prostatic water thermother', '53899': 'Urology surgery procedure', '54000': 'Slitting of prepuce', '54001': 'Slitting of prepuce', '54015': 'Drain penis lesion', '54050': '\"Destruction', '54055': '\"Destruction', '54056': '\"Cryosurgery', '54057': '\"Laser surg', '54060': 'Excision of penis lesion(s)', '54065': '\"Destruction', '54100': 'Biopsy of penis', '54105': 'Biopsy of penis', '54110': 'Treatment of penis lesion', '54111': '\"Treat penis lesion', '54112': '\"Treat penis lesion', '54115': 'Treatment of penis lesion', '54120': 'Partial removal of penis', '54125': 'Removal of penis', '54130': 'Remove penis & nodes', '54135': 'Remove penis & nodes', '54150': 'Circumcision', '54152': 'Circumcision', '54160': 'Circumcision', '54161': 'Circumcision', '54162': 'Lysis penil circumic lesion', '54163': 'Repair of circumcision', '54164': 'Frenulotomy of penis', '54200': 'Treatment of penis lesion', '54205': 'Treatment of penis lesion', '54220': 'Treatment of penis lesion', '54230': 'Prepare penis study', '54231': 'Dynamic cavernosometry', '54235': 'Penile injection', '54240': 'Penis study', '54250': 'Penis study', '54300': 'Revision of penis', '54304': 'Revision of penis', '54308': 'Reconstruction of urethra', '54312': 'Reconstruction of urethra', '54316': 'Reconstruction of urethra', '54318': 'Reconstruction of urethra', '54322': 'Reconstruction of urethra', '54324': 'Reconstruction of urethra', '54326': 'Reconstruction of urethra', '54328': 'Revise penis/urethra', '54332': 'Revise penis/urethra', '54336': 'Revise penis/urethra', '54340': 'Secondary urethral surgery', '54344': 'Secondary urethral surgery', '54348': 'Secondary urethral surgery', '54352': 'Reconstruct urethra/penis', '54360': 'Penis plastic surgery', '54380': 'Repair penis', '54385': 'Repair penis', '54390': 'Repair penis and bladder', '54400': 'Insert semi-rigid prosthesis', '54401': 'Insert self-contd prosthesis', '54405': 'Insert multi-comp penis pros', '54406': 'Remove muti-comp penis pros', '54408': 'Repair multi-comp penis pros', '54410': 'Remove/replace penis prosth', '54411': '\"Remov/replc penis pros', '54415': 'Remove self-contd penis pros', '54416': 'Remv/repl penis contain pros', '54417': '\"Remv/replc penis pros', '54420': 'Revision of penis', '54430': 'Revision of penis', '54435': 'Revision of penis', '54440': 'Repair of penis', '54450': 'Preputial stretching', '54500': 'Biopsy of testis', '54505': 'Biopsy of testis', '54512': 'Excise lesion testis', '54520': 'Removal of testis', '54522': '\"Orchiectomy', '54530': 'Removal of testis', '54535': 'Extensive testis surgery', '54550': 'Exploration for testis', '54560': 'Exploration for testis', '54600': 'Reduce testis torsion', '54620': 'Suspension of testis', '54640': 'Suspension of testis', '54650': 'Orchiopexy (Fowler-Stephens)', '54660': 'Revision of testis', '54670': 'Repair testis injury', '54680': 'Relocation of testis(es)', '54690': '\"Laparoscopy', '54692': '\"Laparoscopy', '54699': '\"Laparoscope proc', '54700': 'Drainage of scrotum', '54800': 'Biopsy of epididymis', '54820': 'Exploration of epididymis', '54830': 'Remove epididymis lesion', '54840': 'Remove epididymis lesion', '54860': 'Removal of epididymis', '54861': 'Removal of epididymis', '54900': 'Fusion of spermatic ducts', '54901': 'Fusion of spermatic ducts', '55000': 'Drainage of hydrocele', '55040': 'Removal of hydrocele', '55041': 'Removal of hydroceles', '55060': 'Repair of hydrocele', '55100': 'Drainage of scrotum abscess', '55110': 'Explore scrotum', '55120': 'Removal of scrotum lesion', '55150': 'Removal of scrotum', '55175': 'Revision of scrotum', '55180': 'Revision of scrotum', '55200': 'Incision of sperm duct', '55250': 'Removal of sperm duct(s)', '55300': '\"Prepare', '55400': 'Repair of sperm duct', '55450': 'Ligation of sperm duct', '55500': 'Removal of hydrocele', '55520': 'Removal of sperm cord lesion', '55530': 'Revise spermatic cord veins', '55535': 'Revise spermatic cord veins', '55540': 'Revise hernia & sperm veins', '55550': 'Laparo ligate spermatic vein', '55559': '\"Laparo proc', '55600': 'Incise sperm duct pouch', '55605': 'Incise sperm duct pouch', '55650': 'Remove sperm duct pouch', '55680': 'Remove sperm pouch lesion', '55700': 'Biopsy of prostate', '55705': 'Biopsy of prostate', '55720': 'Drainage of prostate abscess', '55725': 'Drainage of prostate abscess', '55801': 'Removal of prostate', '55810': 'Extensive prostate surgery', '55812': 'Extensive prostate surgery', '55815': 'Extensive prostate surgery', '55821': 'Removal of prostate', '55831': 'Removal of prostate', '55840': 'Extensive prostate surgery', '55842': 'Extensive prostate surgery', '55845': 'Extensive prostate surgery', '55859': '\"Percut/needle insert', '55860': '\"Surgical exposure', '55862': 'Extensive prostate surgery', '55865': 'Extensive prostate surgery', '55866': 'Laparo radical prostatectomy', '55870': 'Electroejaculation', '55873': 'Cryoablate prostate', '55899': 'Genital surgery procedure', '55970': '\"Sex transformation', '55980': '\"Sex transformation', '56405': 'I & D of vulva/perineum', '56420': 'Drainage of gland abscess', '56440': 'Surgery for vulva lesion', '56441': 'Lysis of labial lesion(s)', '56501': '\"Destroy', '56515': 'Destroy vulva lesion/s compl', '56605': 'Biopsy of vulva/perineum', '56606': 'Biopsy of vulva/perineum', '56620': 'Partial removal of vulva', '56625': 'Complete removal of vulva', '56630': 'Extensive vulva surgery', '56631': 'Extensive vulva surgery', '56632': 'Extensive vulva surgery', '56633': 'Extensive vulva surgery', '56634': 'Extensive vulva surgery', '56637': 'Extensive vulva surgery', '56640': 'Extensive vulva surgery', '56700': 'Partial removal of hymen', '56720': 'Incision of hymen', '56740': 'Remove vagina gland lesion', '56800': 'Repair of vagina', '56805': 'Repair clitoris', '56810': 'Repair of perineum', '56820': 'Exam of vulva w/scope', '56821': 'Exam/biopsy of vulva w/scope', '57000': 'Exploration of vagina', '57010': 'Drainage of pelvic abscess', '57020': 'Drainage of pelvic fluid', '57022': '\"I & d vaginal hematoma', '57023': '\"I & d vag hematoma', '57061': '\"Destroy vag lesions', '57065': '\"Destroy vag lesions', '57100': 'Biopsy of vagina', '57105': 'Biopsy of vagina', '57106': '\"Remove vagina wall', '57107': '\"Remove vagina tissue', '57109': 'Vaginectomy partial w/nodes', '57110': '\"Remove vagina wall', '57111': '\"Remove vagina tissue', '57112': '\"Vaginectomy w/nodes', '57120': 'Closure of vagina', '57130': 'Remove vagina lesion', '57135': 'Remove vagina lesion', '57150': 'Treat vagina infection', '57155': 'Insert uteri tandems/ovoids', '57160': 'Insert pessary/other device', '57170': 'Fitting of diaphragm/cap', '57180': 'Treat vaginal bleeding', '57200': 'Repair of vagina', '57210': 'Repair vagina/perineum', '57220': 'Revision of urethra', '57230': 'Repair of urethral lesion', '57240': 'Repair bladder & vagina', '57250': 'Repair rectum & vagina', '57260': 'Repair of vagina', '57265': 'Extensive repair of vagina', '57267': 'Insert mesh/pelvic flr addon', '57268': 'Repair of bowel bulge', '57270': 'Repair of bowel pouch', '57280': 'Suspension of vagina', '57282': '\"Colpopexy', '57283': '\"Colpopexy', '57284': 'Repair paravaginal defect', '57287': 'Revise/remove sling repair', '57288': 'Repair bladder defect', '57289': 'Repair bladder & vagina', '57291': 'Construction of vagina', '57292': 'Construct vagina with graft', '57300': 'Repair rectum-vagina fistula', '57305': 'Repair rectum-vagina fistula', '57307': 'Fistula repair & colostomy', '57308': '\"Fistula repair', '57310': 'Repair urethrovaginal lesion', '57311': 'Repair urethrovaginal lesion', '57320': 'Repair bladder-vagina lesion', '57330': 'Repair bladder-vagina lesion', '57335': 'Repair vagina', '57400': 'Dilation of vagina', '57410': 'Pelvic examination', '57415': 'Remove vaginal foreign body', '57420': 'Exam of vagina w/scope', '57421': 'Exam/biopsy of vag w/scope', '57425': '\"Laparoscopy', '57452': 'Exam of cervix w/scope', '57454': 'Bx/curett of cervix w/scope', '57455': 'Biopsy of cervix w/scope', '57456': 'Endocerv curettage w/scope', '57460': '\"Bx of cervix w/scope', '57461': '\"Conz of cervix w/scope', '57500': 'Biopsy of cervix', '57505': 'Endocervical curettage', '57510': 'Cauterization of cervix', '57511': 'Cryocautery of cervix', '57513': 'Laser surgery of cervix', '57520': 'Conization of cervix', '57522': 'Conization of cervix', '57530': 'Removal of cervix', '57531': '\"Removal of cervix', '57540': 'Removal of residual cervix', '57545': 'Remove cervix/repair pelvis', '57550': 'Removal of residual cervix', '57555': 'Remove cervix/repair vagina', '57556': '\"Remove cervix', '57700': 'Revision of cervix', '57720': 'Revision of cervix', '57800': 'Dilation of cervical canal', '57820': 'D & c of residual cervix', '58100': 'Biopsy of uterus lining', '58120': 'Dilation and curettage', '58140': 'Myomectomy abdom method', '58145': 'Myomectomy vag method', '58146': 'Myomectomy abdom complex', '58150': 'Total hysterectomy', '58152': 'Total hysterectomy', '58180': 'Partial hysterectomy', '58200': 'Extensive hysterectomy', '58210': 'Extensive hysterectomy', '58240': 'Removal of pelvis contents', '58260': 'Vaginal hysterectomy', '58262': 'Vag hyst including t/o', '58263': 'Vag hyst w/t/o & vag repair', '58267': 'Vag hyst w/urinary repair', '58270': 'Vag hyst w/enterocele repair', '58275': 'Hysterectomy/revise vagina', '58280': 'Hysterectomy/revise vagina', '58285': 'Extensive hysterectomy', '58290': 'Vag hyst complex', '58291': '\"Vag hyst incl t/o', '58292': '\"Vag hyst t/o & repair', '58293': '\"Vag hyst w/uro repair', '58294': '\"Vag hyst w/enterocele', '58300': 'Insert intrauterine device', '58301': 'Remove intrauterine device', '58321': 'Artificial insemination', '58322': 'Artificial insemination', '58323': 'Sperm washing', '58340': 'Catheter for hysterography', '58345': 'Reopen fallopian tube', '58346': 'Insert heyman uteri capsule', '58350': 'Reopen fallopian tube', '58353': '\"Endometr ablate', '58356': 'Endometrial cryoablation', '58400': 'Suspension of uterus', '58410': 'Suspension of uterus', '58520': 'Repair of ruptured uterus', '58540': 'Revision of uterus', '58545': 'Laparoscopic myomectomy', '58546': '\"Laparo-myomectomy', '58550': 'Laparo-asst vag hysterectomy', '58552': 'Laparo-vag hyst incl t/o', '58553': '\"Laparo-vag hyst', '58554': '\"Laparo-vag hyst w/t/o', '58555': '\"Hysteroscopy', '58558': '\"Hysteroscopy', '58559': '\"Hysteroscopy', '58560': '\"Hysteroscopy', '58561': '\"Hysteroscopy', '58562': '\"Hysteroscopy', '58563': '\"Hysteroscopy', '58565': '\"Hysteroscopy', '58578': '\"Laparo proc', '58579': 'Hysteroscope procedure', '58600': 'Division of fallopian tube', '58605': 'Division of fallopian tube', '58611': 'Ligate oviduct(s) add-on', '58615': 'Occlude fallopian tube(s)', '58660': '\"Laparoscopy', '58661': '\"Laparoscopy', '58662': '\"Laparoscopy', '58670': '\"Laparoscopy', '58671': '\"Laparoscopy', '58672': '\"Laparoscopy', '58673': '\"Laparoscopy', '58679': '\"Laparo proc', '58700': 'Removal of fallopian tube', '58720': 'Removal of ovary/tube(s)', '58740': 'Revise fallopian tube(s)', '58750': 'Repair oviduct', '58752': 'Revise ovarian tube(s)', '58760': 'Remove tubal obstruction', '58770': 'Create new tubal opening', '58800': 'Drainage of ovarian cyst(s)', '58805': 'Drainage of ovarian cyst(s)', '58820': '\"Drain ovary abscess', '58822': '\"Drain ovary abscess', '58823': '\"Drain pelvic abscess', '58825': '\"Transposition', '58900': 'Biopsy of ovary(s)', '58920': 'Partial removal of ovary(s)', '58925': 'Removal of ovarian cyst(s)', '58940': 'Removal of ovary(s)', '58943': 'Removal of ovary(s)', '58950': 'Resect ovarian malignancy', '58951': 'Resect ovarian malignancy', '58952': 'Resect ovarian malignancy', '58953': '\"Tah', '58954': 'Tah rad debulk/lymph remove', '58956': '\"Bso', '58960': 'Exploration of abdomen', '58970': 'Retrieval of oocyte', '58974': 'Transfer of embryo', '58976': 'Transfer of embryo', '58999': 'Genital surgery procedure', '59000': '\"Amniocentesis', '59001': '\"Amniocentesis', '59012': '\"Fetal cord puncture', '59015': 'Chorion biopsy', '59020': 'Fetal contract stress test', '59025': 'Fetal non-stress test', '59030': 'Fetal scalp blood sample', '59050': 'Fetal monitor w/report', '59051': 'Fetal monitor/interpret only', '59070': 'Transabdom amnioinfus w/us', '59072': 'Umbilical cord occlud w/us', '59074': 'Fetal fluid drainage w/us', '59076': '\"Fetal shunt placement', '59100': 'Remove uterus lesion', '59120': 'Treat ectopic pregnancy', '59121': 'Treat ectopic pregnancy', '59130': 'Treat ectopic pregnancy', '59135': 'Treat ectopic pregnancy', '59136': 'Treat ectopic pregnancy', '59140': 'Treat ectopic pregnancy', '59150': 'Treat ectopic pregnancy', '59151': 'Treat ectopic pregnancy', '59160': 'D & c after delivery', '59200': 'Insert cervical dilator', '59300': 'Episiotomy or vaginal repair', '59320': 'Revision of cervix', '59325': 'Revision of cervix', '59350': 'Repair of uterus', '59400': 'Obstetrical care', '59409': 'Obstetrical care', '59410': 'Obstetrical care', '59412': 'Antepartum manipulation', '59414': 'Deliver placenta', '59425': 'Antepartum care only', '59426': 'Antepartum care only', '59430': 'Care after delivery', '59510': 'Cesarean delivery', '59514': 'Cesarean delivery only', '59515': 'Cesarean delivery', '59525': 'Remove uterus after cesarean', '59610': 'Vbac delivery', '59612': 'Vbac delivery only', '59614': 'Vbac care after delivery', '59618': 'Attempted vbac delivery', '59620': 'Attempted vbac delivery only', '59622': 'Attempted vbac after care', '59812': 'Treatment of miscarriage', '59820': 'Care of miscarriage', '59821': 'Treatment of miscarriage', '59830': 'Treat uterus infection', '59840': 'Abortion', '59841': 'Abortion', '59850': 'Abortion', '59851': 'Abortion', '59852': 'Abortion', '59855': 'Abortion', '59856': 'Abortion', '59857': 'Abortion', '59866': 'Abortion (mpr)', '59870': 'Evacuate mole of uterus', '59871': 'Remove cerclage suture', '59897': 'Fetal invas px w/us', '59898': '\"Laparo proc', '59899': 'Maternity care procedure', '60000': 'Drain thyroid/tongue cyst', '60001': 'Aspirate/inject thyriod cyst', '60100': 'Biopsy of thyroid', '60200': 'Remove thyroid lesion', '60210': 'Partial thyroid excision', '60212': 'Partial thyroid excision', '60220': 'Partial removal of thyroid', '60225': 'Partial removal of thyroid', '60240': 'Removal of thyroid', '60252': 'Removal of thyroid', '60254': 'Extensive thyroid surgery', '60260': 'Repeat thyroid surgery', '60270': 'Removal of thyroid', '60271': 'Removal of thyroid', '60280': 'Remove thyroid duct lesion', '60281': 'Remove thyroid duct lesion', '60500': 'Explore parathyroid glands', '60502': 'Re-explore parathyroids', '60505': 'Explore parathyroid glands', '60512': 'Autotransplant parathyroid', '60520': 'Removal of thymus gland', '60521': 'Removal of thymus gland', '60522': 'Removal of thymus gland', '60540': 'Explore adrenal gland', '60545': 'Explore adrenal gland', '60600': 'Remove carotid body lesion', '60605': 'Remove carotid body lesion', '60650': 'Laparoscopy adrenalectomy', '60659': '\"Laparo proc', '60699': 'Endocrine surgery procedure', '61000': 'Remove cranial cavity fluid', '61001': 'Remove cranial cavity fluid', '61020': 'Remove brain cavity fluid', '61026': 'Injection into brain canal', '61050': 'Remove brain canal fluid', '61055': 'Injection into brain canal', '61070': 'Brain canal shunt procedure', '61105': 'Twist drill hole', '61107': 'Drill skull for implantation', '61108': 'Drill skull for drainage', '61120': 'Burr hole for puncture', '61140': 'Pierce skull for biopsy', '61150': 'Pierce skull for drainage', '61151': 'Pierce skull for drainage', '61154': 'Pierce skull & remove clot', '61156': 'Pierce skull for drainage', '61210': '\"Pierce skull', '61215': 'Insert brain-fluid device', '61250': 'Pierce skull & explore', '61253': 'Pierce skull & explore', '61304': 'Open skull for exploration', '61305': 'Open skull for exploration', '61312': 'Open skull for drainage', '61313': 'Open skull for drainage', '61314': 'Open skull for drainage', '61315': 'Open skull for drainage', '61316': 'Implt cran bone flap to abdo', '61320': 'Open skull for drainage', '61321': 'Open skull for drainage', '61322': 'Decompressive craniotomy', '61323': 'Decompressive lobectomy', '61330': 'Decompress eye socket', '61332': 'Explore/biopsy eye socket', '61333': 'Explore orbit/remove lesion', '61334': 'Explore orbit/remove object', '61340': 'Subtemporal decompression', '61343': 'Incise skull (press relief)', '61345': 'Relieve cranial pressure', '61440': 'Incise skull for surgery', '61450': 'Incise skull for surgery', '61458': 'Incise skull for brain wound', '61460': 'Incise skull for surgery', '61470': 'Incise skull for surgery', '61480': 'Incise skull for surgery', '61490': 'Incise skull for surgery', '61500': 'Removal of skull lesion', '61501': 'Remove infected skull bone', '61510': 'Removal of brain lesion', '61512': 'Remove brain lining lesion', '61514': 'Removal of brain abscess', '61516': 'Removal of brain lesion', '61517': 'Implt brain chemotx add-on', '61518': 'Removal of brain lesion', '61519': 'Remove brain lining lesion', '61520': 'Removal of brain lesion', '61521': 'Removal of brain lesion', '61522': 'Removal of brain abscess', '61524': 'Removal of brain lesion', '61526': 'Removal of brain lesion', '61530': 'Removal of brain lesion', '61531': 'Implant brain electrodes', '61533': 'Implant brain electrodes', '61534': 'Removal of brain lesion', '61535': 'Remove brain electrodes', '61536': 'Removal of brain lesion', '61537': 'Removal of brain tissue', '61538': 'Removal of brain tissue', '61539': 'Removal of brain tissue', '61540': 'Removal of brain tissue', '61541': 'Incision of brain tissue', '61542': 'Removal of brain tissue', '61543': 'Removal of brain tissue', '61544': 'Remove & treat brain lesion', '61545': 'Excision of brain tumor', '61546': 'Removal of pituitary gland', '61548': 'Removal of pituitary gland', '61550': 'Release of skull seams', '61552': 'Release of skull seams', '61556': 'Incise skull/sutures', '61557': 'Incise skull/sutures', '61558': 'Excision of skull/sutures', '61559': 'Excision of skull/sutures', '61563': 'Excision of skull tumor', '61564': 'Excision of skull tumor', '61566': 'Removal of brain tissue', '61567': 'Incision of brain tissue', '61570': '\"Remove foreign body', '61571': 'Incise skull for brain wound', '61575': 'Skull base/brainstem surgery', '61576': 'Skull base/brainstem surgery', '61580': '\"Craniofacial approach', '61581': '\"Craniofacial approach', '61582': '\"Craniofacial approach', '61583': '\"Craniofacial approach', '61584': 'Orbitocranial approach/skull', '61585': 'Orbitocranial approach/skull', '61586': '\"Resect nasopharynx', '61590': 'Infratemporal approach/skull', '61591': 'Infratemporal approach/skull', '61592': 'Orbitocranial approach/skull', '61595': 'Transtemporal approach/skull', '61596': 'Transcochlear approach/skull', '61597': 'Transcondylar approach/skull', '61598': 'Transpetrosal approach/skull', '61600': 'Resect/excise cranial lesion', '61601': 'Resect/excise cranial lesion', '61605': 'Resect/excise cranial lesion', '61606': 'Resect/excise cranial lesion', '61607': 'Resect/excise cranial lesion', '61608': 'Resect/excise cranial lesion', '61609': '\"Transect artery', '61610': '\"Transect artery', '61611': '\"Transect artery', '61612': '\"Transect artery', '61613': '\"Remove aneurysm', '61615': '\"Resect/excise lesion', '61616': '\"Resect/excise lesion', '61618': 'Repair dura', '61619': 'Repair dura', '61623': 'Endovasc tempory vessel occl', '61624': '\"Transcath occlusion', '61626': '\"Transcath occlusion', '61680': 'Intracranial vessel surgery', '61682': 'Intracranial vessel surgery', '61684': 'Intracranial vessel surgery', '61686': 'Intracranial vessel surgery', '61690': 'Intracranial vessel surgery', '61692': 'Intracranial vessel surgery', '61697': '\"Brain aneurysm repr', '61698': '\"Brain aneurysm repr', '61700': '\"Brain aneurysm repr', '61702': 'Inner skull vessel surgery', '61703': 'Clamp neck artery', '61705': 'Revise circulation to head', '61708': 'Revise circulation to head', '61710': 'Revise circulation to head', '61711': 'Fusion of skull arteries', '61720': 'Incise skull/brain surgery', '61735': 'Incise skull/brain surgery', '61750': 'Incise skull/brain biopsy', '61751': 'Brain biopsy w/ct/mr guide', '61760': 'Implant brain electrodes', '61770': 'Incise skull for treatment', '61790': 'Treat trigeminal nerve', '61791': 'Treat trigeminal tract', '61793': 'Focus radiation beam', '61795': 'Brain surgery using computer', '61850': 'Implant neuroelectrodes', '61860': 'Implant neuroelectrodes', '61863': 'Implant neuroelectrode', '61864': '\"Implant neuroelectrde', '61867': 'Implant neuroelectrode', '61868': '\"Implant neuroelectrde', '61870': 'Implant neuroelectrodes', '61875': 'Implant neuroelectrodes', '61880': 'Revise/remove neuroelectrode', '61885': 'Insrt/redo neurostim 1 array', '61886': 'Implant neurostim arrays', '61888': 'Revise/remove neuroreceiver', '62000': 'Treat skull fracture', '62005': 'Treat skull fracture', '62010': 'Treatment of head injury', '62100': 'Repair brain fluid leakage', '62115': 'Reduction of skull defect', '62116': 'Reduction of skull defect', '62117': 'Reduction of skull defect', '62120': 'Repair skull cavity lesion', '62121': 'Incise skull repair', '62140': 'Repair of skull defect', '62141': 'Repair of skull defect', '62142': 'Remove skull plate/flap', '62143': 'Replace skull plate/flap', '62145': 'Repair of skull & brain', '62146': 'Repair of skull with graft', '62147': 'Repair of skull with graft', '62148': 'Retr bone flap to fix skull', '62160': 'Neuroendoscopy add-on', '62161': 'Dissect brain w/scope', '62162': 'Remove colloid cyst w/scope', '62163': 'Neuroendoscopy w/fb removal', '62164': 'Remove brain tumor w/scope', '62165': 'Remove pituit tumor w/scope', '62180': 'Establish brain cavity shunt', '62190': 'Establish brain cavity shunt', '62192': 'Establish brain cavity shunt', '62194': 'Replace/irrigate catheter', '62200': 'Establish brain cavity shunt', '62201': 'Brain cavity shunt w/scope', '62220': 'Establish brain cavity shunt', '62223': 'Establish brain cavity shunt', '62225': 'Replace/irrigate catheter', '62230': 'Replace/revise brain shunt', '62252': 'Csf shunt reprogram', '62256': 'Remove brain cavity shunt', '62258': 'Replace brain cavity shunt', '62263': 'Epidural lysis mult sessions', '62264': 'Epidural lysis on single day', '62268': 'Drain spinal cord cyst', '62269': '\"Needle biopsy', '62270': '\"Spinal fluid tap', '62272': 'Drain cerebro spinal fluid', '62273': 'Inject epidural patch', '62280': 'Treat spinal cord lesion', '62281': 'Treat spinal cord lesion', '62282': 'Treat spinal canal lesion', '62284': 'Injection for myelogram', '62287': 'Percutaneous diskectomy', '62290': 'Inject for spine disk x-ray', '62291': 'Inject for spine disk x-ray', '62292': 'Injection into disk lesion', '62294': 'Injection into spinal artery', '62310': 'Inject spine c/t', '62311': 'Inject spine l/s (cd)', '62318': '\"Inject spine w/cath', '62319': 'Inject spine w/cath l/s (cd)', '62350': 'Implant spinal canal cath', '62351': 'Implant spinal canal cath', '62355': 'Remove spinal canal catheter', '62360': 'Insert spine infusion device', '62361': 'Implant spine infusion pump', '62362': 'Implant spine infusion pump', '62365': 'Remove spine infusion device', '62367': 'Analyze spine infusion pump', '62368': 'Analyze spine infusion pump', '63001': 'Removal of spinal lamina', '63003': 'Removal of spinal lamina', '63005': 'Removal of spinal lamina', '63011': 'Removal of spinal lamina', '63012': 'Removal of spinal lamina', '63015': 'Removal of spinal lamina', '63016': 'Removal of spinal lamina', '63017': 'Removal of spinal lamina', '63020': 'Neck spine disk surgery', '63030': 'Low back disk surgery', '63035': 'Spinal disk surgery add-on', '63040': '\"Laminotomy', '63042': '\"Laminotomy', '63043': '\"Laminotomy', '63044': '\"Laminotomy', '63045': 'Removal of spinal lamina', '63046': 'Removal of spinal lamina', '63047': 'Removal of spinal lamina', '63048': 'Remove spinal lamina add-on', '63050': 'Cervical laminoplasty', '63051': 'C-laminoplasty w/graft/plate', '63055': 'Decompress spinal cord', '63056': 'Decompress spinal cord', '63057': 'Decompress spine cord add-on', '63064': 'Decompress spinal cord', '63066': 'Decompress spine cord add-on', '63075': 'Neck spine disk surgery', '63076': 'Neck spine disk surgery', '63077': '\"Spine disk surgery', '63078': '\"Spine disk surgery', '63081': 'Removal of vertebral body', '63082': 'Remove vertebral body add-on', '63085': 'Removal of vertebral body', '63086': 'Remove vertebral body add-on', '63087': 'Removal of vertebral body', '63088': 'Remove vertebral body add-on', '63090': 'Removal of vertebral body', '63091': 'Remove vertebral body add-on', '63101': 'Removal of vertebral body', '63102': 'Removal of vertebral body', '63103': 'Remove vertebral body add-on', '63170': 'Incise spinal cord tract(s)', '63172': 'Drainage of spinal cyst', '63173': 'Drainage of spinal cyst', '63180': 'Revise spinal cord ligaments', '63182': 'Revise spinal cord ligaments', '63185': 'Incise spinal column/nerves', '63190': 'Incise spinal column/nerves', '63191': 'Incise spinal column/nerves', '63194': 'Incise spinal column & cord', '63195': 'Incise spinal column & cord', '63196': 'Incise spinal column & cord', '63197': 'Incise spinal column & cord', '63198': 'Incise spinal column & cord', '63199': 'Incise spinal column & cord', '63200': 'Release of spinal cord', '63250': 'Revise spinal cord vessels', '63251': 'Revise spinal cord vessels', '63252': 'Revise spinal cord vessels', '63265': 'Excise intraspinal lesion', '63266': 'Excise intraspinal lesion', '63267': 'Excise intraspinal lesion', '63268': 'Excise intraspinal lesion', '63270': 'Excise intraspinal lesion', '63271': 'Excise intraspinal lesion', '63272': 'Excise intraspinal lesion', '63273': 'Excise intraspinal lesion', '63275': 'Biopsy/excise spinal tumor', '63276': 'Biopsy/excise spinal tumor', '63277': 'Biopsy/excise spinal tumor', '63278': 'Biopsy/excise spinal tumor', '63280': 'Biopsy/excise spinal tumor', '63281': 'Biopsy/excise spinal tumor', '63282': 'Biopsy/excise spinal tumor', '63283': 'Biopsy/excise spinal tumor', '63285': 'Biopsy/excise spinal tumor', '63286': 'Biopsy/excise spinal tumor', '63287': 'Biopsy/excise spinal tumor', '63290': 'Biopsy/excise spinal tumor', '63295': 'Repair of laminectomy defect', '63300': 'Removal of vertebral body', '63301': 'Removal of vertebral body', '63302': 'Removal of vertebral body', '63303': 'Removal of vertebral body', '63304': 'Removal of vertebral body', '63305': 'Removal of vertebral body', '63306': 'Removal of vertebral body', '63307': 'Removal of vertebral body', '63308': 'Remove vertebral body add-on', '63600': 'Remove spinal cord lesion', '63610': 'Stimulation of spinal cord', '63615': 'Remove lesion of spinal cord', '63650': 'Implant neuroelectrodes', '63655': 'Implant neuroelectrodes', '63660': 'Revise/remove neuroelectrode', '63685': 'Insrt/redo spine n generator', '63688': 'Revise/remove neuroreceiver', '63700': 'Repair of spinal herniation', '63702': 'Repair of spinal herniation', '63704': 'Repair of spinal herniation', '63706': 'Repair of spinal herniation', '63707': 'Repair spinal fluid leakage', '63709': 'Repair spinal fluid leakage', '63710': 'Graft repair of spine defect', '63740': 'Install spinal shunt', '63741': 'Install spinal shunt', '63744': 'Revision of spinal shunt', '63746': 'Removal of spinal shunt', '64400': '\"N block inj', '64402': '\"N block inj', '64405': '\"N block inj', '64408': '\"N block inj', '64410': '\"N block inj', '64412': '\"N block inj', '64413': '\"N block inj', '64415': '\"N block inj', '64416': '\"N block cont infuse', '64417': '\"N block inj', '64418': '\"N block inj', '64420': '\"N block inj', '64421': '\"N block inj', '64425': '\"N block inj', '64430': '\"N block inj', '64435': '\"N block inj', '64445': '\"N block inj', '64446': '\"N blk inj', '64447': '\"N block inj fem', '64448': '\"N block inj fem', '64449': '\"N block inj', '64450': '\"N block', '64470': 'Inj paravertebral c/t', '64472': 'Inj paravertebral c/t add-on', '64475': 'Inj paravertebral l/s', '64476': 'Inj paravertebral l/s add-on', '64479': 'Inj foramen epidural c/t', '64480': 'Inj foramen epidural add-on', '64483': 'Inj foramen epidural l/s', '64484': 'Inj foramen epidural add-on', '64505': '\"N block', '64508': '\"N block', '64510': '\"N block', '64517': '\"N block inj', '64520': '\"N block', '64530': '\"N block inj', '64550': 'Apply neurostimulator', '64553': 'Implant neuroelectrodes', '64555': 'Implant neuroelectrodes', '64560': 'Implant neuroelectrodes', '64561': 'Implant neuroelectrodes', '64565': 'Implant neuroelectrodes', '64573': 'Implant neuroelectrodes', '64575': 'Implant neuroelectrodes', '64577': 'Implant neuroelectrodes', '64580': 'Implant neuroelectrodes', '64581': 'Implant neuroelectrodes', '64585': 'Revise/remove neuroelectrode', '64590': 'Insrt/redo perph n generator', '64595': 'Revise/remove neuroreceiver', '64600': 'Injection treatment of nerve', '64605': 'Injection treatment of nerve', '64610': 'Injection treatment of nerve', '64612': '\"Destroy nerve', '64613': '\"Destroy nerve', '64614': '\"Destroy nerve', '64620': 'Injection treatment of nerve', '64622': 'Destr paravertebrl nerve l/s', '64623': 'Destr paravertebral n add-on', '64626': 'Destr paravertebrl nerve c/t', '64627': 'Destr paravertebral n add-on', '64630': 'Injection treatment of nerve', '64640': 'Injection treatment of nerve', '64680': 'Injection treatment of nerve', '64681': 'Injection treatment of nerve', '64702': 'Revise finger/toe nerve', '64704': 'Revise hand/foot nerve', '64708': 'Revise arm/leg nerve', '64712': 'Revision of sciatic nerve', '64713': 'Revision of arm nerve(s)', '64714': 'Revise low back nerve(s)', '64716': 'Revision of cranial nerve', '64718': 'Revise ulnar nerve at elbow', '64719': 'Revise ulnar nerve at wrist', '64721': 'Carpal tunnel surgery', '64722': 'Relieve pressure on nerve(s)', '64726': 'Release foot/toe nerve', '64727': 'Internal nerve revision', '64732': 'Incision of brow nerve', '64734': 'Incision of cheek nerve', '64736': 'Incision of chin nerve', '64738': 'Incision of jaw nerve', '64740': 'Incision of tongue nerve', '64742': 'Incision of facial nerve', '64744': '\"Incise nerve', '64746': 'Incise diaphragm nerve', '64752': 'Incision of vagus nerve', '64755': 'Incision of stomach nerves', '64760': 'Incision of vagus nerve', '64761': 'Incision of pelvis nerve', '64763': 'Incise hip/thigh nerve', '64766': 'Incise hip/thigh nerve', '64771': 'Sever cranial nerve', '64772': 'Incision of spinal nerve', '64774': 'Remove skin nerve lesion', '64776': 'Remove digit nerve lesion', '64778': 'Digit nerve surgery add-on', '64782': 'Remove limb nerve lesion', '64783': 'Limb nerve surgery add-on', '64784': 'Remove nerve lesion', '64786': 'Remove sciatic nerve lesion', '64787': 'Implant nerve end', '64788': 'Remove skin nerve lesion', '64790': 'Removal of nerve lesion', '64792': 'Removal of nerve lesion', '64795': 'Biopsy of nerve', '64802': 'Remove sympathetic nerves', '64804': 'Remove sympathetic nerves', '64809': 'Remove sympathetic nerves', '64818': 'Remove sympathetic nerves', '64820': 'Remove sympathetic nerves', '64821': 'Remove sympathetic nerves', '64822': 'Remove sympathetic nerves', '64823': 'Remove sympathetic nerves', '64831': 'Repair of digit nerve', '64832': 'Repair nerve add-on', '64834': 'Repair of hand or foot nerve', '64835': 'Repair of hand or foot nerve', '64836': 'Repair of hand or foot nerve', '64837': 'Repair nerve add-on', '64840': 'Repair of leg nerve', '64856': 'Repair/transpose nerve', '64857': 'Repair arm/leg nerve', '64858': 'Repair sciatic nerve', '64859': 'Nerve surgery', '64861': 'Repair of arm nerves', '64862': 'Repair of low back nerves', '64864': 'Repair of facial nerve', '64865': 'Repair of facial nerve', '64866': 'Fusion of facial/other nerve', '64868': 'Fusion of facial/other nerve', '64870': 'Fusion of facial/other nerve', '64872': 'Subsequent repair of nerve', '64874': 'Repair & revise nerve add-on', '64876': 'Repair nerve/shorten bone', '64885': '\"Nerve graft', '64886': '\"Nerve graft', '64890': '\"Nerve graft', '64891': '\"Nerve graft', '64892': '\"Nerve graft', '64893': '\"Nerve graft', '64895': '\"Nerve graft', '64896': '\"Nerve graft', '64897': '\"Nerve graft', '64898': '\"Nerve graft', '64901': 'Nerve graft add-on', '64902': 'Nerve graft add-on', '64905': 'Nerve pedicle transfer', '64907': 'Nerve pedicle transfer', '64999': 'Nervous system surgery', '65091': 'Revise eye', '65093': 'Revise eye with implant', '65101': 'Removal of eye', '65103': 'Remove eye/insert implant', '65105': 'Remove eye/attach implant', '65110': 'Removal of eye', '65112': 'Remove eye/revise socket', '65114': 'Remove eye/revise socket', '65125': 'Revise ocular implant', '65130': 'Insert ocular implant', '65135': 'Insert ocular implant', '65140': 'Attach ocular implant', '65150': 'Revise ocular implant', '65155': 'Reinsert ocular implant', '65175': 'Removal of ocular implant', '65205': 'Remove foreign body from eye', '65210': 'Remove foreign body from eye', '65220': 'Remove foreign body from eye', '65222': 'Remove foreign body from eye', '65235': 'Remove foreign body from eye', '65260': 'Remove foreign body from eye', '65265': 'Remove foreign body from eye', '65270': 'Repair of eye wound', '65272': 'Repair of eye wound', '65273': 'Repair of eye wound', '65275': 'Repair of eye wound', '65280': 'Repair of eye wound', '65285': 'Repair of eye wound', '65286': 'Repair of eye wound', '65290': 'Repair of eye socket wound', '65400': 'Removal of eye lesion', '65410': 'Biopsy of cornea', '65420': 'Removal of eye lesion', '65426': 'Removal of eye lesion', '65430': 'Corneal smear', '65435': 'Curette/treat cornea', '65436': 'Curette/treat cornea', '65450': 'Treatment of corneal lesion', '65600': 'Revision of cornea', '65710': 'Corneal transplant', '65730': 'Corneal transplant', '65750': 'Corneal transplant', '65755': 'Corneal transplant', '65760': 'Revision of cornea', '65765': 'Revision of cornea', '65767': 'Corneal tissue transplant', '65770': 'Revise cornea with implant', '65771': 'Radial keratotomy', '65772': 'Correction of astigmatism', '65775': 'Correction of astigmatism', '65780': '\"Ocular reconst', '65781': '\"Ocular reconst', '65782': '\"Ocular reconst', '65800': 'Drainage of eye', '65805': 'Drainage of eye', '65810': 'Drainage of eye', '65815': 'Drainage of eye', '65820': 'Relieve inner eye pressure', '65850': 'Incision of eye', '65855': 'Laser surgery of eye', '65860': 'Incise inner eye adhesions', '65865': 'Incise inner eye adhesions', '65870': 'Incise inner eye adhesions', '65875': 'Incise inner eye adhesions', '65880': 'Incise inner eye adhesions', '65900': 'Remove eye lesion', '65920': 'Remove implant of eye', '65930': 'Remove blood clot from eye', '66020': 'Injection treatment of eye', '66030': 'Injection treatment of eye', '66130': 'Remove eye lesion', '66150': 'Glaucoma surgery', '66155': 'Glaucoma surgery', '66160': 'Glaucoma surgery', '66165': 'Glaucoma surgery', '66170': 'Glaucoma surgery', '66172': 'Incision of eye', '66180': 'Implant eye shunt', '66185': 'Revise eye shunt', '66220': 'Repair eye lesion', '66225': 'Repair/graft eye lesion', '66250': 'Follow-up surgery of eye', '66500': 'Incision of iris', '66505': 'Incision of iris', '66600': 'Remove iris and lesion', '66605': 'Removal of iris', '66625': 'Removal of iris', '66630': 'Removal of iris', '66635': 'Removal of iris', '66680': 'Repair iris & ciliary body', '66682': 'Repair iris & ciliary body', '66700': '\"Destruction', '66710': 'Ciliary transsleral therapy', '66711': 'Ciliary endoscopic ablation', '66720': '\"Destruction', '66740': '\"Destruction', '66761': 'Revision of iris', '66762': 'Revision of iris', '66770': 'Removal of inner eye lesion', '66820': '\"Incision', '66821': 'After cataract laser surgery', '66825': 'Reposition intraocular lens', '66830': 'Removal of lens lesion', '66840': 'Removal of lens material', '66850': 'Removal of lens material', '66852': 'Removal of lens material', '66920': 'Extraction of lens', '66930': 'Extraction of lens', '66940': 'Extraction of lens', '66982': '\"Cataract surgery', '66983': '\"Cataract surg w/iol', '66984': '\"Cataract surg w/iol', '66985': 'Insert lens prosthesis', '66986': 'Exchange lens prosthesis', '66990': 'Ophthalmic endoscope add-on', '66999': 'Eye surgery procedure', '67005': 'Partial removal of eye fluid', '67010': 'Partial removal of eye fluid', '67015': 'Release of eye fluid', '67025': 'Replace eye fluid', '67027': 'Implant eye drug system', '67028': 'Injection eye drug', '67030': 'Incise inner eye strands', '67031': '\"Laser surgery', '67036': 'Removal of inner eye fluid', '67038': 'Strip retinal membrane', '67039': 'Laser treatment of retina', '67040': 'Laser treatment of retina', '67101': 'Repair detached retina', '67105': 'Repair detached retina', '67107': 'Repair detached retina', '67108': 'Repair detached retina', '67110': 'Repair detached retina', '67112': 'Rerepair detached retina', '67115': 'Release encircling material', '67120': 'Remove eye implant material', '67121': 'Remove eye implant material', '67141': 'Treatment of retina', '67145': 'Treatment of retina', '67208': 'Treatment of retinal lesion', '67210': 'Treatment of retinal lesion', '67218': 'Treatment of retinal lesion', '67220': 'Treatment of choroid lesion', '67221': 'Ocular photodynamic ther', '67225': 'Eye photodynamic ther add-on', '67227': 'Treatment of retinal lesion', '67228': 'Treatment of retinal lesion', '67250': 'Reinforce eye wall', '67255': 'Reinforce/graft eye wall', '67299': 'Eye surgery procedure', '67311': 'Revise eye muscle', '67312': 'Revise two eye muscles', '67314': 'Revise eye muscle', '67316': 'Revise two eye muscles', '67318': 'Revise eye muscle(s)', '67320': 'Revise eye muscle(s) add-on', '67331': 'Eye surgery follow-up add-on', '67332': 'Rerevise eye muscles add-on', '67334': 'Revise eye muscle w/suture', '67335': 'Eye suture during surgery', '67340': 'Revise eye muscle add-on', '67343': 'Release eye tissue', '67345': 'Destroy nerve of eye muscle', '67350': 'Biopsy eye muscle', '67399': 'Eye muscle surgery procedure', '67400': 'Explore/biopsy eye socket', '67405': 'Explore/drain eye socket', '67412': 'Explore/treat eye socket', '67413': 'Explore/treat eye socket', '67414': 'Explr/decompress eye socket', '67415': '\"Aspiration', '67420': 'Explore/treat eye socket', '67430': 'Explore/treat eye socket', '67440': 'Explore/drain eye socket', '67445': 'Explr/decompress eye socket', '67450': 'Explore/biopsy eye socket', '67500': 'Inject/treat eye socket', '67505': 'Inject/treat eye socket', '67515': 'Inject/treat eye socket', '67550': 'Insert eye socket implant', '67560': 'Revise eye socket implant', '67570': 'Decompress optic nerve', '67599': 'Orbit surgery procedure', '67700': 'Drainage of eyelid abscess', '67710': 'Incision of eyelid', '67715': 'Incision of eyelid fold', '67800': 'Remove eyelid lesion', '67801': 'Remove eyelid lesions', '67805': 'Remove eyelid lesions', '67808': 'Remove eyelid lesion(s)', '67810': 'Biopsy of eyelid', '67820': 'Revise eyelashes', '67825': 'Revise eyelashes', '67830': 'Revise eyelashes', '67835': 'Revise eyelashes', '67840': 'Remove eyelid lesion', '67850': 'Treat eyelid lesion', '67875': 'Closure of eyelid by suture', '67880': 'Revision of eyelid', '67882': 'Revision of eyelid', '67900': 'Repair brow defect', '67901': 'Repair eyelid defect', '67902': 'Repair eyelid defect', '67903': 'Repair eyelid defect', '67904': 'Repair eyelid defect', '67906': 'Repair eyelid defect', '67908': 'Repair eyelid defect', '67909': 'Revise eyelid defect', '67911': 'Revise eyelid defect', '67912': 'Correction eyelid w/implant', '67914': 'Repair eyelid defect', '67915': 'Repair eyelid defect', '67916': 'Repair eyelid defect', '67917': 'Repair eyelid defect', '67921': 'Repair eyelid defect', '67922': 'Repair eyelid defect', '67923': 'Repair eyelid defect', '67924': 'Repair eyelid defect', '67930': 'Repair eyelid wound', '67935': 'Repair eyelid wound', '67938': 'Remove eyelid foreign body', '67950': 'Revision of eyelid', '67961': 'Revision of eyelid', '67966': 'Revision of eyelid', '67971': 'Reconstruction of eyelid', '67973': 'Reconstruction of eyelid', '67974': 'Reconstruction of eyelid', '67975': 'Reconstruction of eyelid', '67999': 'Revision of eyelid', '68020': 'Incise/drain eyelid lining', '68040': 'Treatment of eyelid lesions', '68100': 'Biopsy of eyelid lining', '68110': 'Remove eyelid lining lesion', '68115': 'Remove eyelid lining lesion', '68130': 'Remove eyelid lining lesion', '68135': 'Remove eyelid lining lesion', '68200': 'Treat eyelid by injection', '68320': 'Revise/graft eyelid lining', '68325': 'Revise/graft eyelid lining', '68326': 'Revise/graft eyelid lining', '68328': 'Revise/graft eyelid lining', '68330': 'Revise eyelid lining', '68335': 'Revise/graft eyelid lining', '68340': 'Separate eyelid adhesions', '68360': 'Revise eyelid lining', '68362': 'Revise eyelid lining', '68371': '\"Harvest eye tissue', '68399': 'Eyelid lining surgery', '68400': 'Incise/drain tear gland', '68420': 'Incise/drain tear sac', '68440': 'Incise tear duct opening', '68500': 'Removal of tear gland', '68505': '\"Partial removal', '68510': 'Biopsy of tear gland', '68520': 'Removal of tear sac', '68525': 'Biopsy of tear sac', '68530': 'Clearance of tear duct', '68540': 'Remove tear gland lesion', '68550': 'Remove tear gland lesion', '68700': 'Repair tear ducts', '68705': 'Revise tear duct opening', '68720': 'Create tear sac drain', '68745': 'Create tear duct drain', '68750': 'Create tear duct drain', '68760': 'Close tear duct opening', '68761': 'Close tear duct opening', '68770': 'Close tear system fistula', '68801': 'Dilate tear duct opening', '68810': 'Probe nasolacrimal duct', '68811': 'Probe nasolacrimal duct', '68815': 'Probe nasolacrimal duct', '68840': 'Explore/irrigate tear ducts', '68850': 'Injection for tear sac x-ray', '68899': 'Tear duct system surgery', '69000': 'Drain external ear lesion', '69005': 'Drain external ear lesion', '69020': 'Drain outer ear canal lesion', '69090': 'Pierce earlobes', '69100': 'Biopsy of external ear', '69105': 'Biopsy of external ear canal', '69110': '\"Remove external ear', '69120': 'Removal of external ear', '69140': 'Remove ear canal lesion(s)', '69145': 'Remove ear canal lesion(s)', '69150': 'Extensive ear canal surgery', '69155': 'Extensive ear/neck surgery', '69200': 'Clear outer ear canal', '69205': 'Clear outer ear canal', '69210': 'Remove impacted ear wax', '69220': 'Clean out mastoid cavity', '69222': 'Clean out mastoid cavity', '69300': 'Revise external ear', '69310': 'Rebuild outer ear canal', '69320': 'Rebuild outer ear canal', '69399': 'Outer ear surgery procedure', '69400': 'Inflate middle ear canal', '69401': 'Inflate middle ear canal', '69405': 'Catheterize middle ear canal', '69410': 'Inset middle ear (baffle)', '69420': 'Incision of eardrum', '69421': 'Incision of eardrum', '69424': 'Remove ventilating tube', '69433': 'Create eardrum opening', '69436': 'Create eardrum opening', '69440': 'Exploration of middle ear', '69450': 'Eardrum revision', '69501': 'Mastoidectomy', '69502': 'Mastoidectomy', '69505': 'Remove mastoid structures', '69511': 'Extensive mastoid surgery', '69530': 'Extensive mastoid surgery', '69535': 'Remove part of temporal bone', '69540': 'Remove ear lesion', '69550': 'Remove ear lesion', '69552': 'Remove ear lesion', '69554': 'Remove ear lesion', '69601': 'Mastoid surgery revision', '69602': 'Mastoid surgery revision', '69603': 'Mastoid surgery revision', '69604': 'Mastoid surgery revision', '69605': 'Mastoid surgery revision', '69610': 'Repair of eardrum', '69620': 'Repair of eardrum', '69631': 'Repair eardrum structures', '69632': 'Rebuild eardrum structures', '69633': 'Rebuild eardrum structures', '69635': 'Repair eardrum structures', '69636': 'Rebuild eardrum structures', '69637': 'Rebuild eardrum structures', '69641': 'Revise middle ear & mastoid', '69642': 'Revise middle ear & mastoid', '69643': 'Revise middle ear & mastoid', '69644': 'Revise middle ear & mastoid', '69645': 'Revise middle ear & mastoid', '69646': 'Revise middle ear & mastoid', '69650': 'Release middle ear bone', '69660': 'Revise middle ear bone', '69661': 'Revise middle ear bone', '69662': 'Revise middle ear bone', '69666': 'Repair middle ear structures', '69667': 'Repair middle ear structures', '69670': 'Remove mastoid air cells', '69676': 'Remove middle ear nerve', '69700': 'Close mastoid fistula', '69710': 'Implant/replace hearing aid', '69711': 'Remove/repair hearing aid', '69714': 'Implant temple bone w/stimul', '69715': 'Temple bne implnt w/stimulat', '69717': 'Temple bone implant revision', '69718': 'Revise temple bone implant', '69720': 'Release facial nerve', '69725': 'Release facial nerve', '69740': 'Repair facial nerve', '69745': 'Repair facial nerve', '69799': 'Middle ear surgery procedure', '69801': 'Incise inner ear', '69802': 'Incise inner ear', '69805': 'Explore inner ear', '69806': 'Explore inner ear', '69820': 'Establish inner ear window', '69840': 'Revise inner ear window', '69905': 'Remove inner ear', '69910': 'Remove inner ear & mastoid', '69915': 'Incise inner ear nerve', '69930': 'Implant cochlear device', '69949': 'Inner ear surgery procedure', '69950': 'Incise inner ear nerve', '69955': 'Release facial nerve', '69960': 'Release inner ear canal', '69970': 'Remove inner ear lesion', '69979': 'Temporal bone surgery', '69990': 'Microsurgery add-on', '70010': 'Contrast x-ray of brain', '70015': 'Contrast x-ray of brain', '70030': 'X-ray eye for foreign body', '70100': 'X-ray exam of jaw', '70110': 'X-ray exam of jaw', '70120': 'X-ray exam of mastoids', '70130': 'X-ray exam of mastoids', '70134': 'X-ray exam of middle ear', '70140': 'X-ray exam of facial bones', '70150': 'X-ray exam of facial bones', '70160': 'X-ray exam of nasal bones', '70170': 'X-ray exam of tear duct', '70190': 'X-ray exam of eye sockets', '70200': 'X-ray exam of eye sockets', '70210': 'X-ray exam of sinuses', '70220': 'X-ray exam of sinuses', '70240': '\"X-ray exam', '70250': 'X-ray exam of skull', '70260': 'X-ray exam of skull', '70300': 'X-ray exam of teeth', '70310': 'X-ray exam of teeth', '70320': 'Full mouth x-ray of teeth', '70328': 'X-ray exam of jaw joint', '70330': 'X-ray exam of jaw joints', '70332': 'X-ray exam of jaw joint', '70336': '\"Magnetic image', '70350': 'X-ray head for orthodontia', '70355': 'Panoramic x-ray of jaws', '70360': 'X-ray exam of neck', '70370': 'Throat x-ray & fluoroscopy', '70371': '\"Speech evaluation', '70373': 'Contrast x-ray of larynx', '70380': 'X-ray exam of salivary gland', '70390': 'X-ray exam of salivary duct', '70450': 'Ct head/brain w/o dye', '70460': 'Ct head/brain w/dye', '70470': 'Ct head/brain w/o & w/dye', '70480': 'Ct orbit/ear/fossa w/o dye', '70481': 'Ct orbit/ear/fossa w/dye', '70482': 'Ct orbit/ear/fossa w/o&w/dye', '70486': 'Ct maxillofacial w/o dye', '70487': 'Ct maxillofacial w/dye', '70488': 'Ct maxillofacial w/o & w/dye', '70490': 'Ct soft tissue neck w/o dye', '70491': 'Ct soft tissue neck w/dye', '70492': 'Ct sft tsue nck w/o & w/dye', '70496': '\"Ct angiography', '70498': '\"Ct angiography', '70540': 'Mri orbit/face/neck w/o dye', '70542': 'Mri orbit/face/neck w/dye', '70543': 'Mri orbt/fac/nck w/o & w/dye', '70544': 'Mr angiography head w/o dye', '70545': 'Mr angiography head w/dye', '70546': 'Mr angiograph head w/o&w/dye', '70547': 'Mr angiography neck w/o dye', '70548': 'Mr angiography neck w/dye', '70549': 'Mr angiograph neck w/o&w/dye', '70551': 'Mri brain w/o dye', '70552': 'Mri brain w/dye', '70553': 'Mri brain w/o & w/dye', '70557': 'Mri brain w/o dye', '70558': 'Mri brain w/dye', '70559': 'Mri brain w/o & w/dye', '71010': 'Chest x-ray', '71015': 'Chest x-ray', '71020': 'Chest x-ray', '71021': 'Chest x-ray', '71022': 'Chest x-ray', '71023': 'Chest x-ray and fluoroscopy', '71030': 'Chest x-ray', '71034': 'Chest x-ray and fluoroscopy', '71035': 'Chest x-ray', '71040': 'Contrast x-ray of bronchi', '71060': 'Contrast x-ray of bronchi', '71090': 'X-ray & pacemaker insertion', '71100': 'X-ray exam of ribs', '71101': 'X-ray exam of ribs/chest', '71110': 'X-ray exam of ribs', '71111': 'X-ray exam of ribs/chest', '71120': 'X-ray exam of breastbone', '71130': 'X-ray exam of breastbone', '71250': 'Ct thorax w/o dye', '71260': 'Ct thorax w/dye', '71270': 'Ct thorax w/o & w/dye', '71275': '\"Ct angiography', '71550': 'Mri chest w/o dye', '71551': 'Mri chest w/dye', '71552': 'Mri chest w/o & w/dye', '71555': 'Mri angio chest w or w/o dye', '72010': 'X-ray exam of spine', '72020': 'X-ray exam of spine', '72040': 'X-ray exam of neck spine', '72050': 'X-ray exam of neck spine', '72052': 'X-ray exam of neck spine', '72069': 'X-ray exam of trunk spine', '72070': 'X-ray exam of thoracic spine', '72072': 'X-ray exam of thoracic spine', '72074': 'X-ray exam of thoracic spine', '72080': 'X-ray exam of trunk spine', '72090': 'X-ray exam of trunk spine', '72100': 'X-ray exam of lower spine', '72110': 'X-ray exam of lower spine', '72114': 'X-ray exam of lower spine', '72120': 'X-ray exam of lower spine', '72125': 'Ct neck spine w/o dye', '72126': 'Ct neck spine w/dye', '72127': 'Ct neck spine w/o & w/dye', '72128': 'Ct chest spine w/o dye', '72129': 'Ct chest spine w/dye', '72130': 'Ct chest spine w/o & w/dye', '72131': 'Ct lumbar spine w/o dye', '72132': 'Ct lumbar spine w/dye', '72133': 'Ct lumbar spine w/o & w/dye', '72141': 'Mri neck spine w/o dye', '72142': 'Mri neck spine w/dye', '72146': 'Mri chest spine w/o dye', '72147': 'Mri chest spine w/dye', '72148': 'Mri lumbar spine w/o dye', '72149': 'Mri lumbar spine w/dye', '72156': 'Mri neck spine w/o & w/dye', '72157': 'Mri chest spine w/o & w/dye', '72158': 'Mri lumbar spine w/o & w/dye', '72159': 'Mr angio spine w/o&w/dye', '72170': 'X-ray exam of pelvis', '72190': 'X-ray exam of pelvis', '72191': 'Ct angiograph pelv w/o&w/dye', '72192': 'Ct pelvis w/o dye', '72193': 'Ct pelvis w/dye', '72194': 'Ct pelvis w/o & w/dye', '72195': 'Mri pelvis w/o dye', '72196': 'Mri pelvis w/dye', '72197': 'Mri pelvis w/o & w/dye', '72198': 'Mr angio pelvis w/o & w/dye', '72200': 'X-ray exam sacroiliac joints', '72202': 'X-ray exam sacroiliac joints', '72220': 'X-ray exam of tailbone', '72240': 'Contrast x-ray of neck spine', '72255': '\"Contrast x-ray', '72265': '\"Contrast x-ray', '72270': '\"Contrast x-ray', '72275': 'Epidurography', '72285': 'X-ray c/t spine disk', '72295': 'X-ray of lower spine disk', '73000': 'X-ray exam of collar bone', '73010': 'X-ray exam of shoulder blade', '73020': 'X-ray exam of shoulder', '73030': 'X-ray exam of shoulder', '73040': 'Contrast x-ray of shoulder', '73050': 'X-ray exam of shoulders', '73060': 'X-ray exam of humerus', '73070': 'X-ray exam of elbow', '73080': 'X-ray exam of elbow', '73085': 'Contrast x-ray of elbow', '73090': 'X-ray exam of forearm', '73092': '\"X-ray exam of arm', '73100': 'X-ray exam of wrist', '73110': 'X-ray exam of wrist', '73115': 'Contrast x-ray of wrist', '73120': 'X-ray exam of hand', '73130': 'X-ray exam of hand', '73140': 'X-ray exam of finger(s)', '73200': 'Ct upper extremity w/o dye', '73201': 'Ct upper extremity w/dye', '73202': 'Ct uppr extremity w/o&w/dye', '73206': 'Ct angio upr extrm w/o&w/dye', '73218': 'Mri upper extremity w/o dye', '73219': 'Mri upper extremity w/dye', '73220': 'Mri uppr extremity w/o&w/dye', '73221': 'Mri joint upr extrem w/o dye', '73222': 'Mri joint upr extrem w/dye', '73223': 'Mri joint upr extr w/o&w/dye', '73225': 'Mr angio upr extr w/o&w/dye', '73500': 'X-ray exam of hip', '73510': 'X-ray exam of hip', '73520': 'X-ray exam of hips', '73525': 'Contrast x-ray of hip', '73530': 'X-ray exam of hip', '73540': 'X-ray exam of pelvis & hips', '73542': '\"X-ray exam', '73550': 'X-ray exam of thigh', '73560': '\"X-ray exam of knee', '73562': '\"X-ray exam of knee', '73564': '\"X-ray exam', '73565': 'X-ray exam of knees', '73580': 'Contrast x-ray of knee joint', '73590': 'X-ray exam of lower leg', '73592': '\"X-ray exam of leg', '73600': 'X-ray exam of ankle', '73610': 'X-ray exam of ankle', '73615': 'Contrast x-ray of ankle', '73620': 'X-ray exam of foot', '73630': 'X-ray exam of foot', '73650': 'X-ray exam of heel', '73660': 'X-ray exam of toe(s)', '73700': 'Ct lower extremity w/o dye', '73701': 'Ct lower extremity w/dye', '73702': 'Ct lwr extremity w/o&w/dye', '73706': 'Ct angio lwr extr w/o&w/dye', '73718': 'Mri lower extremity w/o dye', '73719': 'Mri lower extremity w/dye', '73720': 'Mri lwr extremity w/o&w/dye', '73721': 'Mri jnt of lwr extre w/o dye', '73722': 'Mri joint of lwr extr w/dye', '73723': 'Mri joint lwr extr w/o&w/dye', '73725': 'Mr ang lwr ext w or w/o dye', '74000': 'X-ray exam of abdomen', '74010': 'X-ray exam of abdomen', '74020': 'X-ray exam of abdomen', '74022': '\"X-ray exam series', '74150': 'Ct abdomen w/o dye', '74160': 'Ct abdomen w/dye', '74170': 'Ct abdomen w/o & w/dye', '74175': 'Ct angio abdom w/o & w/dye', '74181': 'Mri abdomen w/o dye', '74182': 'Mri abdomen w/dye', '74183': 'Mri abdomen w/o & w/dye', '74185': '\"Mri angio', '74190': 'X-ray exam of peritoneum', '74210': 'Contrst x-ray exam of throat', '74220': '\"Contrast x-ray', '74230': '\"Cine/vid x-ray', '74235': 'Remove esophagus obstruction', '74240': '\"X-ray exam', '74241': '\"X-ray exam', '74245': '\"X-ray exam', '74246': 'Contrst x-ray uppr gi tract', '74247': 'Contrst x-ray uppr gi tract', '74249': 'Contrst x-ray uppr gi tract', '74250': 'X-ray exam of small bowel', '74251': 'X-ray exam of small bowel', '74260': 'X-ray exam of small bowel', '74270': 'Contrast x-ray exam of colon', '74280': 'Contrast x-ray exam of colon', '74283': 'Contrast x-ray exam of colon', '74290': '\"Contrast x-ray', '74291': '\"Contrast x-rays', '74300': 'X-ray bile ducts/pancreas', '74301': 'X-rays at surgery add-on', '74305': 'X-ray bile ducts/pancreas', '74320': 'Contrast x-ray of bile ducts', '74327': 'X-ray bile stone removal', '74328': 'X-ray bile duct endoscopy', '74329': 'X-ray for pancreas endoscopy', '74330': 'X-ray bile/panc endoscopy', '74340': 'X-ray guide for GI tube', '74350': '\"X-ray guide', '74355': '\"X-ray guide', '74360': '\"X-ray guide', '74363': '\"X-ray', '74400': '\"Contrst x-ray', '74410': '\"Contrst x-ray', '74415': '\"Contrst x-ray', '74420': '\"Contrst x-ray', '74425': '\"Contrst x-ray', '74430': '\"Contrast x-ray', '74440': '\"X-ray', '74445': 'X-ray exam of penis', '74450': '\"X-ray', '74455': '\"X-ray', '74470': 'X-ray exam of kidney lesion', '74475': '\"X-ray control', '74480': '\"X-ray control', '74485': '\"X-ray guide', '74710': 'X-ray measurement of pelvis', '74740': '\"X-ray', '74742': '\"X-ray', '74775': 'X-ray exam of perineum', '75552': 'Heart mri for morph w/o dye', '75553': 'Heart mri for morph w/dye', '75554': 'Cardiac MRI/function', '75555': 'Cardiac MRI/limited study', '75556': 'Cardiac MRI/flow mapping', '75600': 'Contrast x-ray exam of aorta', '75605': 'Contrast x-ray exam of aorta', '75625': 'Contrast x-ray exam of aorta', '75630': '\"X-ray aorta', '75635': 'Ct angio abdominal arteries', '75650': '\"Artery x-rays', '75658': '\"Artery x-rays', '75660': '\"Artery x-rays', '75662': '\"Artery x-rays', '75665': '\"Artery x-rays', '75671': '\"Artery x-rays', '75676': '\"Artery x-rays', '75680': '\"Artery x-rays', '75685': '\"Artery x-rays', '75705': '\"Artery x-rays', '75710': '\"Artery x-rays', '75716': '\"Artery x-rays', '75722': '\"Artery x-rays', '75724': '\"Artery x-rays', '75726': '\"Artery x-rays', '75731': '\"Artery x-rays', '75733': '\"Artery x-rays', '75736': '\"Artery x-rays', '75741': '\"Artery x-rays', '75743': '\"Artery x-rays', '75746': '\"Artery x-rays', '75756': '\"Artery x-rays', '75774': '\"Artery x-ray', '75790': 'Visualize A-V shunt', '75801': '\"Lymph vessel x-ray', '75803': '\"Lymph vessel x-ray', '75805': '\"Lymph vessel x-ray', '75807': '\"Lymph vessel x-ray', '75809': '\"Nonvascular shunt', '75810': '\"Vein x-ray', '75820': '\"Vein x-ray', '75822': '\"Vein x-ray', '75825': '\"Vein x-ray', '75827': '\"Vein x-ray', '75831': '\"Vein x-ray', '75833': '\"Vein x-ray', '75840': '\"Vein x-ray', '75842': '\"Vein x-ray', '75860': '\"Vein x-ray', '75870': '\"Vein x-ray', '75872': '\"Vein x-ray', '75880': '\"Vein x-ray', '75885': '\"Vein x-ray', '75887': '\"Vein x-ray', '75889': '\"Vein x-ray', '75891': '\"Vein x-ray', '75893': 'Venous sampling by catheter', '75894': '\"X-rays', '75896': '\"X-rays', '75898': 'Follow-up angiography', '75900': 'Arterial catheter exchange', '75901': 'Remove cva device obstruct', '75902': 'Remove cva lumen obstruct', '75940': '\"X-ray placement', '75945': 'Intravascular us', '75946': 'Intravascular us add-on', '75952': 'Endovasc repair abdom aorta', '75953': 'Abdom aneurysm endovas rpr', '75954': 'Iliac aneurysm endovas rpr', '75960': 'Transcath iv stent rs&i', '75961': '\"Retrieval', '75962': 'Repair arterial blockage', '75964': '\"Repair artery blockage', '75966': 'Repair arterial blockage', '75968': '\"Repair artery blockage', '75970': 'Vascular biopsy', '75978': 'Repair venous blockage', '75980': 'Contrast xray exam bile duct', '75982': 'Contrast xray exam bile duct', '75984': 'Xray control catheter change', '75989': 'Abscess drainage under x-ray', '75992': '\"Atherectomy', '75993': '\"Atherectomy', '75994': '\"Atherectomy', '75995': '\"Atherectomy', '75996': '\"Atherectomy', '75998': 'Fluoroguide for vein device', '76000': 'Fluoroscope examination', '76001': '\"Fluoroscope exam', '76003': 'Needle localization by x-ray', '76005': 'Fluoroguide for spine inject', '76006': 'X-ray stress view', '76010': '\"X-ray', '76012': 'Percut vertebroplasty fluor', '76013': '\"Percut vertebroplasty', '76020': 'X-rays for bone age', '76040': '\"X-rays', '76061': '\"X-rays', '76062': '\"X-rays', '76065': '\"X-rays', '76066': '\"Joint survey', '76070': '\"Ct bone density', '76071': '\"Ct bone density', '76075': '\"Dxa bone density', '76076': 'Dxa bone density/peripheral', '76077': 'Dxa bone density/v-fracture', '76078': 'Radiographic absorptiometry', '76080': 'X-ray exam of fistula', '76082': 'Computer mammogram add-on', '76083': 'Computer mammogram add-on', '76086': 'X-ray of mammary duct', '76088': 'X-ray of mammary ducts', '76090': '\"Mammogram', '76091': '\"Mammogram', '76092': '\"Mammogram', '76093': '\"Magnetic image', '76094': '\"Magnetic image', '76095': 'Stereotactic breast biopsy', '76096': '\"X-ray of needle wire', '76098': '\"X-ray exam', '76100': 'X-ray exam of body section', '76101': 'Complex body section x-ray', '76102': 'Complex body section x-rays', '76120': 'Cine/video x-rays', '76125': 'Cine/video x-rays add-on', '76140': 'X-ray consultation', '76150': '\"X-ray exam', '76350': 'Special x-ray contrast study', '76355': 'Ct scan for localization', '76360': 'Ct scan for needle biopsy', '76362': 'Ct guide for tissue ablation', '76370': 'Ct scan for therapy guide', '76375': '3d/holograph reconstr add-on', '76380': 'CAT scan follow-up study', '76390': 'Mr spectroscopy', '76393': 'Mr guidance for needle place', '76394': 'Mri for tissue ablation', '76400': '\"Magnetic image', '76496': 'Fluoroscopic procedure', '76497': 'Ct procedure', '76498': 'Mri procedure', '76499': 'Radiographic procedure', '76506': 'Echo exam of head', '76510': '\"Ophth us', '76511': '\"Ophth us', '76512': '\"Ophth us', '76513': '\"Echo exam of eye', '76514': '\"Echo exam of eye', '76516': 'Echo exam of eye', '76519': 'Echo exam of eye', '76529': 'Echo exam of eye', '76536': 'Us exam of head and neck', '76604': '\"Us exam', '76645': '\"Us exam', '76700': '\"Us exam', '76705': 'Echo exam of abdomen', '76770': '\"Us exam abdo back wall', '76775': '\"Us exam abdo back wall', '76778': 'Us exam kidney transplant', '76800': '\"Us exam', '76801': '\"Ob us < 14 wks', '76802': '\"Ob us < 14 wks', '76805': '\"Ob us >/= 14 wks', '76810': '\"Ob us >/= 14 wks', '76811': '\"Ob us', '76812': '\"Ob us', '76815': '\"Ob us', '76816': '\"Ob us', '76817': '\"Transvaginal us', '76818': 'Fetal biophys profile w/nst', '76819': 'Fetal biophys profil w/o nst', '76820': 'Umbilical artery echo', '76821': 'Middle cerebral artery echo', '76825': 'Echo exam of fetal heart', '76826': 'Echo exam of fetal heart', '76827': 'Echo exam of fetal heart', '76828': 'Echo exam of fetal heart', '76830': '\"Transvaginal us', '76831': '\"Echo exam', '76856': '\"Us exam', '76857': '\"Us exam', '76870': '\"Us exam', '76872': '\"Us', '76873': '\"Echograp trans r', '76880': '\"Us exam', '76885': '\"Us exam infant hips', '76886': '\"Us exam infant hips', '76930': '\"Echo guide', '76932': 'Echo guide for heart biopsy', '76936': 'Echo guide for artery repair', '76937': '\"Us guide', '76940': '\"Us guide', '76941': 'Echo guide for transfusion', '76942': 'Echo guide for biopsy', '76945': '\"Echo guide', '76946': 'Echo guide for amniocentesis', '76948': '\"Echo guide', '76950': 'Echo guidance radiotherapy', '76965': 'Echo guidance radiotherapy', '76970': 'Ultrasound exam follow-up', '76975': 'GI endoscopic ultrasound', '76977': 'Us bone density measure', '76986': 'Ultrasound guide intraoper', '76999': 'Echo examination procedure', '77261': 'Radiation therapy planning', '77262': 'Radiation therapy planning', '77263': 'Radiation therapy planning', '77280': 'Set radiation therapy field', '77285': 'Set radiation therapy field', '77290': 'Set radiation therapy field', '77295': 'Set radiation therapy field', '77299': 'Radiation therapy planning', '77300': 'Radiation therapy dose plan', '77301': '\"Radiotherapy dose plan', '77305': 'Teletx isodose plan simple', '77310': 'Teletx isodose plan intermed', '77315': 'Teletx isodose plan complex', '77321': 'Special teletx port plan', '77326': 'Brachytx isodose calc simp', '77327': 'Brachytx isodose calc interm', '77328': 'Brachytx isodose plan compl', '77331': 'Special radiation dosimetry', '77332': 'Radiation treatment aid(s)', '77333': 'Radiation treatment aid(s)', '77334': 'Radiation treatment aid(s)', '77336': 'Radiation physics consult', '77370': 'Radiation physics consult', '77399': 'External radiation dosimetry', '77401': 'Radiation treatment delivery', '77402': 'Radiation treatment delivery', '77403': 'Radiation treatment delivery', '77404': 'Radiation treatment delivery', '77406': 'Radiation treatment delivery', '77407': 'Radiation treatment delivery', '77408': 'Radiation treatment delivery', '77409': 'Radiation treatment delivery', '77411': 'Radiation treatment delivery', '77412': 'Radiation treatment delivery', '77413': 'Radiation treatment delivery', '77414': 'Radiation treatment delivery', '77416': 'Radiation treatment delivery', '77417': 'Radiology port film(s)', '77418': '\"Radiation tx delivery', '77427': '\"Radiation tx management', '77431': 'Radiation therapy management', '77432': 'Stereotactic radiation trmt', '77470': 'Special radiation treatment', '77499': 'Radiation therapy management', '77520': '\"Proton trmt', '77522': '\"Proton trmt', '77523': '\"Proton trmt', '77525': '\"Proton treatment', '77600': 'Hyperthermia treatment', '77605': 'Hyperthermia treatment', '77610': 'Hyperthermia treatment', '77615': 'Hyperthermia treatment', '77620': 'Hyperthermia treatment', '77750': 'Infuse radioactive materials', '77761': 'Apply intrcav radiat simple', '77762': 'Apply intrcav radiat interm', '77763': 'Apply intrcav radiat compl', '77776': 'Apply interstit radiat simpl', '77777': 'Apply interstit radiat inter', '77778': 'Apply interstit radiat compl', '77781': 'High intensity brachytherapy', '77782': 'High intensity brachytherapy', '77783': 'High intensity brachytherapy', '77784': 'High intensity brachytherapy', '77789': 'Apply surface radiation', '77790': 'Radiation handling', '77799': 'Radium/radioisotope therapy', '78000': '\"Thyroid', '78001': '\"Thyroid', '78003': 'Thyroid suppress/stimul', '78006': 'Thyroid imaging with uptake', '78007': '\"Thyroid image', '78010': 'Thyroid imaging', '78011': 'Thyroid imaging with flow', '78015': 'Thyroid met imaging', '78016': 'Thyroid met imaging/studies', '78018': '\"Thyroid met imaging', '78020': 'Thyroid met uptake', '78070': 'Parathyroid nuclear imaging', '78075': 'Adrenal nuclear imaging', '78099': 'Endocrine nuclear procedure', '78102': '\"Bone marrow imaging', '78103': '\"Bone marrow imaging', '78104': '\"Bone marrow imaging', '78110': '\"Plasma volume', '78111': '\"Plasma volume', '78120': '\"Red cell mass', '78121': '\"Red cell mass', '78122': 'Blood volume', '78130': 'Red cell survival study', '78135': 'Red cell survival kinetics', '78140': 'Red cell sequestration', '78160': 'Plasma iron turnover', '78162': 'Radioiron absorption exam', '78170': 'Red cell iron utilization', '78172': 'Total body iron estimation', '78185': 'Spleen imaging', '78190': '\"Platelet survival', '78191': 'Platelet survival', '78195': 'Lymph system imaging', '78199': 'Blood/lymph nuclear exam', '78201': 'Liver imaging', '78202': 'Liver imaging with flow', '78205': 'Liver imaging (3D)', '78206': 'Liver image (3d) with flow', '78215': 'Liver and spleen imaging', '78216': 'Liver & spleen image/flow', '78220': 'Liver function study', '78223': 'Hepatobiliary imaging', '78230': 'Salivary gland imaging', '78231': 'Serial salivary imaging', '78232': 'Salivary gland function exam', '78258': 'Esophageal motility study', '78261': 'Gastric mucosa imaging', '78262': 'Gastroesophageal reflux exam', '78264': 'Gastric emptying study', '78267': 'Breath tst attain/anal c-14', '78268': '\"Breath test analysis', '78270': 'Vit B-12 absorption exam', '78271': '\"Vit b-12 absrp exam', '78272': '\"Vit B-12 absorp', '78278': 'Acute GI blood loss imaging', '78282': 'GI protein loss exam', '78290': 'Meckel?s divert exam', '78291': 'Leveen/shunt patency exam', '78299': 'GI nuclear procedure', '78300': '\"Bone imaging', '78305': '\"Bone imaging', '78306': '\"Bone imaging', '78315': '\"Bone imaging', '78320': 'Bone imaging (3D)', '78350': '\"Bone mineral', '78351': '\"Bone mineral', '78399': 'Musculoskeletal nuclear exam', '78414': 'Non-imaging heart function', '78428': 'Cardiac shunt imaging', '78445': 'Vascular flow imaging', '78455': 'Venous thrombosis study', '78456': 'Acute venous thrombus image', '78457': 'Venous thrombosis imaging', '78458': '\"Ven thrombosis images', '78459': 'Heart muscle imaging (PET)', '78460': '\"Heart muscle blood', '78461': '\"Heart muscle blood', '78464': '\"Heart image (3d)', '78465': '\"Heart image (3d)', '78466': 'Heart infarct image', '78468': 'Heart infarct image (ef)', '78469': 'Heart infarct image (3D)', '78472': '\"Gated heart', '78473': '\"Gated heart', '78478': 'Heart wall motion add-on', '78480': 'Heart function add-on', '78481': '\"Heart first pass', '78483': '\"Heart first pass', '78491': '\"Heart image (pet)', '78492': '\"Heart image (pet)', '78494': '\"Heart image', '78496': 'Heart first pass add-on', '78499': 'Cardiovascular nuclear exam', '78580': 'Lung perfusion imaging', '78584': 'Lung V/Q image single breath', '78585': 'Lung V/Q imaging', '78586': '\"Aerosol lung image', '78587': '\"Aerosol lung image', '78588': 'Perfusion lung image', '78591': '\"Vent image', '78593': '\"Vent image', '78594': '\"Vent image', '78596': 'Lung differential function', '78599': 'Respiratory nuclear exam', '78600': '\"Brain imaging', '78601': '\"Brain imaging', '78605': '\"Brain imaging', '78606': '\"Brain imaging', '78607': 'Brain imaging (3D)', '78608': 'Brain imaging (PET)', '78609': 'Brain imaging (PET)', '78610': 'Brain flow imaging only', '78615': 'Cerebral vascular flow image', '78630': 'Cerebrospinal fluid scan', '78635': 'CSF ventriculography', '78645': 'CSF shunt evaluation', '78647': 'Cerebrospinal fluid scan', '78650': 'CSF leakage imaging', '78660': 'Nuclear exam of tear flow', '78699': 'Nervous system nuclear exam', '78700': '\"Kidney imaging', '78701': 'Kidney imaging with flow', '78704': 'Imaging renogram', '78707': 'Kidney flow/function image', '78708': 'Kidney flow/function image', '78709': 'Kidney flow/function image', '78710': 'Kidney imaging (3D)', '78715': 'Renal vascular flow exam', '78725': 'Kidney function study', '78730': 'Urinary bladder retention', '78740': 'Ureteral reflux study', '78760': 'Testicular imaging', '78761': 'Testicular imaging/flow', '78799': 'Genitourinary nuclear exam', '78800': '\"Tumor imaging', '78801': '\"Tumor imaging', '78802': '\"Tumor imaging', '78803': 'Tumor imaging (3D)', '78804': '\"Tumor imaging', '78805': '\"Abscess imaging', '78806': '\"Abscess imaging', '78807': 'Nuclear localization/abscess', '78811': '\"Tumor imaging (pet)', '78812': 'Tumor image (pet)/skul-thigh', '78813': 'Tumor image (pet) full body', '78814': '\"Tumor image pet/ct', '78815': 'Tumorimage pet/ct skul-thigh', '78816': 'Tumor image pet/ct full body', '78890': 'Nuclear medicine data proc', '78891': 'Nuclear med data proc', '78999': 'Nuclear diagnostic exam', '79005': '\"Nuclear rx', '79101': '\"Nuclear rx', '79200': '\"Nuclear rx', '79300': '\"Nuclr rx', '79403': 'Hematopoietic nuclear tx', '79440': '\"Nuclear rx', '79445': '\"Nuclear rx', '79999': 'Nuclear medicine therapy', '80048': 'Basic metabolic panel', '80050': 'General health panel', '80051': 'Electrolyte panel', '80053': 'Comprehen metabolic panel', '80055': 'Obstetric panel', '80061': 'Lipid panel', '80069': 'Renal function panel', '80074': 'Acute hepatitis panel', '80076': 'Hepatic function panel', '80100': '\"Drug screen', '80101': '\"Drug screen', '80102': 'Drug confirmation', '80103': '\"Drug analysis', '80150': 'Assay of amikacin', '80152': 'Assay of amitriptyline', '80154': 'Assay of benzodiazepines', '80156': '\"Assay', '80157': '\"Assay', '80158': 'Assay of cyclosporine', '80160': 'Assay of desipramine', '80162': 'Assay of digoxin', '80164': '\"Assay', '80166': 'Assay of doxepin', '80168': 'Assay of ethosuximide', '80170': 'Assay of gentamicin', '80172': 'Assay of gold', '80173': 'Assay of haloperidol', '80174': 'Assay of imipramine', '80176': 'Assay of lidocaine', '80178': 'Assay of lithium', '80182': 'Assay of nortriptyline', '80184': 'Assay of phenobarbital', '80185': '\"Assay of phenytoin', '80186': '\"Assay of phenytoin', '80188': 'Assay of primidone', '80190': 'Assay of procainamide', '80192': 'Assay of procainamide', '80194': 'Assay of quinidine', '80196': 'Assay of salicylate', '80197': 'Assay of tacrolimus', '80198': 'Assay of theophylline', '80200': 'Assay of tobramycin', '80201': 'Assay of topiramate', '80202': 'Assay of vancomycin', '80299': '\"Quantitative assay', '80400': 'Acth stimulation panel', '80402': 'Acth stimulation panel', '80406': 'Acth stimulation panel', '80408': 'Aldosterone suppression eval', '80410': 'Calcitonin stimul panel', '80412': 'CRH stimulation panel', '80414': 'Testosterone response', '80415': 'Estradiol response panel', '80416': 'Renin stimulation panel', '80417': 'Renin stimulation panel', '80418': 'Pituitary evaluation panel', '80420': 'Dexamethasone panel', '80422': 'Glucagon tolerance panel', '80424': 'Glucagon tolerance panel', '80426': 'Gonadotropin hormone panel', '80428': 'Growth hormone panel', '80430': 'Growth hormone panel', '80432': 'Insulin suppression panel', '80434': 'Insulin tolerance panel', '80435': 'Insulin tolerance panel', '80436': 'Metyrapone panel', '80438': 'TRH stimulation panel', '80439': 'TRH stimulation panel', '80440': 'TRH stimulation panel', '80500': 'Lab pathology consultation', '80502': 'Lab pathology consultation', '81000': '\"Urinalysis', '81001': '\"Urinalysis', '81002': 'Urinalysis nonauto w/o scope', '81003': '\"Urinalysis', '81005': 'Urinalysis', '81007': 'Urine screen for bacteria', '81015': 'Microscopic exam of urine', '81020': '\"Urinalysis', '81025': 'Urine pregnancy test', '81050': '\"Urinalysis', '81099': 'Urinalysis test procedure', '82000': 'Assay of blood acetaldehyde', '82003': 'Assay of acetaminophen', '82009': 'Test for acetone/ketones', '82010': 'Acetone assay', '82013': 'Acetylcholinesterase assay', '82016': '\"Acylcarnitines', '82017': '\"Acylcarnitines', '82024': 'Assay of acth', '82030': 'Assay of adp & amp', '82040': 'Assay of serum albumin', '82042': 'Assay of urine albumin', '82043': '\"Microalbumin', '82044': '\"Microalbumin', '82045': '\"Albumin', '82055': 'Assay of ethanol', '82075': 'Assay of breath ethanol', '82085': 'Assay of aldolase', '82088': 'Assay of aldosterone', '82101': 'Assay of urine alkaloids', '82103': '\"Alpha-1-antitrypsin', '82104': '\"Alpha-1-antitrypsin', '82105': '\"Alpha-fetoprotein', '82106': '\"Alpha-fetoprotein', '82108': 'Assay of aluminum', '82120': '\"Amines', '82127': '\"Amino acid', '82128': '\"Amino acids', '82131': '\"Amino acids', '82135': '\"Assay', '82136': '\"Amino acids', '82139': '\"Amino acids', '82140': 'Assay of ammonia', '82143': 'Amniotic fluid scan', '82145': 'Assay of amphetamines', '82150': 'Assay of amylase', '82154': 'Androstanediol glucuronide', '82157': 'Assay of androstenedione', '82160': 'Assay of androsterone', '82163': 'Assay of angiotensin II', '82164': 'Angiotensin I enzyme test', '82172': 'Assay of apolipoprotein', '82175': 'Assay of arsenic', '82180': 'Assay of ascorbic acid', '82190': 'Atomic absorption', '82205': 'Assay of barbiturates', '82232': 'Assay of beta-2 protein', '82239': '\"Bile acids', '82240': '\"Bile acids', '82247': '\"Bilirubin', '82248': '\"Bilirubin', '82252': 'Fecal bilirubin test', '82261': 'Assay of biotinidase', '82270': '\"Test for blood', '82273': '\"Test for blood', '82274': '\"Assay test for blood', '82286': 'Assay of bradykinin', '82300': 'Assay of cadmium', '82306': 'Assay of vitamin D', '82307': 'Assay of vitamin D', '82308': 'Assay of calcitonin', '82310': 'Assay of calcium', '82330': 'Assay of calcium', '82331': 'Calcium infusion test', '82340': 'Assay of calcium in urine', '82355': '\"Calculus analysis', '82360': '\"Calculus assay', '82365': 'Calculus spectroscopy', '82370': '\"X-ray assay', '82373': '\"Assay', '82374': '\"Assay', '82375': '\"Assay', '82376': 'Test for carbon monoxide', '82378': 'Carcinoembryonic antigen', '82379': 'Assay of carnitine', '82380': 'Assay of carotene', '82382': '\"Assay', '82383': '\"Assay', '82384': '\"Assay', '82387': 'Assay of cathepsin-d', '82390': 'Assay of ceruloplasmin', '82397': 'Chemiluminescent assay', '82415': 'Assay of chloramphenicol', '82435': 'Assay of blood chloride', '82436': 'Assay of urine chloride', '82438': '\"Assay', '82441': 'Test for chlorohydrocarbons', '82465': '\"Assay', '82480': '\"Assay', '82482': '\"Assay', '82485': '\"Assay', '82486': 'Gas/liquid chromatography', '82487': 'Paper chromatography', '82488': 'Paper chromatography', '82489': 'Thin layer chromatography', '82491': '\"Chromotography', '82492': '\"Chromotography', '82495': 'Assay of chromium', '82507': 'Assay of citrate', '82520': 'Assay of cocaine', '82523': 'Collagen crosslinks', '82525': 'Assay of copper', '82528': 'Assay of corticosterone', '82530': '\"Cortisol', '82533': 'Total cortisol', '82540': 'Assay of creatine', '82541': '\"Column chromotography', '82542': '\"Column chromotography', '82543': 'Column chromotograph/isotope', '82544': 'Column chromotograph/isotope', '82550': 'Assay of ck (cpk)', '82552': 'Assay of cpk in blood', '82553': '\"Creatine', '82554': '\"Creatine', '82565': 'Assay of creatinine', '82570': 'Assay of urine creatinine', '82575': 'Creatinine clearance test', '82585': 'Assay of cryofibrinogen', '82595': 'Assay of cryoglobulin', '82600': 'Assay of cyanide', '82607': 'Vitamin B-12', '82608': 'B-12 binding capacity', '82615': 'Test for urine cystines', '82626': 'Dehydroepiandrosterone', '82627': 'Dehydroepiandrosterone', '82633': 'Desoxycorticosterone', '82634': 'Deoxycortisol', '82638': 'Assay of dibucaine number', '82646': 'Assay of dihydrocodeinone', '82649': 'Assay of dihydromorphinone', '82651': 'Assay of dihydrotestosterone', '82652': 'Assay of dihydroxyvitamin d', '82654': 'Assay of dimethadione', '82656': '\"Pancreatic elastase', '82657': 'Enzyme cell activity', '82658': '\"Enzyme cell activity', '82664': 'Electrophoretic test', '82666': 'Assay of epiandrosterone', '82668': 'Assay of erythropoietin', '82670': 'Assay of estradiol', '82671': 'Assay of estrogens', '82672': 'Assay of estrogen', '82677': 'Assay of estriol', '82679': 'Assay of estrone', '82690': 'Assay of ethchlorvynol', '82693': 'Assay of ethylene glycol', '82696': 'Assay of etiocholanolone', '82705': '\"Fats/lipids', '82710': '\"Fats/lipids', '82715': 'Assay of fecal fat', '82725': 'Assay of blood fatty acids', '82726': 'Long chain fatty acids', '82728': 'Assay of ferritin', '82731': 'Assay of fetal fibronectin', '82735': 'Assay of fluoride', '82742': 'Assay of flurazepam', '82746': 'Blood folic acid serum', '82747': '\"Assay of folic acid', '82757': 'Assay of semen fructose', '82759': 'Assay of rbc galactokinase', '82760': 'Assay of galactose', '82775': 'Assay galactose transferase', '82776': 'Galactose transferase test', '82784': 'Assay of gammaglobulin igm', '82785': 'Assay of gammaglobulin ige', '82787': '\"Igg 1', '82800': 'Blood pH', '82803': '\"Blood gases: pH', '82805': 'Blood gases W/02 saturation', '82810': '\"Blood gases', '82820': 'Hemoglobin-oxygen affinity', '82926': 'Assay of gastric acid', '82928': 'Assay of gastric acid', '82938': 'Gastrin test', '82941': 'Assay of gastrin', '82943': 'Assay of glucagon', '82945': 'Glucose other fluid', '82946': 'Glucagon tolerance test', '82947': '\"Assay', '82948': 'Reagent strip/blood glucose', '82950': 'Glucose test', '82951': 'Glucose tolerance test (GTT)', '82952': 'GTT-added samples', '82953': 'Glucose-tolbutamide test', '82955': 'Assay of g6pd enzyme', '82960': 'Test for G6PD enzyme', '82962': 'Glucose blood test', '82963': 'Assay of glucosidase', '82965': 'Assay of gdh enzyme', '82975': 'Assay of glutamine', '82977': 'Assay of GGT', '82978': 'Assay of glutathione', '82979': '\"Assay', '82980': 'Assay of glutethimide', '82985': 'Glycated protein', '83001': 'Gonadotropin (FSH)', '83002': 'Gonadotropin (LH)', '83003': '\"Assay', '83008': 'Assay of guanosine', '83009': '\"H pylori (c-13)', '83010': '\"Assay of haptoglobin', '83012': 'Assay of haptoglobins', '83013': '\"H pylori (c-13)', '83014': 'H pylori drug admin', '83015': 'Heavy metal screen', '83018': '\"Quantitative screen', '83020': 'Hemoglobin electrophoresis', '83021': 'Hemoglobin chromotography', '83026': '\"Hemoglobin', '83030': '\"Fetal hemoglobin', '83033': '\"Fetal hemoglobin assay', '83036': 'Glycated hemoglobin test', '83045': 'Blood methemoglobin test', '83050': 'Blood methemoglobin assay', '83051': 'Assay of plasma hemoglobin', '83055': 'Blood sulfhemoglobin test', '83060': 'Blood sulfhemoglobin assay', '83065': 'Assay of hemoglobin heat', '83068': 'Hemoglobin stability screen', '83069': 'Assay of urine hemoglobin', '83070': '\"Assay of hemosiderin', '83071': '\"Assay of hemosiderin', '83080': 'Assay of b hexosaminidase', '83088': 'Assay of histamine', '83090': 'Assay of homocystine', '83150': 'Assay of for hva', '83491': 'Assay of corticosteroids', '83497': 'Assay of 5-hiaa', '83498': 'Assay of progesterone', '83499': 'Assay of progesterone', '83500': '\"Assay', '83505': '\"Assay', '83516': '\"Immunoassay', '83518': '\"Immunoassay', '83519': '\"Immunoassay', '83520': '\"Immunoassay', '83525': 'Assay of insulin', '83527': 'Assay of insulin', '83528': 'Assay of intrinsic factor', '83540': 'Assay of iron', '83550': 'Iron binding test', '83570': 'Assay of idh enzyme', '83582': 'Assay of ketogenic steroids', '83586': 'Assay 17- ketosteroids', '83593': '\"Fractionation', '83605': 'Assay of lactic acid', '83615': 'Lactate (LD) (LDH) enzyme', '83625': 'Assay of ldh enzymes', '83630': '\"Lactoferrin', '83632': 'Placental lactogen', '83633': 'Test urine for lactose', '83634': 'Assay of urine for lactose', '83655': 'Assay of lead', '83661': '\"L/s ratio', '83662': '\"Foam stability', '83663': '\"Fluoro polarize', '83664': '\"Lamellar bdy', '83670': 'Assay of lap enzyme', '83690': 'Assay of lipase', '83715': 'Assay of blood lipoproteins', '83716': 'Assay of blood lipoproteins', '83718': 'Assay of lipoprotein', '83719': 'Assay of blood lipoprotein', '83721': 'Assay of blood lipoprotein', '83727': 'Assay of lrh hormone', '83735': 'Assay of magnesium', '83775': 'Assay of md enzyme', '83785': 'Assay of manganese', '83788': 'Mass spectrometry qual', '83789': 'Mass spectrometry quant', '83805': 'Assay of meprobamate', '83825': 'Assay of mercury', '83835': 'Assay of metanephrines', '83840': 'Assay of methadone', '83857': 'Assay of methemalbumin', '83858': 'Assay of methsuximide', '83864': 'Mucopolysaccharides', '83866': 'Mucopolysaccharides screen', '83872': 'Assay synovial fluid mucin', '83873': 'Assay of csf protein', '83874': 'Assay of myoglobin', '83880': 'Natriuretic peptide', '83883': '\"Assay', '83885': 'Assay of nickel', '83887': 'Assay of nicotine', '83890': 'Molecule isolate', '83891': 'Molecule isolate nucleic', '83892': 'Molecular diagnostics', '83893': 'Molecule dot/slot/blot', '83894': 'Molecule gel electrophor', '83896': 'Molecular diagnostics', '83897': 'Molecule nucleic transfer', '83898': 'Molecule nucleic ampli', '83901': 'Molecule nucleic ampli', '83902': 'Molecular diagnostics', '83903': 'Molecule mutation scan', '83904': 'Molecule mutation identify', '83905': 'Molecule mutation identify', '83906': 'Molecule mutation identify', '83912': 'Genetic examination', '83915': 'Assay of nucleotidase', '83916': 'Oligoclonal bands', '83918': '\"Organic acids', '83919': '\"Organic acids', '83921': '\"Organic acid', '83925': 'Assay of opiates', '83930': 'Assay of blood osmolality', '83935': 'Assay of urine osmolality', '83937': 'Assay of osteocalcin', '83945': 'Assay of oxalate', '83950': '\"Oncoprotein', '83970': 'Assay of parathormone', '83986': 'Assay of body fluid acidity', '83992': 'Assay for phencyclidine', '84022': 'Assay of phenothiazine', '84030': 'Assay of blood pku', '84035': 'Assay of phenylketones', '84060': 'Assay acid phosphatase', '84061': '\"Phosphatase', '84066': 'Assay prostate phosphatase', '84075': 'Assay alkaline phosphatase', '84078': 'Assay alkaline phosphatase', '84080': 'Assay alkaline phosphatases', '84081': 'Amniotic fluid enzyme test', '84085': 'Assay of rbc pg6d enzyme', '84087': 'Assay phosphohexose enzymes', '84100': 'Assay of phosphorus', '84105': 'Assay of urine phosphorus', '84106': 'Test for porphobilinogen', '84110': 'Assay of porphobilinogen', '84119': 'Test urine for porphyrins', '84120': 'Assay of urine porphyrins', '84126': 'Assay of feces porphyrins', '84127': 'Assay of feces porphyrins', '84132': 'Assay of serum potassium', '84133': 'Assay of urine potassium', '84134': 'Assay of prealbumin', '84135': 'Assay of pregnanediol', '84138': 'Assay of pregnanetriol', '84140': 'Assay of pregnenolone', '84143': 'Assay of 17-hydroxypregneno', '84144': 'Assay of progesterone', '84146': 'Assay of prolactin', '84150': 'Assay of prostaglandin', '84152': '\"Assay of psa', '84153': '\"Assay of psa', '84154': '\"Assay of psa', '84155': '\"Assay of protein', '84156': '\"Assay of protein', '84157': '\"Assay of protein', '84160': '\"Assay of protein', '84163': '\"Pappa', '84165': '\"Protein e-phoresis', '84166': 'Protein e-phoresis/urine/csf', '84181': 'Western blot test', '84182': '\"Protein', '84202': 'Assay RBC protoporphyrin', '84203': 'Test RBC protoporphyrin', '84206': 'Assay of proinsulin', '84207': 'Assay of vitamin b-6', '84210': 'Assay of pyruvate', '84220': 'Assay of pyruvate kinase', '84228': 'Assay of quinine', '84233': 'Assay of estrogen', '84234': 'Assay of progesterone', '84235': 'Assay of endocrine hormone', '84238': '\"Assay', '84244': 'Assay of renin', '84252': 'Assay of vitamin b-2', '84255': 'Assay of selenium', '84260': 'Assay of serotonin', '84270': 'Assay of sex hormone globul', '84275': 'Assay of sialic acid', '84285': 'Assay of silica', '84295': 'Assay of serum sodium', '84300': 'Assay of urine sodium', '84302': 'Assay of sweat sodium', '84305': 'Assay of somatomedin', '84307': 'Assay of somatostatin', '84311': 'Spectrophotometry', '84315': 'Body fluid specific gravity', '84375': '\"Chromatogram assay', '84376': '\"Sugars', '84377': '\"Sugars', '84378': '\"Sugars', '84379': 'Sugars multiple quant', '84392': 'Assay of urine sulfate', '84402': 'Assay of testosterone', '84403': 'Assay of total testosterone', '84425': 'Assay of vitamin b-1', '84430': 'Assay of thiocyanate', '84432': 'Assay of thyroglobulin', '84436': 'Assay of total thyroxine', '84437': 'Assay of neonatal thyroxine', '84439': 'Assay of free thyroxine', '84442': 'Assay of thyroid activity', '84443': 'Assay thyroid stim hormone', '84445': 'Assay of tsi', '84446': 'Assay of vitamin e', '84449': 'Assay of transcortin', '84450': 'Transferase (AST) (SGOT)', '84460': 'Alanine amino (ALT) (SGPT)', '84466': 'Assay of transferrin', '84478': 'Assay of triglycerides', '84479': 'Assay of thyroid (t3 or t4)', '84480': '\"Assay', '84481': 'Free assay (FT-3)', '84482': 'T3 reverse', '84484': '\"Assay of troponin', '84485': 'Assay duodenal fluid trypsin', '84488': 'Test feces for trypsin', '84490': 'Assay of feces for trypsin', '84510': 'Assay of tyrosine', '84512': '\"Assay of troponin', '84520': 'Assay of urea nitrogen', '84525': 'Urea nitrogen semi-quant', '84540': 'Assay of urine/urea-n', '84545': 'Urea-N clearance test', '84550': 'Assay of blood/uric acid', '84560': 'Assay of urine/uric acid', '84577': 'Assay of feces/urobilinogen', '84578': 'Test urine urobilinogen', '84580': 'Assay of urine urobilinogen', '84583': 'Assay of urine urobilinogen', '84585': 'Assay of urine vma', '84586': 'Assay of vip', '84588': 'Assay of vasopressin', '84590': 'Assay of vitamin a', '84591': 'Assay of nos vitamin', '84597': 'Assay of vitamin k', '84600': 'Assay of volatiles', '84620': 'Xylose tolerance test', '84630': 'Assay of zinc', '84681': 'Assay of c-peptide', '84702': 'Chorionic gonadotropin test', '84703': 'Chorionic gonadotropin assay', '84830': 'Ovulation tests', '84999': 'Clinical chemistry test', '85002': 'Bleeding time test', '85004': 'Automated diff wbc count', '85007': 'Bl smear w/diff wbc count', '85008': 'Bl smear w/o diff wbc count', '85009': 'Manual diff wbc count b-coat', '85013': 'Spun microhematocrit', '85014': 'Hematocrit', '85018': 'Hemoglobin', '85025': 'Complete cbc w/auto diff wbc', '85027': '\"Complete cbc', '85032': '\"Manual cell count', '85041': 'Automated rbc count', '85044': 'Manual reticulocyte count', '85045': 'Automated reticulocyte count', '85046': 'Reticyte/hgb concentrate', '85048': 'Automated leukocyte count', '85049': 'Automated platelet count', '85055': 'Reticulated platelet assay', '85060': 'Blood smear interpretation', '85097': 'Bone marrow interpretation', '85130': 'Chromogenic substrate assay', '85170': 'Blood clot retraction', '85175': 'Blood clot lysis time', '85210': 'Blood clot factor II test', '85220': 'Blood clot factor V test', '85230': 'Blood clot factor VII test', '85240': 'Blood clot factor VIII test', '85244': 'Blood clot factor VIII test', '85245': 'Blood clot factor VIII test', '85246': 'Blood clot factor VIII test', '85247': 'Blood clot factor VIII test', '85250': 'Blood clot factor IX test', '85260': 'Blood clot factor X test', '85270': 'Blood clot factor XI test', '85280': 'Blood clot factor XII test', '85290': 'Blood clot factor XIII test', '85291': 'Blood clot factor XIII test', '85292': 'Blood clot factor assay', '85293': 'Blood clot factor assay', '85300': 'Antithrombin III test', '85301': 'Antithrombin III test', '85302': 'Blood clot inhibitor antigen', '85303': 'Blood clot inhibitor test', '85305': 'Blood clot inhibitor assay', '85306': 'Blood clot inhibitor test', '85307': 'Assay activated protein c', '85335': 'Factor inhibitor test', '85337': 'Thrombomodulin', '85345': 'Coagulation time', '85347': 'Coagulation time', '85348': 'Coagulation time', '85360': 'Euglobulin lysis', '85362': 'Fibrin degradation products', '85366': 'Fibrinogen test', '85370': 'Fibrinogen test', '85378': '\"Fibrin degrade', '85379': '\"Fibrin degradation', '85380': '\"Fibrin degradation', '85384': 'Fibrinogen', '85385': 'Fibrinogen', '85390': 'Fibrinolysins screen', '85396': '\"Clotting assay', '85400': 'Fibrinolytic plasmin', '85410': 'Fibrinolytic antiplasmin', '85415': 'Fibrinolytic plasminogen', '85420': 'Fibrinolytic plasminogen', '85421': 'Fibrinolytic plasminogen', '85441': '\"Heinz bodies', '85445': '\"Heinz bodies', '85460': '\"Hemoglobin', '85461': '\"Hemoglobin', '85475': 'Hemolysin', '85520': 'Heparin assay', '85525': 'Heparin neutralization', '85530': 'Heparin-protamine tolerance', '85536': 'Iron stain peripheral blood', '85540': 'Wbc alkaline phosphatase', '85547': 'RBC mechanical fragility', '85549': 'Muramidase', '85555': 'RBC osmotic fragility', '85557': 'RBC osmotic fragility', '85576': 'Blood platelet aggregation', '85597': 'Platelet neutralization', '85610': 'Prothrombin time', '85611': 'Prothrombin test', '85612': 'Viper venom prothrombin time', '85613': '\"Russell viper venom', '85635': 'Reptilase test', '85651': '\"Rbc sed rate', '85652': '\"Rbc sed rate', '85660': 'RBC sickle cell test', '85670': '\"Thrombin time', '85675': '\"Thrombin time', '85705': 'Thromboplastin inhibition', '85730': '\"Thromboplastin time', '85732': '\"Thromboplastin time', '85810': 'Blood viscosity examination', '85999': 'Hematology procedure', '86000': '\"Agglutinins', '86001': 'Allergen specific igg', '86003': 'Allergen specific IgE', '86005': 'Allergen specific IgE', '86021': 'WBC antibody identification', '86022': 'Platelet antibodies', '86023': 'Immunoglobulin assay', '86038': 'Antinuclear antibodies', '86039': 'Antinuclear antibodies (ANA)', '86060': '\"Antistreptolysin o', '86063': '\"Antistreptolysin o', '86064': '\"B cells', '86077': 'Physician blood bank service', '86078': 'Physician blood bank service', '86079': 'Physician blood bank service', '86140': 'C-reactive protein', '86141': '\"C-reactive protein', '86146': 'Glycoprotein antibody', '86147': 'Cardiolipin antibody', '86148': 'Phospholipid antibody', '86155': 'Chemotaxis assay', '86156': '\"Cold agglutinin', '86157': '\"Cold agglutinin', '86160': '\"Complement', '86161': 'Complement/function activity', '86162': '\"Complement', '86171': '\"Complement fixation', '86185': 'Counterimmunoelectrophoresis', '86215': '\"Deoxyribonuclease', '86225': 'DNA antibody', '86226': '\"DNA antibody', '86235': 'Nuclear antigen antibody', '86243': 'Fc receptor', '86255': '\"Fluorescent antibody', '86256': '\"Fluorescent antibody', '86277': 'Growth hormone antibody', '86280': 'Hemagglutination inhibition', '86294': '\"Immunoassay', '86300': '\"Immunoassay', '86301': '\"Immunoassay', '86304': '\"Immunoassay', '86308': 'Heterophile antibodies', '86309': 'Heterophile antibodies', '86310': 'Heterophile antibodies', '86316': '\"Immunoassay', '86317': '\"Immunoassay', '86318': '\"Immunoassay', '86320': 'Serum immunoelectrophoresis', '86325': 'Other immunoelectrophoresis', '86327': 'Immunoelectrophoresis assay', '86329': 'Immunodiffusion', '86331': 'Immunodiffusion ouchterlony', '86332': 'Immune complex assay', '86334': '\"Immunofix e-phoresis', '86335': 'Immunfix e-phorsis/urine/csf', '86336': 'Inhibin A', '86337': 'Insulin antibodies', '86340': 'Intrinsic factor antibody', '86341': 'Islet cell antibody', '86343': 'Leukocyte histamine release', '86344': 'Leukocyte phagocytosis', '86353': 'Lymphocyte transformation', '86359': '\"T cells', '86360': '\"T cell', '86361': '\"T cell', '86376': 'Microsomal antibody', '86378': 'Migration inhibitory factor', '86379': '\"Nk cells', '86382': '\"Neutralization test', '86384': 'Nitroblue tetrazolium dye', '86403': 'Particle agglutination test', '86406': 'Particle agglutination test', '86430': 'Rheumatoid factor test', '86431': '\"Rheumatoid factor', '86485': '\"Skin test', '86490': 'Coccidioidomycosis skin test', '86510': 'Histoplasmosis skin test', '86580': 'TB intradermal test', '86585': 'TB tine test', '86586': '\"Skin test', '86587': '\"Stem cells', '86590': '\"Streptokinase', '86592': '\"Blood serology', '86593': '\"Blood serology', '86602': 'Antinomyces antibody', '86603': 'Adenovirus antibody', '86606': 'Aspergillus antibody', '86609': 'Bacterium antibody', '86611': 'Bartonella antibody', '86612': 'Blastomyces antibody', '86615': 'Bordetella antibody', '86617': 'Lyme disease antibody', '86618': 'Lyme disease antibody', '86619': 'Borrelia antibody', '86622': 'Brucella antibody', '86625': 'Campylobacter antibody', '86628': 'Candida antibody', '86631': 'Chlamydia antibody', '86632': 'Chlamydia igm antibody', '86635': 'Coccidioides antibody', '86638': 'Q fever antibody', '86641': 'Cryptococcus antibody', '86644': 'CMV antibody', '86645': '\"CMV antibody', '86648': 'Diphtheria antibody', '86651': 'Encephalitis antibody', '86652': 'Encephalitis antibody', '86653': 'Encephalitis antibody', '86654': 'Encephalitis antibody', '86658': 'Enterovirus antibody', '86663': 'Epstein-barr antibody', '86664': 'Epstein-barr antibody', '86665': 'Epstein-barr antibody', '86666': 'Ehrlichia antibody', '86668': 'Francisella tularensis', '86671': 'Fungus antibody', '86674': 'Giardia lamblia antibody', '86677': 'Helicobacter pylori', '86682': 'Helminth antibody', '86684': 'Hemophilus influenza', '86687': 'Htlv-i antibody', '86688': 'Htlv-ii antibody', '86689': 'HTLV/HIV confirmatory test', '86692': '\"Hepatitis', '86694': 'Herpes simplex test', '86695': 'Herpes simplex test', '86696': 'Herpes simplex type 2', '86698': 'Histoplasma', '86701': 'HIV-1', '86702': 'HIV-2', '86703': '\"HIV-1/HIV-2', '86704': '\"Hep b core antibody', '86705': '\"Hep b core antibody', '86706': 'Hep b surface antibody', '86707': 'Hep be antibody', '86708': '\"Hep a antibody', '86709': '\"Hep a antibody', '86710': 'Influenza virus antibody', '86713': 'Legionella antibody', '86717': 'Leishmania antibody', '86720': 'Leptospira antibody', '86723': 'Listeria monocytogenes ab', '86727': 'Lymph choriomeningitis ab', '86729': 'Lympho venereum antibody', '86732': 'Mucormycosis antibody', '86735': 'Mumps antibody', '86738': 'Mycoplasma antibody', '86741': 'Neisseria meningitidis', '86744': 'Nocardia antibody', '86747': 'Parvovirus antibody', '86750': 'Malaria antibody', '86753': 'Protozoa antibody nos', '86756': 'Respiratory virus antibody', '86757': 'Rickettsia antibody', '86759': 'Rotavirus antibody', '86762': 'Rubella antibody', '86765': 'Rubeola antibody', '86768': 'Salmonella antibody', '86771': 'Shigella antibody', '86774': 'Tetanus antibody', '86777': 'Toxoplasma antibody', '86778': '\"Toxoplasma antibody', '86781': '\"Treponema pallidum', '86784': 'Trichinella antibody', '86787': 'Varicella-zoster antibody', '86790': 'Virus antibody nos', '86793': 'Yersinia antibody', '86800': 'Thyroglobulin antibody', '86803': 'Hepatitis c ab test', '86804': '\"Hep c ab test', '86805': 'Lymphocytotoxicity assay', '86806': 'Lymphocytotoxicity assay', '86807': 'Cytotoxic antibody screening', '86808': 'Cytotoxic antibody screening', '86812': '\"HLA typing', '86813': '\"HLA typing', '86816': '\"HLA typing', '86817': '\"HLA typing', '86821': '\"Lymphocyte culture', '86822': '\"Lymphocyte culture', '86849': 'Immunology procedure', '86850': 'RBC antibody screen', '86860': 'RBC antibody elution', '86870': 'RBC antibody identification', '86880': '\"Coombs test', '86885': '\"Coombs test', '86886': '\"Coombs test', '86890': 'Autologous blood process', '86891': '\"Autologous blood', '86900': '\"Blood typing', '86901': '\"Blood typing', '86903': '\"Blood typing', '86904': '\"Blood typing', '86905': '\"Blood typing', '86906': '\"Blood typing', '86910': '\"Blood typing', '86911': '\"Blood typing', '86920': 'Compatibility test', '86921': 'Compatibility test', '86922': 'Compatibility test', '86927': '\"Plasma', '86930': 'Frozen blood prep', '86931': 'Frozen blood thaw', '86932': 'Frozen blood freeze/thaw', '86940': '\"Hemolysins/agglutinins', '86941': 'Hemolysins/agglutinins', '86945': 'Blood product/irradiation', '86950': 'Leukacyte transfusion', '86965': 'Pooling blood platelets', '86970': 'RBC pretreatment', '86971': 'RBC pretreatment', '86972': 'RBC pretreatment', '86975': '\"RBC pretreatment', '86976': '\"RBC pretreatment', '86977': '\"RBC pretreatment', '86978': '\"RBC pretreatment', '86985': 'Split blood or products', '86999': 'Transfusion procedure', '87001': 'Small animal inoculation', '87003': 'Small animal inoculation', '87015': 'Specimen concentration', '87040': 'Blood culture for bacteria', '87045': '\"Feces culture', '87046': '\"Stool cultr', '87070': '\"Culture', '87071': 'Culture bacteri aerobic othr', '87073': 'Culture bacteria anaerobic', '87075': '\"Cultr bacteria', '87076': '\"Culture anaerobe ident', '87077': 'Culture aerobic identify', '87081': 'Culture screen only', '87084': 'Culture of specimen by kit', '87086': 'Urine culture/colony count', '87088': 'Urine bacteria culture', '87101': 'Skin fungi culture', '87102': 'Fungus isolation culture', '87103': 'Blood fungus culture', '87106': '\"Fungi identification', '87107': '\"Fungi identification', '87109': 'Mycoplasma', '87110': 'Chlamydia culture', '87116': 'Mycobacteria culture', '87118': 'Mycobacteric identification', '87140': 'Culture type immunofluoresc', '87143': '\"Culture typing', '87147': '\"Culture type', '87149': '\"Culture type', '87152': 'Culture type pulse field gel', '87158': '\"Culture typing', '87164': 'Dark field examination', '87166': 'Dark field examination', '87168': 'Macroscopic exam arthropod', '87169': 'Macroscopic exam parasite', '87172': 'Pinworm exam', '87176': '\"Tissue homogenization', '87177': 'Ova and parasites smears', '87181': '\"Microbe susceptible', '87184': '\"Microbe susceptible', '87185': '\"Microbe susceptible', '87186': '\"Microbe susceptible', '87187': '\"Microbe susceptible', '87188': '\"Microbe suscept', '87190': '\"Microbe suscept', '87197': '\"Bactericidal level', '87205': '\"Smear', '87206': '\"Smear', '87207': '\"Smear', '87210': '\"Smear', '87220': 'Tissue exam for fungi', '87230': '\"Assay', '87250': '\"Virus inoculate', '87252': '\"Virus inoculation', '87253': '\"Virus inoculate tissue', '87254': '\"Virus inoculation', '87255': '\"Genet virus isolate', '87260': '\"Adenovirus ag', '87265': '\"Pertussis ag', '87267': '\"Enterovirus antibody', '87269': '\"Giardia ag', '87270': '\"Chlamydia trachomatis ag', '87271': '\"Cryptosporidum/gardia ag', '87272': '\"Cryptosporidium ag', '87273': '\"Herpes simplex 2', '87274': '\"Herpes simplex 1', '87275': '\"Influenza b', '87276': '\"Influenza a', '87277': '\"Legionella micdadei', '87278': '\"Legion pneumophilia ag', '87279': '\"Parainfluenza', '87280': '\"Respiratory syncytial ag', '87281': '\"Pneumocystis carinii', '87283': '\"Rubeola', '87285': '\"Treponema pallidum', '87290': '\"Varicella zoster', '87299': '\"Antibody detection', '87300': '\"Ag detection', '87301': '\"Adenovirus ag', '87320': '\"Chylmd trach ag', '87324': '\"Clostridium ag', '87327': '\"Cryptococcus neoform ag', '87328': '\"Cryptosporidium ag', '87329': '\"Giardia ag', '87332': '\"Cytomegalovirus ag', '87335': '\"E coli 0157 ag', '87336': '\"Entamoeb hist dispr', '87337': '\"Entamoeb hist group', '87338': '\"Hpylori', '87339': '\"H pylori ag', '87340': '\"Hepatitis b surface ag', '87341': '\"Hepatitis b surface', '87350': '\"Hepatitis be ag', '87380': '\"Hepatitis delta ag', '87385': '\"Histoplasma capsul ag', '87390': '\"Hiv-1 ag', '87391': '\"Hiv-2 ag', '87400': '\"Influenza a/b', '87420': '\"Resp syncytial ag', '87425': '\"Rotavirus ag', '87427': '\"Shiga-like toxin ag', '87430': '\"Strep a ag', '87449': '\"Ag detect nos', '87450': '\"Ag detect nos', '87451': '\"Ag detect polyval', '87470': '\"Bartonella', '87471': '\"Bartonella', '87472': '\"Bartonella', '87475': '\"Lyme dis', '87476': '\"Lyme dis', '87477': '\"Lyme dis', '87480': '\"Candida', '87481': '\"Candida', '87482': '\"Candida', '87485': '\"Chylmd pneum', '87486': '\"Chylmd pneum', '87487': '\"Chylmd pneum', '87490': '\"Chylmd trach', '87491': '\"Chylmd trach', '87492': '\"Chylmd trach', '87495': '\"Cytomeg', '87496': '\"Cytomeg', '87497': '\"Cytomeg', '87510': '\"Gardner vag', '87511': '\"Gardner vag', '87512': '\"Gardner vag', '87515': '\"Hepatitis b', '87516': '\"Hepatitis b', '87517': '\"Hepatitis b', '87520': '\"Hepatitis c', '87521': '\"Hepatitis c', '87522': '\"Hepatitis c', '87525': '\"Hepatitis g', '87526': '\"Hepatitis g', '87527': '\"Hepatitis g', '87528': '\"Hsv', '87529': '\"Hsv', '87530': '\"Hsv', '87531': '\"Hhv-6', '87532': '\"Hhv-6', '87533': '\"Hhv-6', '87534': '\"Hiv-1', '87535': '\"Hiv-1', '87536': '\"Hiv-1', '87537': '\"Hiv-2', '87538': '\"Hiv-2', '87539': '\"Hiv-2', '87540': '\"Legion pneumo', '87541': '\"Legion pneumo', '87542': '\"Legion pneumo', '87550': '\"Mycobacteria', '87551': '\"Mycobacteria', '87552': '\"Mycobacteria', '87555': '\"M.tuberculo', '87556': '\"M.tuberculo', '87557': '\"M.tuberculo', '87560': '\"M.avium-intra', '87561': '\"M.avium-intra', '87562': '\"M.avium-intra', '87580': '\"M.pneumon', '87581': '\"M.pneumon', '87582': '\"M.pneumon', '87590': '\"N.gonorrhoeae', '87591': '\"N.gonorrhoeae', '87592': '\"N.gonorrhoeae', '87620': '\"Hpv', '87621': '\"Hpv', '87622': '\"Hpv', '87650': '\"Strep a', '87651': '\"Strep a', '87652': '\"Strep a', '87660': '\"Trichomonas vagin', '87797': '\"Detect agent nos', '87798': '\"Detect agent nos', '87799': '\"Detect agent nos', '87800': '\"Detect agnt mult', '87801': '\"Detect agnt mult', '87802': 'Strep b assay w/optic', '87803': 'Clostridium toxin a w/optic', '87804': 'Influenza assay w/optic', '87807': 'Rsv assay w/optic', '87810': 'Chylmd trach assay w/optic', '87850': 'N. gonorrhoeae assay w/optic', '87880': 'Strep a assay w/optic', '87899': 'Agent nos assay w/optic', '87901': '\"Genotype', '87902': '\"Genotype', '87903': '\"Phenotype', '87904': '\"Phenotype', '87999': 'Microbiology procedure', '88000': '\"Autopsy (necropsy)', '88005': '\"Autopsy (necropsy)', '88007': '\"Autopsy (necropsy)', '88012': '\"Autopsy (necropsy)', '88014': '\"Autopsy (necropsy)', '88016': '\"Autopsy (necropsy)', '88020': '\"Autopsy (necropsy)', '88025': '\"Autopsy (necropsy)', '88027': '\"Autopsy (necropsy)', '88028': '\"Autopsy (necropsy)', '88029': '\"Autopsy (necropsy)', '88036': 'Limited autopsy', '88037': 'Limited autopsy', '88040': 'Forensic autopsy (necropsy)', '88045': 'Coroner?s autopsy (necropsy)', '88099': 'Necropsy (autopsy) procedure', '88104': '\"Cytopathology', '88106': '\"Cytopathology', '88107': '\"Cytopathology', '88108': '\"Cytopath', '88112': '\"Cytopath', '88125': 'Forensic cytopathology', '88130': 'Sex chromatin identification', '88140': 'Sex chromatin identification', '88141': '\"Cytopath', '88142': '\"Cytopath', '88143': 'Cytopath c/v thin layer redo', '88147': '\"Cytopath', '88148': '\"Cytopath', '88150': '\"Cytopath', '88152': '\"Cytopath', '88153': '\"Cytopath', '88154': '\"Cytopath', '88155': '\"Cytopath', '88160': '\"Cytopath smear', '88161': '\"Cytopath smear', '88162': '\"Cytopath smear', '88164': '\"Cytopath tbs', '88165': '\"Cytopath tbs', '88166': '\"Cytopath tbs', '88167': '\"Cytopath tbs', '88172': 'Cytopathology eval of fna', '88173': '\"Cytopath eval', '88174': '\"Cytopath', '88175': 'Cytopath c/v auto fluid redo', '88182': 'Cell marker study', '88184': '\"Flowcytometry/ tc', '88185': '\"Flowcytometry/tc', '88187': '\"Flowcytometry/read', '88188': '\"Flowcytometry/read', '88189': '\"Flowcytometry/read', '88199': 'Cytopathology procedure', '88230': '\"Tissue culture', '88233': '\"Tissue culture', '88235': '\"Tissue culture', '88237': '\"Tissue culture', '88239': '\"Tissue culture', '88240': 'Cell cryopreserve/storage', '88241': 'Frozen cell preparation', '88245': '\"Chromosome analysis', '88248': '\"Chromosome analysis', '88249': '\"Chromosome analysis', '88261': '\"Chromosome analysis', '88262': '\"Chromosome analysis', '88263': '\"Chromosome analysis', '88264': '\"Chromosome analysis', '88267': '\"Chromosome analys', '88269': '\"Chromosome analys', '88271': '\"Cytogenetics', '88272': '\"Cytogenetics', '88273': '\"Cytogenetics', '88274': '\"Cytogenetics', '88275': '\"Cytogenetics', '88280': 'Chromosome karyotype study', '88283': 'Chromosome banding study', '88285': '\"Chromosome count', '88289': '\"Chromosome study', '88291': 'Cyto/molecular report', '88299': 'Cytogenetic study', '88300': '\"Surgical path', '88302': 'Tissue exam by pathologist', '88304': 'Tissue exam by pathologist', '88305': 'Tissue exam by pathologist', '88307': 'Tissue exam by pathologist', '88309': 'Tissue exam by pathologist', '88311': 'Decalcify tissue', '88312': 'Special stains', '88313': 'Special stains', '88314': 'Histochemical stain', '88318': 'Chemical histochemistry', '88319': 'Enzyme histochemistry', '88321': 'Microslide consultation', '88323': 'Microslide consultation', '88325': 'Comprehensive review of data', '88329': 'Path consult introp', '88331': '\"Path consult intraop', '88332': '\"Path consult intraop', '88342': 'Immunohistochemistry', '88346': 'Immunofluorescent study', '88347': 'Immunofluorescent study', '88348': 'Electron microscopy', '88349': 'Scanning electron microscopy', '88355': '\"Analysis', '88356': '\"Analysis', '88358': '\"Analysis', '88360': 'Tumor immunohistochem/manual', '88361': 'Tumor immunohistochem/comput', '88362': 'Nerve teasing preparations', '88365': 'Insitu hybridization (fish)', '88367': '\"Insitu hybridization', '88368': '\"Insitu hybridization', '88371': '\"Protein', '88372': 'Protein analysis w/probe', '88380': 'Microdissection', '88399': 'Surgical pathology procedure', '88400': 'Bilirubin total transcut', '89050': 'Body fluid cell count', '89051': 'Body fluid cell count', '89055': '\"Leukocyte assessment', '89060': '\"Exam', '89100': 'Sample intestinal contents', '89105': 'Sample intestinal contents', '89125': 'Specimen fat stain', '89130': 'Sample stomach contents', '89132': 'Sample stomach contents', '89135': 'Sample stomach contents', '89136': 'Sample stomach contents', '89140': 'Sample stomach contents', '89141': 'Sample stomach contents', '89160': 'Exam feces for meat fibers', '89190': 'Nasal smear for eosinophils', '89220': 'Sputum specimen collection', '89225': '\"Starch granules', '89230': 'Collect sweat for test', '89235': 'Water load test', '89240': 'Pathology lab procedure', '89250': 'Cultr oocyte/embryo <4 days', '89251': 'Cultr oocyte/embryo <4 days', '89253': 'Embryo hatching', '89254': 'Oocyte identification', '89255': 'Prepare embryo for transfer', '89257': 'Sperm identification', '89258': 'Cryopreservation; embryo(s)', '89259': '\"Cryopreservation', '89260': '\"Sperm isolation', '89261': '\"Sperm isolation', '89264': 'Identify sperm tissue', '89268': 'Insemination of oocytes', '89272': 'Extended culture of oocytes', '89280': 'Assist oocyte fertilization', '89281': 'Assist oocyte fertilization', '89290': '\"Biopsy', '89291': '\"Biopsy', '89300': 'Semen analysis w/huhner', '89310': 'Semen analysis w/count', '89320': '\"Semen analysis', '89321': 'Semen analysis & motility', '89325': 'Sperm antibody test', '89329': 'Sperm evaluation test', '89330': '\"Evaluation', '89335': 'Cryopreserve testicular tiss', '89342': 'Storage/year; embryo(s)', '89343': 'Storage/year; sperm/semen', '89344': 'Storage/year; reprod tissue', '89346': 'Storage/year; oocyte(s)', '89352': 'Thawing cryopresrved; embryo', '89353': 'Thawing cryopresrved; sperm', '89354': 'Thaw cryoprsvrd; reprod tiss', '89356': 'Thawing cryopresrved; oocyte', '90281': '\"Human ig', '90283': '\"Human ig', '90287': 'Botulinum antitoxin', '90288': '\"Botulism ig', '90291': '\"Cmv ig', '90296': 'Diphtheria antitoxin', '90371': '\"Hep b ig', '90375': '\"Rabies ig', '90376': '\"Rabies ig', '90378': '\"Rsv ig', '90379': '\"Rsv ig', '90384': '\"Rh ig', '90385': '\"Rh ig', '90386': '\"Rh ig', '90389': '\"Tetanus ig', '90393': '\"Vaccina ig', '90396': '\"Varicella-zoster ig', '90399': 'Immune globulin', '90465': '\"Immune admin 1 inj', '90466': '\"Immune admin addl inj', '90467': '\"Immune admin o or n', '90468': '\"Immune admin o/n', '90471': 'Immunization admin', '90472': '\"Immunization admin', '90473': 'Immune admin oral/nasal', '90474': 'Immune admin oral/nasal addl', '90476': '\"Adenovirus vaccine', '90477': '\"Adenovirus vaccine', '90581': '\"Anthrax vaccine', '90585': '\"Bcg vaccine', '90586': '\"Bcg vaccine', '90632': '\"Hep a vaccine', '90633': '\"Hep a vacc', '90634': '\"Hep a vacc', '90636': '\"Hep a/hep b vacc', '90645': '\"Hib vaccine', '90646': '\"Hib vaccine', '90647': '\"Hib vaccine', '90648': '\"Hib vaccine', '90655': 'Flu vaccine no preserv 6-35m', '90656': 'Flu vaccine no preserv 3 & >', '90657': '\"Flu vaccine', '90658': '\"Flu vaccine', '90660': '\"Flu vaccine', '90665': '\"Lyme disease vaccine', '90669': '\"Pneumococcal vacc', '90675': '\"Rabies vaccine', '90676': '\"Rabies vaccine', '90680': '\"Rotovirus vaccine', '90690': '\"Typhoid vaccine', '90691': '\"Typhoid vaccine', '90692': '\"Typhoid vaccine', '90693': '\"Typhoid vaccine', '90698': '\"Dtap-hib-ip vaccine', '90700': '\"Dtap vaccine', '90701': '\"Dtp vaccine', '90702': '\"Dt vaccine < 7', '90703': '\"Tetanus vaccine', '90704': '\"Mumps vaccine', '90705': '\"Measles vaccine', '90706': '\"Rubella vaccine', '90707': '\"Mmr vaccine', '90708': '\"Measles-rubella vaccine', '90710': '\"Mmrv vaccine', '90712': 'Oral poliovirus vaccine', '90713': '\"Poliovirus', '90715': 'Tdap vaccine >7 im', '90716': '\"Chicken pox vaccine', '90717': '\"Yellow fever vaccine', '90718': '\"Td vaccine > 7', '90719': '\"Diphtheria vaccine', '90720': '\"Dtp/hib vaccine', '90721': '\"Dtap/hib vaccine', '90723': '\"Dtap-hep b-ipv vaccine', '90725': '\"Cholera vaccine', '90727': '\"Plague vaccine', '90732': 'Pneumococcal vaccine', '90733': '\"Meningococcal vaccine', '90734': '\"Meningococcal vaccine', '90735': '\"Encephalitis vaccine', '90740': '\"Hepb vacc', '90743': '\"Hep b vacc', '90744': 'Hepb vacc ped/adol 3 dose im', '90746': '\"Hep b vaccine', '90747': '\"Hepb vacc', '90748': '\"Hep b/hib vaccine', '90749': 'Vaccine toxoid', '90780': '\"IV infusion therapy', '90781': '\"IV infusion', '90782': '\"Injection', '90783': '\"Injection', '90784': '\"Injection', '90788': 'Injection of antibiotic', '90799': 'Ther/prophylactic/dx inject', '90801': 'Psy dx interview', '90802': 'Intac psy dx interview', '90804': '\"Psytx', '90805': '\"Psytx', '90806': '\"Psytx', '90807': '\"Psytx', '90808': '\"Psytx', '90809': '\"Psytx', '90810': '\"Intac psytx', '90811': '\"Intac psytx', '90812': '\"Intac psytx', '90813': '\"Intac psytx', '90814': '\"Intac psytx', '90815': '\"Intac psytx', '90816': '\"Psytx', '90817': '\"Psytx', '90818': '\"Psytx', '90819': '\"Psytx', '90821': '\"Psytx', '90822': '\"Psytx', '90823': '\"Intac psytx', '90824': '\"Intac psytx', '90826': '\"Intac psytx', '90827': '\"Intac psytx', '90828': '\"Intac psytx', '90829': '\"Intac psytx', '90845': 'Psychoanalysis', '90846': 'Family psytx w/o patient', '90847': 'Family psytx w/patient', '90849': 'Multiple family group psytx', '90853': 'Group psychotherapy', '90857': 'Intac group psytx', '90862': 'Medication management', '90865': 'Narcosynthesis', '90870': 'Electroconvulsive therapy', '90871': 'Electroconvulsive therapy', '90875': 'Psychophysiological therapy', '90876': 'Psychophysiological therapy', '90880': 'Hypnotherapy', '90882': 'Environmental manipulation', '90885': 'Psy evaluation of records', '90887': 'Consultation with family', '90889': 'Preparation of report', '90899': 'Psychiatric service/therapy', '90901': '\"Biofeedback train', '90911': 'Biofeedback peri/uro/rectal', '90918': '\"ESRD related services', '90919': '\"ESRD related services', '90920': '\"ESRD related services', '90921': '\"ESRD related services', '90922': '\"ESRD related services', '90923': '\"Esrd related services', '90924': '\"Esrd related services', '90925': '\"Esrd related services', '90935': '\"Hemodialysis', '90937': '\"Hemodialysis', '90939': '\"Hemodialysis study', '90940': 'Hemodialysis access study', '90945': '\"Dialysis', '90947': '\"Dialysis', '90989': '\"Dialysis training', '90993': '\"Dialysis training', '90997': 'Hemoperfusion', '90999': 'Dialysis procedure', '91000': 'Esophageal intubation', '91010': 'Esophagus motility study', '91011': 'Esophagus motility study', '91012': 'Esophagus motility study', '91020': 'Gastric motility', '91030': 'Acid perfusion of esophagus', '91034': 'Gastroesophageal reflux test', '91035': 'G-esoph reflx tst w/electrod', '91037': 'Esoph imped function test', '91038': 'Esoph imped funct test > 1h', '91040': 'Esoph balloon distension tst', '91052': 'Gastric analysis test', '91055': 'Gastric intubation for smear', '91060': 'Gastric saline load test', '91065': 'Breath hydrogen test', '91100': 'Pass intestine bleeding tube', '91105': 'Gastric intubation treatment', '91110': 'Gi tract capsule endoscopy', '91120': 'Rectal sensation test', '91122': 'Anal pressure record', '91123': 'Irrigate fecal impaction', '91132': 'Electrogastrography', '91133': 'Electrogastrography w/test', '91299': 'Gastroenterology procedure', '92002': '\"Eye exam', '92004': '\"Eye exam', '92012': 'Eye exam established pat', '92014': 'Eye exam & treatment', '92015': 'Refraction', '92018': 'New eye exam & treatment', '92019': 'Eye exam & treatment', '92020': 'Special eye evaluation', '92060': 'Special eye evaluation', '92065': 'Orthoptic/pleoptic training', '92070': 'Fitting of contact lens', '92081': 'Visual field examination(s)', '92082': 'Visual field examination(s)', '92083': 'Visual field examination(s)', '92100': 'Serial tonometry exam(s)', '92120': 'Tonography & eye evaluation', '92130': 'Water provocation tonography', '92135': 'Opthalmic dx imaging', '92136': 'Ophthalmic biometry', '92140': 'Glaucoma provocative tests', '92225': '\"Special eye exam', '92226': '\"Special eye exam', '92230': 'Eye exam with photos', '92235': 'Eye exam with photos', '92240': 'Icg angiography', '92250': 'Eye exam with photos', '92260': 'Ophthalmoscopy/dynamometry', '92265': 'Eye muscle evaluation', '92270': 'Electro-oculography', '92275': 'Electroretinography', '92283': 'Color vision examination', '92284': 'Dark adaptation eye exam', '92285': 'Eye photography', '92286': 'Internal eye photography', '92287': 'Internal eye photography', '92310': 'Contact lens fitting', '92311': 'Contact lens fitting', '92312': 'Contact lens fitting', '92313': 'Contact lens fitting', '92314': 'Prescription of contact lens', '92315': 'Prescription of contact lens', '92316': 'Prescription of contact lens', '92317': 'Prescription of contact lens', '92325': 'Modification of contact lens', '92326': 'Replacement of contact lens', '92330': 'Fitting of artificial eye', '92335': 'Fitting of artificial eye', '92340': 'Fitting of spectacles', '92341': 'Fitting of spectacles', '92342': 'Fitting of spectacles', '92352': 'Special spectacles fitting', '92353': 'Special spectacles fitting', '92354': 'Special spectacles fitting', '92355': 'Special spectacles fitting', '92358': 'Eye prosthesis service', '92370': 'Repair & adjust spectacles', '92371': 'Repair & adjust spectacles', '92390': 'Supply of spectacles', '92391': 'Supply of contact lenses', '92392': 'Supply of low vision aids', '92393': 'Supply of artificial eye', '92395': 'Supply of spectacles', '92396': 'Supply of contact lenses', '92499': 'Eye service or procedure', '92502': 'Ear and throat examination', '92504': 'Ear microscopy examination', '92506': 'Speech/hearing evaluation', '92507': 'Speech/hearing therapy', '92508': 'Speech/hearing therapy', '92510': 'Rehab for ear implant', '92511': 'Nasopharyngoscopy', '92512': 'Nasal function studies', '92516': 'Facial nerve function test', '92520': 'Laryngeal function studies', '92526': 'Oral function therapy', '92531': 'Spontaneous nystagmus study', '92532': 'Positional nystagmus test', '92533': 'Caloric vestibular test', '92534': 'Optokinetic nystagmus test', '92541': 'Spontaneous nystagmus test', '92542': 'Positional nystagmus test', '92543': 'Caloric vestibular test', '92544': 'Optokinetic nystagmus test', '92545': 'Oscillating tracking test', '92546': 'Sinusoidal rotational test', '92547': 'Supplemental electrical test', '92548': 'Posturography', '92551': '\"Pure tone hearing test', '92552': '\"Pure tone audiometry', '92553': '\"Audiometry', '92555': 'Speech threshold audiometry', '92556': '\"Speech audiometry', '92557': 'Comprehensive hearing test', '92559': 'Group audiometric testing', '92560': '\"Bekesy audiometry', '92561': '\"Bekesy audiometry', '92562': 'Loudness balance test', '92563': 'Tone decay hearing test', '92564': 'Sisi hearing test', '92565': '\"Stenger test', '92567': 'Tympanometry', '92568': 'Acoustic reflex testing', '92569': 'Acoustic reflex decay test', '92571': 'Filtered speech hearing test', '92572': 'Staggered spondaic word test', '92573': 'Lombard test', '92575': 'Sensorineural acuity test', '92576': 'Synthetic sentence test', '92577': '\"Stenger test', '92579': 'Visual audiometry (vra)', '92582': 'Conditioning play audiometry', '92583': 'Select picture audiometry', '92584': 'Electrocochleography', '92585': '\"Auditor evoke potent', '92586': '\"Auditor evoke potent', '92587': 'Evoked auditory test', '92588': 'Evoked auditory test', '92590': '\"Hearing aid exam', '92591': '\"Hearing aid exam', '92592': '\"Hearing aid check', '92593': '\"Hearing aid check', '92594': '\"Electro hearng aid test', '92595': '\"Electro hearng aid tst', '92596': 'Ear protector evaluation', '92597': 'Oral speech device eval', '92601': 'Cochlear implt f/up exam < 7', '92602': 'Reprogram cochlear implt < 7', '92603': 'Cochlear implt f/up exam 7 >', '92604': 'Reprogram cochlear implt 7 >', '92605': 'Eval for nonspeech device rx', '92606': 'Non-speech device service', '92607': '\"Ex for speech device rx', '92608': 'Ex for speech device rx addl', '92609': 'Use of speech device service', '92610': 'Evaluate swallowing function', '92611': 'Motion fluoroscopy/swallow', '92612': 'Endoscopy swallow tst (fees)', '92613': 'Endoscopy swallow tst (fees)', '92614': 'Laryngoscopic sensory test', '92615': 'Eval laryngoscopy sense tst', '92616': 'Fees w/laryngeal sense test', '92617': 'Interprt fees/laryngeal test', '92620': '\"Auditory function', '92621': '\"Auditory function', '92625': 'Tinnitus assessment', '92700': 'Ent procedure/service', '92950': 'Heart/lung resuscitation cpr', '92953': 'Temporary external pacing', '92960': '\"Cardioversion electric', '92961': '\"Cardioversion', '92970': '\"Cardioassist', '92971': '\"Cardioassist', '92973': 'Percut coronary thrombectomy', '92974': '\"Cath place', '92975': '\"Dissolve clot', '92977': '\"Dissolve clot', '92978': '\"Intravasc us', '92979': '\"Intravasc us', '92980': 'Insert intracoronary stent', '92981': 'Insert intracoronary stent', '92982': 'Coronary artery dilation', '92984': 'Coronary artery dilation', '92986': 'Revision of aortic valve', '92987': 'Revision of mitral valve', '92990': 'Revision of pulmonary valve', '92992': 'Revision of heart chamber', '92993': 'Revision of heart chamber', '92995': 'Coronary atherectomy', '92996': 'Coronary atherectomy add-on', '92997': '\"Pul art balloon repr', '92998': '\"Pul art balloon repr', '93000': '\"Electrocardiogram', '93005': '\"Electrocardiogram', '93010': 'Electrocardiogram report', '93012': 'Transmission of ecg', '93014': 'Report on transmitted ecg', '93015': 'Cardiovascular stress test', '93016': 'Cardiovascular stress test', '93017': 'Cardiovascular stress test', '93018': 'Cardiovascular stress test', '93024': 'Cardiac drug stress test', '93025': 'Microvolt t-wave assess', '93040': 'Rhythm ECG with report', '93041': '\"Rhythm ECG', '93042': '\"Rhythm ECG', '93224': '\"ECG monitor/report', '93225': '\"ECG monitor/record', '93226': '\"ECG monitor/report', '93227': '\"ECG monitor/review', '93230': '\"ECG monitor/report', '93231': '\"Ecg monitor/record', '93232': '\"ECG monitor/report', '93233': '\"ECG monitor/review', '93235': '\"ECG monitor/report', '93236': '\"ECG monitor/report', '93237': '\"ECG monitor/review', '93268': 'ECG record/review', '93270': 'ECG recording', '93271': 'Ecg/monitoring and analysis', '93272': '\"Ecg/review', '93278': 'ECG/signal-averaged', '93303': 'Echo transthoracic', '93304': 'Echo transthoracic', '93307': 'Echo exam of heart', '93308': 'Echo exam of heart', '93312': 'Echo transesophageal', '93313': 'Echo transesophageal', '93314': 'Echo transesophageal', '93315': 'Echo transesophageal', '93316': 'Echo transesophageal', '93317': 'Echo transesophageal', '93318': 'Echo transesophageal intraop', '93320': '\"Doppler echo exam', '93321': '\"Doppler echo exam', '93325': 'Doppler color flow add-on', '93350': 'Echo transthoracic', '93501': 'Right heart catheterization', '93503': 'Insert/place heart catheter', '93505': 'Biopsy of heart lining', '93508': '\"Cath placement', '93510': 'Left heart catheterization', '93511': 'Left heart catheterization', '93514': 'Left heart catheterization', '93524': 'Left heart catheterization', '93526': 'Rt & Lt heart catheters', '93527': 'Rt & Lt heart catheters', '93528': 'Rt & Lt heart catheters', '93529': '\"Rt', '93530': '\"Rt heart cath', '93531': '\"R & l heart cath', '93532': '\"R & l heart cath', '93533': '\"R & l heart cath', '93539': '\"Injection', '93540': '\"Injection', '93541': 'Injection for lung angiogram', '93542': 'Injection for heart x-rays', '93543': 'Injection for heart x-rays', '93544': 'Injection for aortography', '93545': 'Inject for coronary x-rays', '93555': '\"Imaging', '93556': '\"Imaging', '93561': 'Cardiac output measurement', '93562': 'Cardiac output measurement', '93571': 'Heart flow reserve measure', '93572': 'Heart flow reserve measure', '93580': 'Transcath closure of asd', '93581': 'Transcath closure of vsd', '93600': 'Bundle of His recording', '93602': 'Intra-atrial recording', '93603': 'Right ventricular recording', '93609': '\"Map tachycardia', '93610': 'Intra-atrial pacing', '93612': 'Intraventricular pacing', '93613': '\"Electrophys map 3d', '93615': 'Esophageal recording', '93616': 'Esophageal recording', '93618': 'Heart rhythm pacing', '93619': 'Electrophysiology evaluation', '93620': 'Electrophysiology evaluation', '93621': 'Electrophysiology evaluation', '93622': 'Electrophysiology evaluation', '93623': '\"Stimulation', '93624': 'Electrophysiologic study', '93631': '\"Heart pacing', '93640': 'Evaluation heart device', '93641': 'Electrophysiology evaluation', '93642': 'Electrophysiology evaluation', '93650': 'Ablate heart dysrhythm focus', '93651': 'Ablate heart dysrhythm focus', '93652': 'Ablate heart dysrhythm focus', '93660': 'Tilt table evaluation', '93662': 'Intracardiac ecg (ice)', '93668': 'Peripheral vascular rehab', '93701': '\"Bioimpedance', '93720': 'Total body plethysmography', '93721': 'Plethysmography tracing', '93722': 'Plethysmography report', '93724': 'Analyze pacemaker system', '93727': 'Analyze ilr system', '93731': 'Analyze pacemaker system', '93732': 'Analyze pacemaker system', '93733': '\"Telephone analy', '93734': 'Analyze pacemaker system', '93735': 'Analyze pacemaker system', '93736': '\"Telephonic analy', '93740': 'Temperature gradient studies', '93741': 'Analyze ht pace device sngl', '93742': 'Analyze ht pace device sngl', '93743': 'Analyze ht pace device dual', '93744': 'Analyze ht pace device dual', '93745': 'Set-up cardiovert-defibrill', '93760': 'Cephalic thermogram', '93762': 'Peripheral thermogram', '93770': 'Measure venous pressure', '93784': 'Ambulatory BP monitoring', '93786': 'Ambulatory BP recording', '93788': 'Ambulatory BP analysis', '93790': 'Review/report BP recording', '93797': 'Cardiac rehab', '93798': 'Cardiac rehab/monitor', '93799': 'Cardiovascular procedure', '93875': 'Extracranial study', '93880': 'Extracranial study', '93882': 'Extracranial study', '93886': 'Intracranial study', '93888': 'Intracranial study', '93890': '\"Tcd', '93892': '\"Tcd', '93893': '\"Tcd', '93922': 'Extremity study', '93923': 'Extremity study', '93924': 'Extremity study', '93925': 'Lower extremity study', '93926': 'Lower extremity study', '93930': 'Upper extremity study', '93931': 'Upper extremity study', '93965': 'Extremity study', '93970': 'Extremity study', '93971': 'Extremity study', '93975': 'Vascular study', '93976': 'Vascular study', '93978': 'Vascular study', '93979': 'Vascular study', '93980': 'Penile vascular study', '93981': 'Penile vascular study', '93990': 'Doppler flow testing', '94010': 'Breathing capacity test', '94014': 'Patient recorded spirometry', '94015': 'Patient recorded spirometry', '94016': 'Review patient spirometry', '94060': 'Evaluation of wheezing', '94070': 'Evaluation of wheezing', '94150': 'Vital capacity test', '94200': 'Lung function test (MBC/MVV)', '94240': 'Residual lung capacity', '94250': 'Expired gas collection', '94260': 'Thoracic gas volume', '94350': 'Lung nitrogen washout curve', '94360': 'Measure airflow resistance', '94370': 'Breath airway closing volume', '94375': 'Respiratory flow volume loop', '94400': 'CO2 breathing response curve', '94450': 'Hypoxia response curve', '94452': 'Hast w/report', '94453': 'Hast w/oxygen titrate', '94620': 'Pulmonary stress test/simple', '94621': 'Pulm stress test/complex', '94640': 'Airway inhalation treatment', '94642': 'Aerosol inhalation treatment', '94656': 'Initial ventilator mgmt', '94657': 'Continued ventilator mgmt', '94660': '\"Pos airway pressure', '94662': '\"Neg press ventilation', '94664': 'Evaluate pt use of inhaler', '94667': 'Chest wall manipulation', '94668': 'Chest wall manipulation', '94680': '\"Exhaled air analysis', '94681': '\"Exhaled air analysis', '94690': 'Exhaled air analysis', '94720': 'Monoxide diffusing capacity', '94725': 'Membrane diffusion capacity', '94750': 'Pulmonary compliance study', '94760': 'Measure blood oxygen level', '94761': 'Measure blood oxygen level', '94762': 'Measure blood oxygen level', '94770': 'Exhaled carbon dioxide test', '94772': '\"Breath recording', '94799': 'Pulmonary service/procedure', '95004': 'Percut allergy skin tests', '95010': 'Percut allergy titrate test', '95015': 'Id allergy titrate-drug/bug', '95024': '\"Id allergy test', '95027': 'Id allergy titrate-airborne', '95028': 'Id allergy test-delayed type', '95044': 'Allergy patch tests', '95052': 'Photo patch test', '95056': 'Photosensitivity tests', '95060': 'Eye allergy tests', '95065': 'Nose allergy test', '95070': 'Bronchial allergy tests', '95071': 'Bronchial allergy tests', '95075': 'Ingestion challenge test', '95078': 'Provocative testing', '95115': '\"Immunotherapy', '95117': 'Immunotherapy injections', '95120': '\"Immunotherapy', '95125': '\"Immunotherapy', '95130': '\"Immunotherapy', '95131': '\"Immunotherapy', '95132': '\"Immunotherapy', '95133': '\"Immunotherapy', '95134': '\"Immunotherapy', '95144': 'Antigen therapy services', '95145': 'Antigen therapy services', '95146': 'Antigen therapy services', '95147': 'Antigen therapy services', '95148': 'Antigen therapy services', '95149': 'Antigen therapy services', '95165': 'Antigen therapy services', '95170': 'Antigen therapy services', '95180': 'Rapid desensitization', '95199': 'Allergy immunology services', '95250': '\"Glucose monitoring', '95805': 'Multiple sleep latency test', '95806': '\"Sleep study', '95807': '\"Sleep study', '95808': '\"Polysomnography', '95810': '\"Polysomnography', '95811': 'Polysomnography w/cpap', '95812': '\"Eeg', '95813': '\"Eeg', '95816': '\"Eeg', '95819': '\"Eeg', '95822': '\"Eeg', '95824': '\"Eeg', '95827': '\"Eeg', '95829': 'Surgery electrocorticogram', '95830': 'Insert electrodes for EEG', '95831': '\"Limb muscle testing', '95832': '\"Hand muscle testing', '95833': '\"Body muscle testing', '95834': '\"Body muscle testing', '95851': 'Range of motion measurements', '95852': 'Range of motion measurements', '95857': 'Tensilon test', '95858': 'Tensilon test & myogram', '95860': '\"Muscle test', '95861': '\"Muscle test', '95863': '\"Muscle test', '95864': '\"Muscle test', '95867': 'Muscle test cran nerv unilat', '95868': 'Muscle test cran nerve bilat', '95869': '\"Muscle test', '95870': '\"Muscle test', '95872': '\"Muscle test', '95875': 'Limb exercise test', '95900': 'Motor nerve conduction test', '95903': 'Motor nerve conduction test', '95904': 'Sense nerve conduction test', '95920': 'Intraop nerve test add-on', '95921': 'Autonomic nerv function test', '95922': 'Autonomic nerv function test', '95923': 'Autonomic nerv function test', '95925': 'Somatosensory testing', '95926': 'Somatosensory testing', '95927': 'Somatosensory testing', '95928': '\"C motor evoked', '95929': '\"C motor evoked', '95930': 'Visual evoked potential test', '95933': 'Blink reflex test', '95934': 'H-reflex test', '95936': 'H-reflex test', '95937': 'Neuromuscular junction test', '95950': 'Ambulatory eeg monitoring', '95951': 'EEG monitoring/videorecord', '95953': 'EEG monitoring/computer', '95954': 'EEG monitoring/giving drugs', '95955': 'EEG during surgery', '95956': '\"Eeg monitoring', '95957': 'EEG digital analysis', '95958': 'EEG monitoring/function test', '95961': '\"Electrode stimulation', '95962': '\"Electrode stim', '95965': '\"Meg', '95966': '\"Meg', '95967': '\"Meg', '95970': '\"Analyze neurostim', '95971': '\"Analyze neurostim', '95972': '\"Analyze neurostim', '95973': '\"Analyze neurostim', '95974': '\"Cranial neurostim', '95975': '\"Cranial neurostim', '95978': 'Analyze neurostim brain/1h', '95979': 'Analyz neurostim brain addon', '95990': 'Spin/brain pump refil & main', '95991': 'Spin/brain pump refil & main', '95999': 'Neurological procedure', '96000': '\"Motion analysis', '96001': 'Motion test w/ft press meas', '96002': 'Dynamic surface emg', '96003': 'Dynamic fine wire emg', '96004': 'Phys review of motion tests', '96100': 'Psychological testing', '96105': 'Assessment of aphasia', '96110': '\"Developmental test', '96111': '\"Developmental test', '96115': 'Neurobehavior status exam', '96117': 'Neuropsych test battery', '96150': '\"Assess hlth/behave', '96151': '\"Assess hlth/behave', '96152': '\"Intervene hlth/behave', '96153': '\"Intervene hlth/behave', '96154': '\"Interv hlth/behav', '96155': 'Interv hlth/behav fam no pt', '96400': '\"Chemotherapy', '96405': 'Intralesional chemo admin', '96406': 'Intralesional chemo admin', '96408': '\"Chemotherapy', '96410': '\"Chemotherapy', '96412': '\"Chemo', '96414': '\"Chemo', '96420': '\"Chemotherapy', '96422': '\"Chemotherapy', '96423': '\"Chemo', '96425': '\"Chemotherapy', '96440': '\"Chemotherapy', '96445': '\"Chemotherapy', '96450': '\"Chemotherapy', '96520': 'Port pump refill & main', '96530': 'Syst pump refill & main', '96542': 'Chemotherapy injection', '96545': 'Provide chemotherapy agent', '96549': '\"Chemotherapy', '96567': '\"Photodynamic tx', '96570': '\"Photodynamic tx', '96571': '\"Photodynamic tx', '96900': 'Ultraviolet light therapy', '96902': 'Trichogram', '96910': 'Photochemotherapy with UV-B', '96912': 'Photochemotherapy with UV-A', '96913': '\"Photochemotherapy', '96920': '\"Laser tx', '96921': '\"Laser tx', '96922': '\"Laser tx', '96999': 'Dermatological procedure', '97001': 'Pt evaluation', '97002': 'Pt re-evaluation', '97003': 'Ot evaluation', '97004': 'Ot re-evaluation', '97005': 'Athletic train eval', '97006': 'Athletic train reeval', '97010': 'Hot or cold packs therapy', '97012': 'Mechanical traction therapy', '97014': 'Electric stimulation therapy', '97016': 'Vasopneumatic device therapy', '97018': 'Paraffin bath therapy', '97020': 'Microwave therapy', '97022': 'Whirlpool therapy', '97024': 'Diathermy treatment', '97026': 'Infrared therapy', '97028': 'Ultraviolet therapy', '97032': 'Electrical stimulation', '97033': 'Electric current therapy', '97034': 'Contrast bath therapy', '97035': 'Ultrasound therapy', '97036': 'Hydrotherapy', '97039': 'Physical therapy treatment', '97110': 'Therapeutic exercises', '97112': 'Neuromuscular reeducation', '97113': 'Aquatic therapy/exercises', '97116': 'Gait training therapy', '97124': 'Massage therapy', '97139': 'Physical medicine procedure', '97140': 'Manual therapy', '97150': 'Group therapeutic procedures', '97504': 'Orthotic training', '97520': 'Prosthetic training', '97530': 'Therapeutic activities', '97532': 'Cognitive skills development', '97533': 'Sensory integration', '97535': 'Self care mngment training', '97537': 'Community/work reintegration', '97542': 'Wheelchair mngment training', '97545': 'Work hardening', '97546': 'Work hardening add-on', '97597': 'Active wound care/20 cm or <', '97598': 'Active wound care > 20 cm', '97602': 'Wound(s) care non-selective', '97605': '\"Neg press wound tx', '97606': '\"Neg press wound tx', '97703': 'Prosthetic checkout', '97750': 'Physical performance test', '97755': 'Assistive technology assess', '97799': 'Physical medicine procedure', '97802': '\"Medical nutrition', '97803': '\"Med nutrition', '97804': '\"Medical nutrition', '97810': 'Acupunct w/o stimul 15 min', '97811': 'Acupunct w/o stimul addl 15m', '97813': 'Acupunct w/stimul 15 min', '97814': 'Acupunct w/stimul addl 15m', '98925': 'Osteopathic manipulation', '98926': 'Osteopathic manipulation', '98927': 'Osteopathic manipulation', '98928': 'Osteopathic manipulation', '98929': 'Osteopathic manipulation', '98940': 'Chiropractic manipulation', '98941': 'Chiropractic manipulation', '98942': 'Chiropractic manipulation', '98943': 'Chiropractic manipulation', '99000': 'Specimen handling', '99001': 'Specimen handling', '99002': 'Device handling', '99024': 'Postop follow-up visit', '99026': 'In-hospital on call service', '99027': 'Out-of-hosp on call service', '99050': 'Medical services after hrs', '99052': 'Medical services at night', '99054': '\"Medical servcs', '99056': 'Non-office medical services', '99058': 'Office emergency care', '99070': 'Special supplies', '99071': 'Patient education materials', '99075': 'Medical testimony', '99078': 'Group health education', '99080': 'Special reports or forms', '99082': 'Unusual physician travel', '99090': 'Computer data analysis', '99091': 'Collect/review data from pt', '99100': 'Special anesthesia service', '99116': 'Anesthesia with hypothermia', '99135': 'Special anesthesia procedure', '99140': 'Emergency anesthesia', '99141': '\"Sedation', '99142': '\"Sedation', '99170': '\"Anogenital exam', '99172': 'Ocular function screen', '99173': 'Visual acuity screen', '99175': 'Induction of vomiting', '99183': 'Hyperbaric oxygen therapy', '99185': 'Regional hypothermia', '99186': 'Total body hypothermia', '99190': 'Special pump services', '99191': 'Special pump services', '99192': 'Special pump services', '99195': 'Phlebotomy', '99199': 'Special service/proc/report', '99201': '\"Office/outpatient visit', '99202': '\"Office/outpatient visit', '99203': '\"Office/outpatient visit', '99204': '\"Office/outpatient visit', '99205': '\"Office/outpatient visit', '99211': '\"Office/outpatient visit', '99212': '\"Office/outpatient visit', '99213': '\"Office/outpatient visit', '99214': '\"Office/outpatient visit', '99215': '\"Office/outpatient visit', '99217': 'Observation care discharge', '99218': 'Observation care', '99219': 'Observation care', '99220': 'Observation care', '99221': 'Initial hospital care', '99222': 'Initial hospital care', '99223': 'Initial hospital care', '99231': 'Subsequent hospital care', '99232': 'Subsequent hospital care', '99233': 'Subsequent hospital care', '99234': 'Observ/hosp same date', '99235': 'Observ/hosp same date', '99236': 'Observ/hosp same date', '99238': 'Hospital discharge day', '99239': 'Hospital discharge day', '99241': 'Office consultation', '99242': 'Office consultation', '99243': 'Office consultation', '99244': 'Office consultation', '99245': 'Office consultation', '99251': 'Initial inpatient consult', '99252': 'Initial inpatient consult', '99253': 'Initial inpatient consult', '99254': 'Initial inpatient consult', '99255': 'Initial inpatient consult', '99261': 'Follow-up inpatient consult', '99262': 'Follow-up inpatient consult', '99263': 'Follow-up inpatient consult', '99271': 'Confirmatory consultation', '99272': 'Confirmatory consultation', '99273': 'Confirmatory consultation', '99274': 'Confirmatory consultation', '99275': 'Confirmatory consultation', '99281': 'Emergency dept visit', '99282': 'Emergency dept visit', '99283': 'Emergency dept visit', '99284': 'Emergency dept visit', '99285': 'Emergency dept visit', '99288': 'Direct advanced life support', '99289': 'Ped crit care transport', '99290': 'Ped crit care transport addl', '99291': '\"Critical care', '99292': '\"Critical care', '99293': '\"Ped critical care', '99294': '\"Ped critical care', '99295': '\"Neonate crit care', '99296': 'Neonate critical care subseq', '99298': 'Ic for lbw infant < 1500 gm', '99299': '\"Ic', '99301': 'Nursing facility care', '99302': 'Nursing facility care', '99303': 'Nursing facility care', '99311': '\"Nursing fac care', '99312': '\"Nursing fac care', '99313': '\"Nursing fac care', '99315': 'Nursing fac discharge day', '99316': 'Nursing fac discharge day', '99321': '\"Rest home visit', '99322': '\"Rest home visit', '99323': '\"Rest home visit', '99331': '\"Rest home visit', '99332': '\"Rest home visit', '99333': '\"Rest home visit', '99341': '\"Home visit', '99342': '\"Home visit', '99343': '\"Home visit', '99344': '\"Home visit', '99345': '\"Home visit', '99347': '\"Home visit', '99348': '\"Home visit', '99349': '\"Home visit', '99350': '\"Home visit', '99354': '\"Prolonged service', '99355': '\"Prolonged service', '99356': '\"Prolonged service', '99357': '\"Prolonged service', '99358': '\"Prolonged serv', '99359': '\"Prolonged serv', '99360': 'Physician standby services', '99361': 'Physician/team conference', '99362': 'Physician/team conference', '99371': 'Physician phone consultation', '99372': 'Physician phone consultation', '99373': 'Physician phone consultation', '99374': 'Home health care supervision', '99375': 'Home health care supervision', '99377': 'Hospice care supervision', '99378': 'Hospice care supervision', '99379': 'Nursing fac care supervision', '99380': 'Nursing fac care supervision', '99381': '\"Prev visit', '99382': '\"Prev visit', '99383': '\"Prev visit', '99384': '\"Prev visit', '99385': '\"Prev visit', '99386': '\"Prev visit', '99387': '\"Prev visit', '99391': '\"Prev visit', '99392': '\"Prev visit', '99393': '\"Prev visit', '99394': '\"Prev visit', '99395': '\"Prev visit', '99396': '\"Prev visit', '99397': '\"Prev visit', '99401': '\"Preventive counseling', '99402': '\"Preventive counseling', '99403': '\"Preventive counseling', '99404': '\"Preventive counseling', '99411': '\"Preventive counseling', '99412': '\"Preventive counseling', '99420': 'Health risk assessment test', '99429': 'Unlisted preventive service', '99431': '\"Initial care', '99432': '\"Newborn care', '99433': 'Normal newborn care/hospital', '99435': 'Newborn discharge day hosp', '99436': '\"Attendance', '99440': 'Newborn resuscitation', '99450': 'Life/disability evaluation', '99455': 'Disability examination', '99456': 'Disability examination', '99499': 'Unlisted e&m service', '99500': '\"Home visit', '99501': '\"Home visit', '99502': '\"Home visit', '99503': '\"Home visit', '99504': 'Home visit mech ventilator', '99505': '\"Home visit', '99506': '\"Home visit', '99507': '\"Home visit', '99509': 'Home visit day life activity', '99510': '\"Home visit', '99511': '\"Home visit', '99512': 'Home visit for hemodialysis', '99600': 'Home visit nos', '99601': '\"Home infusion/visit', '99602': '\"Home infusion'}"
     ]
    }
   ],
   "source": [
    "\n"
   ]
  },
  {
   "cell_type": "code",
   "execution_count": null,
   "id": "a886c7d1",
   "metadata": {},
   "outputs": [],
   "source": []
  },
  {
   "cell_type": "code",
   "execution_count": null,
   "id": "99701039",
   "metadata": {},
   "outputs": [],
   "source": []
  },
  {
   "cell_type": "code",
   "execution_count": null,
   "id": "fa2b4c1e",
   "metadata": {},
   "outputs": [],
   "source": []
  },
  {
   "cell_type": "code",
   "execution_count": null,
   "id": "47a51fd9",
   "metadata": {},
   "outputs": [],
   "source": []
  },
  {
   "cell_type": "code",
   "execution_count": null,
   "id": "846fe59d",
   "metadata": {},
   "outputs": [],
   "source": []
  },
  {
   "cell_type": "code",
   "execution_count": null,
   "id": "d6b4aeb1",
   "metadata": {},
   "outputs": [],
   "source": []
  },
  {
   "cell_type": "code",
   "execution_count": null,
   "id": "94830f74",
   "metadata": {},
   "outputs": [],
   "source": []
  },
  {
   "cell_type": "code",
   "execution_count": null,
   "id": "cebc3627",
   "metadata": {},
   "outputs": [],
   "source": []
  },
  {
   "cell_type": "code",
   "execution_count": null,
   "id": "2fe88f1b",
   "metadata": {},
   "outputs": [],
   "source": []
  },
  {
   "cell_type": "code",
   "execution_count": 11,
   "id": "10788662",
   "metadata": {},
   "outputs": [
    {
     "data": {
      "application/vnd.jupyter.widget-view+json": {
       "model_id": "acd78280253b49cb947398e77ee9706f",
       "version_major": 2,
       "version_minor": 0
      },
      "text/plain": [
       "VBox()"
      ]
     },
     "metadata": {},
     "output_type": "display_data"
    },
    {
     "data": {
      "application/vnd.jupyter.widget-view+json": {
       "model_id": "",
       "version_major": 2,
       "version_minor": 0
      },
      "text/plain": [
       "FloatProgress(value=0.0, bar_style='info', description='Progress:', layout=Layout(height='25px', width='50%'),…"
      ]
     },
     "metadata": {},
     "output_type": "display_data"
    },
    {
     "name": "stdout",
     "output_type": "stream",
     "text": [
      "80962160"
     ]
    }
   ],
   "source": [
    "list_df.count()"
   ]
  },
  {
   "cell_type": "code",
   "execution_count": 12,
   "id": "6afc6a23",
   "metadata": {},
   "outputs": [
    {
     "data": {
      "application/vnd.jupyter.widget-view+json": {
       "model_id": "6f10d30a72734df79ff5fae2e9f35cd3",
       "version_major": 2,
       "version_minor": 0
      },
      "text/plain": [
       "VBox()"
      ]
     },
     "metadata": {},
     "output_type": "display_data"
    },
    {
     "data": {
      "application/vnd.jupyter.widget-view+json": {
       "model_id": "",
       "version_major": 2,
       "version_minor": 0
      },
      "text/plain": [
       "FloatProgress(value=0.0, bar_style='info', description='Progress:', layout=Layout(height='25px', width='50%'),…"
      ]
     },
     "metadata": {},
     "output_type": "display_data"
    }
   ],
   "source": [
    "list_df.write.parquet(\"s3a://sagemaker-coherehealth-1/claims-data/grouped_claims_data/\", mode=\"overwrite\")"
   ]
  },
  {
   "cell_type": "code",
   "execution_count": 12,
   "id": "adeb90f2",
   "metadata": {},
   "outputs": [
    {
     "data": {
      "application/vnd.jupyter.widget-view+json": {
       "model_id": "61ceb384482148278ab37986e3b0ffe1",
       "version_major": 2,
       "version_minor": 0
      },
      "text/plain": [
       "VBox()"
      ]
     },
     "metadata": {},
     "output_type": "display_data"
    },
    {
     "data": {
      "application/vnd.jupyter.widget-view+json": {
       "model_id": "",
       "version_major": 2,
       "version_minor": 0
      },
      "text/plain": [
       "FloatProgress(value=0.0, bar_style='info', description='Progress:', layout=Layout(height='25px', width='50%'),…"
      ]
     },
     "metadata": {},
     "output_type": "display_data"
    }
   ],
   "source": [
    "# %pip install biopython\n",
    "from Bio import pairwise2"
   ]
  },
  {
   "cell_type": "code",
   "execution_count": 13,
   "id": "7c7f1a23",
   "metadata": {},
   "outputs": [
    {
     "data": {
      "application/vnd.jupyter.widget-view+json": {
       "model_id": "8fbb58e9557a41e6ab9c4100b57eff89",
       "version_major": 2,
       "version_minor": 0
      },
      "text/plain": [
       "VBox()"
      ]
     },
     "metadata": {},
     "output_type": "display_data"
    },
    {
     "data": {
      "application/vnd.jupyter.widget-view+json": {
       "model_id": "",
       "version_major": 2,
       "version_minor": 0
      },
      "text/plain": [
       "FloatProgress(value=0.0, bar_style='info', description='Progress:', layout=Layout(height='25px', width='50%'),…"
      ]
     },
     "metadata": {},
     "output_type": "display_data"
    },
    {
     "name": "stdout",
     "output_type": "stream",
     "text": [
      "1.0"
     ]
    }
   ],
   "source": [
    "# # # # this function is iterative! we need a pyspark udf    \n",
    "# def seq_align_adherence(df):\n",
    "#     with open('carepaths.json', 'r') as js:\n",
    "#         data = json.load(js)\n",
    "    \n",
    "#     adherence_arr = np.zeros(df.shape[0])\n",
    "#     for i, row in df.iterrows():\n",
    "#         if i % 500000 == 0:\n",
    "#             print(i)\n",
    "            \n",
    "#         diag_cd = row['PRIMARY DIAG CD']\n",
    "\n",
    "#         try:\n",
    "#             carepaths = data[diag_cd][0]\n",
    "#             best_adh = 0\n",
    "#             for cp in carepaths:\n",
    "#                 target, mapping = get_target_sequence(cp)\n",
    "#                 pcd_seq, frac = construct_pcd_seq(ast.literal_eval(row['HCPCS CPT4 BASE CD 1']), cp, mapping)\n",
    "#                 reduced_pcd_seq = get_reduced_str(pcd_seq)\n",
    "#                 if frac != 0:\n",
    "#                     adherence = sequence_alignment(reduced_pcd_seq, target) * frac\n",
    "#                 else:\n",
    "#                     adherence = 0\n",
    "#                 if adherence > best_adh:\n",
    "#                     best_adh = adherence\n",
    "#             adherence_arr[i] = best_adh\n",
    "#         except:\n",
    "#             adherence_arr[i] = -1\n",
    "            \n",
    "#     df['sa_adherence'] = adherence_arr\n",
    "\n",
    "# function to construct scoring dict\n",
    "def make_scoring_dict(target_str):\n",
    "    sdict = {}\n",
    "    for c1 in target_str:\n",
    "        for c2 in target_str:\n",
    "            if c1 == c2:\n",
    "                if c1 != '0' and c2 != '0':\n",
    "                    sdict[(c1, c2)] = 10\n",
    "                else:\n",
    "                    sdict[(c1, c2)] = 1000\n",
    "            elif c1 == '0' or c2 == '0':\n",
    "                sdict[(c1, c2)] = -1000\n",
    "            elif abs(int(c1) - int(c2)) == 1:\n",
    "                sdict[(c1, c2)] = 5\n",
    "            else:\n",
    "                sdict[(c1, c2)] = 0\n",
    "    return sdict\n",
    "\n",
    "# function to get target sequence from a list\n",
    "def get_target_sequence(carepath):\n",
    "    mapping = {}\n",
    "    key_list = list(carepath.keys())\n",
    "    target = '0'\n",
    "    for k in range(len(key_list)):\n",
    "        mapping[key_list[k]] = str(k+1)\n",
    "        target += str(k+1)\n",
    "        \n",
    "    return target, mapping\n",
    "\n",
    "\n",
    "# function to only have unique characters\n",
    "def get_reduced_str(input_str):\n",
    "    new = ''\n",
    "    for c in input_str:\n",
    "        if c not in new:\n",
    "            new += c\n",
    "    return new\n",
    "\n",
    "\n",
    "# FLAG -- we could roll up on both ends here\n",
    "# function to query pcd codes and get their service cateogry / construct pcd sequence\n",
    "def construct_pcd_seq(procedures, carepath, mapping):\n",
    "    pcd_seq = '0'\n",
    "    for procedure in procedures:\n",
    "        for key in carepath:\n",
    "            if procedure in carepath[key]:\n",
    "                pcd_seq += mapping[key]\n",
    "                break\n",
    "                \n",
    "    return pcd_seq, (len(pcd_seq)-1) / len(procedures)\n",
    "\n",
    "\n",
    "def sequence_alignment(pcd_seq, cp_seq):\n",
    "    scoring = make_scoring_dict(cp_seq)\n",
    "    a = pairwise2.align.globaldd(cp_seq, \n",
    "                                 pcd_seq,\n",
    "                                 scoring,\n",
    "                                 -10,\n",
    "                                 0,\n",
    "                                 -5,\n",
    "                                 -1,\n",
    "                                 penalize_end_gaps=False,\n",
    "                                 score_only=True)\n",
    "    \n",
    "    return ((a-1000) / (len(pcd_seq)-1) / 10)\n",
    "\n",
    "sequence_alignment('012', '012345')"
   ]
  },
  {
   "cell_type": "code",
   "execution_count": 14,
   "id": "c74f69a1",
   "metadata": {},
   "outputs": [
    {
     "data": {
      "application/vnd.jupyter.widget-view+json": {
       "model_id": "1bb3a084a9cd44769a3b6a097826d057",
       "version_major": 2,
       "version_minor": 0
      },
      "text/plain": [
       "VBox()"
      ]
     },
     "metadata": {},
     "output_type": "display_data"
    },
    {
     "data": {
      "application/vnd.jupyter.widget-view+json": {
       "model_id": "",
       "version_major": 2,
       "version_minor": 0
      },
      "text/plain": [
       "FloatProgress(value=0.0, bar_style='info', description='Progress:', layout=Layout(height='25px', width='50%'),…"
      ]
     },
     "metadata": {},
     "output_type": "display_data"
    }
   ],
   "source": [
    "from pyspark.sql.types import FloatType, DoubleType\n",
    "import os\n",
    "import ast\n",
    "import json\n",
    "\n",
    "def seq_alignment_adherence(diag_cd, procedure_cds):\n",
    "    try:\n",
    "        carepaths = data[diag_cd][0]\n",
    "        best_adh = 0.0\n",
    "        for cp in carepaths:\n",
    "            target, mapping = get_target_sequence(cp)\n",
    "            code_list = procedure_cds.split(' ')\n",
    "            pcd_seq, frac = construct_pcd_seq(code_list, cp, mapping)\n",
    "            reduced_pcd_seq = get_reduced_str(pcd_seq)\n",
    "            if frac != 0:\n",
    "                adherence = sequence_alignment(reduced_pcd_seq, target) * frac\n",
    "                print(adherence)\n",
    "            else:\n",
    "                adherence = 0\n",
    "            if adherence > best_adh:\n",
    "                best_adh = adherence\n",
    "        return best_adh\n",
    "    except:\n",
    "        return -1.0\n",
    "    \n",
    "adherence_udf = F.udf(seq_alignment_adherence, DoubleType())\n",
    "\n",
    "def generous_adherence(diag_cd, procedure_cds):\n",
    "    try:\n",
    "        carepaths = data[diag_cd][0]\n",
    "        best_adh = 0.0\n",
    "        for cp in carepaths:\n",
    "            target, mapping = get_target_sequence(cp)\n",
    "            code_list = procedure_cds.split(' ')\n",
    "            pcd_seq, frac = construct_pcd_seq(code_list, cp, mapping)\n",
    "            reduced_pcd_seq = get_reduced_str(pcd_seq)\n",
    "            if frac != 0:\n",
    "                adherence = sequence_alignment(reduced_pcd_seq, target)\n",
    "            else:\n",
    "                best_adh = -1.0\n",
    "            if adherence > best_adh:\n",
    "                best_adh = adherence\n",
    "        return best_adh\n",
    "    except:\n",
    "        return -1.0\n",
    "    \n",
    "gen_adherence_udf = F.udf(generous_adherence, DoubleType())"
   ]
  },
  {
   "cell_type": "code",
   "execution_count": 15,
   "id": "62e692dc",
   "metadata": {},
   "outputs": [
    {
     "data": {
      "application/vnd.jupyter.widget-view+json": {
       "model_id": "b000f3f107a041ba90b8034259f59c22",
       "version_major": 2,
       "version_minor": 0
      },
      "text/plain": [
       "VBox()"
      ]
     },
     "metadata": {},
     "output_type": "display_data"
    },
    {
     "data": {
      "application/vnd.jupyter.widget-view+json": {
       "model_id": "",
       "version_major": 2,
       "version_minor": 0
      },
      "text/plain": [
       "FloatProgress(value=0.0, bar_style='info', description='Progress:', layout=Layout(height='25px', width='50%'),…"
      ]
     },
     "metadata": {},
     "output_type": "display_data"
    }
   ],
   "source": [
    "import boto3\n",
    "import json\n",
    "\n",
    "s3 = boto3.resource('s3')\n",
    "json_str = s3.Object('sagemaker-coherehealth-1', 'claims-data/carepaths.json').get()['Body'].read().decode('utf-8')\n",
    "data = json.loads(json_str)"
   ]
  },
  {
   "cell_type": "code",
   "execution_count": 16,
   "id": "380f3518",
   "metadata": {},
   "outputs": [
    {
     "data": {
      "application/vnd.jupyter.widget-view+json": {
       "model_id": "fe0e71d0b30241d792322dfb8a18c8f9",
       "version_major": 2,
       "version_minor": 0
      },
      "text/plain": [
       "VBox()"
      ]
     },
     "metadata": {},
     "output_type": "display_data"
    },
    {
     "data": {
      "application/vnd.jupyter.widget-view+json": {
       "model_id": "",
       "version_major": 2,
       "version_minor": 0
      },
      "text/plain": [
       "FloatProgress(value=0.0, bar_style='info', description='Progress:', layout=Layout(height='25px', width='50%'),…"
      ]
     },
     "metadata": {},
     "output_type": "display_data"
    }
   ],
   "source": [
    "adh_df = list_df.withColumn('seq_align_adh', adherence_udf(list_df.diagnosis_code1, list_df.ord_procedure_codes))\n",
    "adh_df = adh_df.withColumn('generous_adh', gen_adherence_udf(list_df.diagnosis_code1, list_df.ord_procedure_codes))"
   ]
  },
  {
   "cell_type": "code",
   "execution_count": 17,
   "id": "e45544ab",
   "metadata": {},
   "outputs": [
    {
     "data": {
      "application/vnd.jupyter.widget-view+json": {
       "model_id": "4ea980bd866148629e6b35f30f96c73a",
       "version_major": 2,
       "version_minor": 0
      },
      "text/plain": [
       "VBox()"
      ]
     },
     "metadata": {},
     "output_type": "display_data"
    },
    {
     "data": {
      "application/vnd.jupyter.widget-view+json": {
       "model_id": "",
       "version_major": 2,
       "version_minor": 0
      },
      "text/plain": [
       "FloatProgress(value=0.0, bar_style='info', description='Progress:', layout=Layout(height='25px', width='50%'),…"
      ]
     },
     "metadata": {},
     "output_type": "display_data"
    },
    {
     "name": "stdout",
     "output_type": "stream",
     "text": [
      "+----------+---------------+--------------------+-------------------+------------+\n",
      "|member_ssn|diagnosis_code1| ord_procedure_codes|      seq_align_adh|generous_adh|\n",
      "+----------+---------------+--------------------+-------------------+------------+\n",
      "|      null|          D4862|99244 77065 99214...|               -1.0|        -1.0|\n",
      "|      null|           F900|99213 99214 99213...|               -1.0|        -1.0|\n",
      "|      null|        H4031X0|              99213 |               -1.0|        -1.0|\n",
      "|      null|         L97818|11043 11046 11042...|               -1.0|        -1.0|\n",
      "|      null|          M5031|20610 99213 J0702...|0.18617021276595744|         0.5|\n",
      "|      null|         M67432|L3808 20612 J0702...|               -1.0|        -1.0|\n",
      "|      null|         O99815|        36415 82947 |               -1.0|        -1.0|\n",
      "|      null|           P761|74021 71045 74018...|               -1.0|        -1.0|\n",
      "|      null|         R41841|92523 99214 92507...|               -1.0|        -1.0|\n",
      "|      null|           R791|71275 93010 93010...|               -1.0|        -1.0|\n",
      "|      null|        S2001XA|99283 00400 77066...|               -1.0|        -1.0|\n",
      "|      null|        S32312A|73700 99283 73501...|               -1.0|        -1.0|\n",
      "|      null|        S3692XA|        99221 99231 |               -1.0|        -1.0|\n",
      "|      null|        S61219A|99213 12002 90471...|               -1.0|        -1.0|\n",
      "|      null|        S8251XB|              01480 |               -1.0|        -1.0|\n",
      "|      null|        S86111D|97110 97161 97010...|               -1.0|        -1.0|\n",
      "|      null|        S98132D|73630 99203 99213...|               -1.0|        -1.0|\n",
      "|      null|        S99922S|              73630 |               -1.0|        -1.0|\n",
      "|      null|          Z3862|99205 99205 99204...|               -1.0|        -1.0|\n",
      "|      null|         Z87440|87086 76805 76805...|               -1.0|        -1.0|\n",
      "+----------+---------------+--------------------+-------------------+------------+\n",
      "only showing top 20 rows"
     ]
    }
   ],
   "source": [
    "adh_df.show()"
   ]
  },
  {
   "cell_type": "code",
   "execution_count": 18,
   "id": "7282f741",
   "metadata": {},
   "outputs": [
    {
     "data": {
      "application/vnd.jupyter.widget-view+json": {
       "model_id": "34b3bf69718944d1a77b8941fd80c72e",
       "version_major": 2,
       "version_minor": 0
      },
      "text/plain": [
       "VBox()"
      ]
     },
     "metadata": {},
     "output_type": "display_data"
    },
    {
     "data": {
      "application/vnd.jupyter.widget-view+json": {
       "model_id": "",
       "version_major": 2,
       "version_minor": 0
      },
      "text/plain": [
       "FloatProgress(value=0.0, bar_style='info', description='Progress:', layout=Layout(height='25px', width='50%'),…"
      ]
     },
     "metadata": {},
     "output_type": "display_data"
    }
   ],
   "source": [
    "adh_df.write.parquet(\"s3a://sagemaker-coherehealth-1/claims-data/adherence_data/\", mode=\"overwrite\")"
   ]
  },
  {
   "cell_type": "markdown",
   "id": "8bf01b4c",
   "metadata": {},
   "source": [
    "# ------------------------------"
   ]
  },
  {
   "cell_type": "markdown",
   "id": "1f17a1f7",
   "metadata": {},
   "source": [
    "## Start here to read adherence df in most current state"
   ]
  },
  {
   "cell_type": "code",
   "execution_count": 5,
   "id": "7e7afbf6",
   "metadata": {},
   "outputs": [
    {
     "data": {
      "application/vnd.jupyter.widget-view+json": {
       "model_id": "351c52a89e6741e1aba19722b805ca46",
       "version_major": 2,
       "version_minor": 0
      },
      "text/plain": [
       "VBox()"
      ]
     },
     "metadata": {},
     "output_type": "display_data"
    },
    {
     "data": {
      "application/vnd.jupyter.widget-view+json": {
       "model_id": "",
       "version_major": 2,
       "version_minor": 0
      },
      "text/plain": [
       "FloatProgress(value=0.0, bar_style='info', description='Progress:', layout=Layout(height='25px', width='50%'),…"
      ]
     },
     "metadata": {},
     "output_type": "display_data"
    }
   ],
   "source": [
    "adh_df = spark.read.load('s3a://sagemaker-coherehealth-1/claims-data/adherence_data/')"
   ]
  },
  {
   "cell_type": "code",
   "execution_count": 6,
   "id": "80a9424a",
   "metadata": {},
   "outputs": [
    {
     "data": {
      "application/vnd.jupyter.widget-view+json": {
       "model_id": "6480affaebab44ffb8b45e05dade8ea2",
       "version_major": 2,
       "version_minor": 0
      },
      "text/plain": [
       "VBox()"
      ]
     },
     "metadata": {},
     "output_type": "display_data"
    },
    {
     "data": {
      "application/vnd.jupyter.widget-view+json": {
       "model_id": "",
       "version_major": 2,
       "version_minor": 0
      },
      "text/plain": [
       "FloatProgress(value=0.0, bar_style='info', description='Progress:', layout=Layout(height='25px', width='50%'),…"
      ]
     },
     "metadata": {},
     "output_type": "display_data"
    },
    {
     "name": "stdout",
     "output_type": "stream",
     "text": [
      "78874665"
     ]
    }
   ],
   "source": [
    "adh_df.count()"
   ]
  },
  {
   "cell_type": "code",
   "execution_count": 7,
   "id": "2e2e1569",
   "metadata": {},
   "outputs": [
    {
     "data": {
      "application/vnd.jupyter.widget-view+json": {
       "model_id": "15b385615ff9478f860493667bb62cdf",
       "version_major": 2,
       "version_minor": 0
      },
      "text/plain": [
       "VBox()"
      ]
     },
     "metadata": {},
     "output_type": "display_data"
    },
    {
     "data": {
      "application/vnd.jupyter.widget-view+json": {
       "model_id": "",
       "version_major": 2,
       "version_minor": 0
      },
      "text/plain": [
       "FloatProgress(value=0.0, bar_style='info', description='Progress:', layout=Layout(height='25px', width='50%'),…"
      ]
     },
     "metadata": {},
     "output_type": "display_data"
    },
    {
     "name": "stdout",
     "output_type": "stream",
     "text": [
      "+-------+-------------------+\n",
      "|summary|      seq_align_adh|\n",
      "+-------+-------------------+\n",
      "|  count|            6855000|\n",
      "|   mean| 0.1013878628713774|\n",
      "| stddev|0.21047998251714434|\n",
      "|    min|                0.0|\n",
      "|    max| 0.9991680532445923|\n",
      "+-------+-------------------+"
     ]
    }
   ],
   "source": [
    "seq_align_df = adh_df.filter(adh_df.seq_align_adh != -1.0)\n",
    "seq_align_df.describe(['seq_align_adh']).show()"
   ]
  },
  {
   "cell_type": "code",
   "execution_count": 8,
   "id": "b2e6e9cf",
   "metadata": {},
   "outputs": [
    {
     "data": {
      "application/vnd.jupyter.widget-view+json": {
       "model_id": "76c2b5520e62421996eaa7c1f26740a2",
       "version_major": 2,
       "version_minor": 0
      },
      "text/plain": [
       "VBox()"
      ]
     },
     "metadata": {},
     "output_type": "display_data"
    },
    {
     "data": {
      "application/vnd.jupyter.widget-view+json": {
       "model_id": "",
       "version_major": 2,
       "version_minor": 0
      },
      "text/plain": [
       "FloatProgress(value=0.0, bar_style='info', description='Progress:', layout=Layout(height='25px', width='50%'),…"
      ]
     },
     "metadata": {},
     "output_type": "display_data"
    },
    {
     "name": "stdout",
     "output_type": "stream",
     "text": [
      "+-------+-------------------+\n",
      "|summary|       generous_adh|\n",
      "+-------+-------------------+\n",
      "|  count|            2171379|\n",
      "|   mean| 0.6153987995647674|\n",
      "| stddev|0.26922224025707536|\n",
      "|    min|                0.1|\n",
      "|    max|                1.0|\n",
      "+-------+-------------------+"
     ]
    }
   ],
   "source": [
    "gen_adh_df = adh_df.filter(adh_df.generous_adh != -1.0)\n",
    "gen_adh_df.describe(['generous_adh']).show()"
   ]
  },
  {
   "cell_type": "code",
   "execution_count": 9,
   "id": "5c038bf2",
   "metadata": {},
   "outputs": [
    {
     "data": {
      "application/vnd.jupyter.widget-view+json": {
       "model_id": "cd6e637559bd4f4bb78102d25aa21bcb",
       "version_major": 2,
       "version_minor": 0
      },
      "text/plain": [
       "VBox()"
      ]
     },
     "metadata": {},
     "output_type": "display_data"
    },
    {
     "data": {
      "application/vnd.jupyter.widget-view+json": {
       "model_id": "",
       "version_major": 2,
       "version_minor": 0
      },
      "text/plain": [
       "FloatProgress(value=0.0, bar_style='info', description='Progress:', layout=Layout(height='25px', width='50%'),…"
      ]
     },
     "metadata": {},
     "output_type": "display_data"
    }
   ],
   "source": [
    "import matplotlib\n",
    "from matplotlib import pyplot as plt "
   ]
  },
  {
   "cell_type": "code",
   "execution_count": 10,
   "id": "4542ebb2",
   "metadata": {},
   "outputs": [
    {
     "data": {
      "application/vnd.jupyter.widget-view+json": {
       "model_id": "8f6c553927284f4c8ae692759e6dc4f6",
       "version_major": 2,
       "version_minor": 0
      },
      "text/plain": [
       "VBox()"
      ]
     },
     "metadata": {},
     "output_type": "display_data"
    },
    {
     "data": {
      "application/vnd.jupyter.widget-view+json": {
       "model_id": "",
       "version_major": 2,
       "version_minor": 0
      },
      "text/plain": [
       "FloatProgress(value=0.0, bar_style='info', description='Progress:', layout=Layout(height='25px', width='50%'),…"
      ]
     },
     "metadata": {},
     "output_type": "display_data"
    }
   ],
   "source": [
    "# fig, ax = plt.subplots()\n",
    "# ax.hist(list(gen_adh_df.select('generous_adh').toPandas()['generous_adh']), bins=50, color='orange')"
   ]
  },
  {
   "cell_type": "code",
   "execution_count": 11,
   "id": "3a274658",
   "metadata": {},
   "outputs": [
    {
     "data": {
      "application/vnd.jupyter.widget-view+json": {
       "model_id": "01d3377c5a40463ead0fb240c1ad3239",
       "version_major": 2,
       "version_minor": 0
      },
      "text/plain": [
       "VBox()"
      ]
     },
     "metadata": {},
     "output_type": "display_data"
    },
    {
     "data": {
      "application/vnd.jupyter.widget-view+json": {
       "model_id": "",
       "version_major": 2,
       "version_minor": 0
      },
      "text/plain": [
       "FloatProgress(value=0.0, bar_style='info', description='Progress:', layout=Layout(height='25px', width='50%'),…"
      ]
     },
     "metadata": {},
     "output_type": "display_data"
    }
   ],
   "source": [
    "# %matplot plt"
   ]
  },
  {
   "cell_type": "code",
   "execution_count": 12,
   "id": "be4d4bc0",
   "metadata": {},
   "outputs": [
    {
     "data": {
      "application/vnd.jupyter.widget-view+json": {
       "model_id": "29a667939b2647738cc15559e690406f",
       "version_major": 2,
       "version_minor": 0
      },
      "text/plain": [
       "VBox()"
      ]
     },
     "metadata": {},
     "output_type": "display_data"
    },
    {
     "data": {
      "application/vnd.jupyter.widget-view+json": {
       "model_id": "",
       "version_major": 2,
       "version_minor": 0
      },
      "text/plain": [
       "FloatProgress(value=0.0, bar_style='info', description='Progress:', layout=Layout(height='25px', width='50%'),…"
      ]
     },
     "metadata": {},
     "output_type": "display_data"
    }
   ],
   "source": [
    "# fig, ax = plt.subplots()\n",
    "# ax.hist(list(seq_align_df.select('seq_align_adh').toPandas()['seq_align_adh']), bins=50, color='blue')"
   ]
  },
  {
   "cell_type": "code",
   "execution_count": 13,
   "id": "99f9617d",
   "metadata": {},
   "outputs": [
    {
     "data": {
      "application/vnd.jupyter.widget-view+json": {
       "model_id": "325cb42c33ae49a099861bf55155a844",
       "version_major": 2,
       "version_minor": 0
      },
      "text/plain": [
       "VBox()"
      ]
     },
     "metadata": {},
     "output_type": "display_data"
    },
    {
     "data": {
      "application/vnd.jupyter.widget-view+json": {
       "model_id": "",
       "version_major": 2,
       "version_minor": 0
      },
      "text/plain": [
       "FloatProgress(value=0.0, bar_style='info', description='Progress:', layout=Layout(height='25px', width='50%'),…"
      ]
     },
     "metadata": {},
     "output_type": "display_data"
    }
   ],
   "source": [
    "# %matplot plt"
   ]
  },
  {
   "cell_type": "code",
   "execution_count": 14,
   "id": "8ca8d88e",
   "metadata": {},
   "outputs": [
    {
     "data": {
      "application/vnd.jupyter.widget-view+json": {
       "model_id": "a8f0f1324e364aab8549876dec37fff5",
       "version_major": 2,
       "version_minor": 0
      },
      "text/plain": [
       "VBox()"
      ]
     },
     "metadata": {},
     "output_type": "display_data"
    },
    {
     "data": {
      "application/vnd.jupyter.widget-view+json": {
       "model_id": "",
       "version_major": 2,
       "version_minor": 0
      },
      "text/plain": [
       "FloatProgress(value=0.0, bar_style='info', description='Progress:', layout=Layout(height='25px', width='50%'),…"
      ]
     },
     "metadata": {},
     "output_type": "display_data"
    },
    {
     "name": "stdout",
     "output_type": "stream",
     "text": [
      "+----------+---------------+------------------------------------------------------------------------------------------------------------------------------------------------------------------------------------------------------------------------------------------------------------------------------------------------------------------------------------------------------------------------------------------------------------------------------------------------------------------------------------------------------------------------------------------------------------------------------------------------------------------------------------------------------------------------------------------------------+-------------------+------------+\n",
      "|member_ssn|diagnosis_code1|ord_procedure_codes                                                                                                                                                                                                                                                                                                                                                                                                                                                                                                                                                                                                                                                                                   |seq_align_adh      |generous_adh|\n",
      "+----------+---------------+------------------------------------------------------------------------------------------------------------------------------------------------------------------------------------------------------------------------------------------------------------------------------------------------------------------------------------------------------------------------------------------------------------------------------------------------------------------------------------------------------------------------------------------------------------------------------------------------------------------------------------------------------------------------------------------------------+-------------------+------------+\n",
      "|123446615 |M48062         |62323 J1030 J1040 99212 J1030 J1040 62323 22612 22612 63047 63048 20939 63048 22840 22840 63047 20939                                                                                                                                                                                                                                                                                                                                                                                                                                                                                                                                                                                                 |0.3888888888888889 |0.7         |\n",
      "|144405377 |M1711          |99213 C1776 G0378 J2405 None 73560 J0690 None J1580 J2250 J1100 97530 27447 76942 27447 C9290 64450 27447 J1170 None J2800 None J2001 None 97163 J2795 01402 J2405 64447 J0690 None None 64447 80048 None 97116 97110 99231 J0690 73560 96374 85025 99231 99231 97535 97530                                                                                                                                                                                                                                                                                                                                                                                                                           |0.13404255319148936|0.7         |\n",
      "|227688984 |M5136          |97140 97162 97110 97035 97140 97140 97035 97035 97140 97140 G0283 97035 G0283 97140 97140 97035 97140 97035 97140 97035 97035 97140                                                                                                                                                                                                                                                                                                                                                                                                                                                                                                                                                                   |0.6217391304347827 |0.65        |\n",
      "|231526947 |M5417          |97163 97140 97112 97112 97140 97112 97163 97163 97140 G0283 97140 97110 97110 97140 97140 G0283 97112 G0283 97140 97035 G0283 97112 97164 97140 97164                                                                                                                                                                                                                                                                                                                                                                                                                                                                                                                                                 |0.625              |0.65        |\n",
      "|233526528 |M545           |36415 99204 97110 97140 97110 97140 97162 97140 97110 97110 97140 97140 G0283 97110 97112 97110 97140 G0283 97110 97112 97140 G0283 97140 97110 97530                                                                                                                                                                                                                                                                                                                                                                                                                                                                                                                                                 |0.5307692307692308 |0.6         |\n",
      "|235743919 |M545           |97161 97161 G0283 97140                                                                                                                                                                                                                                                                                                                                                                                                                                                                                                                                                                                                                                                                               |0.48               |0.6         |\n",
      "|241802803 |M545           |97530 97161 97530 G0283 97012                                                                                                                                                                                                                                                                                                                                                                                                                                                                                                                                                                                                                                                                         |0.5                |0.6         |\n",
      "|243622944 |M1711          |20610 J7323 20610 J7323 J7323 20610 77077 64447 None 01402 None None None None None None 27447 None 01402 None 27447 76942 None None None 99221 None 99232 99232 99213                                                                                                                                                                                                                                                                                                                                                                                                                                                                                                                                |0.1129032258064516 |0.7         |\n",
      "|244485695 |M1712          |73560 99203 20610 J3301 J3301 99203 20610 J3301 20610 99213 20610 J3301 99213 99213 99213 20610 J7324 J7321 20610 99213 99214 99214 None None None None None None None None None None None None None None None None None None None None 27447 None None None None 01402 None None None None 01402 None None None None None None None None                                                                                                                                                                                                                                                                                                                                                             |0.09032258064516129|0.7         |\n",
      "|245299613 |M5416          |97110 G0283                                                                                                                                                                                                                                                                                                                                                                                                                                                                                                                                                                                                                                                                                           |0.43333333333333335|0.65        |\n",
      "|248445458 |M5431          |72100 99213 97161 97110 97110 G0283 G0283 97110 97110 G0283 97035 97110 G0283 97110 G0283                                                                                                                                                                                                                                                                                                                                                                                                                                                                                                                                                                                                             |0.5281250000000001 |0.65        |\n",
      "|256236180 |M5136          |80053 85025 99213 97162 97110 97010 G0283                                                                                                                                                                                                                                                                                                                                                                                                                                                                                                                                                                                                                                                             |0.325              |0.65        |\n",
      "|265661253 |M545           |99214 80307 G0482 99214 99214 99214 99214 99214 83036 99214 99214 99214 99214 99214 99213 99213 99441 99441 99214 99214 97161 97110 G0283 97110 97032 97012 97032 97110 97110 97112 97032 97110 97032 97110 97112 97032 97110 97032 97112 G0283 97110 99214 99214 99214 99214 99213 99214                                                                                                                                                                                                                                                                                                                                                                                                             |0.2625             |0.6         |\n",
      "|266606612 |M545           |97162 97110 G0283 97140 97110 G0283 97140 97140 97110 G0283 97110 G0283 97140 97110 97140 G0283 97140 97110 G0283 73502 99203 72100                                                                                                                                                                                                                                                                                                                                                                                                                                                                                                                                                                   |0.49565217391304345|0.6         |\n",
      "|274283883 |M1612          |73502 99214 99214 77002 None 20610 73502 99214 99214 None 20610 77002 J3301 20610 77002 99214 73502 99214 27130 None None None None None None None None None None 27130 None None None None None None None None None None None None None None 99306                                                                                                                                                                                                                                                                                                                                                                                                                                                   |0.04565217391304347|0.7         |\n",
      "|278382576 |M47816         |99204 99204 99204 97110 97162 97140 G0283                                                                                                                                                                                                                                                                                                                                                                                                                                                                                                                                                                                                                                                             |0.325              |0.65        |\n",
      "|279448663 |M545           |97162 97112 97110 97112 97110 G0283 97112 97110 G0283 97112 G0283 97110 G0283 97112 97110 97110 97164                                                                                                                                                                                                                                                                                                                                                                                                                                                                                                                                                                                                 |0.5666666666666667 |0.6         |\n",
      "|280600421 |M545           |97161 97035 97140 97035 G0283 G0283 97140 97035 97140 97110 G0283 97035 97032 97140 97035 97140 97035 97140 G0283 97035 97140 G0283 97035 97140 97140 97035 97035 97140 G0283 97140 G0283 97035 G0283 97110 97140 97035 97110 97140 97035 97035 97110 97140 97140 97110 97035 97035 97140 97110 97110 97140 G0283 G0283 97140 97035 97110 97140 G0283 97110 G0283 97140 97140 97110 G0283 G0283 97110 97140 97140 G0283 97035 97110 97140 97110 97035 97140 97110 97035 97110 97140 97140 97110 97035 97110 97140 G0283                                                                                                                                                                               |0.5929411764705882 |0.6         |\n",
      "|282367369 |M545           |97161 97110 97140 G0283 97110 G0283 97110 G0283 G0283 97110 G0283 97110 97110 G0283 97110 G0283 G0283 97012 97110 G0283 97110 97110 G0283 97110                                                                                                                                                                                                                                                                                                                                                                                                                                                                                                                                                       |0.576              |0.6         |\n",
      "|296546382 |M545           |73502 72100 73502 72100 97035 97014 97012 97110 97140 97140 97035 97012 97140 97014 97110 97014 97010 97012 97035 97110 97012 97014 97110 97012 97010 97014 97012 97010 97014 97012 97110 97140 G0283 G0283 97012 97110 G0283 97010 G0283 97012 97012 G0283 97010 97012 97140 97140 97012 97140 97012 G0283 G0283 97110 97140 97010 97110 G0283 97140 95831 G0283 95831 G0283 97140 G0283 97010 G0283 97140 G0283 97140 97110 97140 G0283 97035 97110 97140 97140 97010 G0283 97035 G0283 97140 97035 G0283 97110 97010 G0283 97035 97110 97035 97140 G0283 G0283 97035 97140 97140 97110 97140 G0283 G0283 97140 G0283 97010 97140 97035 97110 G0283 97140 97140 G0283 97035 97010 97140 97035 G0283 |0.5631578947368421 |0.6         |\n",
      "+----------+---------------+------------------------------------------------------------------------------------------------------------------------------------------------------------------------------------------------------------------------------------------------------------------------------------------------------------------------------------------------------------------------------------------------------------------------------------------------------------------------------------------------------------------------------------------------------------------------------------------------------------------------------------------------------------------------------------------------------+-------------------+------------+\n",
      "only showing top 20 rows"
     ]
    }
   ],
   "source": [
    "query = (\n",
    "    gen_adh_df\n",
    "    .filter(\n",
    "    (gen_adh_df.generous_adh > 0.5) &\n",
    "    (gen_adh_df.generous_adh < 0.75) &\n",
    "    (gen_adh_df.seq_align_adh > 0))\n",
    ")\n",
    "query.show(truncate=False)"
   ]
  },
  {
   "cell_type": "code",
   "execution_count": 61,
   "id": "db6bc5e8",
   "metadata": {},
   "outputs": [
    {
     "data": {
      "application/vnd.jupyter.widget-view+json": {
       "model_id": "e1d7cdbeaee641389330138cad7e2545",
       "version_major": 2,
       "version_minor": 0
      },
      "text/plain": [
       "VBox()"
      ]
     },
     "metadata": {},
     "output_type": "display_data"
    },
    {
     "data": {
      "application/vnd.jupyter.widget-view+json": {
       "model_id": "",
       "version_major": 2,
       "version_minor": 0
      },
      "text/plain": [
       "FloatProgress(value=0.0, bar_style='info', description='Progress:', layout=Layout(height='25px', width='50%'),…"
      ]
     },
     "metadata": {},
     "output_type": "display_data"
    },
    {
     "name": "stdout",
     "output_type": "stream",
     "text": [
      "+----------+---------------+-----------------------------------------------------------------------------------------------+-------------+------------+\n",
      "|member_ssn|diagnosis_code1|ord_procedure_codes                                                                            |seq_align_adh|generous_adh|\n",
      "+----------+---------------+-----------------------------------------------------------------------------------------------+-------------+------------+\n",
      "|001507035 |M25571         |73650 73610 J1030 20551 99214 73610 73650 20551 J1030                                          |0.0          |-1.0        |\n",
      "|004584849 |M25571         |99213                                                                                          |0.0          |-1.0        |\n",
      "|006403741 |M25511         |86140 73030 85652 99214 77002 83516 20610 20610 77002 86140 89051 None 99213 20610 J1030 73030 |0.0          |-1.0        |\n",
      "|007349181 |M25562         |A0429 A0425 27520 99213 73562                                                                  |0.0          |-1.0        |\n",
      "|007440989 |M79671         |99203 73620                                                                                    |0.0          |-1.0        |\n",
      "|007441125 |M47816         |72100                                                                                          |0.0          |-1.0        |\n",
      "|008281392 |M79662         |99203                                                                                          |0.0          |-1.0        |\n",
      "|008608755 |M25551         |73502 99203 99213                                                                              |0.0          |-1.0        |\n",
      "|009188307 |M533           |99213                                                                                          |0.0          |-1.0        |\n",
      "|009220892 |M79672         |73630 Q0092 R0070                                                                              |0.0          |-1.0        |\n",
      "+----------+---------------+-----------------------------------------------------------------------------------------------+-------------+------------+\n",
      "only showing top 10 rows"
     ]
    }
   ],
   "source": [
    "rollup_analysis = (\n",
    "    seq_align_df\n",
    "    .filter(\n",
    "        (seq_align_df.seq_align_adh == 0) &\n",
    "        (seq_align_df.generous_adh != 0) # &\n",
    "#         (seq_align_df.diagnosis_code1 == 'M545')\n",
    "    )\n",
    ")\n",
    "\n",
    "rollup_analysis.show(10, truncate=False)"
   ]
  },
  {
   "cell_type": "code",
   "execution_count": 16,
   "id": "744b05e1",
   "metadata": {},
   "outputs": [
    {
     "data": {
      "application/vnd.jupyter.widget-view+json": {
       "model_id": "833f69f6b077485b800a5a490005ad96",
       "version_major": 2,
       "version_minor": 0
      },
      "text/plain": [
       "VBox()"
      ]
     },
     "metadata": {},
     "output_type": "display_data"
    },
    {
     "data": {
      "application/vnd.jupyter.widget-view+json": {
       "model_id": "",
       "version_major": 2,
       "version_minor": 0
      },
      "text/plain": [
       "FloatProgress(value=0.0, bar_style='info', description='Progress:', layout=Layout(height='25px', width='50%'),…"
      ]
     },
     "metadata": {},
     "output_type": "display_data"
    },
    {
     "name": "stdout",
     "output_type": "stream",
     "text": [
      "4531642"
     ]
    }
   ],
   "source": [
    "rollup_analysis.count()"
   ]
  },
  {
   "cell_type": "code",
   "execution_count": 17,
   "id": "5ba1d405",
   "metadata": {},
   "outputs": [
    {
     "data": {
      "application/vnd.jupyter.widget-view+json": {
       "model_id": "b9a4b11b59d54fdfb44374060b3a577b",
       "version_major": 2,
       "version_minor": 0
      },
      "text/plain": [
       "VBox()"
      ]
     },
     "metadata": {},
     "output_type": "display_data"
    },
    {
     "data": {
      "application/vnd.jupyter.widget-view+json": {
       "model_id": "",
       "version_major": 2,
       "version_minor": 0
      },
      "text/plain": [
       "FloatProgress(value=0.0, bar_style='info', description='Progress:', layout=Layout(height='25px', width='50%'),…"
      ]
     },
     "metadata": {},
     "output_type": "display_data"
    }
   ],
   "source": [
    "# could (create list col), explode, analytics???\n",
    "# an idea - prcd code blacklist? anesthetics, local doctor visits, chiropractor visits?"
   ]
  },
  {
   "cell_type": "code",
   "execution_count": 34,
   "id": "5ec8ec48",
   "metadata": {},
   "outputs": [
    {
     "data": {
      "application/vnd.jupyter.widget-view+json": {
       "model_id": "7b64c19d7aa740978e6fdae25273d8fe",
       "version_major": 2,
       "version_minor": 0
      },
      "text/plain": [
       "VBox()"
      ]
     },
     "metadata": {},
     "output_type": "display_data"
    },
    {
     "data": {
      "application/vnd.jupyter.widget-view+json": {
       "model_id": "",
       "version_major": 2,
       "version_minor": 0
      },
      "text/plain": [
       "FloatProgress(value=0.0, bar_style='info', description='Progress:', layout=Layout(height='25px', width='50%'),…"
      ]
     },
     "metadata": {},
     "output_type": "display_data"
    },
    {
     "name": "stdout",
     "output_type": "stream",
     "text": [
      "Collecting StringIO\n",
      "\n",
      "  Could not find a version that satisfies the requirement StringIO (from versions: )\n",
      "No matching distribution found for StringIO"
     ]
    }
   ],
   "source": [
    "sc.install_pypi_package('StringIO')"
   ]
  },
  {
   "cell_type": "code",
   "execution_count": 48,
   "id": "3a2b1b87",
   "metadata": {},
   "outputs": [
    {
     "data": {
      "application/vnd.jupyter.widget-view+json": {
       "model_id": "3ce31c162cf544c792a218c3839fd318",
       "version_major": 2,
       "version_minor": 0
      },
      "text/plain": [
       "VBox()"
      ]
     },
     "metadata": {},
     "output_type": "display_data"
    },
    {
     "data": {
      "application/vnd.jupyter.widget-view+json": {
       "model_id": "",
       "version_major": 2,
       "version_minor": 0
      },
      "text/plain": [
       "FloatProgress(value=0.0, bar_style='info', description='Progress:', layout=Layout(height='25px', width='50%'),…"
      ]
     },
     "metadata": {},
     "output_type": "display_data"
    },
    {
     "name": "stdout",
     "output_type": "stream",
     "text": [
      "     Start Code  End Code\n",
      "0           100       222\n",
      "1           300       352\n",
      "2           400       474\n",
      "3           500       580\n",
      "4           600       670\n",
      "..          ...       ...\n",
      "110       99487     99489\n",
      "111       99495     99496\n",
      "112       99499     99499\n",
      "113       99500     99602\n",
      "114       99605     99607\n",
      "\n",
      "[115 rows x 2 columns]"
     ]
    }
   ],
   "source": [
    "import pandas as pd\n",
    "import os\n",
    "import boto3\n",
    "from io import StringIO\n",
    "\n",
    "s3 = boto3.resource('s3')\n",
    "hierarchy = s3.Object('sagemaker-coherehealth-1', 'claims-data/hierarchy.csv').get()['Body'].read().decode('utf-8')\n",
    "hdf = pd.read_csv(StringIO(hierarchy))\n",
    "hdf.at[112, 'End Code'] = 99499\n",
    "hdf = hdf.astype({'End Code': 'int64'})\n",
    "hdf[['Start Code', 'End Code']]"
   ]
  },
  {
   "cell_type": "code",
   "execution_count": 63,
   "id": "a98020f4",
   "metadata": {},
   "outputs": [
    {
     "data": {
      "application/vnd.jupyter.widget-view+json": {
       "model_id": "826e98aa7a6943858645c2058ffe907a",
       "version_major": 2,
       "version_minor": 0
      },
      "text/plain": [
       "VBox()"
      ]
     },
     "metadata": {},
     "output_type": "display_data"
    },
    {
     "data": {
      "application/vnd.jupyter.widget-view+json": {
       "model_id": "",
       "version_major": 2,
       "version_minor": 0
      },
      "text/plain": [
       "FloatProgress(value=0.0, bar_style='info', description='Progress:', layout=Layout(height='25px', width='50%'),…"
      ]
     },
     "metadata": {},
     "output_type": "display_data"
    },
    {
     "name": "stdout",
     "output_type": "stream",
     "text": [
      "<class 'dict_values'>"
     ]
    }
   ],
   "source": [
    "hierarchy = hdf.T.to_dict().values()\n",
    "type(hierarchy)"
   ]
  },
  {
   "cell_type": "code",
   "execution_count": 58,
   "id": "3e926243",
   "metadata": {},
   "outputs": [
    {
     "data": {
      "application/vnd.jupyter.widget-view+json": {
       "model_id": "b06abcfb62ac4988a3094cfbbd4a9892",
       "version_major": 2,
       "version_minor": 0
      },
      "text/plain": [
       "VBox()"
      ]
     },
     "metadata": {},
     "output_type": "display_data"
    },
    {
     "data": {
      "application/vnd.jupyter.widget-view+json": {
       "model_id": "",
       "version_major": 2,
       "version_minor": 0
      },
      "text/plain": [
       "FloatProgress(value=0.0, bar_style='info', description='Progress:', layout=Layout(height='25px', width='50%'),…"
      ]
     },
     "metadata": {},
     "output_type": "display_data"
    },
    {
     "name": "stdout",
     "output_type": "stream",
     "text": [
      "['A', 'B', 'C', 'E', 'G', 'H', 'J', 'K', 'L', 'M', 'P', 'Q', 'R', 'S', 'T', 'V']"
     ]
    }
   ],
   "source": [
    "def code_to_category(code, hierarchy):\n",
    "    for h in hierarchy:\n",
    "        if code >= h['Start Code'] and code <= h['End Code']:\n",
    "            return h['CPT Minor Category']\n",
    "    return 'unknown'\n",
    "\n",
    "code_to_category(99213, hierarchy)\n",
    "list('ABCEGHJKLMPQRSTV')"
   ]
  },
  {
   "cell_type": "code",
   "execution_count": null,
   "id": "4eee432d",
   "metadata": {},
   "outputs": [],
   "source": [
    "hi"
   ]
  },
  {
   "cell_type": "code",
   "execution_count": 66,
   "id": "baa374ac",
   "metadata": {},
   "outputs": [
    {
     "data": {
      "application/vnd.jupyter.widget-view+json": {
       "model_id": "f624e015809745f99f0b69d57ee56486",
       "version_major": 2,
       "version_minor": 0
      },
      "text/plain": [
       "VBox()"
      ]
     },
     "metadata": {},
     "output_type": "display_data"
    },
    {
     "data": {
      "application/vnd.jupyter.widget-view+json": {
       "model_id": "",
       "version_major": 2,
       "version_minor": 0
      },
      "text/plain": [
       "FloatProgress(value=0.0, bar_style='info', description='Progress:', layout=Layout(height='25px', width='50%'),…"
      ]
     },
     "metadata": {},
     "output_type": "display_data"
    }
   ],
   "source": [
    "import ast\n",
    "from pyspark.sql.types import FloatType, DoubleType\n",
    "from pyspark.sql import functions as F\n",
    "\n",
    "hierarchy = list(hdf.T.to_dict().values())\n",
    "\n",
    "def construct_rollup_pcd_seq(procedures, carepath, mapping):\n",
    "    pcd_seq = '0'\n",
    "    for procedure in procedures:\n",
    "        if procedure[0] in list('ABCEGHJKLMPQRSTV'):    # if HCPCS\n",
    "            for key in carepath:\n",
    "                if procedure in carepath[key]:\n",
    "                    pcd_seq += mapping[key]\n",
    "                    break\n",
    "        else:            # else (CPT-4)\n",
    "            found = False\n",
    "            cat = code_to_category(ast.literal_eval(procedure), hierarchy)\n",
    "            for key in carepath:\n",
    "                for cp_prcd in carepath[key]:\n",
    "                    if cat == code_to_category(ast.literal_eval(cp_prcd), hierarchy):\n",
    "                        pcd_seq += mapping[key]\n",
    "                        found = True\n",
    "                        break\n",
    "                if found:\n",
    "                    break\n",
    "            \n",
    "        \n",
    "def rollup_adherence(diag_cd, procedure_cds):\n",
    "    try:\n",
    "        carepaths = data[diag_cd][0]\n",
    "        best_adh = 0.0\n",
    "        for cp in carepaths:\n",
    "            target, mapping = get_target_sequence(cp)\n",
    "            code_list = procedure_cds.split(' ')\n",
    "            pcd_seq, frac = construct_rollup_pcd_seq(code_list, cp, mapping)\n",
    "            reduced_pcd_seq = get_reduced_str(pcd_seq)\n",
    "            if frac != 0:\n",
    "                adherence = sequence_alignment(reduced_pcd_seq, target) * frac\n",
    "            else:\n",
    "                adherence = 0\n",
    "            if adherence > best_adh:\n",
    "                best_adh = adherence\n",
    "        return best_adh\n",
    "    except:\n",
    "        return -1.0\n",
    "    \n",
    "rollup_adherence_udf = F.udf(rollup_adherence, DoubleType())"
   ]
  },
  {
   "cell_type": "code",
   "execution_count": 68,
   "id": "5e1be019",
   "metadata": {},
   "outputs": [
    {
     "data": {
      "application/vnd.jupyter.widget-view+json": {
       "model_id": "2cfb59718c4445a5ba8d67843e57a123",
       "version_major": 2,
       "version_minor": 0
      },
      "text/plain": [
       "VBox()"
      ]
     },
     "metadata": {},
     "output_type": "display_data"
    },
    {
     "data": {
      "application/vnd.jupyter.widget-view+json": {
       "model_id": "",
       "version_major": 2,
       "version_minor": 0
      },
      "text/plain": [
       "FloatProgress(value=0.0, bar_style='info', description='Progress:', layout=Layout(height='25px', width='50%'),…"
      ]
     },
     "metadata": {},
     "output_type": "display_data"
    },
    {
     "name": "stdout",
     "output_type": "stream",
     "text": [
      "+----------+---------------+--------------------+-------------+------------+----------+\n",
      "|member_ssn|diagnosis_code1| ord_procedure_codes|seq_align_adh|generous_adh|rollup_adh|\n",
      "+----------+---------------+--------------------+-------------+------------+----------+\n",
      "|      null|        E103313|99213 92134 92273...|         -1.0|        -1.0|      -1.0|\n",
      "|      null|          E1069|99214 99213 83036...|         -1.0|        -1.0|      -1.0|\n",
      "|      null|           E319|83520 85598 85613...|         -1.0|        -1.0|      -1.0|\n",
      "|      null|           F315|99213 90837 90837...|         -1.0|        -1.0|      -1.0|\n",
      "|      null|         H18892|99283 None 99283 ...|         -1.0|        -1.0|      -1.0|\n",
      "|      null|         H833X3|99203 99203 97165...|         -1.0|        -1.0|      -1.0|\n",
      "|      null|           K658|  88305 88307 88307 |         -1.0|        -1.0|      -1.0|\n",
      "|      null|         L03019|99213 87880 99213...|         -1.0|        -1.0|      -1.0|\n",
      "|      null|           M724|        G0463 99203 |         -1.0|        -1.0|      -1.0|\n",
      "|      null|          M7711|97035 G0283 97110...|         -1.0|        -1.0|      -1.0|\n",
      "|      null|          M8630|99213 99212 99211...|         -1.0|        -1.0|      -1.0|\n",
      "|      null|         M92521|97110 97112 97110...|         -1.0|        -1.0|      -1.0|\n",
      "|      null|        O691XX1|  88307 59400 88307 |         -1.0|        -1.0|      -1.0|\n",
      "|      null|          P0518|99239 99213 99221...|         -1.0|        -1.0|      -1.0|\n",
      "|      null|        S01502A|        99203 99212 |         -1.0|        -1.0|      -1.0|\n",
      "|      null|        S31603A|        99285 99285 |         -1.0|        -1.0|      -1.0|\n",
      "|      null|        S52132D|97165 97010 97110...|         -1.0|        -1.0|      -1.0|\n",
      "|      null|        S60221D|        99213 73130 |         -1.0|        -1.0|      -1.0|\n",
      "|      null|        S60222D|73130 99213 73120...|         -1.0|        -1.0|      -1.0|\n",
      "|      null|          T3110|A0425 A0427 99213...|         -1.0|        -1.0|      -1.0|\n",
      "+----------+---------------+--------------------+-------------+------------+----------+\n",
      "only showing top 20 rows"
     ]
    }
   ],
   "source": [
    "adh_df = adh_df.withColumn('rollup_adh', rollup_adherence_udf(adh_df.diagnosis_code1, adh_df.ord_procedure_codes))\n",
    "adh_df.show()"
   ]
  },
  {
   "cell_type": "code",
   "execution_count": null,
   "id": "87a0c179",
   "metadata": {},
   "outputs": [],
   "source": []
  }
 ],
 "metadata": {
  "kernelspec": {
   "display_name": "PySpark",
   "language": "",
   "name": "pysparkkernel"
  },
  "language_info": {
   "codemirror_mode": {
    "name": "python",
    "version": 3
   },
   "mimetype": "text/x-python",
   "name": "pyspark",
   "pygments_lexer": "python3"
  }
 },
 "nbformat": 4,
 "nbformat_minor": 5
}
