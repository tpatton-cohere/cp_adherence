{
 "cells": [
  {
   "cell_type": "code",
   "execution_count": 1,
   "id": "4b6ed5d9",
   "metadata": {},
   "outputs": [
    {
     "data": {
      "text/html": [
       "Current session configs: <tt>{'conf': {'spark.pyspark.python': 'python3', 'spark.pyspark.virtualenv.enabled': 'true', 'spark.pyspark.virtualenv.type': 'native', 'spark.pyspark.virtualenv.bin.path': '/usr/bin/virtualenv', 'spark.jars': 's3://sagemaker-coherehealth-1/spark/elasticsearch-hadoop-7.10.1.jar,s3://sagemaker-coherehealth-1/spark/org.apache.commons.httpclient.jar'}, 'proxyUser': 'assumed-role_ML_EMR_User_Role_patton', 'kind': 'pyspark'}</tt><br>"
      ],
      "text/plain": [
       "<IPython.core.display.HTML object>"
      ]
     },
     "metadata": {},
     "output_type": "display_data"
    },
    {
     "data": {
      "text/html": [
       "No active sessions."
      ],
      "text/plain": [
       "<IPython.core.display.HTML object>"
      ]
     },
     "metadata": {},
     "output_type": "display_data"
    }
   ],
   "source": [
    "%%configure -f\n",
    "{\n",
    "    \"conf\": {\n",
    "           \"spark.pyspark.python\": \"python3\",\n",
    "           \"spark.pyspark.virtualenv.enabled\": \"true\",\n",
    "           \"spark.pyspark.virtualenv.type\":\"native\",\n",
    "           \"spark.pyspark.virtualenv.bin.path\":\"/usr/bin/virtualenv\",\n",
    "           \"spark.jars\" : \"s3://sagemaker-coherehealth-1/spark/elasticsearch-hadoop-7.10.1.jar,s3://sagemaker-coherehealth-1/spark/org.apache.commons.httpclient.jar\"\n",
    "    }\n",
    "}"
   ]
  },
  {
   "cell_type": "code",
   "execution_count": 2,
   "id": "75fbf371",
   "metadata": {},
   "outputs": [
    {
     "data": {
      "text/html": [
       "<style>\n",
       "pre {white-space:pre !important;}\n",
       "</style>\n"
      ],
      "text/plain": [
       "<IPython.core.display.HTML object>"
      ]
     },
     "metadata": {},
     "output_type": "display_data"
    }
   ],
   "source": [
    "%%HTML\n",
    "<style>\n",
    "pre {white-space:pre !important;}\n",
    "</style>"
   ]
  },
  {
   "cell_type": "code",
   "execution_count": 3,
   "id": "5b408fc9",
   "metadata": {},
   "outputs": [
    {
     "data": {
      "application/vnd.jupyter.widget-view+json": {
       "model_id": "7d55c4f49d6c43829ffd0b2411611ab5",
       "version_major": 2,
       "version_minor": 0
      },
      "text/plain": [
       "VBox()"
      ]
     },
     "metadata": {},
     "output_type": "display_data"
    },
    {
     "name": "stdout",
     "output_type": "stream",
     "text": [
      "Starting Spark application\n"
     ]
    },
    {
     "data": {
      "text/html": [
       "<table>\n",
       "<tbody><tr><th>ID</th><th>YARN Application ID</th><th>Kind</th><th>State</th><th>Spark UI</th><th>Driver log</th><th>Current session?</th></tr><tr><td>0</td><td>application_1623244855533_0002</td><td>pyspark</td><td>idle</td><td><a target=\"_blank\" href=\"http://ip-172-31-7-226.ec2.internal:20888/proxy/application_1623244855533_0002/\" class=\"emr-proxy-link j-1GK6RCVT5ZN21 application_1623244855533_0002\" emr-resource=\"j-1GK6RCVT5ZN21\n",
       "\" application-id=\"application_1623244855533_0002\">Link</a></td><td><a target=\"_blank\" href=\"http://ip-172-31-13-67.ec2.internal:8042/node/containerlogs/container_1623244855533_0002_01_000001/livy\">Link</a></td><td>✔</td></tr></tbody></table>"
      ],
      "text/plain": [
       "<IPython.core.display.HTML object>"
      ]
     },
     "metadata": {},
     "output_type": "display_data"
    },
    {
     "data": {
      "application/vnd.jupyter.widget-view+json": {
       "model_id": "",
       "version_major": 2,
       "version_minor": 0
      },
      "text/plain": [
       "FloatProgress(value=0.0, bar_style='info', description='Progress:', layout=Layout(height='25px', width='50%'),…"
      ]
     },
     "metadata": {},
     "output_type": "display_data"
    },
    {
     "name": "stdout",
     "output_type": "stream",
     "text": [
      "SparkSession available as 'spark'.\n"
     ]
    },
    {
     "data": {
      "application/vnd.jupyter.widget-view+json": {
       "model_id": "",
       "version_major": 2,
       "version_minor": 0
      },
      "text/plain": [
       "FloatProgress(value=0.0, bar_style='info', description='Progress:', layout=Layout(height='25px', width='50%'),…"
      ]
     },
     "metadata": {},
     "output_type": "display_data"
    }
   ],
   "source": [
    "import pyspark\n",
    "from pyspark.sql import SparkSession\n",
    "spark = SparkSession.builder.appName('test').getOrCreate()"
   ]
  },
  {
   "cell_type": "code",
   "execution_count": 4,
   "id": "802bd1fe",
   "metadata": {},
   "outputs": [
    {
     "data": {
      "application/vnd.jupyter.widget-view+json": {
       "model_id": "5bdc10df9bf547929526c44496d2674b",
       "version_major": 2,
       "version_minor": 0
      },
      "text/plain": [
       "VBox()"
      ]
     },
     "metadata": {},
     "output_type": "display_data"
    },
    {
     "data": {
      "application/vnd.jupyter.widget-view+json": {
       "model_id": "",
       "version_major": 2,
       "version_minor": 0
      },
      "text/plain": [
       "FloatProgress(value=0.0, bar_style='info', description='Progress:', layout=Layout(height='25px', width='50%'),…"
      ]
     },
     "metadata": {},
     "output_type": "display_data"
    },
    {
     "name": "stdout",
     "output_type": "stream",
     "text": [
      "Collecting boto3==1.17.74\n",
      "  Downloading https://files.pythonhosted.org/packages/63/ec/ce099cd67c8c8a60f2666d97d91e993c2dde968ec6fbaf1d06024591a38f/boto3-1.17.74-py2.py3-none-any.whl (131kB)\n",
      "Collecting s3transfer<0.5.0,>=0.4.0 (from boto3==1.17.74)\n",
      "  Downloading https://files.pythonhosted.org/packages/63/d0/693477c688348654ddc21dcdce0817653a294aa43f41771084c25e7ff9c7/s3transfer-0.4.2-py2.py3-none-any.whl (79kB)\n",
      "Requirement already satisfied: jmespath<1.0.0,>=0.7.1 in /usr/local/lib/python3.7/site-packages (from boto3==1.17.74)\n",
      "Collecting botocore<1.21.0,>=1.20.74 (from boto3==1.17.74)\n",
      "  Downloading https://files.pythonhosted.org/packages/4a/ac/617d3ac25ea905279deb06edd82d6c19ca272006d6dcf232b837b75c3dde/botocore-1.20.90-py2.py3-none-any.whl (7.6MB)\n",
      "Collecting urllib3<1.27,>=1.25.4 (from botocore<1.21.0,>=1.20.74->boto3==1.17.74)\n",
      "  Downloading https://files.pythonhosted.org/packages/0c/cd/1e2ec680ec7b09846dc6e605f5a7709dfb9d7128e51a026e7154e18a234e/urllib3-1.26.5-py2.py3-none-any.whl (138kB)\n",
      "Collecting python-dateutil<3.0.0,>=2.1 (from botocore<1.21.0,>=1.20.74->boto3==1.17.74)\n",
      "  Downloading https://files.pythonhosted.org/packages/d4/70/d60450c3dd48ef87586924207ae8907090de0b306af2bce5d134d78615cb/python_dateutil-2.8.1-py2.py3-none-any.whl (227kB)\n",
      "Requirement already satisfied: six>=1.5 in /usr/local/lib/python3.7/site-packages (from python-dateutil<3.0.0,>=2.1->botocore<1.21.0,>=1.20.74->boto3==1.17.74)\n",
      "Installing collected packages: urllib3, python-dateutil, botocore, s3transfer, boto3\n",
      "Successfully installed boto3-1.17.74 botocore-1.20.90 python-dateutil-2.8.1 s3transfer-0.4.2 urllib3-1.26.5\n",
      "\n",
      "Collecting biopython\n",
      "  Downloading https://files.pythonhosted.org/packages/5a/42/de1ed545df624180b84c613e5e4de4848f72989ce5846a74af6baa0737b9/biopython-1.79-cp37-cp37m-manylinux_2_5_x86_64.manylinux1_x86_64.whl (2.3MB)\n",
      "Requirement already satisfied: numpy in /usr/local/lib64/python3.7/site-packages (from biopython)\n",
      "Installing collected packages: biopython\n",
      "Successfully installed biopython-1.79\n",
      "\n",
      "Collecting matplotlib\n",
      "  Downloading https://files.pythonhosted.org/packages/24/33/5568d443ba438d95d4db635dd69958056f087e57e1026bee56f959d53f9d/matplotlib-3.4.2-cp37-cp37m-manylinux1_x86_64.whl (10.3MB)\n",
      "Requirement already satisfied: numpy>=1.16 in /usr/local/lib64/python3.7/site-packages (from matplotlib)\n",
      "Collecting pyparsing>=2.2.1 (from matplotlib)\n",
      "  Downloading https://files.pythonhosted.org/packages/8a/bb/488841f56197b13700afd5658fc279a2025a39e22449b7cf29864669b15d/pyparsing-2.4.7-py2.py3-none-any.whl (67kB)\n",
      "Requirement already satisfied: python-dateutil>=2.7 in /mnt/tmp/1623245271652-0/lib/python3.7/site-packages (from matplotlib)\n",
      "Collecting pillow>=6.2.0 (from matplotlib)\n",
      "  Downloading https://files.pythonhosted.org/packages/33/34/542152297dcc6c47a9dcb0685eac6d652d878ed3cea83bf2b23cb988e857/Pillow-8.2.0-cp37-cp37m-manylinux1_x86_64.whl (3.0MB)\n",
      "Collecting cycler>=0.10 (from matplotlib)\n",
      "  Downloading https://files.pythonhosted.org/packages/f7/d2/e07d3ebb2bd7af696440ce7e754c59dd546ffe1bbe732c8ab68b9c834e61/cycler-0.10.0-py2.py3-none-any.whl\n",
      "Collecting kiwisolver>=1.0.1 (from matplotlib)\n",
      "  Downloading https://files.pythonhosted.org/packages/d2/46/231de802ade4225b76b96cffe419cf3ce52bbe92e3b092cf12db7d11c207/kiwisolver-1.3.1-cp37-cp37m-manylinux1_x86_64.whl (1.1MB)\n",
      "Requirement already satisfied: six>=1.5 in /usr/local/lib/python3.7/site-packages (from python-dateutil>=2.7->matplotlib)\n",
      "Installing collected packages: pyparsing, pillow, cycler, kiwisolver, matplotlib\n",
      "Successfully installed cycler-0.10.0 kiwisolver-1.3.1 matplotlib-3.4.2 pillow-8.2.0 pyparsing-2.4.7\n",
      "\n",
      "Collecting pandas\n",
      "  Downloading https://files.pythonhosted.org/packages/51/51/48f3fc47c4e2144da2806dfb6629c4dd1fa3d5a143f9652b141e979a8ca9/pandas-1.2.4-cp37-cp37m-manylinux1_x86_64.whl (9.9MB)\n",
      "Requirement already satisfied: numpy>=1.16.5 in /usr/local/lib64/python3.7/site-packages (from pandas)\n",
      "Requirement already satisfied: pytz>=2017.3 in /usr/local/lib/python3.7/site-packages (from pandas)\n",
      "Requirement already satisfied: python-dateutil>=2.7.3 in /mnt/tmp/1623245271652-0/lib/python3.7/site-packages (from pandas)\n",
      "Requirement already satisfied: six>=1.5 in /usr/local/lib/python3.7/site-packages (from python-dateutil>=2.7.3->pandas)\n",
      "Installing collected packages: pandas\n",
      "Successfully installed pandas-1.2.4\n",
      "\n",
      "Collecting ipython\n",
      "  Downloading https://files.pythonhosted.org/packages/c0/34/abf879c9c8a282b2d06c880f3791ce91b25de1912bdcfa4a209afebe12f3/ipython-7.24.1-py3-none-any.whl (785kB)\n",
      "Collecting matplotlib-inline (from ipython)\n",
      "  Downloading https://files.pythonhosted.org/packages/7f/de/6c111d687335729cf8c156394c8d119b0dc3c34b6966ff2a2f7fe4aa79cf/matplotlib_inline-0.1.2-py3-none-any.whl\n",
      "Requirement already satisfied: setuptools>=18.5 in /mnt/tmp/1623245271652-0/lib/python3.7/site-packages (from ipython)\n",
      "Collecting pexpect>4.3; sys_platform != \"win32\" (from ipython)\n",
      "  Downloading https://files.pythonhosted.org/packages/39/7b/88dbb785881c28a102619d46423cb853b46dbccc70d3ac362d99773a78ce/pexpect-4.8.0-py2.py3-none-any.whl (59kB)\n",
      "Collecting decorator (from ipython)\n",
      "  Downloading https://files.pythonhosted.org/packages/6a/36/b1b9bfdf28690ae01d9ca0aa5b0d07cb4448ac65fb91dc7e2d094e3d992f/decorator-5.0.9-py3-none-any.whl\n",
      "Collecting traitlets>=4.2 (from ipython)\n",
      "  Downloading https://files.pythonhosted.org/packages/f6/7d/3ecb0ebd0ce8dcdfa7bd47ab85c1d4a521e6770ef283d0824f5804994dfe/traitlets-5.0.5-py3-none-any.whl (100kB)\n",
      "Collecting jedi>=0.16 (from ipython)\n",
      "  Downloading https://files.pythonhosted.org/packages/f9/36/7aa67ae2663025b49e8426ead0bad983fee1b73f472536e9790655da0277/jedi-0.18.0-py2.py3-none-any.whl (1.4MB)\n",
      "Collecting prompt-toolkit!=3.0.0,!=3.0.1,<3.1.0,>=2.0.0 (from ipython)\n",
      "  Downloading https://files.pythonhosted.org/packages/eb/e6/4b4ca4fa94462d4560ba2f4e62e62108ab07be2e16a92e594e43b12d3300/prompt_toolkit-3.0.18-py3-none-any.whl (367kB)\n",
      "Collecting pickleshare (from ipython)\n",
      "  Downloading https://files.pythonhosted.org/packages/9a/41/220f49aaea88bc6fa6cba8d05ecf24676326156c23b991e80b3f2fc24c77/pickleshare-0.7.5-py2.py3-none-any.whl\n",
      "Collecting backcall (from ipython)\n",
      "  Downloading https://files.pythonhosted.org/packages/4c/1c/ff6546b6c12603d8dd1070aa3c3d273ad4c07f5771689a7b69a550e8c951/backcall-0.2.0-py2.py3-none-any.whl\n",
      "Collecting pygments (from ipython)\n",
      "  Downloading https://files.pythonhosted.org/packages/a6/c9/be11fce9810793676017f79ffab3c6cb18575844a6c7b8d4ed92f95de604/Pygments-2.9.0-py3-none-any.whl (1.0MB)\n",
      "Collecting ptyprocess>=0.5 (from pexpect>4.3; sys_platform != \"win32\"->ipython)\n",
      "  Downloading https://files.pythonhosted.org/packages/22/a6/858897256d0deac81a172289110f31629fc4cee19b6f01283303e18c8db3/ptyprocess-0.7.0-py2.py3-none-any.whl\n",
      "Collecting ipython-genutils (from traitlets>=4.2->ipython)\n",
      "  Downloading https://files.pythonhosted.org/packages/fa/bc/9bd3b5c2b4774d5f33b2d544f1460be9df7df2fe42f352135381c347c69a/ipython_genutils-0.2.0-py2.py3-none-any.whl\n",
      "Collecting parso<0.9.0,>=0.8.0 (from jedi>=0.16->ipython)\n",
      "  Downloading https://files.pythonhosted.org/packages/a9/c4/d5476373088c120ffed82f34c74b266ccae31a68d665b837354d4d8dc8be/parso-0.8.2-py2.py3-none-any.whl (94kB)\n",
      "Collecting wcwidth (from prompt-toolkit!=3.0.0,!=3.0.1,<3.1.0,>=2.0.0->ipython)\n",
      "  Downloading https://files.pythonhosted.org/packages/59/7c/e39aca596badaf1b78e8f547c807b04dae603a433d3e7a7e04d67f2ef3e5/wcwidth-0.2.5-py2.py3-none-any.whl\n",
      "Installing collected packages: ipython-genutils, traitlets, matplotlib-inline, ptyprocess, pexpect, decorator, parso, jedi, wcwidth, prompt-toolkit, pickleshare, backcall, pygments, ipython\n",
      "Successfully installed backcall-0.2.0 decorator-5.0.9 ipython-7.24.1 ipython-genutils-0.2.0 jedi-0.18.0 matplotlib-inline-0.1.2 parso-0.8.2 pexpect-4.8.0 pickleshare-0.7.5 prompt-toolkit-3.0.18 ptyprocess-0.7.0 pygments-2.9.0 traitlets-5.0.5 wcwidth-0.2.5"
     ]
    }
   ],
   "source": [
    "sc.install_pypi_package('boto3==1.17.74')\n",
    "sc.install_pypi_package('biopython')\n",
    "sc.install_pypi_package('matplotlib')\n",
    "sc.install_pypi_package('pandas')\n",
    "sc.install_pypi_package('ipython')"
   ]
  },
  {
   "cell_type": "code",
   "execution_count": 5,
   "id": "d7a3bbb6",
   "metadata": {},
   "outputs": [
    {
     "data": {
      "application/vnd.jupyter.widget-view+json": {
       "model_id": "878db1c6a0ea43d1b7091d7940e70cd5",
       "version_major": 2,
       "version_minor": 0
      },
      "text/plain": [
       "VBox()"
      ]
     },
     "metadata": {},
     "output_type": "display_data"
    },
    {
     "data": {
      "application/vnd.jupyter.widget-view+json": {
       "model_id": "",
       "version_major": 2,
       "version_minor": 0
      },
      "text/plain": [
       "FloatProgress(value=0.0, bar_style='info', description='Progress:', layout=Layout(height='25px', width='50%'),…"
      ]
     },
     "metadata": {},
     "output_type": "display_data"
    }
   ],
   "source": [
    "# df = spark.read.option('header',\"true\").option(\"delimeter\", \"|\").csv(\"s3a://sagemaker-coherehealth-1/HUMANA_MEDCLAIM_201811.txt\", sep=\"|\")\n",
    "df = spark.read.load('s3a://emr-cohere-data-management/humana/med_claims/transformed/')"
   ]
  },
  {
   "cell_type": "code",
   "execution_count": 6,
   "id": "77d888b6",
   "metadata": {},
   "outputs": [
    {
     "data": {
      "application/vnd.jupyter.widget-view+json": {
       "model_id": "11706dfdb48c4fdf88ffca743669398d",
       "version_major": 2,
       "version_minor": 0
      },
      "text/plain": [
       "VBox()"
      ]
     },
     "metadata": {},
     "output_type": "display_data"
    },
    {
     "data": {
      "application/vnd.jupyter.widget-view+json": {
       "model_id": "",
       "version_major": 2,
       "version_minor": 0
      },
      "text/plain": [
       "FloatProgress(value=0.0, bar_style='info', description='Progress:', layout=Layout(height='25px', width='50%'),…"
      ]
     },
     "metadata": {},
     "output_type": "display_data"
    }
   ],
   "source": [
    "df = df.select('member_ssn', 'claim_id', 'service_from_date', 'diagnosis_code1', 'procedure_code')"
   ]
  },
  {
   "cell_type": "code",
   "execution_count": 7,
   "id": "e19d955e",
   "metadata": {},
   "outputs": [
    {
     "data": {
      "application/vnd.jupyter.widget-view+json": {
       "model_id": "35c6268552d34a0bb84549b7ce558eb5",
       "version_major": 2,
       "version_minor": 0
      },
      "text/plain": [
       "VBox()"
      ]
     },
     "metadata": {},
     "output_type": "display_data"
    },
    {
     "data": {
      "application/vnd.jupyter.widget-view+json": {
       "model_id": "",
       "version_major": 2,
       "version_minor": 0
      },
      "text/plain": [
       "FloatProgress(value=0.0, bar_style='info', description='Progress:', layout=Layout(height='25px', width='50%'),…"
      ]
     },
     "metadata": {},
     "output_type": "display_data"
    },
    {
     "name": "stdout",
     "output_type": "stream",
     "text": [
      "+----------+---------------+-----------------+---------------+--------------+\n",
      "|member_ssn|       claim_id|service_from_date|diagnosis_code1|procedure_code|\n",
      "+----------+---------------+-----------------+---------------+--------------+\n",
      "| 400230095|820210610274543|       2021-01-30|           N186|         90999|\n",
      "| 400230095|820210610274543|       2021-01-29|           N186|         J1756|\n",
      "| 400230095|820210610274543|       2021-01-12|           N186|         J0887|\n",
      "| 400230095|820210610274543|       2021-01-21|           N186|         84132|\n",
      "| 400230095|820210610274543|       2021-01-08|           N186|         84520|\n",
      "| 400230095|820210610274543|       2021-01-23|           N186|         A4657|\n",
      "| 916625860|820210630035627|       2020-09-15|          M1711|         20610|\n",
      "| 419620303|820210640298427|       2021-02-24|           R339|         A4332|\n",
      "| 402172381|820210630023678|       2021-03-02|          F3181|         90792|\n",
      "| 272489348|820210641422799|       2021-03-01|          C3411|         99214|\n",
      "| 251271577|820210640376965|       2021-02-12|          F4323|         90837|\n",
      "| 251271577|820210640376965|       2021-02-25|          F4323|         90837|\n",
      "| 362361063|820210630479636|       2021-03-02|          N1830|         36415|\n",
      "| 577641315|820210670736893|       2021-02-19|          Z0000|         G0439|\n",
      "| 577641315|820210670736893|       2021-02-19|          Z0000|         99497|\n",
      "| 577641315|820210670736893|       2021-02-19|          Z0000|         G0444|\n",
      "| 577641315|820210670736893|       2021-02-19|          Z0000|         81003|\n",
      "| 485246150|820210640467926|       2021-02-15|           R911|         94727|\n",
      "| 253110829|820210640519066|       2021-03-04|         M25562|         97110|\n",
      "| 097288277|820210630543678|       2021-02-24|            C61|         85025|\n",
      "+----------+---------------+-----------------+---------------+--------------+\n",
      "only showing top 20 rows"
     ]
    }
   ],
   "source": [
    "df.show()"
   ]
  },
  {
   "cell_type": "code",
   "execution_count": 8,
   "id": "456d3d29",
   "metadata": {},
   "outputs": [
    {
     "data": {
      "application/vnd.jupyter.widget-view+json": {
       "model_id": "1f43ca7b3a974e63b12ea673633d681b",
       "version_major": 2,
       "version_minor": 0
      },
      "text/plain": [
       "VBox()"
      ]
     },
     "metadata": {},
     "output_type": "display_data"
    },
    {
     "data": {
      "application/vnd.jupyter.widget-view+json": {
       "model_id": "",
       "version_major": 2,
       "version_minor": 0
      },
      "text/plain": [
       "FloatProgress(value=0.0, bar_style='info', description='Progress:', layout=Layout(height='25px', width='50%'),…"
      ]
     },
     "metadata": {},
     "output_type": "display_data"
    },
    {
     "name": "stdout",
     "output_type": "stream",
     "text": [
      "587809621"
     ]
    }
   ],
   "source": [
    "df.count()"
   ]
  },
  {
   "cell_type": "code",
   "execution_count": 9,
   "id": "a073e6ba",
   "metadata": {},
   "outputs": [
    {
     "data": {
      "application/vnd.jupyter.widget-view+json": {
       "model_id": "bd244f9abda646d6b48a92dae25ce1fd",
       "version_major": 2,
       "version_minor": 0
      },
      "text/plain": [
       "VBox()"
      ]
     },
     "metadata": {},
     "output_type": "display_data"
    },
    {
     "data": {
      "application/vnd.jupyter.widget-view+json": {
       "model_id": "",
       "version_major": 2,
       "version_minor": 0
      },
      "text/plain": [
       "FloatProgress(value=0.0, bar_style='info', description='Progress:', layout=Layout(height='25px', width='50%'),…"
      ]
     },
     "metadata": {},
     "output_type": "display_data"
    },
    {
     "name": "stdout",
     "output_type": "stream",
     "text": [
      "587808672"
     ]
    }
   ],
   "source": [
    "df = df.filter(df.diagnosis_code1.isNotNull())\n",
    "df.count()"
   ]
  },
  {
   "cell_type": "code",
   "execution_count": 10,
   "id": "2c74067f",
   "metadata": {},
   "outputs": [
    {
     "data": {
      "application/vnd.jupyter.widget-view+json": {
       "model_id": "b9e106f477394398a56825fbd3ce12c0",
       "version_major": 2,
       "version_minor": 0
      },
      "text/plain": [
       "VBox()"
      ]
     },
     "metadata": {},
     "output_type": "display_data"
    },
    {
     "data": {
      "application/vnd.jupyter.widget-view+json": {
       "model_id": "",
       "version_major": 2,
       "version_minor": 0
      },
      "text/plain": [
       "FloatProgress(value=0.0, bar_style='info', description='Progress:', layout=Layout(height='25px', width='50%'),…"
      ]
     },
     "metadata": {},
     "output_type": "display_data"
    },
    {
     "name": "stdout",
     "output_type": "stream",
     "text": [
      "+----------+---------------+--------------------+\n",
      "|member_ssn|diagnosis_code1| ord_procedure_codes|\n",
      "+----------+---------------+--------------------+\n",
      "|      null|          D4862|99244 77065 99214...|\n",
      "|      null|           F900|99214 99213 99213...|\n",
      "|      null|        H4031X0|              99213 |\n",
      "|      null|         L97818|11043 11046 11042...|\n",
      "|      null|          M5031|J0702 20610 99213...|\n",
      "|      null|         M67432|99213 20612 J0702...|\n",
      "|      null|         O99815|        36415 82947 |\n",
      "|      null|           P761|74021 74018 71045...|\n",
      "|      null|         R41841|92523 99214 92523...|\n",
      "|      null|           R791|71275 93010 93010...|\n",
      "|      null|        S2001XA|99283 00400 76642...|\n",
      "|      null|        S32312A|73700 99283 99213...|\n",
      "|      null|        S3692XA|        99221 99231 |\n",
      "|      null|        S61219A|99213 12002 90471...|\n",
      "|      null|        S8251XB|              01480 |\n",
      "|      null|        S86111D|97161 97010 97110...|\n",
      "|      null|        S98132D|73630 99203 99213...|\n",
      "|      null|        S99922S|              73630 |\n",
      "|      null|          Z3862|99205 99205 99204...|\n",
      "|      null|         Z87440|87086 76805 76805...|\n",
      "+----------+---------------+--------------------+\n",
      "only showing top 20 rows"
     ]
    }
   ],
   "source": [
    "from pyspark.sql import functions as F\n",
    "import operator\n",
    "\n",
    "# primary grouping - \n",
    "# goal here is to form groups of members and diagnosis codes (i.e. member 1, diag 1 / member 2, diag 1 / member 1 diag 2 ...)\n",
    "# then for each diag we collect the SET of claim id's and the ordered LIST of procedure codes.\n",
    "# since spark does not guarantee order in F.collect_list, we form a struct and then sort by service_from_date\n",
    "\n",
    "# sorter, stolen from StackOverflow\n",
    "def sorter(l):\n",
    "    res = sorted(l, key=operator.itemgetter(0))\n",
    "    ord_ret = ''\n",
    "    for struct in res:\n",
    "        ord_ret += str(struct[1]) + ' '\n",
    "    return ord_ret\n",
    "    \n",
    "sort_udf = F.udf(sorter)\n",
    "\n",
    "grp = (\n",
    "        df\n",
    "         .groupby('member_ssn', 'diagnosis_code1')\n",
    "         .agg(\n",
    "              F.collect_list(\n",
    "                             F.struct('service_from_date', \n",
    "                                      'procedure_code')\n",
    "                            ).alias('list_col')\n",
    "             )\n",
    "      )\n",
    "    \n",
    "list_df = grp.select('member_ssn', \n",
    "                     'diagnosis_code1',\n",
    "                     sort_udf('list_col').alias('ord_procedure_codes'))\n",
    "\n",
    "list_df.show()"
   ]
  },
  {
   "cell_type": "code",
   "execution_count": 11,
   "id": "1b3886d3",
   "metadata": {},
   "outputs": [
    {
     "data": {
      "application/vnd.jupyter.widget-view+json": {
       "model_id": "c0a037ad5949484885b47ae45ddbb6be",
       "version_major": 2,
       "version_minor": 0
      },
      "text/plain": [
       "VBox()"
      ]
     },
     "metadata": {},
     "output_type": "display_data"
    },
    {
     "data": {
      "application/vnd.jupyter.widget-view+json": {
       "model_id": "",
       "version_major": 2,
       "version_minor": 0
      },
      "text/plain": [
       "FloatProgress(value=0.0, bar_style='info', description='Progress:', layout=Layout(height='25px', width='50%'),…"
      ]
     },
     "metadata": {},
     "output_type": "display_data"
    },
    {
     "name": "stdout",
     "output_type": "stream",
     "text": [
      "78874665"
     ]
    }
   ],
   "source": [
    "list_df.count()"
   ]
  },
  {
   "cell_type": "code",
   "execution_count": 12,
   "id": "c7a52640",
   "metadata": {},
   "outputs": [
    {
     "data": {
      "application/vnd.jupyter.widget-view+json": {
       "model_id": "61ceb384482148278ab37986e3b0ffe1",
       "version_major": 2,
       "version_minor": 0
      },
      "text/plain": [
       "VBox()"
      ]
     },
     "metadata": {},
     "output_type": "display_data"
    },
    {
     "data": {
      "application/vnd.jupyter.widget-view+json": {
       "model_id": "",
       "version_major": 2,
       "version_minor": 0
      },
      "text/plain": [
       "FloatProgress(value=0.0, bar_style='info', description='Progress:', layout=Layout(height='25px', width='50%'),…"
      ]
     },
     "metadata": {},
     "output_type": "display_data"
    }
   ],
   "source": [
    "# %pip install biopython\n",
    "from Bio import pairwise2"
   ]
  },
  {
   "cell_type": "code",
   "execution_count": 13,
   "id": "eb17f32a",
   "metadata": {},
   "outputs": [
    {
     "data": {
      "application/vnd.jupyter.widget-view+json": {
       "model_id": "8fbb58e9557a41e6ab9c4100b57eff89",
       "version_major": 2,
       "version_minor": 0
      },
      "text/plain": [
       "VBox()"
      ]
     },
     "metadata": {},
     "output_type": "display_data"
    },
    {
     "data": {
      "application/vnd.jupyter.widget-view+json": {
       "model_id": "",
       "version_major": 2,
       "version_minor": 0
      },
      "text/plain": [
       "FloatProgress(value=0.0, bar_style='info', description='Progress:', layout=Layout(height='25px', width='50%'),…"
      ]
     },
     "metadata": {},
     "output_type": "display_data"
    },
    {
     "name": "stdout",
     "output_type": "stream",
     "text": [
      "1.0"
     ]
    }
   ],
   "source": [
    "# # # # this function is iterative! we need a pyspark udf    \n",
    "# def seq_align_adherence(df):\n",
    "#     with open('carepaths.json', 'r') as js:\n",
    "#         data = json.load(js)\n",
    "    \n",
    "#     adherence_arr = np.zeros(df.shape[0])\n",
    "#     for i, row in df.iterrows():\n",
    "#         if i % 500000 == 0:\n",
    "#             print(i)\n",
    "            \n",
    "#         diag_cd = row['PRIMARY DIAG CD']\n",
    "\n",
    "#         try:\n",
    "#             carepaths = data[diag_cd][0]\n",
    "#             best_adh = 0\n",
    "#             for cp in carepaths:\n",
    "#                 target, mapping = get_target_sequence(cp)\n",
    "#                 pcd_seq, frac = construct_pcd_seq(ast.literal_eval(row['HCPCS CPT4 BASE CD 1']), cp, mapping)\n",
    "#                 reduced_pcd_seq = get_reduced_str(pcd_seq)\n",
    "#                 if frac != 0:\n",
    "#                     adherence = sequence_alignment(reduced_pcd_seq, target) * frac\n",
    "#                 else:\n",
    "#                     adherence = 0\n",
    "#                 if adherence > best_adh:\n",
    "#                     best_adh = adherence\n",
    "#             adherence_arr[i] = best_adh\n",
    "#         except:\n",
    "#             adherence_arr[i] = -1\n",
    "            \n",
    "#     df['sa_adherence'] = adherence_arr\n",
    "\n",
    "# function to construct scoring dict\n",
    "def make_scoring_dict(target_str):\n",
    "    sdict = {}\n",
    "    for c1 in target_str:\n",
    "        for c2 in target_str:\n",
    "            if c1 == c2:\n",
    "                if c1 != '0' and c2 != '0':\n",
    "                    sdict[(c1, c2)] = 10\n",
    "                else:\n",
    "                    sdict[(c1, c2)] = 1000\n",
    "            elif c1 == '0' or c2 == '0':\n",
    "                sdict[(c1, c2)] = -1000\n",
    "            elif abs(int(c1) - int(c2)) == 1:\n",
    "                sdict[(c1, c2)] = 5\n",
    "            else:\n",
    "                sdict[(c1, c2)] = 0\n",
    "    return sdict\n",
    "\n",
    "# function to get target sequence from a list\n",
    "def get_target_sequence(carepath):\n",
    "    mapping = {}\n",
    "    key_list = list(carepath.keys())\n",
    "    target = '0'\n",
    "    for k in range(len(key_list)):\n",
    "        mapping[key_list[k]] = str(k+1)\n",
    "        target += str(k+1)\n",
    "        \n",
    "    return target, mapping\n",
    "\n",
    "\n",
    "# function to only have unique characters\n",
    "def get_reduced_str(input_str):\n",
    "    new = ''\n",
    "    for c in input_str:\n",
    "        if c not in new:\n",
    "            new += c\n",
    "    return new\n",
    "\n",
    "\n",
    "# FLAG -- we could roll up on both ends here\n",
    "# function to query pcd codes and get their service cateogry / construct pcd sequence\n",
    "def construct_pcd_seq(procedures, carepath, mapping):\n",
    "    pcd_seq = '0'\n",
    "    for procedure in procedures:\n",
    "        for key in carepath:\n",
    "            if procedure in carepath[key]:\n",
    "                pcd_seq += mapping[key]\n",
    "                break\n",
    "                \n",
    "    return pcd_seq, (len(pcd_seq)-1) / len(procedures)\n",
    "\n",
    "\n",
    "def sequence_alignment(pcd_seq, cp_seq):\n",
    "    scoring = make_scoring_dict(cp_seq)\n",
    "    a = pairwise2.align.globaldd(cp_seq, \n",
    "                                 pcd_seq,\n",
    "                                 scoring,\n",
    "                                 -10,\n",
    "                                 0,\n",
    "                                 -5,\n",
    "                                 -1,\n",
    "                                 penalize_end_gaps=False,\n",
    "                                 score_only=True)\n",
    "    \n",
    "    return ((a-1000) / (len(pcd_seq)-1) / 10)\n",
    "\n",
    "sequence_alignment('012', '012345')"
   ]
  },
  {
   "cell_type": "code",
   "execution_count": 14,
   "id": "48c05ccc",
   "metadata": {},
   "outputs": [
    {
     "data": {
      "application/vnd.jupyter.widget-view+json": {
       "model_id": "1bb3a084a9cd44769a3b6a097826d057",
       "version_major": 2,
       "version_minor": 0
      },
      "text/plain": [
       "VBox()"
      ]
     },
     "metadata": {},
     "output_type": "display_data"
    },
    {
     "data": {
      "application/vnd.jupyter.widget-view+json": {
       "model_id": "",
       "version_major": 2,
       "version_minor": 0
      },
      "text/plain": [
       "FloatProgress(value=0.0, bar_style='info', description='Progress:', layout=Layout(height='25px', width='50%'),…"
      ]
     },
     "metadata": {},
     "output_type": "display_data"
    }
   ],
   "source": [
    "from pyspark.sql.types import FloatType, DoubleType\n",
    "import os\n",
    "import ast\n",
    "import json\n",
    "\n",
    "def seq_alignment_adherence(diag_cd, procedure_cds):\n",
    "    try:\n",
    "        carepaths = data[diag_cd][0]\n",
    "        best_adh = 0.0\n",
    "        for cp in carepaths:\n",
    "            target, mapping = get_target_sequence(cp)\n",
    "            code_list = procedure_cds.split(' ')\n",
    "            pcd_seq, frac = construct_pcd_seq(code_list, cp, mapping)\n",
    "            reduced_pcd_seq = get_reduced_str(pcd_seq)\n",
    "            if frac != 0:\n",
    "                adherence = sequence_alignment(reduced_pcd_seq, target) * frac\n",
    "                print(adherence)\n",
    "            else:\n",
    "                adherence = 0\n",
    "            if adherence > best_adh:\n",
    "                best_adh = adherence\n",
    "        return best_adh\n",
    "    except:\n",
    "        return -1.0\n",
    "    \n",
    "adherence_udf = F.udf(seq_alignment_adherence, DoubleType())\n",
    "\n",
    "def generous_adherence(diag_cd, procedure_cds):\n",
    "    try:\n",
    "        carepaths = data[diag_cd][0]\n",
    "        best_adh = 0.0\n",
    "        for cp in carepaths:\n",
    "            target, mapping = get_target_sequence(cp)\n",
    "            code_list = procedure_cds.split(' ')\n",
    "            pcd_seq, frac = construct_pcd_seq(code_list, cp, mapping)\n",
    "            reduced_pcd_seq = get_reduced_str(pcd_seq)\n",
    "            if frac != 0:\n",
    "                adherence = sequence_alignment(reduced_pcd_seq, target)\n",
    "            else:\n",
    "                best_adh = -1.0\n",
    "            if adherence > best_adh:\n",
    "                best_adh = adherence\n",
    "        return best_adh\n",
    "    except:\n",
    "        return -1.0\n",
    "    \n",
    "gen_adherence_udf = F.udf(generous_adherence, DoubleType())"
   ]
  },
  {
   "cell_type": "code",
   "execution_count": 15,
   "id": "11e86d5b",
   "metadata": {},
   "outputs": [
    {
     "data": {
      "application/vnd.jupyter.widget-view+json": {
       "model_id": "b000f3f107a041ba90b8034259f59c22",
       "version_major": 2,
       "version_minor": 0
      },
      "text/plain": [
       "VBox()"
      ]
     },
     "metadata": {},
     "output_type": "display_data"
    },
    {
     "data": {
      "application/vnd.jupyter.widget-view+json": {
       "model_id": "",
       "version_major": 2,
       "version_minor": 0
      },
      "text/plain": [
       "FloatProgress(value=0.0, bar_style='info', description='Progress:', layout=Layout(height='25px', width='50%'),…"
      ]
     },
     "metadata": {},
     "output_type": "display_data"
    }
   ],
   "source": [
    "import boto3\n",
    "import json\n",
    "\n",
    "s3 = boto3.resource('s3')\n",
    "json_str = s3.Object('sagemaker-coherehealth-1', 'claims-data/carepaths.json').get()['Body'].read().decode('utf-8')\n",
    "data = json.loads(json_str)"
   ]
  },
  {
   "cell_type": "code",
   "execution_count": 16,
   "id": "9b66bc92",
   "metadata": {},
   "outputs": [
    {
     "data": {
      "application/vnd.jupyter.widget-view+json": {
       "model_id": "fe0e71d0b30241d792322dfb8a18c8f9",
       "version_major": 2,
       "version_minor": 0
      },
      "text/plain": [
       "VBox()"
      ]
     },
     "metadata": {},
     "output_type": "display_data"
    },
    {
     "data": {
      "application/vnd.jupyter.widget-view+json": {
       "model_id": "",
       "version_major": 2,
       "version_minor": 0
      },
      "text/plain": [
       "FloatProgress(value=0.0, bar_style='info', description='Progress:', layout=Layout(height='25px', width='50%'),…"
      ]
     },
     "metadata": {},
     "output_type": "display_data"
    }
   ],
   "source": [
    "adh_df = list_df.withColumn('seq_align_adh', adherence_udf(list_df.diagnosis_code1, list_df.ord_procedure_codes))\n",
    "adh_df = adh_df.withColumn('generous_adh', gen_adherence_udf(list_df.diagnosis_code1, list_df.ord_procedure_codes))"
   ]
  },
  {
   "cell_type": "code",
   "execution_count": 17,
   "id": "03cb2032",
   "metadata": {},
   "outputs": [
    {
     "data": {
      "application/vnd.jupyter.widget-view+json": {
       "model_id": "4ea980bd866148629e6b35f30f96c73a",
       "version_major": 2,
       "version_minor": 0
      },
      "text/plain": [
       "VBox()"
      ]
     },
     "metadata": {},
     "output_type": "display_data"
    },
    {
     "data": {
      "application/vnd.jupyter.widget-view+json": {
       "model_id": "",
       "version_major": 2,
       "version_minor": 0
      },
      "text/plain": [
       "FloatProgress(value=0.0, bar_style='info', description='Progress:', layout=Layout(height='25px', width='50%'),…"
      ]
     },
     "metadata": {},
     "output_type": "display_data"
    },
    {
     "name": "stdout",
     "output_type": "stream",
     "text": [
      "+----------+---------------+--------------------+-------------------+------------+\n",
      "|member_ssn|diagnosis_code1| ord_procedure_codes|      seq_align_adh|generous_adh|\n",
      "+----------+---------------+--------------------+-------------------+------------+\n",
      "|      null|          D4862|99244 77065 99214...|               -1.0|        -1.0|\n",
      "|      null|           F900|99213 99214 99213...|               -1.0|        -1.0|\n",
      "|      null|        H4031X0|              99213 |               -1.0|        -1.0|\n",
      "|      null|         L97818|11043 11046 11042...|               -1.0|        -1.0|\n",
      "|      null|          M5031|20610 99213 J0702...|0.18617021276595744|         0.5|\n",
      "|      null|         M67432|L3808 20612 J0702...|               -1.0|        -1.0|\n",
      "|      null|         O99815|        36415 82947 |               -1.0|        -1.0|\n",
      "|      null|           P761|74021 71045 74018...|               -1.0|        -1.0|\n",
      "|      null|         R41841|92523 99214 92507...|               -1.0|        -1.0|\n",
      "|      null|           R791|71275 93010 93010...|               -1.0|        -1.0|\n",
      "|      null|        S2001XA|99283 00400 77066...|               -1.0|        -1.0|\n",
      "|      null|        S32312A|73700 99283 73501...|               -1.0|        -1.0|\n",
      "|      null|        S3692XA|        99221 99231 |               -1.0|        -1.0|\n",
      "|      null|        S61219A|99213 12002 90471...|               -1.0|        -1.0|\n",
      "|      null|        S8251XB|              01480 |               -1.0|        -1.0|\n",
      "|      null|        S86111D|97110 97161 97010...|               -1.0|        -1.0|\n",
      "|      null|        S98132D|73630 99203 99213...|               -1.0|        -1.0|\n",
      "|      null|        S99922S|              73630 |               -1.0|        -1.0|\n",
      "|      null|          Z3862|99205 99205 99204...|               -1.0|        -1.0|\n",
      "|      null|         Z87440|87086 76805 76805...|               -1.0|        -1.0|\n",
      "+----------+---------------+--------------------+-------------------+------------+\n",
      "only showing top 20 rows"
     ]
    }
   ],
   "source": [
    "adh_df.show()"
   ]
  },
  {
   "cell_type": "code",
   "execution_count": 18,
   "id": "984eed28",
   "metadata": {},
   "outputs": [
    {
     "data": {
      "application/vnd.jupyter.widget-view+json": {
       "model_id": "34b3bf69718944d1a77b8941fd80c72e",
       "version_major": 2,
       "version_minor": 0
      },
      "text/plain": [
       "VBox()"
      ]
     },
     "metadata": {},
     "output_type": "display_data"
    },
    {
     "data": {
      "application/vnd.jupyter.widget-view+json": {
       "model_id": "",
       "version_major": 2,
       "version_minor": 0
      },
      "text/plain": [
       "FloatProgress(value=0.0, bar_style='info', description='Progress:', layout=Layout(height='25px', width='50%'),…"
      ]
     },
     "metadata": {},
     "output_type": "display_data"
    }
   ],
   "source": [
    "adh_df.write.parquet(\"s3a://sagemaker-coherehealth-1/claims-data/adherence_data/\", mode=\"overwrite\")"
   ]
  },
  {
   "cell_type": "markdown",
   "id": "95bb78d8",
   "metadata": {},
   "source": [
    "# ------------------------------"
   ]
  },
  {
   "cell_type": "markdown",
   "id": "618c4600",
   "metadata": {},
   "source": [
    "## Start here to read adherence df in most current state"
   ]
  },
  {
   "cell_type": "code",
   "execution_count": 5,
   "id": "3b452109",
   "metadata": {},
   "outputs": [
    {
     "data": {
      "application/vnd.jupyter.widget-view+json": {
       "model_id": "088dc86a1de143df8311c8af22ad9cd1",
       "version_major": 2,
       "version_minor": 0
      },
      "text/plain": [
       "VBox()"
      ]
     },
     "metadata": {},
     "output_type": "display_data"
    },
    {
     "data": {
      "application/vnd.jupyter.widget-view+json": {
       "model_id": "",
       "version_major": 2,
       "version_minor": 0
      },
      "text/plain": [
       "FloatProgress(value=0.0, bar_style='info', description='Progress:', layout=Layout(height='25px', width='50%'),…"
      ]
     },
     "metadata": {},
     "output_type": "display_data"
    }
   ],
   "source": [
    "adh_df = spark.read.load('s3a://sagemaker-coherehealth-1/claims-data/adherence_data/')"
   ]
  },
  {
   "cell_type": "code",
   "execution_count": 6,
   "id": "6bd5a40f",
   "metadata": {},
   "outputs": [
    {
     "data": {
      "application/vnd.jupyter.widget-view+json": {
       "model_id": "fbd26f1cdd8b4ca4840056fcb490de79",
       "version_major": 2,
       "version_minor": 0
      },
      "text/plain": [
       "VBox()"
      ]
     },
     "metadata": {},
     "output_type": "display_data"
    },
    {
     "data": {
      "application/vnd.jupyter.widget-view+json": {
       "model_id": "",
       "version_major": 2,
       "version_minor": 0
      },
      "text/plain": [
       "FloatProgress(value=0.0, bar_style='info', description='Progress:', layout=Layout(height='25px', width='50%'),…"
      ]
     },
     "metadata": {},
     "output_type": "display_data"
    },
    {
     "name": "stdout",
     "output_type": "stream",
     "text": [
      "78874665"
     ]
    }
   ],
   "source": [
    "adh_df.count()"
   ]
  },
  {
   "cell_type": "code",
   "execution_count": 7,
   "id": "01286a7e",
   "metadata": {},
   "outputs": [
    {
     "data": {
      "application/vnd.jupyter.widget-view+json": {
       "model_id": "061ac4f656654e3b9c6d021fe2bf78d6",
       "version_major": 2,
       "version_minor": 0
      },
      "text/plain": [
       "VBox()"
      ]
     },
     "metadata": {},
     "output_type": "display_data"
    },
    {
     "data": {
      "application/vnd.jupyter.widget-view+json": {
       "model_id": "",
       "version_major": 2,
       "version_minor": 0
      },
      "text/plain": [
       "FloatProgress(value=0.0, bar_style='info', description='Progress:', layout=Layout(height='25px', width='50%'),…"
      ]
     },
     "metadata": {},
     "output_type": "display_data"
    },
    {
     "name": "stdout",
     "output_type": "stream",
     "text": [
      "+-------+-------------------+\n",
      "|summary|      seq_align_adh|\n",
      "+-------+-------------------+\n",
      "|  count|            6855000|\n",
      "|   mean|0.10138786287137741|\n",
      "| stddev|0.21047998251714428|\n",
      "|    min|                0.0|\n",
      "|    max| 0.9991680532445923|\n",
      "+-------+-------------------+"
     ]
    }
   ],
   "source": [
    "seq_align_df = adh_df.filter(adh_df.seq_align_adh != -1.0)\n",
    "seq_align_df.describe(['seq_align_adh']).show()"
   ]
  },
  {
   "cell_type": "code",
   "execution_count": 8,
   "id": "ffed8afd",
   "metadata": {},
   "outputs": [
    {
     "data": {
      "application/vnd.jupyter.widget-view+json": {
       "model_id": "ba2c29c471f545d1b7153fe06d64c6ea",
       "version_major": 2,
       "version_minor": 0
      },
      "text/plain": [
       "VBox()"
      ]
     },
     "metadata": {},
     "output_type": "display_data"
    },
    {
     "data": {
      "application/vnd.jupyter.widget-view+json": {
       "model_id": "",
       "version_major": 2,
       "version_minor": 0
      },
      "text/plain": [
       "FloatProgress(value=0.0, bar_style='info', description='Progress:', layout=Layout(height='25px', width='50%'),…"
      ]
     },
     "metadata": {},
     "output_type": "display_data"
    },
    {
     "name": "stdout",
     "output_type": "stream",
     "text": [
      "+-------+-------------------+\n",
      "|summary|       generous_adh|\n",
      "+-------+-------------------+\n",
      "|  count|            2171379|\n",
      "|   mean| 0.6153987995647674|\n",
      "| stddev|0.26922224025707525|\n",
      "|    min|                0.1|\n",
      "|    max|                1.0|\n",
      "+-------+-------------------+"
     ]
    }
   ],
   "source": [
    "gen_adh_df = adh_df.filter(adh_df.generous_adh != -1.0)\n",
    "gen_adh_df.describe(['generous_adh']).show()"
   ]
  },
  {
   "cell_type": "code",
   "execution_count": 9,
   "id": "05fa2402",
   "metadata": {},
   "outputs": [
    {
     "data": {
      "application/vnd.jupyter.widget-view+json": {
       "model_id": "0bac61ef27ba4686bc3a49ab2d50e47d",
       "version_major": 2,
       "version_minor": 0
      },
      "text/plain": [
       "VBox()"
      ]
     },
     "metadata": {},
     "output_type": "display_data"
    },
    {
     "data": {
      "application/vnd.jupyter.widget-view+json": {
       "model_id": "",
       "version_major": 2,
       "version_minor": 0
      },
      "text/plain": [
       "FloatProgress(value=0.0, bar_style='info', description='Progress:', layout=Layout(height='25px', width='50%'),…"
      ]
     },
     "metadata": {},
     "output_type": "display_data"
    }
   ],
   "source": [
    "import matplotlib\n",
    "from matplotlib import pyplot as plt "
   ]
  },
  {
   "cell_type": "code",
   "execution_count": 10,
   "id": "cf4bbace",
   "metadata": {},
   "outputs": [
    {
     "data": {
      "application/vnd.jupyter.widget-view+json": {
       "model_id": "1172cf45d9b749fba47ec133a603f5cc",
       "version_major": 2,
       "version_minor": 0
      },
      "text/plain": [
       "VBox()"
      ]
     },
     "metadata": {},
     "output_type": "display_data"
    },
    {
     "data": {
      "application/vnd.jupyter.widget-view+json": {
       "model_id": "",
       "version_major": 2,
       "version_minor": 0
      },
      "text/plain": [
       "FloatProgress(value=0.0, bar_style='info', description='Progress:', layout=Layout(height='25px', width='50%'),…"
      ]
     },
     "metadata": {},
     "output_type": "display_data"
    }
   ],
   "source": [
    "# fig, ax = plt.subplots()\n",
    "# ax.hist(list(gen_adh_df.select('generous_adh').toPandas()['generous_adh']), bins=50, color='orange')"
   ]
  },
  {
   "cell_type": "code",
   "execution_count": 11,
   "id": "9a10f9f6",
   "metadata": {},
   "outputs": [
    {
     "data": {
      "application/vnd.jupyter.widget-view+json": {
       "model_id": "eb30f17fd80548b584df669eb54d50fd",
       "version_major": 2,
       "version_minor": 0
      },
      "text/plain": [
       "VBox()"
      ]
     },
     "metadata": {},
     "output_type": "display_data"
    },
    {
     "data": {
      "application/vnd.jupyter.widget-view+json": {
       "model_id": "",
       "version_major": 2,
       "version_minor": 0
      },
      "text/plain": [
       "FloatProgress(value=0.0, bar_style='info', description='Progress:', layout=Layout(height='25px', width='50%'),…"
      ]
     },
     "metadata": {},
     "output_type": "display_data"
    }
   ],
   "source": [
    "# %matplot plt"
   ]
  },
  {
   "cell_type": "code",
   "execution_count": 12,
   "id": "c54ab44e",
   "metadata": {},
   "outputs": [
    {
     "data": {
      "application/vnd.jupyter.widget-view+json": {
       "model_id": "e989663bb6ee4f7b94ce4076812f9ca8",
       "version_major": 2,
       "version_minor": 0
      },
      "text/plain": [
       "VBox()"
      ]
     },
     "metadata": {},
     "output_type": "display_data"
    },
    {
     "data": {
      "application/vnd.jupyter.widget-view+json": {
       "model_id": "",
       "version_major": 2,
       "version_minor": 0
      },
      "text/plain": [
       "FloatProgress(value=0.0, bar_style='info', description='Progress:', layout=Layout(height='25px', width='50%'),…"
      ]
     },
     "metadata": {},
     "output_type": "display_data"
    }
   ],
   "source": [
    "# fig, ax = plt.subplots()\n",
    "# ax.hist(list(seq_align_df.select('seq_align_adh').toPandas()['seq_align_adh']), bins=50, color='blue')"
   ]
  },
  {
   "cell_type": "code",
   "execution_count": 13,
   "id": "b9092e4e",
   "metadata": {},
   "outputs": [
    {
     "data": {
      "application/vnd.jupyter.widget-view+json": {
       "model_id": "ad034a75f2e14b1799863d45f8dc742b",
       "version_major": 2,
       "version_minor": 0
      },
      "text/plain": [
       "VBox()"
      ]
     },
     "metadata": {},
     "output_type": "display_data"
    },
    {
     "data": {
      "application/vnd.jupyter.widget-view+json": {
       "model_id": "",
       "version_major": 2,
       "version_minor": 0
      },
      "text/plain": [
       "FloatProgress(value=0.0, bar_style='info', description='Progress:', layout=Layout(height='25px', width='50%'),…"
      ]
     },
     "metadata": {},
     "output_type": "display_data"
    }
   ],
   "source": [
    "# %matplot plt"
   ]
  },
  {
   "cell_type": "code",
   "execution_count": 14,
   "id": "d3e24677",
   "metadata": {},
   "outputs": [
    {
     "data": {
      "application/vnd.jupyter.widget-view+json": {
       "model_id": "0752783374784d318cabc98cef0b88f9",
       "version_major": 2,
       "version_minor": 0
      },
      "text/plain": [
       "VBox()"
      ]
     },
     "metadata": {},
     "output_type": "display_data"
    },
    {
     "data": {
      "application/vnd.jupyter.widget-view+json": {
       "model_id": "",
       "version_major": 2,
       "version_minor": 0
      },
      "text/plain": [
       "FloatProgress(value=0.0, bar_style='info', description='Progress:', layout=Layout(height='25px', width='50%'),…"
      ]
     },
     "metadata": {},
     "output_type": "display_data"
    },
    {
     "name": "stdout",
     "output_type": "stream",
     "text": [
      "+----------+---------------+------------------------------------------------------------------------------------------------------------------------------------------------------------------------------------------------------------------------------------------------------------------------------------------------------------------------------------------------------------------------------------------------------------------------------------------------------------------------------------------------------------------------------------------------------------------------------------------------------------------------------------------------------------------------------------------------------+-------------------+------------+\n",
      "|member_ssn|diagnosis_code1|ord_procedure_codes                                                                                                                                                                                                                                                                                                                                                                                                                                                                                                                                                                                                                                                                                   |seq_align_adh      |generous_adh|\n",
      "+----------+---------------+------------------------------------------------------------------------------------------------------------------------------------------------------------------------------------------------------------------------------------------------------------------------------------------------------------------------------------------------------------------------------------------------------------------------------------------------------------------------------------------------------------------------------------------------------------------------------------------------------------------------------------------------------------------------------------------------------+-------------------+------------+\n",
      "|123446615 |M48062         |62323 J1030 J1040 99212 J1030 J1040 62323 22612 22612 63047 63048 20939 63048 22840 22840 63047 20939                                                                                                                                                                                                                                                                                                                                                                                                                                                                                                                                                                                                 |0.3888888888888889 |0.7         |\n",
      "|144405377 |M1711          |99213 C1776 G0378 J2405 None 73560 J0690 None J1580 J2250 J1100 97530 27447 76942 27447 C9290 64450 27447 J1170 None J2800 None J2001 None 97163 J2795 01402 J2405 64447 J0690 None None 64447 80048 None 97116 97110 99231 J0690 73560 96374 85025 99231 99231 97535 97530                                                                                                                                                                                                                                                                                                                                                                                                                           |0.13404255319148936|0.7         |\n",
      "|227688984 |M5136          |97140 97162 97110 97035 97140 97140 97035 97035 97140 97140 G0283 97035 G0283 97140 97140 97035 97140 97035 97140 97035 97035 97140                                                                                                                                                                                                                                                                                                                                                                                                                                                                                                                                                                   |0.6217391304347827 |0.65        |\n",
      "|231526947 |M5417          |97163 97140 97112 97112 97140 97112 97163 97163 97140 G0283 97140 97110 97110 97140 97140 G0283 97112 G0283 97140 97035 G0283 97112 97164 97140 97164                                                                                                                                                                                                                                                                                                                                                                                                                                                                                                                                                 |0.625              |0.65        |\n",
      "|233526528 |M545           |36415 99204 97110 97140 97110 97140 97162 97140 97110 97110 97140 97140 G0283 97110 97112 97110 97140 G0283 97110 97112 97140 G0283 97140 97110 97530                                                                                                                                                                                                                                                                                                                                                                                                                                                                                                                                                 |0.5307692307692308 |0.6         |\n",
      "|235743919 |M545           |97161 97161 G0283 97140                                                                                                                                                                                                                                                                                                                                                                                                                                                                                                                                                                                                                                                                               |0.48               |0.6         |\n",
      "|241802803 |M545           |97530 97161 97530 G0283 97012                                                                                                                                                                                                                                                                                                                                                                                                                                                                                                                                                                                                                                                                         |0.5                |0.6         |\n",
      "|243622944 |M1711          |20610 J7323 20610 J7323 J7323 20610 77077 64447 None 01402 None None None None None None 27447 None 01402 None 27447 76942 None None None 99221 None 99232 99232 99213                                                                                                                                                                                                                                                                                                                                                                                                                                                                                                                                |0.1129032258064516 |0.7         |\n",
      "|244485695 |M1712          |73560 99203 20610 J3301 J3301 99203 20610 J3301 20610 99213 20610 J3301 99213 99213 99213 20610 J7324 J7321 20610 99213 99214 99214 None None None None None None None None None None None None None None None None None None None None 27447 None None None None 01402 None None None None 01402 None None None None None None None None                                                                                                                                                                                                                                                                                                                                                             |0.09032258064516129|0.7         |\n",
      "|245299613 |M5416          |97110 G0283                                                                                                                                                                                                                                                                                                                                                                                                                                                                                                                                                                                                                                                                                           |0.43333333333333335|0.65        |\n",
      "|248445458 |M5431          |72100 99213 97161 97110 97110 G0283 G0283 97110 97110 G0283 97035 97110 G0283 97110 G0283                                                                                                                                                                                                                                                                                                                                                                                                                                                                                                                                                                                                             |0.5281250000000001 |0.65        |\n",
      "|256236180 |M5136          |80053 85025 99213 97162 97110 97010 G0283                                                                                                                                                                                                                                                                                                                                                                                                                                                                                                                                                                                                                                                             |0.325              |0.65        |\n",
      "|265661253 |M545           |99214 80307 G0482 99214 99214 99214 99214 99214 83036 99214 99214 99214 99214 99214 99213 99213 99441 99441 99214 99214 97161 97110 G0283 97110 97032 97012 97032 97110 97110 97112 97032 97110 97032 97110 97112 97032 97110 97032 97112 G0283 97110 99214 99214 99214 99214 99213 99214                                                                                                                                                                                                                                                                                                                                                                                                             |0.2625             |0.6         |\n",
      "|266606612 |M545           |97162 97110 G0283 97140 97110 G0283 97140 97140 97110 G0283 97110 G0283 97140 97110 97140 G0283 97140 97110 G0283 73502 99203 72100                                                                                                                                                                                                                                                                                                                                                                                                                                                                                                                                                                   |0.49565217391304345|0.6         |\n",
      "|274283883 |M1612          |73502 99214 99214 77002 None 20610 73502 99214 99214 None 20610 77002 J3301 20610 77002 99214 73502 99214 27130 None None None None None None None None None None 27130 None None None None None None None None None None None None None None 99306                                                                                                                                                                                                                                                                                                                                                                                                                                                   |0.04565217391304347|0.7         |\n",
      "|278382576 |M47816         |99204 99204 99204 97110 97162 97140 G0283                                                                                                                                                                                                                                                                                                                                                                                                                                                                                                                                                                                                                                                             |0.325              |0.65        |\n",
      "|279448663 |M545           |97162 97112 97110 97112 97110 G0283 97112 97110 G0283 97112 G0283 97110 G0283 97112 97110 97110 97164                                                                                                                                                                                                                                                                                                                                                                                                                                                                                                                                                                                                 |0.5666666666666667 |0.6         |\n",
      "|280600421 |M545           |97161 97035 97140 97035 G0283 G0283 97140 97035 97140 97110 G0283 97035 97032 97140 97035 97140 97035 97140 G0283 97035 97140 G0283 97035 97140 97140 97035 97035 97140 G0283 97140 G0283 97035 G0283 97110 97140 97035 97110 97140 97035 97035 97110 97140 97140 97110 97035 97035 97140 97110 97110 97140 G0283 G0283 97140 97035 97110 97140 G0283 97110 G0283 97140 97140 97110 G0283 G0283 97110 97140 97140 G0283 97035 97110 97140 97110 97035 97140 97110 97035 97110 97140 97140 97110 97035 97110 97140 G0283                                                                                                                                                                               |0.5929411764705882 |0.6         |\n",
      "|282367369 |M545           |97161 97110 97140 G0283 97110 G0283 97110 G0283 G0283 97110 G0283 97110 97110 G0283 97110 G0283 G0283 97012 97110 G0283 97110 97110 G0283 97110                                                                                                                                                                                                                                                                                                                                                                                                                                                                                                                                                       |0.576              |0.6         |\n",
      "|296546382 |M545           |73502 72100 73502 72100 97035 97014 97012 97110 97140 97140 97035 97012 97140 97014 97110 97014 97010 97012 97035 97110 97012 97014 97110 97012 97010 97014 97012 97010 97014 97012 97110 97140 G0283 G0283 97012 97110 G0283 97010 G0283 97012 97012 G0283 97010 97012 97140 97140 97012 97140 97012 G0283 G0283 97110 97140 97010 97110 G0283 97140 95831 G0283 95831 G0283 97140 G0283 97010 G0283 97140 G0283 97140 97110 97140 G0283 97035 97110 97140 97140 97010 G0283 97035 G0283 97140 97035 G0283 97110 97010 G0283 97035 97110 97035 97140 G0283 G0283 97035 97140 97140 97110 97140 G0283 G0283 97140 G0283 97010 97140 97035 97110 G0283 97140 97140 G0283 97035 97010 97140 97035 G0283 |0.5631578947368421 |0.6         |\n",
      "+----------+---------------+------------------------------------------------------------------------------------------------------------------------------------------------------------------------------------------------------------------------------------------------------------------------------------------------------------------------------------------------------------------------------------------------------------------------------------------------------------------------------------------------------------------------------------------------------------------------------------------------------------------------------------------------------------------------------------------------------+-------------------+------------+\n",
      "only showing top 20 rows"
     ]
    }
   ],
   "source": [
    "query = (\n",
    "    gen_adh_df\n",
    "    .filter(\n",
    "    (gen_adh_df.generous_adh > 0.5) &\n",
    "    (gen_adh_df.generous_adh < 0.75) &\n",
    "    (gen_adh_df.seq_align_adh > 0))\n",
    ")\n",
    "query.show(truncate=False)"
   ]
  },
  {
   "cell_type": "code",
   "execution_count": 15,
   "id": "374172b0",
   "metadata": {},
   "outputs": [
    {
     "data": {
      "application/vnd.jupyter.widget-view+json": {
       "model_id": "1865ca1eeb084170b1c4c0ab1de5ee45",
       "version_major": 2,
       "version_minor": 0
      },
      "text/plain": [
       "VBox()"
      ]
     },
     "metadata": {},
     "output_type": "display_data"
    },
    {
     "data": {
      "application/vnd.jupyter.widget-view+json": {
       "model_id": "",
       "version_major": 2,
       "version_minor": 0
      },
      "text/plain": [
       "FloatProgress(value=0.0, bar_style='info', description='Progress:', layout=Layout(height='25px', width='50%'),…"
      ]
     },
     "metadata": {},
     "output_type": "display_data"
    },
    {
     "name": "stdout",
     "output_type": "stream",
     "text": [
      "+----------+---------------+------------------------------------------------------------------------------------------------------------------------------------------------------------------------------------------------------------------------------------------------------------------------------------------------------+-------------+------------+\n",
      "|member_ssn|diagnosis_code1|ord_procedure_codes                                                                                                                                                                                                                                                                                   |seq_align_adh|generous_adh|\n",
      "+----------+---------------+------------------------------------------------------------------------------------------------------------------------------------------------------------------------------------------------------------------------------------------------------------------------------------------------------+-------------+------------+\n",
      "|032343743 |M545           |J3301 96372                                                                                                                                                                                                                                                                                           |0.0          |-1.0        |\n",
      "|041828575 |M545           |99213                                                                                                                                                                                                                                                                                                 |0.0          |-1.0        |\n",
      "|050565601 |M545           |99214                                                                                                                                                                                                                                                                                                 |0.0          |-1.0        |\n",
      "|066318149 |M545           |72100 72100                                                                                                                                                                                                                                                                                           |0.0          |-1.0        |\n",
      "|069584323 |M545           |81003 99214 99213 36415 99213 36415 99214 99213 99213 99213                                                                                                                                                                                                                                           |0.0          |-1.0        |\n",
      "|083482055 |M545           |72110 71046                                                                                                                                                                                                                                                                                           |0.0          |-1.0        |\n",
      "|095406789 |M545           |99203 72100                                                                                                                                                                                                                                                                                           |0.0          |-1.0        |\n",
      "|096446161 |M545           |99214 99203                                                                                                                                                                                                                                                                                           |0.0          |-1.0        |\n",
      "|096448988 |M545           |99213 G0439 96160                                                                                                                                                                                                                                                                                     |0.0          |-1.0        |\n",
      "|102788107 |M545           |99213                                                                                                                                                                                                                                                                                                 |0.0          |-1.0        |\n",
      "|110461391 |M545           |99203 99213 99213 99213 99213 99213 99213 99213 99213 99213 99213                                                                                                                                                                                                                                     |0.0          |-1.0        |\n",
      "|118266598 |M545           |82977                                                                                                                                                                                                                                                                                                 |0.0          |-1.0        |\n",
      "|120483631 |M545           |81002 99213                                                                                                                                                                                                                                                                                           |0.0          |-1.0        |\n",
      "|122141542 |M545           |72100                                                                                                                                                                                                                                                                                                 |0.0          |-1.0        |\n",
      "|131288632 |M545           |99214 81000                                                                                                                                                                                                                                                                                           |0.0          |-1.0        |\n",
      "|135885709 |M545           |70450 72100 70486 71260                                                                                                                                                                                                                                                                               |0.0          |-1.0        |\n",
      "|145749737 |M545           |99223                                                                                                                                                                                                                                                                                                 |0.0          |-1.0        |\n",
      "|163421836 |M545           |99213 99214 99213                                                                                                                                                                                                                                                                                     |0.0          |-1.0        |\n",
      "|165447959 |M545           |72110                                                                                                                                                                                                                                                                                                 |0.0          |-1.0        |\n",
      "|166482478 |M545           |99213                                                                                                                                                                                                                                                                                                 |0.0          |-1.0        |\n",
      "|170346161 |M545           |99213 99213                                                                                                                                                                                                                                                                                           |0.0          |-1.0        |\n",
      "|175362633 |M545           |99214 99214 99214 99442                                                                                                                                                                                                                                                                               |0.0          |-1.0        |\n",
      "|177660143 |M545           |72050 72110 99214                                                                                                                                                                                                                                                                                     |0.0          |-1.0        |\n",
      "|186128012 |M545           |72100                                                                                                                                                                                                                                                                                                 |0.0          |-1.0        |\n",
      "|191281642 |M545           |20610 72170 99202 J1030 72100                                                                                                                                                                                                                                                                         |0.0          |-1.0        |\n",
      "|191387857 |M545           |72220 72084                                                                                                                                                                                                                                                                                           |0.0          |-1.0        |\n",
      "|194384927 |M545           |99213 99213 99213                                                                                                                                                                                                                                                                                     |0.0          |-1.0        |\n",
      "|199468831 |M545           |72100 99213                                                                                                                                                                                                                                                                                           |0.0          |-1.0        |\n",
      "|207244870 |M545           |72110 99213 99213 36415 99213                                                                                                                                                                                                                                                                         |0.0          |-1.0        |\n",
      "|209389769 |M545           |98941 98941 98941 98941 98941 98941 98941 98941 98941 98941 98941 98941 98941                                                                                                                                                                                                                         |0.0          |-1.0        |\n",
      "|215744243 |M545           |72110 L3916 L0650                                                                                                                                                                                                                                                                                     |0.0          |-1.0        |\n",
      "|218469127 |M545           |99213 99212 85025 87086 72100 72100 99284 81001 80053 99284                                                                                                                                                                                                                                           |0.0          |-1.0        |\n",
      "|219287903 |M545           |99284                                                                                                                                                                                                                                                                                                 |0.0          |-1.0        |\n",
      "|219989028 |M545           |G0481 80307                                                                                                                                                                                                                                                                                           |0.0          |-1.0        |\n",
      "|220540477 |M545           |G2025                                                                                                                                                                                                                                                                                                 |0.0          |-1.0        |\n",
      "|223370908 |M545           |99204 99213 99214 99214 36415 99214 99214                                                                                                                                                                                                                                                             |0.0          |-1.0        |\n",
      "|223455182 |M545           |80307 99214                                                                                                                                                                                                                                                                                           |0.0          |-1.0        |\n",
      "|223628405 |M545           |99213 99213 80061 36415 80053 99213 99213 99213 99213 99213                                                                                                                                                                                                                                           |0.0          |-1.0        |\n",
      "|224660279 |M545           |99214 98925                                                                                                                                                                                                                                                                                           |0.0          |-1.0        |\n",
      "|224884746 |M545           |A0425 A0426                                                                                                                                                                                                                                                                                           |0.0          |-1.0        |\n",
      "|225063132 |M545           |G0481 80307 G0481 80307 G0481                                                                                                                                                                                                                                                                         |0.0          |-1.0        |\n",
      "|225402846 |M545           |99214 81003                                                                                                                                                                                                                                                                                           |0.0          |-1.0        |\n",
      "|225844128 |M545           |L0650                                                                                                                                                                                                                                                                                                 |0.0          |-1.0        |\n",
      "|225949950 |M545           |99213                                                                                                                                                                                                                                                                                                 |0.0          |-1.0        |\n",
      "|226210415 |M545           |99213 72110 96372 36415 J1885 72100 99214 82550 80053 36415 J1885 99214 96372 85025                                                                                                                                                                                                                   |0.0          |-1.0        |\n",
      "|226480561 |M545           |L0650 L0650 81003 99282                                                                                                                                                                                                                                                                               |0.0          |-1.0        |\n",
      "|226986652 |M545           |99284                                                                                                                                                                                                                                                                                                 |0.0          |-1.0        |\n",
      "|227607755 |M545           |99213 99213 99214 99213 99204 J1100 20552 99213 99213 J1885 J2360 96372 99214 99214 20553 J1100 99214 99214                                                                                                                                                                                           |0.0          |-1.0        |\n",
      "|228064154 |M545           |99214                                                                                                                                                                                                                                                                                                 |0.0          |-1.0        |\n",
      "|228271532 |M545           |99213 99213 99213 99213 99213 99213 93000 99213 36415 99213 99213 99213 99214 99214 36415 99214 99214 99214 36415 99214 99214 99213 99213 99213 99213 99213 36415 99213 99213 99213 99213 99213 99214 36415 99213 99213 99213 99214 36415 99213 36415 99214 36415 99214 99213 99213 99214 36415 99213 |0.0          |-1.0        |\n",
      "|229442368 |M545           |99213 72110 72110 99213                                                                                                                                                                                                                                                                               |0.0          |-1.0        |\n",
      "|230601783 |M545           |99213                                                                                                                                                                                                                                                                                                 |0.0          |-1.0        |\n",
      "|230626910 |M545           |99213                                                                                                                                                                                                                                                                                                 |0.0          |-1.0        |\n",
      "|231425791 |M545           |A0425 A0427 R0070 Q0092 72100                                                                                                                                                                                                                                                                         |0.0          |-1.0        |\n",
      "|231749320 |M545           |99213                                                                                                                                                                                                                                                                                                 |0.0          |-1.0        |\n",
      "|232040560 |M545           |72100 72100 72100                                                                                                                                                                                                                                                                                     |0.0          |-1.0        |\n",
      "|232150516 |M545           |81002 74021 J1885 96372 99214                                                                                                                                                                                                                                                                         |0.0          |-1.0        |\n",
      "|232331025 |M545           |96372 99283 99283 J1885                                                                                                                                                                                                                                                                               |0.0          |-1.0        |\n",
      "|232582300 |M545           |99213 98928 99214 98927 99213 98927 98926 99213 98927 99213                                                                                                                                                                                                                                           |0.0          |-1.0        |\n",
      "|232704660 |M545           |L0650                                                                                                                                                                                                                                                                                                 |0.0          |-1.0        |\n",
      "|232868471 |M545           |99214 99214 95886 G0463 95909 95909 95886                                                                                                                                                                                                                                                             |0.0          |-1.0        |\n",
      "|233642985 |M545           |J1885 96372 J1040 G0467 96372 99213                                                                                                                                                                                                                                                                   |0.0          |-1.0        |\n",
      "|234544850 |M545           |99213 72100 J1100 96372 99213 J1100 96372                                                                                                                                                                                                                                                             |0.0          |-1.0        |\n",
      "|234646613 |M545           |99214                                                                                                                                                                                                                                                                                                 |0.0          |-1.0        |\n",
      "|234866117 |M545           |99490                                                                                                                                                                                                                                                                                                 |0.0          |-1.0        |\n",
      "|235463782 |M545           |99284                                                                                                                                                                                                                                                                                                 |0.0          |-1.0        |\n",
      "|235626943 |M545           |72110 74019 G0463 G0463 G0463 G0463                                                                                                                                                                                                                                                                   |0.0          |-1.0        |\n",
      "|235708338 |M545           |98941 98941 98941 98941 98941 98941 98941 98941 98941 98941 98941 98941 98941 98941 98941                                                                                                                                                                                                             |0.0          |-1.0        |\n",
      "|235723018 |M545           |74000                                                                                                                                                                                                                                                                                                 |0.0          |-1.0        |\n",
      "|235729270 |M545           |G0511 G0511 G0511 G0511                                                                                                                                                                                                                                                                               |0.0          |-1.0        |\n",
      "|236064023 |M545           |99214                                                                                                                                                                                                                                                                                                 |0.0          |-1.0        |\n",
      "|236546156 |M545           |99214                                                                                                                                                                                                                                                                                                 |0.0          |-1.0        |\n",
      "|236565469 |M545           |G0467 99213 99214 36415 G0467                                                                                                                                                                                                                                                                         |0.0          |-1.0        |\n",
      "|236663376 |M545           |81003 87088                                                                                                                                                                                                                                                                                           |0.0          |-1.0        |\n",
      "|237682605 |M545           |L0650                                                                                                                                                                                                                                                                                                 |0.0          |-1.0        |\n",
      "|237805024 |M545           |99213 72110 72050 99214                                                                                                                                                                                                                                                                               |0.0          |-1.0        |\n",
      "|238300060 |M545           |72110                                                                                                                                                                                                                                                                                                 |0.0          |-1.0        |\n",
      "|238667715 |M545           |99214 72110                                                                                                                                                                                                                                                                                           |0.0          |-1.0        |\n",
      "|238886972 |M545           |G0482                                                                                                                                                                                                                                                                                                 |0.0          |-1.0        |\n",
      "|238949899 |M545           |72100 99284 99284 99284 J1885 96372 72100                                                                                                                                                                                                                                                             |0.0          |-1.0        |\n",
      "|239278099 |M545           |99284 80048 None 81001 None 85025 None 36415 99284 74176                                                                                                                                                                                                                                              |0.0          |-1.0        |\n",
      "|240469562 |M545           |99283 99283 81003 85025 80048 80048 99284 99284 72100 99283 81003 81003 36415 74176 72100 72100 36415 36415 85025 85025 74176 74176 80048 99284                                                                                                                                                       |0.0          |-1.0        |\n",
      "|240981908 |M545           |99284                                                                                                                                                                                                                                                                                                 |0.0          |-1.0        |\n",
      "|241393246 |M545           |96372 J1885 81003 99213 72114                                                                                                                                                                                                                                                                         |0.0          |-1.0        |\n",
      "|241862630 |M545           |72110                                                                                                                                                                                                                                                                                                 |0.0          |-1.0        |\n",
      "|242292036 |M545           |80305 99214 99214 80305 99214 99214 99213 80305                                                                                                                                                                                                                                                       |0.0          |-1.0        |\n",
      "|242720500 |M545           |99204 99204                                                                                                                                                                                                                                                                                           |0.0          |-1.0        |\n",
      "|242865219 |M545           |72100                                                                                                                                                                                                                                                                                                 |0.0          |-1.0        |\n",
      "|242947344 |M545           |72110 99204 99213                                                                                                                                                                                                                                                                                     |0.0          |-1.0        |\n",
      "|242980521 |M545           |G0467 99213 G0480                                                                                                                                                                                                                                                                                     |0.0          |-1.0        |\n",
      "|243357059 |M545           |96374 J3490 J7030 81001 80053 36415 96375 J2405 99285 99283 85025 J2060 74176 J1885                                                                                                                                                                                                                   |0.0          |-1.0        |\n",
      "|243705972 |M545           |G0463 72110 72110 72100                                                                                                                                                                                                                                                                               |0.0          |-1.0        |\n",
      "|243766475 |M545           |L0650 99283                                                                                                                                                                                                                                                                                           |0.0          |-1.0        |\n",
      "|243900660 |M545           |99284 99284 36415 None 29530 73564 72110 85025 72110 L0650                                                                                                                                                                                                                                            |0.0          |-1.0        |\n",
      "|244177775 |M545           |72100 99283 71046                                                                                                                                                                                                                                                                                     |0.0          |-1.0        |\n",
      "|244257674 |M545           |99214                                                                                                                                                                                                                                                                                                 |0.0          |-1.0        |\n",
      "|244297465 |M545           |99214 72100 99213 99214 20552 72110 J1030                                                                                                                                                                                                                                                             |0.0          |-1.0        |\n",
      "|244584602 |M545           |72110 71101                                                                                                                                                                                                                                                                                           |0.0          |-1.0        |\n",
      "|244725713 |M545           |80069 81003 36415 72100 99213 85025 36415                                                                                                                                                                                                                                                             |0.0          |-1.0        |\n",
      "|245236155 |M545           |99213 99213 99213 99213 99214 99214 99213 99213 99213 99213 99213 99213 72202 99214 72110 73521                                                                                                                                                                                                       |0.0          |-1.0        |\n",
      "+----------+---------------+------------------------------------------------------------------------------------------------------------------------------------------------------------------------------------------------------------------------------------------------------------------------------------------------------+-------------+------------+\n",
      "only showing top 100 rows"
     ]
    }
   ],
   "source": [
    "rollup_analysis = (\n",
    "    seq_align_df\n",
    "    .filter(\n",
    "        (seq_align_df.seq_align_adh == 0) &\n",
    "        (seq_align_df.generous_adh != 0) &\n",
    "        (seq_align_df.diagnosis_code1 == 'M545')\n",
    "    )\n",
    ")\n",
    "\n",
    "rollup_analysis.show(100, truncate=False)"
   ]
  },
  {
   "cell_type": "code",
   "execution_count": 16,
   "id": "13f0bce7",
   "metadata": {},
   "outputs": [
    {
     "data": {
      "application/vnd.jupyter.widget-view+json": {
       "model_id": "3f755a24a0744050a83b2a024bd8d366",
       "version_major": 2,
       "version_minor": 0
      },
      "text/plain": [
       "VBox()"
      ]
     },
     "metadata": {},
     "output_type": "display_data"
    },
    {
     "data": {
      "application/vnd.jupyter.widget-view+json": {
       "model_id": "",
       "version_major": 2,
       "version_minor": 0
      },
      "text/plain": [
       "FloatProgress(value=0.0, bar_style='info', description='Progress:', layout=Layout(height='25px', width='50%'),…"
      ]
     },
     "metadata": {},
     "output_type": "display_data"
    },
    {
     "name": "stdout",
     "output_type": "stream",
     "text": [
      "370613"
     ]
    }
   ],
   "source": [
    "rollup_analysis.count()"
   ]
  },
  {
   "cell_type": "code",
   "execution_count": null,
   "id": "d787b29d",
   "metadata": {},
   "outputs": [],
   "source": [
    "# step 1 - list col\n",
    "# step 2 - explode :)\n",
    "\n",
    "\n",
    "# an idea - prcd code blacklist? anesthetics, local doctor visits, chiropractor visits?"
   ]
  }
 ],
 "metadata": {
  "kernelspec": {
   "display_name": "PySpark",
   "language": "",
   "name": "pysparkkernel"
  },
  "language_info": {
   "codemirror_mode": {
    "name": "python",
    "version": 3
   },
   "mimetype": "text/x-python",
   "name": "pyspark",
   "pygments_lexer": "python3"
  }
 },
 "nbformat": 4,
 "nbformat_minor": 5
}
