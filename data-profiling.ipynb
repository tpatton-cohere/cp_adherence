{
 "cells": [
  {
   "cell_type": "code",
   "execution_count": 1,
   "id": "5959b2d5",
   "metadata": {},
   "outputs": [
    {
     "data": {
      "application/vnd.jupyter.widget-view+json": {
       "model_id": "a53e8eef15a842fab6f1f7adf79fd9c1",
       "version_major": 2,
       "version_minor": 0
      },
      "text/plain": [
       "VBox()"
      ]
     },
     "metadata": {},
     "output_type": "display_data"
    },
    {
     "name": "stdout",
     "output_type": "stream",
     "text": [
      "Starting Spark application\n"
     ]
    },
    {
     "data": {
      "text/html": [
       "<table>\n",
       "<tbody><tr><th>ID</th><th>YARN Application ID</th><th>Kind</th><th>State</th><th>Spark UI</th><th>Driver log</th><th>Current session?</th></tr><tr><td>4</td><td>application_1619393293929_0006</td><td>spark</td><td>idle</td><td><a target=\"_blank\" href=\"http://ip-172-31-12-49.ec2.internal:20888/proxy/application_1619393293929_0006/\" class=\"emr-proxy-link j-3PJGB1V0SJRFR application_1619393293929_0006\" emr-resource=\"j-3PJGB1V0SJRFR\n",
       "\" application-id=\"application_1619393293929_0006\">Link</a></td><td><a target=\"_blank\" href=\"http://ip-172-31-4-140.ec2.internal:8042/node/containerlogs/container_1619393293929_0006_01_000001/livy\">Link</a></td><td>✔</td></tr></tbody></table>"
      ],
      "text/plain": [
       "<IPython.core.display.HTML object>"
      ]
     },
     "metadata": {},
     "output_type": "display_data"
    },
    {
     "data": {
      "application/vnd.jupyter.widget-view+json": {
       "model_id": "",
       "version_major": 2,
       "version_minor": 0
      },
      "text/plain": [
       "FloatProgress(value=0.0, bar_style='info', description='Progress:', layout=Layout(height='25px', width='50%'),…"
      ]
     },
     "metadata": {},
     "output_type": "display_data"
    },
    {
     "name": "stdout",
     "output_type": "stream",
     "text": [
      "SparkSession available as 'spark'.\n"
     ]
    },
    {
     "data": {
      "application/vnd.jupyter.widget-view+json": {
       "model_id": "",
       "version_major": 2,
       "version_minor": 0
      },
      "text/plain": [
       "FloatProgress(value=0.0, bar_style='info', description='Progress:', layout=Layout(height='25px', width='50%'),…"
      ]
     },
     "metadata": {},
     "output_type": "display_data"
    },
    {
     "name": "stdout",
     "output_type": "stream",
     "text": [
      "res1: String = 3.0.1-amzn-0\n"
     ]
    }
   ],
   "source": [
    "spark.version"
   ]
  },
  {
   "cell_type": "code",
   "execution_count": 2,
   "id": "37c94240",
   "metadata": {},
   "outputs": [
    {
     "name": "stdout",
     "output_type": "stream",
     "text": [
      "Starting Spark application\n"
     ]
    },
    {
     "data": {
      "text/html": [
       "<table>\n",
       "<tbody><tr><th>ID</th><th>YARN Application ID</th><th>Kind</th><th>State</th><th>Spark UI</th><th>Driver log</th><th>Current session?</th></tr><tr><td>5</td><td>application_1619393293929_0007</td><td>spark</td><td>idle</td><td><a target=\"_blank\" href=\"http://ip-172-31-12-49.ec2.internal:20888/proxy/application_1619393293929_0007/\" class=\"emr-proxy-link j-3PJGB1V0SJRFR application_1619393293929_0007\" emr-resource=\"j-3PJGB1V0SJRFR\n",
       "\" application-id=\"application_1619393293929_0007\">Link</a></td><td><a target=\"_blank\" href=\"http://ip-172-31-4-140.ec2.internal:8042/node/containerlogs/container_1619393293929_0007_01_000001/livy\">Link</a></td><td>✔</td></tr></tbody></table>"
      ],
      "text/plain": [
       "<IPython.core.display.HTML object>"
      ]
     },
     "metadata": {},
     "output_type": "display_data"
    },
    {
     "data": {
      "application/vnd.jupyter.widget-view+json": {
       "model_id": "",
       "version_major": 2,
       "version_minor": 0
      },
      "text/plain": [
       "FloatProgress(value=0.0, bar_style='info', description='Progress:', layout=Layout(height='25px', width='50%'),…"
      ]
     },
     "metadata": {},
     "output_type": "display_data"
    },
    {
     "name": "stdout",
     "output_type": "stream",
     "text": [
      "SparkSession available as 'spark'.\n"
     ]
    },
    {
     "data": {
      "text/html": [
       "Current session configs: <tt>{'conf': {'spark.jars': 's3://sagemaker-coherehealth-1/spark/deequ-1.2.1-spark-3.0.jar'}, 'proxyUser': 'assumed-role_ML_EMR_User_Role_patton', 'kind': 'spark'}</tt><br>"
      ],
      "text/plain": [
       "<IPython.core.display.HTML object>"
      ]
     },
     "metadata": {},
     "output_type": "display_data"
    },
    {
     "data": {
      "text/html": [
       "<table>\n",
       "<tbody><tr><th>ID</th><th>YARN Application ID</th><th>Kind</th><th>State</th><th>Spark UI</th><th>Driver log</th><th>Current session?</th></tr><tr><td>5</td><td>application_1619393293929_0007</td><td>spark</td><td>idle</td><td><a target=\"_blank\" href=\"http://ip-172-31-12-49.ec2.internal:20888/proxy/application_1619393293929_0007/\" class=\"emr-proxy-link j-3PJGB1V0SJRFR application_1619393293929_0007\" emr-resource=\"j-3PJGB1V0SJRFR\n",
       "\" application-id=\"application_1619393293929_0007\">Link</a></td><td><a target=\"_blank\" href=\"http://ip-172-31-4-140.ec2.internal:8042/node/containerlogs/container_1619393293929_0007_01_000001/livy\">Link</a></td><td>✔</td></tr></tbody></table>"
      ],
      "text/plain": [
       "<IPython.core.display.HTML object>"
      ]
     },
     "metadata": {},
     "output_type": "display_data"
    }
   ],
   "source": [
    "%%configure -f\n",
    "{\n",
    "    \"conf\": {\n",
    "        \"spark.jars\": \"s3://sagemaker-coherehealth-1/spark/deequ-1.2.1-spark-3.0.jar\"\n",
    "    }\n",
    "}"
   ]
  },
  {
   "cell_type": "code",
   "execution_count": 3,
   "id": "89fc448a",
   "metadata": {},
   "outputs": [
    {
     "data": {
      "application/vnd.jupyter.widget-view+json": {
       "model_id": "d2393c588e4b42bcb0a43000cb6a1914",
       "version_major": 2,
       "version_minor": 0
      },
      "text/plain": [
       "VBox()"
      ]
     },
     "metadata": {},
     "output_type": "display_data"
    },
    {
     "data": {
      "application/vnd.jupyter.widget-view+json": {
       "model_id": "",
       "version_major": 2,
       "version_minor": 0
      },
      "text/plain": [
       "FloatProgress(value=0.0, bar_style='info', description='Progress:', layout=Layout(height='25px', width='50%'),…"
      ]
     },
     "metadata": {},
     "output_type": "display_data"
    },
    {
     "name": "stdout",
     "output_type": "stream",
     "text": [
      "import com.amazon.deequ.VerificationSuite\n",
      "import com.amazon.deequ.checks.{Check, CheckLevel, CheckStatus}\n",
      "import com.amazon.deequ.profiles.{ColumnProfilerRunner, NumericColumnProfile, ColumnProfile, ColumnProfiles}\n",
      "import com.amazon.deequ.analyzers.DataTypeInstances\n",
      "import com.amazon.deequ.analyzers.runners.{AnalysisRunner, AnalyzerContext}\n",
      "import com.amazon.deequ.analyzers.runners.AnalyzerContext.successMetricsAsDataFrame\n",
      "import com.amazon.deequ.analyzers.{Compliance, Correlation, Size, Completeness, Mean, ApproxCountDistinct}\n",
      "import org.apache.spark.sql.DataFrame\n",
      "import org.apache.spark.sql.functions._\n"
     ]
    }
   ],
   "source": [
    "import com.amazon.deequ.VerificationSuite\n",
    "import com.amazon.deequ.checks.{Check, CheckLevel, CheckStatus}\n",
    "import com.amazon.deequ.profiles.{ColumnProfilerRunner, NumericColumnProfile, ColumnProfile, ColumnProfiles}\n",
    "import com.amazon.deequ.analyzers.{DataTypeInstances}\n",
    "import com.amazon.deequ.analyzers.runners.{AnalysisRunner, AnalyzerContext}\n",
    "import com.amazon.deequ.analyzers.runners.AnalyzerContext.successMetricsAsDataFrame\n",
    "import com.amazon.deequ.analyzers.{Compliance, Correlation, Size, Completeness, Mean, ApproxCountDistinct}\n",
    "import org.apache.spark.sql.DataFrame\n",
    "import org.apache.spark.sql.functions._"
   ]
  },
  {
   "cell_type": "code",
   "execution_count": 4,
   "id": "c0164723",
   "metadata": {},
   "outputs": [
    {
     "data": {
      "application/vnd.jupyter.widget-view+json": {
       "model_id": "e7f2c1b2be5346769001f37fa4700d35",
       "version_major": 2,
       "version_minor": 0
      },
      "text/plain": [
       "VBox()"
      ]
     },
     "metadata": {},
     "output_type": "display_data"
    },
    {
     "data": {
      "application/vnd.jupyter.widget-view+json": {
       "model_id": "",
       "version_major": 2,
       "version_minor": 0
      },
      "text/plain": [
       "FloatProgress(value=0.0, bar_style='info', description='Progress:', layout=Layout(height='25px', width='50%'),…"
      ]
     },
     "metadata": {},
     "output_type": "display_data"
    },
    {
     "name": "stdout",
     "output_type": "stream",
     "text": [
      "withTimeChecker: (fn: () => Any)Any\n"
     ]
    }
   ],
   "source": [
    "def withTimeChecker(fn:()=> Any) = {\n",
    "    val t1 = System.nanoTime\n",
    "    val ret = fn()\n",
    "    println(s\"Operation took ${(System.nanoTime - t1)/1e9d} seconds\")\n",
    "    ret\n",
    "}"
   ]
  },
  {
   "cell_type": "code",
   "execution_count": 5,
   "id": "19e13801",
   "metadata": {},
   "outputs": [
    {
     "data": {
      "application/vnd.jupyter.widget-view+json": {
       "model_id": "a1d9e0d4dc544248a34af3f6c54240ba",
       "version_major": 2,
       "version_minor": 0
      },
      "text/plain": [
       "VBox()"
      ]
     },
     "metadata": {},
     "output_type": "display_data"
    },
    {
     "data": {
      "application/vnd.jupyter.widget-view+json": {
       "model_id": "",
       "version_major": 2,
       "version_minor": 0
      },
      "text/plain": [
       "FloatProgress(value=0.0, bar_style='info', description='Progress:', layout=Layout(height='25px', width='50%'),…"
      ]
     },
     "metadata": {},
     "output_type": "display_data"
    },
    {
     "name": "stdout",
     "output_type": "stream",
     "text": [
      "root\n",
      " |-- SOURCE PLATFORM CD: string (nullable = true)\n",
      " |-- SOURCE CLAIM NBR: string (nullable = true)\n",
      " |-- SOURCE CLAIM SUFFIX: string (nullable = true)\n",
      " |-- SOURCE LINE ID: string (nullable = true)\n",
      " |-- SOURCE LINE SUFFIX: string (nullable = true)\n",
      " |-- PYMT CATEGORY CD: string (nullable = true)\n",
      " |-- DENIED EXPLANATION CD: string (nullable = true)\n",
      " |-- SOURCE MEMBER ID: string (nullable = true)\n",
      " |-- MEMBER KEY: string (nullable = true)\n",
      " |-- MEMBER AGE: string (nullable = true)\n",
      " |-- SOURCE AUTHORIZATION KEY: string (nullable = true)\n",
      " |-- PLAN GEN KEY: string (nullable = true)\n",
      " |-- CLAIM FORM TYPE CD: string (nullable = true)\n",
      " |-- PAID DATE SKEY: string (nullable = true)\n",
      " |-- SERVICE FROM DATE SKEY: string (nullable = true)\n",
      " |-- SERVICE TO DATE SKEY: string (nullable = true)\n",
      " |-- CLAIM RECEIPT DATE SKEY: string (nullable = true)\n",
      " |-- BILL TYPE CD: string (nullable = true)\n",
      " |-- PLACE OF TREATMENT CD: string (nullable = true)\n",
      " |-- SOURCE ADMIT DATE SKEY: string (nullable = true)\n",
      " |-- ADMIT TYPE CD: string (nullable = true)\n",
      " |-- ADMIT SOURCE CD: string (nullable = true)\n",
      " |-- SOURCE DISCHARGE DATE SKEY: string (nullable = true)\n",
      " |-- DISCHARGE STATUS CD: string (nullable = true)\n",
      " |-- BILLING SOURCE PROVIDER KEY: string (nullable = true)\n",
      " |-- BILLING NATIONAL PROVIDER ID: string (nullable = true)\n",
      " |-- PAY TO SOURCE PROVIDER KEY: string (nullable = true)\n",
      " |-- PAY TO NATIONAL PROVIDER ID: string (nullable = true)\n",
      " |-- RENDERING SOURCE PROVIDER KEY: string (nullable = true)\n",
      " |-- RAW CLAIM RENDERING PROVIDER NPI ID: string (nullable = true)\n",
      " |-- ATTENDING SOURCE PROVIDER KEY: string (nullable = true)\n",
      " |-- RAW CLAIM ATTENDING PROVIDER NPI ID: string (nullable = true)\n",
      " |-- SERVICE FACILITY SOURCE PROVIDER KEY: string (nullable = true)\n",
      " |-- RAW CLAIM SERVICE FACILITY PROVIDER NPI ID: string (nullable = true)\n",
      " |-- REFERRING SOURCE PROVIDER 1 KEY: string (nullable = true)\n",
      " |-- RAW CLAIM REFERRING PROVIDER 1 NPI ID: string (nullable = true)\n",
      " |-- OPERATING PHYSICIAN SOURCE PROVIDER KEY: string (nullable = true)\n",
      " |-- PROVIDER RAW CLAIM OPERATING PHYSICIAN NPI ID: string (nullable = true)\n",
      " |-- PROVIDER TAX ID: string (nullable = true)\n",
      " |-- MEMBER NETWORK ID: string (nullable = true)\n",
      " |-- SOURCE NETWORK ID: string (nullable = true)\n",
      " |-- CIS CONTRACT ID: string (nullable = true)\n",
      " |-- CIS CONTRACT LINE NBR: string (nullable = true)\n",
      " |-- SOURCE CONTRACT PAR CD: string (nullable = true)\n",
      " |-- CLAIM BENEFIT PAR CATEGORY CD: string (nullable = true)\n",
      " |-- LOGICAL CLAIM RESTATEMENT TREND CATEGORY CD: string (nullable = true)\n",
      " |-- LOGICAL CLAIM RESTATEMENT TREND CATEGORY DESCRIPTION: string (nullable = true)\n",
      " |-- LOGICAL CLAIM RESTATEMENT FINANCIAL CATEGORY CD: string (nullable = true)\n",
      " |-- LOGICAL CLAIM RESTATEMENT FINANCIAL CATEGORY DESCRIPTION: string (nullable = true)\n",
      " |-- LOGICAL CLAIM RESTATEMENT CATEGORY CD: string (nullable = true)\n",
      " |-- LOGICAL CLAIM RESTATEMENT CATEGORY DESCRIPTION: string (nullable = true)\n",
      " |-- LOGICAL CLAIM RESTATEMENT GROUP LINE CD: string (nullable = true)\n",
      " |-- LOGICAL CLAIM RESTATEMENT GROUP LINE DESCRIPTION: string (nullable = true)\n",
      " |-- BEHAVIORAL HEALTH VENDOR CD: string (nullable = true)\n",
      " |-- ADMITTING DIAG CD: string (nullable = true)\n",
      " |-- CAUSE SUB CD: string (nullable = true)\n",
      " |-- ICD SOURCE VERSION CD: string (nullable = true)\n",
      " |-- PRIMARY DIAG CD: string (nullable = true)\n",
      " |-- PRIMARY DIAG POA CD: string (nullable = true)\n",
      " |-- DIAG CD 2: string (nullable = true)\n",
      " |-- DIAG CD 2 POA CD: string (nullable = true)\n",
      " |-- DIAG CD 3: string (nullable = true)\n",
      " |-- DIAG CD 3 POA CD: string (nullable = true)\n",
      " |-- DIAG CD 4: string (nullable = true)\n",
      " |-- DIAG CD 4 POA CD: string (nullable = true)\n",
      " |-- DIAG CD 5: string (nullable = true)\n",
      " |-- DIAG CD 5 POA CD: string (nullable = true)\n",
      " |-- DIAG CD 6: string (nullable = true)\n",
      " |-- DIAG CD 6 POA CD: string (nullable = true)\n",
      " |-- DIAG CD 7: string (nullable = true)\n",
      " |-- DIAG CD 7 POA CD: string (nullable = true)\n",
      " |-- DIAG CD 8: string (nullable = true)\n",
      " |-- DIAG CD 8 POA CD: string (nullable = true)\n",
      " |-- DIAG CD 9: string (nullable = true)\n",
      " |-- DIAG CD 9 POA CD: string (nullable = true)\n",
      " |-- DIAG CD 10: string (nullable = true)\n",
      " |-- DIAG CD 10 POA CD: string (nullable = true)\n",
      " |-- DIAG CD 11: string (nullable = true)\n",
      " |-- DIAG CD 11 POA CD: string (nullable = true)\n",
      " |-- DIAG CD 12: string (nullable = true)\n",
      " |-- DIAG CD 12 POA CD: string (nullable = true)\n",
      " |-- DIAG CD 13: string (nullable = true)\n",
      " |-- DIAG CD 13 POA CD: string (nullable = true)\n",
      " |-- DIAG CD 14: string (nullable = true)\n",
      " |-- DIAG CD 14 POA CD: string (nullable = true)\n",
      " |-- DIAG CD 15: string (nullable = true)\n",
      " |-- DIAG CD 15 POA CD: string (nullable = true)\n",
      " |-- DIAG CD 16: string (nullable = true)\n",
      " |-- DIAG CD 16 POA CD: string (nullable = true)\n",
      " |-- DIAG CD 17: string (nullable = true)\n",
      " |-- DIAG CD 17 POA CD: string (nullable = true)\n",
      " |-- DIAG CD 18: string (nullable = true)\n",
      " |-- DIAG CD 18 POA CD: string (nullable = true)\n",
      " |-- DIAG CD 19: string (nullable = true)\n",
      " |-- DIAG CD 19 POA CD: string (nullable = true)\n",
      " |-- DIAG CD 20: string (nullable = true)\n",
      " |-- DIAG CD 20 POA CD: string (nullable = true)\n",
      " |-- DIAG CD 21: string (nullable = true)\n",
      " |-- DIAG CD 21 POA CD: string (nullable = true)\n",
      " |-- DIAG CD 22: string (nullable = true)\n",
      " |-- DIAG CD 22 POA CD: string (nullable = true)\n",
      " |-- DIAG CD 23: string (nullable = true)\n",
      " |-- DIAG CD 23 POA CD: string (nullable = true)\n",
      " |-- DIAG CD 24: string (nullable = true)\n",
      " |-- DIAG CD 24 POA CD: string (nullable = true)\n",
      " |-- DIAG CD 25: string (nullable = true)\n",
      " |-- DIAG CD 25 POA CD: string (nullable = true)\n",
      " |-- DIAG LINE POINTER NBR: string (nullable = true)\n",
      " |-- REVENUE CD: string (nullable = true)\n",
      " |-- HCPCS CPT4 BASE CD 1: string (nullable = true)\n",
      " |-- HCPCS CPT4 SUFFIX CD 1: string (nullable = true)\n",
      " |-- HCPCS CPT4 TYPE CD 1: string (nullable = true)\n",
      " |-- CPT MODIFIER CD: string (nullable = true)\n",
      " |-- CPT MODIFIER CD 2: string (nullable = true)\n",
      " |-- CPT MODIFIER CD 3: string (nullable = true)\n",
      " |-- CPT MODIFIER CD 4: string (nullable = true)\n",
      " |-- NATIONAL DRUG CD ID: string (nullable = true)\n",
      " |-- ICD PROCEDURE 01 CD: string (nullable = true)\n",
      " |-- ICD PROCEDURE 1 DATE: string (nullable = true)\n",
      " |-- ICD PROCEDURE 02 CD: string (nullable = true)\n",
      " |-- ICD PROCEDURE 03 CD: string (nullable = true)\n",
      " |-- ICD PROCEDURE 04 CD: string (nullable = true)\n",
      " |-- ICD PROCEDURE 05 CD: string (nullable = true)\n",
      " |-- ICD PROCEDURE 06 CD: string (nullable = true)\n",
      " |-- ICD PROCEDURE 07 CD: string (nullable = true)\n",
      " |-- ICD PROCEDURE 08 CD: string (nullable = true)\n",
      " |-- ICD PROCEDURE 09 CD: string (nullable = true)\n",
      " |-- ICD PROCEDURE 10 CD: string (nullable = true)\n",
      " |-- ICD PROCEDURE 11 CD: string (nullable = true)\n",
      " |-- ICD PROCEDURE 12 CD: string (nullable = true)\n",
      " |-- ICD PROCEDURE 13 CD: string (nullable = true)\n",
      " |-- ICD PROCEDURE 14 CD: string (nullable = true)\n",
      " |-- ICD PROCEDURE 15 CD: string (nullable = true)\n",
      " |-- ICD PROCEDURE 16 CD: string (nullable = true)\n",
      " |-- ICD PROCEDURE 17 CD: string (nullable = true)\n",
      " |-- ICD PROCEDURE 18 CD: string (nullable = true)\n",
      " |-- ICD PROCEDURE 19 CD: string (nullable = true)\n",
      " |-- ICD PROCEDURE 20 CD: string (nullable = true)\n",
      " |-- ICD PROCEDURE 21 CD: string (nullable = true)\n",
      " |-- ICD PROCEDURE 22 CD: string (nullable = true)\n",
      " |-- ICD PROCEDURE 23 CD: string (nullable = true)\n",
      " |-- ICD PROCEDURE 24 CD: string (nullable = true)\n",
      " |-- ICD PROCEDURE 25 CD: string (nullable = true)\n",
      " |-- DRG STANDARD CD: string (nullable = true)\n",
      " |-- RELATIVE WEIGHT NBR: string (nullable = true)\n",
      " |-- CONTRACT METHOD OF PYMT CD: string (nullable = true)\n",
      " |-- IN PLAN NETWORK IND: string (nullable = true)\n",
      " |-- SERVICE UNIT CNT: string (nullable = true)\n",
      " |-- ALLOWED EXCL COB DAYS CNT: string (nullable = true)\n",
      " |-- EXCL DAYS CNT: string (nullable = true)\n",
      " |-- CHARGE AMT: string (nullable = true)\n",
      " |-- NET PAID AMT: string (nullable = true)\n",
      " |-- PYMT REDUCTION AMT: string (nullable = true)\n",
      " |-- ALLOWED INCL MEMBER COST SHARE AMT: string (nullable = true)\n",
      " |-- INTEREST PENALTY AMT: string (nullable = true)\n",
      " |-- COB PAID AMT: string (nullable = true)\n",
      " |-- DEDUCTIBLE AMT: string (nullable = true)\n",
      " |-- COPAY AMT: string (nullable = true)\n",
      " |-- COINSURANCE AMT: string (nullable = true)\n",
      "\n",
      "Operation took 11.189860632 seconds\n",
      "df_claim: org.apache.spark.sql.DataFrame = [SOURCE PLATFORM CD: string, SOURCE CLAIM NBR: string ... 157 more fields]\n"
     ]
    }
   ],
   "source": [
    "val df_claim = withTimeChecker { () => \n",
    "    val name = \"HUMANA_MEDCLAIM_201811.txt\"\n",
    "    val input_path = \"s3a://sagemaker-coherehealth-1/\"\n",
    "    val df = spark.read.option(\"delimiter\", \"|\").option(\"header\", true).csv(input_path + name)\n",
    "    df.printSchema()\n",
    "    df\n",
    "}.asInstanceOf[DataFrame]"
   ]
  },
  {
   "cell_type": "code",
   "execution_count": 6,
   "id": "97907b24",
   "metadata": {},
   "outputs": [
    {
     "data": {
      "application/vnd.jupyter.widget-view+json": {
       "model_id": "fd959d9c4e284aba984e77e392f493f1",
       "version_major": 2,
       "version_minor": 0
      },
      "text/plain": [
       "VBox()"
      ]
     },
     "metadata": {},
     "output_type": "display_data"
    },
    {
     "data": {
      "application/vnd.jupyter.widget-view+json": {
       "model_id": "",
       "version_major": 2,
       "version_minor": 0
      },
      "text/plain": [
       "FloatProgress(value=0.0, bar_style='info', description='Progress:', layout=Layout(height='25px', width='50%'),…"
      ]
     },
     "metadata": {},
     "output_type": "display_data"
    },
    {
     "name": "stdout",
     "output_type": "stream",
     "text": [
      "Operation took 300.827214838 seconds\n",
      "result: com.amazon.deequ.profiles.ColumnProfiles = ColumnProfiles(Map(ICD SOURCE VERSION CD -> NumericColumnProfile(ICD SOURCE VERSION CD,1.0,1,Integral,true,Map(Boolean -> 0, Fractional -> 0, Integral -> 10367753, Unknown -> 0, String -> 0),Some(Distribution(Map(10 -> DistributionValue(10367753,1.0)),1)),None,Some(10.0),Some(10.0),Some(10.0),Some(1.0367753E8),Some(0.0),None), ICD PROCEDURE 09 CD -> StandardColumnProfile(ICD PROCEDURE 09 CD,6.248219840885484E-4,108,String,true,Map(Boolean -> 0, Fractional -> 40, Integral -> 0, Unknown -> 10361275, String -> 6438),Some(Distribution(Map(30233N1 -> DistributionValue(417,4.02208656012542E-5), 5A1221Z -> DistributionValue(40,3.858116604436853E-6), 0DU407Z -> DistributionValue(1,9.645291511092134E-8), 0CDWXZ2 -> DistributionValue(99,9.5488385...\n"
     ]
    }
   ],
   "source": [
    "val result = withTimeChecker {() => \n",
    "    ColumnProfilerRunner().\n",
    "      onData(df_claim).\n",
    "      run()\n",
    "}.asInstanceOf[ColumnProfiles]"
   ]
  },
  {
   "cell_type": "code",
   "execution_count": 7,
   "id": "10ad0638",
   "metadata": {},
   "outputs": [
    {
     "data": {
      "application/vnd.jupyter.widget-view+json": {
       "model_id": "035087fcf080448985091d5956b74563",
       "version_major": 2,
       "version_minor": 0
      },
      "text/plain": [
       "VBox()"
      ]
     },
     "metadata": {},
     "output_type": "display_data"
    },
    {
     "data": {
      "application/vnd.jupyter.widget-view+json": {
       "model_id": "",
       "version_major": 2,
       "version_minor": 0
      },
      "text/plain": [
       "FloatProgress(value=0.0, bar_style='info', description='Progress:', layout=Layout(height='25px', width='50%'),…"
      ]
     },
     "metadata": {},
     "output_type": "display_data"
    },
    {
     "name": "stdout",
     "output_type": "stream",
     "text": [
      "defined object Category\n",
      "defined class Profile\n",
      "defined class Coverage\n",
      "defined object Coverage\n",
      "warning: previously defined class Coverage is not a companion to object Coverage.\n",
      "Companions must be defined together; you may wish to use :paste mode for this.\n",
      "Categorize: (items: Iterable[Profile])Coverage\n"
     ]
    }
   ],
   "source": [
    "object Category extends Enumeration {\n",
    "    type Category = Value\n",
    "    val full = Value(\"full\")\n",
    "    val high = Value(\"High\")\n",
    "    val med = Value(\"Medium\")\n",
    "    val low = Value(\"Low\")\n",
    "    val rare= Value(\"Rare\")\n",
    "}\n",
    "\n",
    "case class Profile(column: String, profile: ColumnProfile){\n",
    "    def getCategory(): Category.Value = {\n",
    "        this.profile.completeness match {\n",
    "            case x if x > 0.999 => Category.full\n",
    "            case x if x > 0.85 => Category.high\n",
    "            case x if x > 0.35 => Category.med\n",
    "            case x if x > 0.01 => Category.low\n",
    "            case _ => Category.rare\n",
    "        }\n",
    "    }\n",
    "}\n",
    "\n",
    "case class Coverage(full: List[Profile], high: List[Profile], med: List[Profile], low: List[Profile], rare:List[Profile]) {\n",
    "    def this() = this(List[Profile](), List[Profile](), List[Profile](), List[Profile](), List[Profile]())\n",
    "    def +(other: Coverage) = Coverage(this.full ++ other.full, this.high ++ other.high, this.med ++ other.med, this.low ++ other.low, this.rare ++ other.rare)\n",
    "}\n",
    "\n",
    "object Coverage {\n",
    "    def byCategory(item: Profile) = {\n",
    "        item.getCategory match {\n",
    "            case Category.full => new Coverage(List[Profile](item), List[Profile](), List[Profile](), List[Profile](), List[Profile]())\n",
    "            case Category.high => new Coverage(List[Profile](), List[Profile](item), List[Profile](), List[Profile](), List[Profile]())\n",
    "            case Category.med => new Coverage(List[Profile](), List[Profile](), List[Profile](item), List[Profile](), List[Profile]())\n",
    "            case Category.low => new Coverage(List[Profile](), List[Profile](), List[Profile](), List[Profile](item), List[Profile]())\n",
    "            case Category.rare => new Coverage(List[Profile](), List[Profile](), List[Profile](), List[Profile](), List[Profile](item))\n",
    "        }\n",
    "    }\n",
    "}\n",
    "\n",
    "def Categorize(items: Iterable[Profile]): Coverage = {\n",
    "    if(items.isEmpty) {\n",
    "        return new Coverage()\n",
    "    }\n",
    "    val head::tail = items\n",
    "    Coverage.byCategory(head)+ Categorize(tail)\n",
    "}"
   ]
  },
  {
   "cell_type": "code",
   "execution_count": 8,
   "id": "49ccf5c3",
   "metadata": {},
   "outputs": [
    {
     "data": {
      "application/vnd.jupyter.widget-view+json": {
       "model_id": "9c2543adee934111af5446f69932e86d",
       "version_major": 2,
       "version_minor": 0
      },
      "text/plain": [
       "VBox()"
      ]
     },
     "metadata": {},
     "output_type": "display_data"
    },
    {
     "data": {
      "application/vnd.jupyter.widget-view+json": {
       "model_id": "",
       "version_major": 2,
       "version_minor": 0
      },
      "text/plain": [
       "FloatProgress(value=0.0, bar_style='info', description='Progress:', layout=Layout(height='25px', width='50%'),…"
      ]
     },
     "metadata": {},
     "output_type": "display_data"
    },
    {
     "name": "stdout",
     "output_type": "stream",
     "text": [
      "Coverages: Coverage = Coverage(List(Profile(ICD SOURCE VERSION CD,NumericColumnProfile(ICD SOURCE VERSION CD,1.0,1,Integral,true,Map(Boolean -> 0, Fractional -> 0, Integral -> 10367753, Unknown -> 0, String -> 0),Some(Distribution(Map(10 -> DistributionValue(10367753,1.0)),1)),None,Some(10.0),Some(10.0),Some(10.0),Some(1.0367753E8),Some(0.0),None)), Profile(SOURCE MEMBER ID,NumericColumnProfile(SOURCE MEMBER ID,1.0,1068130,Integral,true,Map(Boolean -> 0, Fractional -> 0, Integral -> 10367753, Unknown -> 0, String -> 0),None,None,Some(1.9814943674434142E9),Some(9.9997176201E10),Some(14.0),Some(2.054364417254456E16),Some(7.028537075214638E9),None)), Profile(LOGICAL CLAIM RESTATEMENT FINANCIAL CATEGORY CD,StandardColumnProfile(LOGICAL CLAIM RESTATEMENT FINANCIAL CATEGORY CD,1.0,16,String,t...\n"
     ]
    }
   ],
   "source": [
    "val Coverages = Categorize(result.profiles.map( e => Profile(e._1, e._2)))"
   ]
  },
  {
   "cell_type": "code",
   "execution_count": 9,
   "id": "712c5888",
   "metadata": {},
   "outputs": [
    {
     "data": {
      "application/vnd.jupyter.widget-view+json": {
       "model_id": "e73682d6a7d249c98433858295cddea3",
       "version_major": 2,
       "version_minor": 0
      },
      "text/plain": [
       "VBox()"
      ]
     },
     "metadata": {},
     "output_type": "display_data"
    },
    {
     "data": {
      "application/vnd.jupyter.widget-view+json": {
       "model_id": "",
       "version_major": 2,
       "version_minor": 0
      },
      "text/plain": [
       "FloatProgress(value=0.0, bar_style='info', description='Progress:', layout=Layout(height='25px', width='50%'),…"
      ]
     },
     "metadata": {},
     "output_type": "display_data"
    },
    {
     "name": "stdout",
     "output_type": "stream",
     "text": [
      "/n ************* Full Coverage Columns *******************\n",
      "ICD SOURCE VERSION CD: 1 Distinct Values\n",
      "SOURCE MEMBER ID: 1068130 Distinct Values\n",
      "LOGICAL CLAIM RESTATEMENT FINANCIAL CATEGORY CD: 16 Distinct Values\n",
      "PLAN GEN KEY: 5681 Distinct Values\n",
      "COB PAID AMT: 9631 Distinct Values\n",
      "SERVICE TO DATE SKEY: 121 Distinct Values\n",
      "PRIMARY DIAG CD: 20716 Distinct Values\n",
      "MEMBER KEY: 983795 Distinct Values\n",
      "SERVICE UNIT CNT: 5572 Distinct Values\n",
      "SOURCE CLAIM NBR: 3668963 Distinct Values\n",
      "PYMT REDUCTION AMT: 43860 Distinct Values\n",
      "LOGICAL CLAIM RESTATEMENT TREND CATEGORY DESCRIPTION: 7 Distinct Values\n",
      "PAID DATE SKEY: 697 Distinct Values\n",
      "SOURCE LINE ID: 316 Distinct Values\n",
      "EXCL DAYS CNT: 53 Distinct Values\n",
      "LOGICAL CLAIM RESTATEMENT FINANCIAL CATEGORY DESCRIPTION: 16 Distinct Values\n",
      "SOURCE NETWORK ID: 219 Distinct Values\n",
      "CHARGE AMT: 281515 Distinct Values\n",
      "PLACE OF TREATMENT CD: 44 Distinct Values\n",
      "DIAG LINE POINTER NBR: 10 Distinct Values\n",
      "SOURCE LINE SUFFIX: 5004489 Distinct Values\n",
      "COPAY AMT: 21185 Distinct Values\n",
      "INTEREST PENALTY AMT: 695 Distinct Values\n",
      "DEDUCTIBLE AMT: 35379 Distinct Values\n",
      "ALLOWED EXCL COB DAYS CNT: 128 Distinct Values\n",
      "CLAIM FORM TYPE CD: 2 Distinct Values\n",
      "CIS CONTRACT ID: 28096 Distinct Values\n",
      "RELATIVE WEIGHT NBR: 696 Distinct Values\n",
      "PAY TO SOURCE PROVIDER KEY: 33515 Distinct Values\n",
      "SOURCE PLATFORM CD: 2 Distinct Values\n",
      "LOGICAL CLAIM RESTATEMENT GROUP LINE CD: 105 Distinct Values\n",
      "SOURCE ADMIT DATE SKEY: 1171 Distinct Values\n",
      "PYMT CATEGORY CD: 1 Distinct Values\n",
      "BILLING SOURCE PROVIDER KEY: 285857 Distinct Values\n",
      "CLAIM RECEIPT DATE SKEY: 606 Distinct Values\n",
      "IN PLAN NETWORK IND: 2 Distinct Values\n",
      "PROVIDER TAX ID: 69881 Distinct Values\n",
      "NET PAID AMT: 243117 Distinct Values\n",
      "COINSURANCE AMT: 36065 Distinct Values\n",
      "SOURCE DISCHARGE DATE SKEY: 111 Distinct Values\n",
      "ALLOWED INCL MEMBER COST SHARE AMT: 221846 Distinct Values\n",
      "LOGICAL CLAIM RESTATEMENT CATEGORY DESCRIPTION: 32 Distinct Values\n",
      "CLAIM BENEFIT PAR CATEGORY CD: 2 Distinct Values\n",
      "SERVICE FROM DATE SKEY: 31 Distinct Values\n",
      "LOGICAL CLAIM RESTATEMENT CATEGORY CD: 32 Distinct Values\n",
      "LOGICAL CLAIM RESTATEMENT TREND CATEGORY CD: 7 Distinct Values\n",
      "MEMBER AGE: 116 Distinct Values\n",
      "CIS CONTRACT LINE NBR: 2283 Distinct Values\n",
      "DRG STANDARD CD: 734 Distinct Values\n",
      "LOGICAL CLAIM RESTATEMENT GROUP LINE DESCRIPTION: 115 Distinct Values\n",
      "res6: List[Unit] = List((), (), (), (), (), (), (), (), (), (), (), (), (), (), (), (), (), (), (), (), (), (), (), (), (), (), (), (), (), (), (), (), (), (), (), (), (), (), (), (), (), (), (), (), (), (), (), (), (), ())\n"
     ]
    }
   ],
   "source": [
    "println(\"/n ************* Full Coverage Columns *******************\")\n",
    "Coverages.full.map(p => println (s\"${p.column}: ${p.profile.approximateNumDistinctValues} Distinct Values\"))"
   ]
  },
  {
   "cell_type": "code",
   "execution_count": 11,
   "id": "84dfce41",
   "metadata": {},
   "outputs": [
    {
     "data": {
      "application/vnd.jupyter.widget-view+json": {
       "model_id": "8d095d64dd524f7ca8ff17b79e85278b",
       "version_major": 2,
       "version_minor": 0
      },
      "text/plain": [
       "VBox()"
      ]
     },
     "metadata": {},
     "output_type": "display_data"
    },
    {
     "data": {
      "application/vnd.jupyter.widget-view+json": {
       "model_id": "",
       "version_major": 2,
       "version_minor": 0
      },
      "text/plain": [
       "FloatProgress(value=0.0, bar_style='info', description='Progress:', layout=Layout(height='25px', width='50%'),…"
      ]
     },
     "metadata": {},
     "output_type": "display_data"
    },
    {
     "name": "stdout",
     "output_type": "stream",
     "text": [
      "**** Member Age ****\n",
      "\t**Statistics\n",
      "\tminimum: 1.0\n",
      "\tmaximum: 4.5570039643E10\n",
      "\tmean: 3.611826771526086E10\n",
      "\tstandard deviation: 4.360883291049699E9\n",
      "\n"
     ]
    }
   ],
   "source": [
    "Coverages.full.filter(p => p.column == \"MEMBER KEY\").map(p => p.profile.asInstanceOf[NumericColumnProfile]).foreach { p =>\n",
    "    println(\"**** Member Age ****\")\n",
    "    println(s\"\\t**Statistics\\n\" +\n",
    "      s\"\\tminimum: ${p.minimum.get}\\n\" +\n",
    "      s\"\\tmaximum: ${p.maximum.get}\\n\" +\n",
    "      s\"\\tmean: ${p.mean.get}\\n\" +\n",
    "      s\"\\tstandard deviation: ${p.stdDev.get}\\n\"\n",
    "    )\n",
    "}"
   ]
  },
  {
   "cell_type": "code",
   "execution_count": 19,
   "id": "45220709",
   "metadata": {},
   "outputs": [
    {
     "data": {
      "application/vnd.jupyter.widget-view+json": {
       "model_id": "965cfa34db17421f86ee6398186d8d93",
       "version_major": 2,
       "version_minor": 0
      },
      "text/plain": [
       "VBox()"
      ]
     },
     "metadata": {},
     "output_type": "display_data"
    },
    {
     "data": {
      "application/vnd.jupyter.widget-view+json": {
       "model_id": "",
       "version_major": 2,
       "version_minor": 0
      },
      "text/plain": [
       "FloatProgress(value=0.0, bar_style='info', description='Progress:', layout=Layout(height='25px', width='50%'),…"
      ]
     },
     "metadata": {},
     "output_type": "display_data"
    },
    {
     "name": "stdout",
     "output_type": "stream",
     "text": [
      "+------------------+----------------+--------------------+--------------+------------------+----------------+---------------------+----------------+----------+----------+------------------------+-------------+------------------+--------------+----------------------+--------------------+-----------------------+------------+---------------------+----------------------+-------------+---------------+--------------------------+-------------------+---------------------------+----------------------------+--------------------------+---------------------------+-----------------------------+-----------------------------------+-----------------------------+-----------------------------------+------------------------------------+------------------------------------------+-------------------------------+-------------------------------------+---------------------------------------+---------------------------------------------+---------------+-----------------+-----------------+---------------+---------------------+----------------------+-----------------------------+-------------------------------------------+----------------------------------------------------+-----------------------------------------------+--------------------------------------------------------+-------------------------------------+----------------------------------------------+---------------------------------------+------------------------------------------------+---------------------------+-----------------+------------+---------------------+---------------+-------------------+---------+----------------+---------+----------------+---------+----------------+---------+----------------+---------+----------------+---------+----------------+---------+----------------+---------+----------------+----------+-----------------+----------+-----------------+----------+-----------------+----------+-----------------+----------+-----------------+----------+-----------------+----------+-----------------+----------+-----------------+----------+-----------------+----------+-----------------+----------+-----------------+----------+-----------------+----------+-----------------+----------+-----------------+----------+-----------------+----------+-----------------+---------------------+----------+--------------------+----------------------+--------------------+---------------+-----------------+-----------------+-----------------+-------------------+-------------------+--------------------+-------------------+-------------------+-------------------+-------------------+-------------------+-------------------+-------------------+-------------------+-------------------+-------------------+-------------------+-------------------+-------------------+-------------------+-------------------+-------------------+-------------------+-------------------+-------------------+-------------------+-------------------+-------------------+-------------------+-------------------+---------------+-------------------+--------------------------+-------------------+----------------+-------------------------+-------------+----------+------------+------------------+----------------------------------+--------------------+------------+--------------+---------+---------------+\n",
      "|SOURCE PLATFORM CD|SOURCE CLAIM NBR| SOURCE CLAIM SUFFIX|SOURCE LINE ID|SOURCE LINE SUFFIX|PYMT CATEGORY CD|DENIED EXPLANATION CD|SOURCE MEMBER ID|MEMBER KEY|MEMBER AGE|SOURCE AUTHORIZATION KEY| PLAN GEN KEY|CLAIM FORM TYPE CD|PAID DATE SKEY|SERVICE FROM DATE SKEY|SERVICE TO DATE SKEY|CLAIM RECEIPT DATE SKEY|BILL TYPE CD|PLACE OF TREATMENT CD|SOURCE ADMIT DATE SKEY|ADMIT TYPE CD|ADMIT SOURCE CD|SOURCE DISCHARGE DATE SKEY|DISCHARGE STATUS CD|BILLING SOURCE PROVIDER KEY|BILLING NATIONAL PROVIDER ID|PAY TO SOURCE PROVIDER KEY|PAY TO NATIONAL PROVIDER ID|RENDERING SOURCE PROVIDER KEY|RAW CLAIM RENDERING PROVIDER NPI ID|ATTENDING SOURCE PROVIDER KEY|RAW CLAIM ATTENDING PROVIDER NPI ID|SERVICE FACILITY SOURCE PROVIDER KEY|RAW CLAIM SERVICE FACILITY PROVIDER NPI ID|REFERRING SOURCE PROVIDER 1 KEY|RAW CLAIM REFERRING PROVIDER 1 NPI ID|OPERATING PHYSICIAN SOURCE PROVIDER KEY|PROVIDER RAW CLAIM OPERATING PHYSICIAN NPI ID|PROVIDER TAX ID|MEMBER NETWORK ID|SOURCE NETWORK ID|CIS CONTRACT ID|CIS CONTRACT LINE NBR|SOURCE CONTRACT PAR CD|CLAIM BENEFIT PAR CATEGORY CD|LOGICAL CLAIM RESTATEMENT TREND CATEGORY CD|LOGICAL CLAIM RESTATEMENT TREND CATEGORY DESCRIPTION|LOGICAL CLAIM RESTATEMENT FINANCIAL CATEGORY CD|LOGICAL CLAIM RESTATEMENT FINANCIAL CATEGORY DESCRIPTION|LOGICAL CLAIM RESTATEMENT CATEGORY CD|LOGICAL CLAIM RESTATEMENT CATEGORY DESCRIPTION|LOGICAL CLAIM RESTATEMENT GROUP LINE CD|LOGICAL CLAIM RESTATEMENT GROUP LINE DESCRIPTION|BEHAVIORAL HEALTH VENDOR CD|ADMITTING DIAG CD|CAUSE SUB CD|ICD SOURCE VERSION CD|PRIMARY DIAG CD|PRIMARY DIAG POA CD|DIAG CD 2|DIAG CD 2 POA CD|DIAG CD 3|DIAG CD 3 POA CD|DIAG CD 4|DIAG CD 4 POA CD|DIAG CD 5|DIAG CD 5 POA CD|DIAG CD 6|DIAG CD 6 POA CD|DIAG CD 7|DIAG CD 7 POA CD|DIAG CD 8|DIAG CD 8 POA CD|DIAG CD 9|DIAG CD 9 POA CD|DIAG CD 10|DIAG CD 10 POA CD|DIAG CD 11|DIAG CD 11 POA CD|DIAG CD 12|DIAG CD 12 POA CD|DIAG CD 13|DIAG CD 13 POA CD|DIAG CD 14|DIAG CD 14 POA CD|DIAG CD 15|DIAG CD 15 POA CD|DIAG CD 16|DIAG CD 16 POA CD|DIAG CD 17|DIAG CD 17 POA CD|DIAG CD 18|DIAG CD 18 POA CD|DIAG CD 19|DIAG CD 19 POA CD|DIAG CD 20|DIAG CD 20 POA CD|DIAG CD 21|DIAG CD 21 POA CD|DIAG CD 22|DIAG CD 22 POA CD|DIAG CD 23|DIAG CD 23 POA CD|DIAG CD 24|DIAG CD 24 POA CD|DIAG CD 25|DIAG CD 25 POA CD|DIAG LINE POINTER NBR|REVENUE CD|HCPCS CPT4 BASE CD 1|HCPCS CPT4 SUFFIX CD 1|HCPCS CPT4 TYPE CD 1|CPT MODIFIER CD|CPT MODIFIER CD 2|CPT MODIFIER CD 3|CPT MODIFIER CD 4|NATIONAL DRUG CD ID|ICD PROCEDURE 01 CD|ICD PROCEDURE 1 DATE|ICD PROCEDURE 02 CD|ICD PROCEDURE 03 CD|ICD PROCEDURE 04 CD|ICD PROCEDURE 05 CD|ICD PROCEDURE 06 CD|ICD PROCEDURE 07 CD|ICD PROCEDURE 08 CD|ICD PROCEDURE 09 CD|ICD PROCEDURE 10 CD|ICD PROCEDURE 11 CD|ICD PROCEDURE 12 CD|ICD PROCEDURE 13 CD|ICD PROCEDURE 14 CD|ICD PROCEDURE 15 CD|ICD PROCEDURE 16 CD|ICD PROCEDURE 17 CD|ICD PROCEDURE 18 CD|ICD PROCEDURE 19 CD|ICD PROCEDURE 20 CD|ICD PROCEDURE 21 CD|ICD PROCEDURE 22 CD|ICD PROCEDURE 23 CD|ICD PROCEDURE 24 CD|ICD PROCEDURE 25 CD|DRG STANDARD CD|RELATIVE WEIGHT NBR|CONTRACT METHOD OF PYMT CD|IN PLAN NETWORK IND|SERVICE UNIT CNT|ALLOWED EXCL COB DAYS CNT|EXCL DAYS CNT|CHARGE AMT|NET PAID AMT|PYMT REDUCTION AMT|ALLOWED INCL MEMBER COST SHARE AMT|INTEREST PENALTY AMT|COB PAID AMT|DEDUCTIBLE AMT|COPAY AMT|COINSURANCE AMT|\n",
      "+------------------+----------------+--------------------+--------------+------------------+----------------+---------------------+----------------+----------+----------+------------------------+-------------+------------------+--------------+----------------------+--------------------+-----------------------+------------+---------------------+----------------------+-------------+---------------+--------------------------+-------------------+---------------------------+----------------------------+--------------------------+---------------------------+-----------------------------+-----------------------------------+-----------------------------+-----------------------------------+------------------------------------+------------------------------------------+-------------------------------+-------------------------------------+---------------------------------------+---------------------------------------------+---------------+-----------------+-----------------+---------------+---------------------+----------------------+-----------------------------+-------------------------------------------+----------------------------------------------------+-----------------------------------------------+--------------------------------------------------------+-------------------------------------+----------------------------------------------+---------------------------------------+------------------------------------------------+---------------------------+-----------------+------------+---------------------+---------------+-------------------+---------+----------------+---------+----------------+---------+----------------+---------+----------------+---------+----------------+---------+----------------+---------+----------------+---------+----------------+----------+-----------------+----------+-----------------+----------+-----------------+----------+-----------------+----------+-----------------+----------+-----------------+----------+-----------------+----------+-----------------+----------+-----------------+----------+-----------------+----------+-----------------+----------+-----------------+----------+-----------------+----------+-----------------+----------+-----------------+----------+-----------------+---------------------+----------+--------------------+----------------------+--------------------+---------------+-----------------+-----------------+-----------------+-------------------+-------------------+--------------------+-------------------+-------------------+-------------------+-------------------+-------------------+-------------------+-------------------+-------------------+-------------------+-------------------+-------------------+-------------------+-------------------+-------------------+-------------------+-------------------+-------------------+-------------------+-------------------+-------------------+-------------------+-------------------+-------------------+-------------------+---------------+-------------------+--------------------------+-------------------+----------------+-------------------------+-------------+----------+------------+------------------+----------------------------------+--------------------+------------+--------------+---------+---------------+\n",
      "|                LV| 820183330097915|58914891838 LARRY...|             1|  0201833403142499|               C|                  21Q|              14|         1|        71|                    null|3710004657786|                 A|      20181208|              20181126|            20181126|               20181129|        null|                   11|              19000101|         null|           null|                  19000101|                 00|                   15861586|                  1235198227|                        15|                 1235198227|                     22807315|                         1235198227|                            0|                               null|                                   0|                                      null|                        3275795|                           1437115375|                                      0|                                         null|      742996722|             null|           4030D3|       00133950|                00005|                  null|                            P|                                         PH|                                           PHYSICIAN|                                           PHSP|                                         PHYS SPECIALIST|                                 PHSP|                               PHYS SPECIALIST|                                   4120|                                  PHY OFFC VISIT|                       null|             null|        null|                   10|            C61|               null|     N132|            null|     N200|            null|     N201|            null|     null|            null|     null|            null|     null|            null|     null|            null|     null|            null|      null|             null|      null|             null|      null|             null|      null|             null|      null|             null|      null|             null|      null|             null|      null|             null|      null|             null|      null|             null|      null|             null|      null|             null|      null|             null|      null|             null|      null|             null|      null|             null|                    1|      null|               99214|                     C|                  CP|           null|             null|             null|             null|               null|               null|                null|               null|               null|               null|               null|               null|               null|               null|               null|               null|               null|               null|               null|               null|               null|               null|               null|               null|               null|               null|               null|               null|               null|               null|               null|           0000|                  0|                        PS|                  Y|               1|                        0|            0|    101.33|        55.2|              1.13|                            101.33|                   0|           0|             0|       45|              0|\n",
      "|                LV| 820183330097915|58914891838 LARRY...|             2|  0201833403142498|               C|                  21Q|              14|         1|        71|                    null|3710004657786|                 A|      20181208|              20181126|            20181126|               20181129|        null|                   11|              19000101|         null|           null|                  19000101|                 00|                   15861586|                  1235198227|                        15|                 1235198227|                     22807315|                         1235198227|                            0|                               null|                                   0|                                      null|                        3275795|                           1437115375|                                      0|                                         null|      742996722|             null|           4030D3|       00133950|                00005|                  null|                            P|                                         PH|                                           PHYSICIAN|                                           PHSP|                                         PHYS SPECIALIST|                                 PHSP|                               PHYS SPECIALIST|                                   4120|                                  PHY OFFC VISIT|                       null|             null|        null|                   10|            C61|               null|     N132|            null|     N200|            null|     N201|            null|     null|            null|     null|            null|     null|            null|     null|            null|     null|            null|      null|             null|      null|             null|      null|             null|      null|             null|      null|             null|      null|             null|      null|             null|      null|             null|      null|             null|      null|             null|      null|             null|      null|             null|      null|             null|      null|             null|      null|             null|      null|             null|                    1|      null|               81003|                     L|                  CP|             QW|             null|             null|             null|               null|               null|                null|               null|               null|               null|               null|               null|               null|               null|               null|               null|               null|               null|               null|               null|               null|               null|               null|               null|               null|               null|               null|               null|               null|               null|               null|           0000|                  0|                        PS|                  Y|               1|                        0|            0|      2.77|        2.71|               .06|                              2.77|                   0|           0|             0|        0|              0|\n",
      "|                LV| 820183330219276|589019812003ARGEL...|             1|  0201833403354399|               C|                  21Q|       240929403|         1|        71|                    null|5930004658486|                 A|      20181204|              20181115|            20181115|               20181127|        null|                   11|              19000101|         null|           null|                  19000101|                 00|                    3508191|                  1619086634|                        15|                 1619086634|                      4527837|                         1619086634|                            0|                               null|                            16319241|                                0000000000|                         276535|                           1437186129|                                      0|                                         null|      541119248|             null|           0000D3|       00131713|                00004|                  null|                            P|                                         PH|                                           PHYSICIAN|                                           PHSP|                                         PHYS SPECIALIST|                                 PHRS|                                PHYS SPEC DRUG|                                   3050|                                   PHY SPEC DRUG|                       null|             null|        null|                   10|        E113411|               null|     null|            null|     null|            null|     null|            null|     null|            null|     null|            null|     null|            null|     null|            null|     null|            null|      null|             null|      null|             null|      null|             null|      null|             null|      null|             null|      null|             null|      null|             null|      null|             null|      null|             null|      null|             null|      null|             null|      null|             null|      null|             null|      null|             null|      null|             null|      null|             null|                    1|      null|               J2778|                     I|                  HC|           null|             null|             null|             null|        50242008203|               null|                null|               null|               null|               null|               null|               null|               null|               null|               null|               null|               null|               null|               null|               null|               null|               null|               null|               null|               null|               null|               null|               null|               null|               null|               null|           0000|                  0|                        PS|                  Y|               3|                        0|            0|      1500|      878.14|             17.92|                           1120.08|                   0|           0|             0|        0|         224.02|\n",
      "|                LV| 820183330219276|589019812003ARGEL...|             2|  0201833403354398|               C|                  21Q|       240929403|         1|        71|                    null|5930004658486|                 A|      20181204|              20181115|            20181115|               20181127|        null|                   11|              19000101|         null|           null|                  19000101|                 00|                    3508191|                  1619086634|                        15|                 1619086634|                      4527837|                         1619086634|                            0|                               null|                            16319241|                                0000000000|                         276535|                           1437186129|                                      0|                                         null|      541119248|             null|           0000D3|       00131713|                00004|                  null|                            P|                                         PH|                                           PHYSICIAN|                                           PHSP|                                         PHYS SPECIALIST|                                 PHRS|                                PHYS SPEC DRUG|                                   3050|                                   PHY SPEC DRUG|                       null|             null|        null|                   10|        E113411|               null|     null|            null|     null|            null|     null|            null|     null|            null|     null|            null|     null|            null|     null|            null|     null|            null|      null|             null|      null|             null|      null|             null|      null|             null|      null|             null|      null|             null|      null|             null|      null|             null|      null|             null|      null|             null|      null|             null|      null|             null|      null|             null|      null|             null|      null|             null|      null|             null|                    1|      null|               67028|                     S|                  CP|             RT|             null|             null|             null|               null|               null|                null|               null|               null|               null|               null|               null|               null|               null|               null|               null|               null|               null|               null|               null|               null|               null|               null|               null|               null|               null|               null|               null|               null|               null|               null|           0000|                  0|                        PS|                  Y|               1|                        0|            0|       232|       62.08|              1.27|                            103.35|                   0|           0|             0|       40|              0|\n",
      "|                LV| 820183230164149|589956827609SPELL...|             1|  0201832405044899|               C|                  21Q|       806916583|         1|        80|                    null|9800004657988|                 A|      20181121|              20181113|            20181113|               20181119|        null|                   22|              19000101|         null|           null|                  19000101|                 00|                     182564|                  1538195664|                        15|                 1538195664|                     36636703|                         1538195664|                            0|                               null|                            12425637|                                1740230119|                        2550961|                           1609851641|                                      0|                                         null|      381405141|             null|           0000D3|       00138098|                00003|                  null|                            P|                                         PH|                                           PHYSICIAN|                                           PHSP|                                         PHYS SPECIALIST|                                 PHSP|                               PHYS SPECIALIST|                                   4050|                                 PHY DIAG CARDIO|                       null|             null|        null|                   10|         I25110|               null|     I130|            null|     N189|            null|     I509|            null|     null|            null|     null|            null|     null|            null|     null|            null|     null|            null|      null|             null|      null|             null|      null|             null|      null|             null|      null|             null|      null|             null|      null|             null|      null|             null|      null|             null|      null|             null|      null|             null|      null|             null|      null|             null|      null|             null|      null|             null|      null|             null|                    1|      null|               93010|                     O|                  CP|           null|             null|             null|             null|               null|               null|                null|               null|               null|               null|               null|               null|               null|               null|               null|               null|               null|               null|               null|               null|               null|               null|               null|               null|               null|               null|               null|               null|               null|               null|               null|           0000|                  0|                        PS|                  Y|               1|                        0|            0|        41|        8.68|               .18|                              8.86|                   0|           0|             0|        0|              0|\n",
      "|                LV| 820183450292212|58911117851 MARY ...|             3|  0201834604521197|               C|                  000|       501561242|         1|        68|                    null|7610004657286|                 H|      20181212|              20181116|            20181116|               20181211|         324|                   12|              20181101|            3|              1|                  19000101|                 01|                   16304474|                  1578588455|                        20|                 1578588455|                            0|                               null|                      1526349|                         1881634483|                                   0|                                      null|                              0|                                 null|                                      0|                                         null|      522069103|             null|          0000H32|       00242710|                00040|                  null|                            P|                                         AS|                                           ANCILLARY|                                           ASAN|                                          ANCIL SERVICES|                                 ASHH|                               ANCIL HOME HLTH|                                   3030|                                 ANCIL HOME HLTH|                       null|             E119|        null|                   10|           E119|               null|     Z794|            null|     I110|            null|     I509|            null|     G894|            null|     F329|            null|     F419|            null|    I2510|            null|     null|            null|      null|             null|      null|             null|      null|             null|      null|             null|      null|             null|      null|             null|      null|             null|      null|             null|      null|             null|      null|             null|      null|             null|      null|             null|      null|             null|      null|             null|      null|             null|      null|             null|                    1|      0421|               G0151|                  null|                  HC|           null|             null|             null|             null|               null|               null|                null|               null|               null|               null|               null|               null|               null|               null|               null|               null|               null|               null|               null|               null|               null|               null|               null|               null|               null|               null|               null|               null|               null|               null|               null|           0000|                  0|                        PV|                  Y|               1|                        0|            0|       225|         207|                 0|                               207|                   0|           0|             0|        0|              0|\n",
      "|                LV| 820183300231313|584168026692DAVID...|             1|  0201833103231799|               C|                  000|       810129504|         1|        64|                    null|3800004668289|                 A|      20181128|              20181121|            20181121|               20181126|        null|                   12|              19000101|         null|           null|                  19000101|                 00|                    8399781|                  1336234194|                        15|                 1336234194|                            0|                               null|                            0|                               null|                            61737657|                                      null|                       12698519|                           1063483378|                                      0|                                         null|      330057155|             null|           0241D3|       00041756|                00205|                  null|                            P|                                         AS|                                           ANCILLARY|                                           ASAN|                                          ANCIL SERVICES|                                 ASDM|                                     ANCIL DME|                                   3120|                                       ANCIL DME|                       null|             null|        null|                   10|           J449|               null|     I509|            null|     null|            null|     null|            null|     null|            null|     null|            null|     null|            null|     null|            null|     null|            null|      null|             null|      null|             null|      null|             null|      null|             null|      null|             null|      null|             null|      null|             null|      null|             null|      null|             null|      null|             null|      null|             null|      null|             null|      null|             null|      null|             null|      null|             null|      null|             null|                    1|      null|               E0431|                     J|                  HC|             RR|             null|             null|             null|               null|               null|                null|               null|               null|               null|               null|               null|               null|               null|               null|               null|               null|               null|               null|               null|               null|               null|               null|               null|               null|               null|               null|               null|               null|               null|               null|           0000|                  0|                        FF|                  Y|               1|                        0|            0|     15.18|        12.9|                 0|                             15.18|                   0|           0|             0|        0|           2.28|\n",
      "|                LV| 820183310291140|584011195481MILDR...|             1|  0201833204310399|               C|                  21Q|       355640263|         1|        64|             00111173863|7500004660786|                 A|      20181129|              20181115|            20181115|               20181127|        null|                   21|              19000101|         null|           null|                  19000101|                 00|                   15711549|                  1740482686|                        15|                 1740482686|                     16085395|                         1528088242|                            0|                               null|                            53625645|                                1427095488|                        7519979|                           1467432682|                                      0|                                         null|      208639828|             null|           0241D3|       00173269|                00009|                  null|                            P|                                         PH|                                           PHYSICIAN|                                           PHSP|                                         PHYS SPECIALIST|                                 PHFB|                                PHYS FAC BASED|                                   4340|                                  PHY STD IMG PC|                       null|             null|        null|                   10|          G9389|               null|     H518|            null|    R0602|            null|    R0603|            null|    J9811|            null|     J181|            null|     null|            null|     null|            null|     null|            null|      null|             null|      null|             null|      null|             null|      null|             null|      null|             null|      null|             null|      null|             null|      null|             null|      null|             null|      null|             null|      null|             null|      null|             null|      null|             null|      null|             null|      null|             null|      null|             null|                    5|      null|               71045|                     O|                  CP|             26|             null|             null|             null|               null|               null|                null|               null|               null|               null|               null|               null|               null|               null|               null|               null|               null|               null|               null|               null|               null|               null|               null|               null|               null|               null|               null|               null|               null|               null|               null|           0000|                  0|                        PS|                  Y|               1|                        0|            0|        45|        8.37|               .17|                              8.54|                   0|           0|             0|        0|              0|\n",
      "|                LV| 820183230143349|581119464993JIMMY...|             4|  0201921202025196|               C|                  000|              14|         1|        65|                    null|7720004657988|                 A|      20190731|              20181115|            20181115|               20181119|        null|                   11|              19000101|         null|           null|                  19000101|               null|                  177691121|                  1659360295|                        15|                 1659360295|                       544793|                         1659360295|                            0|                               null|                            45809543|                                      null|                         206317|                           1659360295|                                      0|                                         null|      621282917|             null|           0000D3|       99999999|                    0|                  null|                            P|                                         PH|                                           PHYSICIAN|                                           PHPC|                                          PHYS PRIM CARE|                                 PHPC|                                PHYS PRIM CARE|                                   4120|                                  PHY OFFC VISIT|                       null|             null|        null|                   10|          Z0001|               null|     K219|            null|      I10|            null|    E7800|            null|    R8290|            null|     null|            null|     null|            null|     null|            null|     null|            null|      null|             null|      null|             null|      null|             null|      null|             null|      null|             null|      null|             null|      null|             null|      null|             null|      null|             null|      null|             null|      null|             null|      null|             null|      null|             null|      null|             null|      null|             null|      null|             null|                    1|      null|               96160|                     C|                  CP|           null|             null|             null|             null|               null|               null|                null|               null|               null|               null|               null|               null|               null|               null|               null|               null|               null|               null|               null|               null|               null|               null|               null|               null|               null|               null|               null|               null|               null|               null|               null|           0000|                  0|                      null|                  Y|              -1|                        0|            0|      -300|        -150|                 0|                              -150|                   0|           0|             0|        0|              0|\n",
      "|                LV| 820183230143349|581119464993JIMMY...|             3|  0201921202025197|               C|                  21Q|              14|         1|        65|                    null|7720004657988|                 A|      20190731|              20181115|            20181115|               20181119|        null|                   11|              19000101|         null|           null|                  19000101|               null|                  177691121|                  1659360295|                        15|                 1659360295|                       544793|                         1659360295|                            0|                               null|                            45809543|                                      null|                         206317|                           1659360295|                                      0|                                         null|      621282917|             null|           0000D3|       99999999|                    0|                  null|                            P|                                         PH|                                           PHYSICIAN|                                           PHPC|                                          PHYS PRIM CARE|                                 PHPC|                                PHYS PRIM CARE|                                   4120|                                  PHY OFFC VISIT|                       null|             null|        null|                   10|          Z0001|               null|     K219|            null|      I10|            null|    E7800|            null|    R8290|            null|     null|            null|     null|            null|     null|            null|     null|            null|      null|             null|      null|             null|      null|             null|      null|             null|      null|             null|      null|             null|      null|             null|      null|             null|      null|             null|      null|             null|      null|             null|      null|             null|      null|             null|      null|             null|      null|             null|      null|             null|                    1|      null|               G0439|                     C|                  HC|           null|             null|             null|             null|               null|               null|                null|               null|               null|               null|               null|               null|               null|               null|               null|               null|               null|               null|               null|               null|               null|               null|               null|               null|               null|               null|               null|               null|               null|               null|               null|           0000|                  0|                      null|                  Y|              -1|                        0|            0|      -209|     -109.13|             -2.23|                           -111.36|                   0|           0|             0|        0|              0|\n",
      "|                LV| 820183230143349|581119464993JIMMY...|             2|  0201921202025198|               C|                  21Q|              14|         1|        65|                    null|7720004657988|                 A|      20190731|              20181115|            20181115|               20181119|        null|                   11|              19000101|         null|           null|                  19000101|               null|                  177691121|                  1659360295|                        15|                 1659360295|                       544793|                         1659360295|                            0|                               null|                            45809543|                                      null|                         206317|                           1659360295|                                      0|                                         null|      621282917|             null|           0000D3|       99999999|                    0|                  null|                            P|                                         PH|                                           PHYSICIAN|                                           PHPC|                                          PHYS PRIM CARE|                                 PHPC|                                PHYS PRIM CARE|                                   4120|                                  PHY OFFC VISIT|                       null|             null|        null|                   10|          Z0001|               null|     K219|            null|      I10|            null|    E7800|            null|    R8290|            null|     null|            null|     null|            null|     null|            null|     null|            null|      null|             null|      null|             null|      null|             null|      null|             null|      null|             null|      null|             null|      null|             null|      null|             null|      null|             null|      null|             null|      null|             null|      null|             null|      null|             null|      null|             null|      null|             null|      null|             null|                    2|      null|               36415|                     L|                  CP|           null|             null|             null|             null|               null|               null|                null|               null|               null|               null|               null|               null|               null|               null|               null|               null|               null|               null|               null|               null|               null|               null|               null|               null|               null|               null|               null|               null|               null|               null|               null|           0000|                  0|                      null|                  Y|              -1|                        0|            0|        -9|       -2.94|              -.06|                                -3|                   0|           0|             0|        0|              0|\n",
      "|                LV| 820183230143349|581119464993JIMMY...|             1|  0201921202025199|               C|                  21Q|              14|         1|        65|                    null|7720004657988|                 A|      20190731|              20181115|            20181115|               20181119|        null|                   11|              19000101|         null|           null|                  19000101|               null|                  177691121|                  1659360295|                        15|                 1659360295|                       544793|                         1659360295|                            0|                               null|                            45809543|                                      null|                         206317|                           1659360295|                                      0|                                         null|      621282917|             null|           0000D3|       99999999|                    0|                  null|                            P|                                         PH|                                           PHYSICIAN|                                           PHPC|                                          PHYS PRIM CARE|                                 PHPC|                                PHYS PRIM CARE|                                   4120|                                  PHY OFFC VISIT|                       null|             null|        null|                   10|          Z0001|               null|     K219|            null|      I10|            null|    E7800|            null|    R8290|            null|     null|            null|     null|            null|     null|            null|     null|            null|      null|             null|      null|             null|      null|             null|      null|             null|      null|             null|      null|             null|      null|             null|      null|             null|      null|             null|      null|             null|      null|             null|      null|             null|      null|             null|      null|             null|      null|             null|      null|             null|                    1|      null|               99396|                     C|                  CP|           null|             null|             null|             null|               null|               null|                null|               null|               null|               null|               null|               null|               null|               null|               null|               null|               null|               null|               null|               null|               null|               null|               null|               null|               null|               null|               null|               null|               null|               null|               null|           0000|                  0|                      null|                  Y|              -1|                        0|            0|      -190|     -118.66|             -2.42|                           -121.08|                   0|           0|             0|        0|              0|\n",
      "|                LV| 820183230143349|581119464993JIMMY...|             3|  0201921202025297|               C|                  21Q|              14|         1|        65|                    null|7720004657988|                 A|      20190731|              20181115|            20181115|               20181119|        null|                   11|              19000101|         null|           null|                  19000101|               null|                  177691121|                  1659360295|                        15|                 1659360295|                       544793|                         1659360295|                            0|                               null|                            45809543|                                      null|                         206317|                           1659360295|                                      0|                                         null|      621282917|             null|           0000D3|       99999999|                    0|                  null|                            P|                                         PH|                                           PHYSICIAN|                                           PHPC|                                          PHYS PRIM CARE|                                 PHPC|                                PHYS PRIM CARE|                                   4120|                                  PHY OFFC VISIT|                       null|             null|        null|                   10|          Z0001|               null|     K219|            null|      I10|            null|    E7800|            null|    R8290|            null|     null|            null|     null|            null|     null|            null|     null|            null|      null|             null|      null|             null|      null|             null|      null|             null|      null|             null|      null|             null|      null|             null|      null|             null|      null|             null|      null|             null|      null|             null|      null|             null|      null|             null|      null|             null|      null|             null|      null|             null|                    3|      null|               80050|                     L|                  CP|           null|             null|             null|             null|               null|               null|                null|               null|               null|               null|               null|               null|               null|               null|               null|               null|               null|               null|               null|               null|               null|               null|               null|               null|               null|               null|               null|               null|               null|               null|               null|           0000|                  0|                      null|                  Y|              -1|                        0|            0|      -119|      -41.96|              -.86|                            -42.82|                   0|           0|             0|        0|              0|\n",
      "|                LV| 820183230143349|581119464993JIMMY...|             2|  0201921202025298|               C|                  21Q|              14|         1|        65|                    null|7720004657988|                 A|      20190731|              20181115|            20181115|               20181119|        null|                   11|              19000101|         null|           null|                  19000101|               null|                  177691121|                  1659360295|                        15|                 1659360295|                       544793|                         1659360295|                            0|                               null|                            45809543|                                      null|                         206317|                           1659360295|                                      0|                                         null|      621282917|             null|           0000D3|       99999999|                    0|                  null|                            P|                                         PH|                                           PHYSICIAN|                                           PHPC|                                          PHYS PRIM CARE|                                 PHPC|                                PHYS PRIM CARE|                                   4120|                                  PHY OFFC VISIT|                       null|             null|        null|                   10|          Z0001|               null|     K219|            null|      I10|            null|    E7800|            null|    R8290|            null|     null|            null|     null|            null|     null|            null|     null|            null|      null|             null|      null|             null|      null|             null|      null|             null|      null|             null|      null|             null|      null|             null|      null|             null|      null|             null|      null|             null|      null|             null|      null|             null|      null|             null|      null|             null|      null|             null|      null|             null|                    3|      null|               81003|                     L|                  CP|           null|             null|             null|             null|               null|               null|                null|               null|               null|               null|               null|               null|               null|               null|               null|               null|               null|               null|               null|               null|               null|               null|               null|               null|               null|               null|               null|               null|               null|               null|               null|           0000|                  0|                      null|                  Y|              -1|                        0|            0|        -8|       -2.71|              -.06|                             -2.77|                   0|           0|             0|        0|              0|\n",
      "|                LV| 820183230143349|581119464993JIMMY...|             1|  0201921202025299|               C|                  21Q|              14|         1|        65|                    null|7720004657988|                 A|      20190731|              20181115|            20181115|               20181119|        null|                   11|              19000101|         null|           null|                  19000101|               null|                  177691121|                  1659360295|                        15|                 1659360295|                       544793|                         1659360295|                            0|                               null|                            45809543|                                      null|                         206317|                           1659360295|                                      0|                                         null|      621282917|             null|           0000D3|       99999999|                    0|                  null|                            P|                                         PH|                                           PHYSICIAN|                                           PHPC|                                          PHYS PRIM CARE|                                 PHPC|                                PHYS PRIM CARE|                                   4120|                                  PHY OFFC VISIT|                       null|             null|        null|                   10|          Z0001|               null|     K219|            null|      I10|            null|    E7800|            null|    R8290|            null|     null|            null|     null|            null|     null|            null|     null|            null|      null|             null|      null|             null|      null|             null|      null|             null|      null|             null|      null|             null|      null|             null|      null|             null|      null|             null|      null|             null|      null|             null|      null|             null|      null|             null|      null|             null|      null|             null|      null|             null|                    4|      null|               80061|                     L|                  CP|           null|             null|             null|             null|               null|               null|                null|               null|               null|               null|               null|               null|               null|               null|               null|               null|               null|               null|               null|               null|               null|               null|               null|               null|               null|               null|               null|               null|               null|               null|               null|           0000|                  0|                      null|                  Y|              -1|                        0|            0|       -48|       -16.2|              -.33|                            -16.53|                   0|           0|             0|        0|              0|\n",
      "|                LV| 820190180967701|584011195481MILDR...|             4|  0201902117269996|               C|                  21Q|       355640263|         1|        64|             00111173863|7500004660786|                 A|      20190122|              20181115|            20181115|               20190118|        null|                   21|              19000101|         null|           null|                  19000101|                 00|                  257778518|                  1427153212|                        15|                 1427153212|                     48353013|                         1427153212|                            0|                               null|                            12799477|                                      null|                              0|                                 null|                                      0|                                         null|      610945743|             null|           0241D3|       00040429|                00019|                  null|                            P|                                         PH|                                           PHYSICIAN|                                           PHSP|                                         PHYS SPECIALIST|                                 PHSP|                               PHYS SPECIALIST|                                   4070|                                 PHY HOSP VISITS|                       null|             null|        null|                   10|          R4182|               null|      G92|            null|    J9602|            null|    F1120|            null|     J449|            null|    G8929|            null|    F3289|            null|    Z9911|            null|    Z9689|            null|      null|             null|      null|             null|      null|             null|      null|             null|      null|             null|      null|             null|      null|             null|      null|             null|      null|             null|      null|             null|      null|             null|      null|             null|      null|             null|      null|             null|      null|             null|      null|             null|                    1|      null|               99231|                     H|                  CP|           null|             null|             null|             null|               null|               null|                null|               null|               null|               null|               null|               null|               null|               null|               null|               null|               null|               null|               null|               null|               null|               null|               null|               null|               null|               null|               null|               null|               null|               null|               null|           0000|                  0|                        PS|                  Y|               1|                        0|            0|        86|       37.55|               .77|                             38.32|                   0|           0|             0|        0|              0|\n",
      "|                LV| 820183170329778|584011195481MILDR...|             1|  0201831805524399|               C|                  21Q|       355640263|         1|        64|             00110641317|7500004660786|                 A|      20181115|              20181103|            20181103|               20181113|        null|                   21|              19000101|         null|           null|                  19000101|                 00|                   15711549|                  1740482686|                        15|                 1740482686|                     14460919|                         1922091073|                            0|                               null|                            53625645|                                1427095488|                        8175459|                           1467432682|                                      0|                                         null|      208639828|             null|           0241D3|       00173269|                00009|                  null|                            P|                                         PH|                                           PHYSICIAN|                                           PHSP|                                         PHYS SPECIALIST|                                 PHFB|                                PHYS FAC BASED|                                   4340|                                  PHY STD IMG PC|                       null|             null|        null|                   10|           J439|               null|     I517|            null|     J449|            null|     J181|            null|      J90|            null|     I509|            null|     null|            null|     null|            null|     null|            null|      null|             null|      null|             null|      null|             null|      null|             null|      null|             null|      null|             null|      null|             null|      null|             null|      null|             null|      null|             null|      null|             null|      null|             null|      null|             null|      null|             null|      null|             null|      null|             null|                    6|      null|               71045|                     O|                  CP|             26|             null|             null|             null|               null|               null|                null|               null|               null|               null|               null|               null|               null|               null|               null|               null|               null|               null|               null|               null|               null|               null|               null|               null|               null|               null|               null|               null|               null|               null|               null|           0000|                  0|                        PS|                  Y|               1|                        0|            0|        45|        8.37|               .17|                              8.54|                   0|           0|             0|        0|              0|\n",
      "|                LV| 820183190168511|583829267131LINDA...|             3|  0201832003083499|               C|                  21Q|       178407480|         1|        75|                    null|7720004657988|                 H|      20181120|              20181109|            20181109|               20181115|         131|                   23|              20181109|            1|              1|                  19000101|                 01|                  155846909|                  1891792495|                        20|                 1891792495|                            0|                               null|                      5184197|                         1679509756|                                   0|                                      null|                              0|                                 null|                                      0|                                         null|      520795508|             null|          0000H32|       00046394|                00046|                  null|                            P|                                         HO|                                         HOSPITAL OP|                                           HOHE|                                         HO EMERGENCY RM|                                 OPEH|                               OP EMERGENCY RM|                                   2060|                                 OP EMERGENCY RM|                       null|          S91331A|        null|                   10|           E119|               null|  S91331A|            null|   L03115|            null|     null|            null|     null|            null|     null|            null|     null|            null|     null|            null|     null|            null|      null|             null|      null|             null|      null|             null|      null|             null|      null|             null|      null|             null|      null|             null|      null|             null|      null|             null|      null|             null|      null|             null|      null|             null|      null|             null|      null|             null|      null|             null|      null|             null|                    1|      0450|               99283|                  null|                  CP|             25|             null|             null|             null|               null|               null|                null|               null|               null|               null|               null|               null|               null|               null|               null|               null|               null|               null|               null|               null|               null|               null|               null|               null|               null|               null|               null|               null|               null|               null|               null|           0000|                  0|                        PS|                  Y|               1|                        0|            0|       357|      108.15|              2.21|                            190.36|                   0|           0|             0|       80|              0|\n",
      "|                LV| 820183170355236|589951291442S    ...|             1|  0201831806073599|               C|                  21Q|       642586321|         1|        76|                    null|6700004659185|                 A|      20181122|              20181109|            20181109|               20181113|        null|                   22|              19000101|         null|           null|                  19000101|                 00|                    1337871|                        null|                        15|                       null|                      1449297|                         1851374581|                            0|                               null|                            66122331|                                1053410480|                       63434533|                           1689104903|                                      0|                                         null|      630577764|             null|           0000D3|       00188226|                00002|                  null|                            P|                                         PH|                                           PHYSICIAN|                                           PHSP|                                         PHYS SPECIALIST|                                 PHFB|                                PHYS FAC BASED|                                   4340|                                  PHY STD IMG PC|                       null|             null|        null|                   10|         M47812|               null|     null|            null|     null|            null|     null|            null|     null|            null|     null|            null|     null|            null|     null|            null|     null|            null|      null|             null|      null|             null|      null|             null|      null|             null|      null|             null|      null|             null|      null|             null|      null|             null|      null|             null|      null|             null|      null|             null|      null|             null|      null|             null|      null|             null|      null|             null|      null|             null|                    1|      null|               72050|                     O|                  CP|             26|             null|             null|             null|               null|               null|                null|               null|               null|               null|               null|               null|               null|               null|               null|               null|               null|               null|               null|               null|               null|               null|               null|               null|               null|               null|               null|               null|               null|               null|               null|           0000|                  0|                        PS|                  N|               1|                        0|            0|        59|       15.05|               .31|                             15.36|                   0|           0|             0|        0|              0|\n",
      "|                LV| 820183450292212|58911117851 MARY ...|             4|  0201834604521196|               C|                  000|       501561242|         1|        68|                    null|7610004657286|                 H|      20181212|              20181119|            20181119|               20181211|         324|                   12|              20181101|            3|              1|                  19000101|                 01|                   16304474|                  1578588455|                        20|                 1578588455|                            0|                               null|                      1526349|                         1881634483|                                   0|                                      null|                              0|                                 null|                                      0|                                         null|      522069103|             null|          0000H32|       00242710|                00040|                  null|                            P|                                         AS|                                           ANCILLARY|                                           ASAN|                                          ANCIL SERVICES|                                 ASHH|                               ANCIL HOME HLTH|                                   3030|                                 ANCIL HOME HLTH|                       null|             E119|        null|                   10|           E119|               null|     Z794|            null|     I110|            null|     I509|            null|     G894|            null|     F329|            null|     F419|            null|    I2510|            null|     null|            null|      null|             null|      null|             null|      null|             null|      null|             null|      null|             null|      null|             null|      null|             null|      null|             null|      null|             null|      null|             null|      null|             null|      null|             null|      null|             null|      null|             null|      null|             null|      null|             null|                    1|      0421|               G0151|                  null|                  HC|           null|             null|             null|             null|               null|               null|                null|               null|               null|               null|               null|               null|               null|               null|               null|               null|               null|               null|               null|               null|               null|               null|               null|               null|               null|               null|               null|               null|               null|               null|               null|           0000|                  0|                        PV|                  Y|               1|                        0|            0|       225|           0|                 0|                                 0|                   0|           0|             0|        0|              0|\n",
      "+------------------+----------------+--------------------+--------------+------------------+----------------+---------------------+----------------+----------+----------+------------------------+-------------+------------------+--------------+----------------------+--------------------+-----------------------+------------+---------------------+----------------------+-------------+---------------+--------------------------+-------------------+---------------------------+----------------------------+--------------------------+---------------------------+-----------------------------+-----------------------------------+-----------------------------+-----------------------------------+------------------------------------+------------------------------------------+-------------------------------+-------------------------------------+---------------------------------------+---------------------------------------------+---------------+-----------------+-----------------+---------------+---------------------+----------------------+-----------------------------+-------------------------------------------+----------------------------------------------------+-----------------------------------------------+--------------------------------------------------------+-------------------------------------+----------------------------------------------+---------------------------------------+------------------------------------------------+---------------------------+-----------------+------------+---------------------+---------------+-------------------+---------+----------------+---------+----------------+---------+----------------+---------+----------------+---------+----------------+---------+----------------+---------+----------------+---------+----------------+----------+-----------------+----------+-----------------+----------+-----------------+----------+-----------------+----------+-----------------+----------+-----------------+----------+-----------------+----------+-----------------+----------+-----------------+----------+-----------------+----------+-----------------+----------+-----------------+----------+-----------------+----------+-----------------+----------+-----------------+----------+-----------------+---------------------+----------+--------------------+----------------------+--------------------+---------------+-----------------+-----------------+-----------------+-------------------+-------------------+--------------------+-------------------+-------------------+-------------------+-------------------+-------------------+-------------------+-------------------+-------------------+-------------------+-------------------+-------------------+-------------------+-------------------+-------------------+-------------------+-------------------+-------------------+-------------------+-------------------+-------------------+-------------------+-------------------+-------------------+-------------------+---------------+-------------------+--------------------------+-------------------+----------------+-------------------------+-------------+----------+------------+------------------+----------------------------------+--------------------+------------+--------------+---------+---------------+\n",
      "only showing top 20 rows\n",
      "\n"
     ]
    }
   ],
   "source": [
    "df_claim.filter($\"MEMBER KEY\" === \"1\").show()"
   ]
  },
  {
   "cell_type": "code",
   "execution_count": 30,
   "id": "21910709",
   "metadata": {},
   "outputs": [
    {
     "data": {
      "application/vnd.jupyter.widget-view+json": {
       "model_id": "b29ad6d022de42e292dd297fa2ade117",
       "version_major": 2,
       "version_minor": 0
      },
      "text/plain": [
       "VBox()"
      ]
     },
     "metadata": {},
     "output_type": "display_data"
    },
    {
     "data": {
      "application/vnd.jupyter.widget-view+json": {
       "model_id": "",
       "version_major": 2,
       "version_minor": 0
      },
      "text/plain": [
       "FloatProgress(value=0.0, bar_style='info', description='Progress:', layout=Layout(height='25px', width='50%'),…"
      ]
     },
     "metadata": {},
     "output_type": "display_data"
    },
    {
     "name": "stdout",
     "output_type": "stream",
     "text": [
      "/n ************* high Coverage Columns *******************\n",
      "OPERATING PHYSICIAN SOURCE PROVIDER KEY: 0.9703565468814699 47259 Distinct Values\n",
      "RENDERING SOURCE PROVIDER KEY: 0.9703565468814699 285830 Distinct Values\n",
      "BILLING NATIONAL PROVIDER ID: 0.9900237785371623 267692 Distinct Values\n",
      "DENIED EXPLANATION CD: 0.8534916871572847 155 Distinct Values\n",
      "SOURCE CLAIM SUFFIX: 0.8534096057265254 793751 Distinct Values\n",
      "HCPCS CPT4 TYPE CD 1: 0.8766768459858177 3 Distinct Values\n",
      "PAY TO NATIONAL PROVIDER ID: 0.9900237785371623 267692 Distinct Values\n",
      "REFERRING SOURCE PROVIDER 1 KEY: 0.9703565468814699 371699 Distinct Values\n",
      "HCPCS CPT4 BASE CD 1: 0.8766768459858177 10002 Distinct Values\n",
      "ATTENDING SOURCE PROVIDER KEY: 0.9703565468814699 160972 Distinct Values\n",
      "SERVICE FACILITY SOURCE PROVIDER KEY: 0.9703565468814699 176068 Distinct Values\n",
      "res14: List[Unit] = List((), (), (), (), (), (), (), (), (), (), ())\n"
     ]
    }
   ],
   "source": [
    "println(\"/n ************* high Coverage Columns *******************\")\n",
    "Coverages.high.map(p => println (s\"${p.column}: ${p.profile.completeness} ${p.profile.approximateNumDistinctValues} Distinct Values\"))\n"
   ]
  },
  {
   "cell_type": "code",
   "execution_count": 31,
   "id": "ed8dc123",
   "metadata": {},
   "outputs": [
    {
     "data": {
      "application/vnd.jupyter.widget-view+json": {
       "model_id": "b7566899df354c69b8ac31bce5a04a68",
       "version_major": 2,
       "version_minor": 0
      },
      "text/plain": [
       "VBox()"
      ]
     },
     "metadata": {},
     "output_type": "display_data"
    },
    {
     "data": {
      "application/vnd.jupyter.widget-view+json": {
       "model_id": "",
       "version_major": 2,
       "version_minor": 0
      },
      "text/plain": [
       "FloatProgress(value=0.0, bar_style='info', description='Progress:', layout=Layout(height='25px', width='50%'),…"
      ]
     },
     "metadata": {},
     "output_type": "display_data"
    },
    {
     "name": "stdout",
     "output_type": "stream",
     "text": [
      "/n ************* medium Coverage Columns *******************\n",
      "RAW CLAIM ATTENDING PROVIDER NPI ID: 0.4366752371511937 123438 Distinct Values\n",
      "RAW CLAIM RENDERING PROVIDER NPI ID: 0.4438814273449609 273235 Distinct Values\n",
      "DIAG CD 3: 0.6296272683193745 16234 Distinct Values\n",
      "HCPCS CPT4 SUFFIX CD 1: 0.46228020671402953 35 Distinct Values\n",
      "ADMIT TYPE CD: 0.4090598994787009 7 Distinct Values\n",
      "BILL TYPE CD: 0.4095412959780195 128 Distinct Values\n",
      "RAW CLAIM REFERRING PROVIDER 1 NPI ID: 0.4417292734500909 219789 Distinct Values\n",
      "DIAG CD 2: 0.7829625184936408 19124 Distinct Values\n",
      "DISCHARGE STATUS CD: 0.7876170468181486 44 Distinct Values\n",
      "DIAG CD 4: 0.5165219503203828 13552 Distinct Values\n",
      "CONTRACT METHOD OF PYMT CD: 0.5973345429814927 12 Distinct Values\n",
      "ADMIT SOURCE CD: 0.4090586455908045 14 Distinct Values\n",
      "DIAG CD 5: 0.4061389193974818 10578 Distinct Values\n",
      "REVENUE CD: 0.43731520224295467 382 Distinct Values\n",
      "res16: List[Unit] = List((), (), (), (), (), (), (), (), (), (), (), (), (), ())\n"
     ]
    }
   ],
   "source": [
    "println(\"/n ************* medium Coverage Columns *******************\")\n",
    "Coverages.med.map(p => println (s\"${p.column}: ${p.profile.completeness} ${p.profile.approximateNumDistinctValues} Distinct Values\"))\n"
   ]
  },
  {
   "cell_type": "code",
   "execution_count": 32,
   "id": "c80f9230",
   "metadata": {},
   "outputs": [
    {
     "data": {
      "application/vnd.jupyter.widget-view+json": {
       "model_id": "2154eed71bd44a68aa8e8df6d51afc0f",
       "version_major": 2,
       "version_minor": 0
      },
      "text/plain": [
       "VBox()"
      ]
     },
     "metadata": {},
     "output_type": "display_data"
    },
    {
     "data": {
      "application/vnd.jupyter.widget-view+json": {
       "model_id": "",
       "version_major": 2,
       "version_minor": 0
      },
      "text/plain": [
       "FloatProgress(value=0.0, bar_style='info', description='Progress:', layout=Layout(height='25px', width='50%'),…"
      ]
     },
     "metadata": {},
     "output_type": "display_data"
    },
    {
     "name": "stdout",
     "output_type": "stream",
     "text": [
      "/n ************* low Coverage Columns *******************\n",
      "CPT MODIFIER CD: 0.2641392016187114 355 Distinct Values\n",
      "BEHAVIORAL HEALTH VENDOR CD: 0.013229192477868638 1 Distinct Values\n",
      "ICD PROCEDURE 06 CD: 0.010786908214344998 879 Distinct Values\n",
      "ICD PROCEDURE 05 CD: 0.014679265603646229 1146 Distinct Values\n",
      "DIAG CD 6: 0.34317783226510123 9468 Distinct Values\n",
      "SOURCE CONTRACT PAR CD: 0.14658817585642714 7 Distinct Values\n",
      "DIAG CD 4 POA CD: 0.07767150702760763 5 Distinct Values\n",
      "DIAG CD 11: 0.02247478310874111 1979 Distinct Values\n",
      "DIAG CD 15: 0.01253656409445711 1092 Distinct Values\n",
      "ICD PROCEDURE 04 CD: 0.020272666603843668 1348 Distinct Values\n",
      "DIAG CD 3 POA CD: 0.07908782163309638 4 Distinct Values\n",
      "RAW CLAIM SERVICE FACILITY PROVIDER NPI ID: 0.2638034490212103 41834 Distinct Values\n",
      "CAUSE SUB CD: 0.11391696927965009 231 Distinct Values\n",
      "DIAG CD 7: 0.28529479820748044 8387 Distinct Values\n",
      "DIAG CD 6 POA CD: 0.07313484416536543 4 Distinct Values\n",
      "DIAG CD 10: 0.026011615052943488 2430 Distinct Values\n",
      "DIAG CD 14: 0.014562943388022458 1159 Distinct Values\n",
      "ICD PROCEDURE 1 DATE: 0.046849399286422046 116 Distinct Values\n",
      "DIAG CD 7 POA CD: 0.07018270979256547 5 Distinct Values\n",
      "DIAG CD 2 POA CD: 0.08089612088559595 7 Distinct Values\n",
      "ICD PROCEDURE 03 CD: 0.02830651926217764 1778 Distinct Values\n",
      "DIAG CD 8 POA CD: 0.06697757942342955 8 Distinct Values\n",
      "PRIMARY DIAG POA CD: 0.08175127243096937 5 Distinct Values\n",
      "CPT MODIFIER CD 2: 0.059163832317378706 289 Distinct Values\n",
      "ICD PROCEDURE 01 CD: 0.05787888658227101 2566 Distinct Values\n",
      "DIAG CD 5 POA CD: 0.07583128186020635 4 Distinct Values\n",
      "DIAG CD 8: 0.2481398814188571 8018 Distinct Values\n",
      "PROVIDER RAW CLAIM OPERATING PHYSICIAN NPI ID: 0.15511345611725125 40103 Distinct Values\n",
      "NATIONAL DRUG CD ID: 0.0665213571349549 14527 Distinct Values\n",
      "DIAG CD 13: 0.016708827843410236 1301 Distinct Values\n",
      "DIAG CD 9 POA CD: 0.06317936007927658 12 Distinct Values\n",
      "ICD PROCEDURE 02 CD: 0.0402333080273035 2319 Distinct Values\n",
      "ADMITTING DIAG CD: 0.3453169650164312 10570 Distinct Values\n",
      "SOURCE AUTHORIZATION KEY: 0.1264077182394295 80263 Distinct Values\n",
      "DIAG CD 16: 0.01087622361373771 992 Distinct Values\n",
      "DIAG CD 9: 0.2150645371277653 6591 Distinct Values\n",
      "DIAG CD 12: 0.01957685527423348 1718 Distinct Values\n",
      "MEMBER NETWORK ID: 0.14077794870306035 21 Distinct Values\n",
      "res18: List[Unit] = List((), (), (), (), (), (), (), (), (), (), (), (), (), (), (), (), (), (), (), (), (), (), (), (), (), (), (), (), (), (), (), (), (), (), (), (), (), ())\n"
     ]
    }
   ],
   "source": [
    "println(\"/n ************* low Coverage Columns *******************\")\n",
    "Coverages.low.map(p => println (s\"${p.column}: ${p.profile.completeness} ${p.profile.approximateNumDistinctValues} Distinct Values\"))\n"
   ]
  },
  {
   "cell_type": "code",
   "execution_count": 44,
   "id": "e9cff3c8",
   "metadata": {},
   "outputs": [
    {
     "data": {
      "application/vnd.jupyter.widget-view+json": {
       "model_id": "a220d2658ee8463099578af28c15a544",
       "version_major": 2,
       "version_minor": 0
      },
      "text/plain": [
       "VBox()"
      ]
     },
     "metadata": {},
     "output_type": "display_data"
    },
    {
     "data": {
      "application/vnd.jupyter.widget-view+json": {
       "model_id": "",
       "version_major": 2,
       "version_minor": 0
      },
      "text/plain": [
       "FloatProgress(value=0.0, bar_style='info', description='Progress:', layout=Layout(height='25px', width='50%'),…"
      ]
     },
     "metadata": {},
     "output_type": "display_data"
    },
    {
     "name": "stdout",
     "output_type": "stream",
     "text": [
      "/n ************* rare Coverage Columns *******************\n",
      "ICD PROCEDURE 09 CD: 6.248219840885484E-4 108 Distinct Values\n",
      "ICD PROCEDURE 14 CD: 1.7197554764277273E-4 42 Distinct Values\n",
      "DIAG CD 19 POA CD: 0.001557039408635603 4 Distinct Values\n",
      "DIAG CD 22 POA CD: 9.936579314727117E-4 4 Distinct Values\n",
      "ICD PROCEDURE 13 CD: 1.894335252778495E-4 47 Distinct Values\n",
      "DIAG CD 10 POA CD: 0.004992306433226177 4 Distinct Values\n",
      "ICD PROCEDURE 16 CD: 1.3541989281573355E-4 44 Distinct Values\n",
      "ICD PROCEDURE 24 CD: 4.4561246781245655E-5 12 Distinct Values\n",
      "DIAG CD 22: 0.0044975029787071505 518 Distinct Values\n",
      "CPT MODIFIER CD 3: 0.009394321025973516 182 Distinct Values\n",
      "DIAG CD 15 POA CD: 0.0023879812723161904 4 Distinct Values\n",
      "CPT MODIFIER CD 4: 2.7913473633100637E-4 79 Distinct Values\n",
      "ICD PROCEDURE 18 CD: 1.1950516182243153E-4 31 Distinct Values\n",
      "DIAG CD 18 POA CD: 0.0017392389652801335 4 Distinct Values\n",
      "DIAG CD 13 POA CD: 0.0029922587854861126 4 Distinct Values\n",
      "ICD PROCEDURE 25 CD: 4.4464793866134735E-5 11 Distinct Values\n",
      "DIAG CD 17 POA CD: 0.001915361988272676 4 Distinct Values\n",
      "DIAG CD 25: 0.0018079134408391095 295 Distinct Values\n",
      "DIAG CD 16 POA CD: 0.002230570114855167 4 Distinct Values\n",
      "ICD PROCEDURE 12 CD: 2.3602028327642451E-4 58 Distinct Values\n",
      "ICD PROCEDURE 15 CD: 1.392780094201704E-4 38 Distinct Values\n",
      "ICD PROCEDURE 07 CD: 8.739598638200582E-4 159 Distinct Values\n",
      "DIAG CD 21: 0.005258034214356766 587 Distinct Values\n",
      "ICD PROCEDURE 21 CD: 8.304595991050327E-5 19 Distinct Values\n",
      "ICD PROCEDURE 10 CD: 4.395359341604685E-4 82 Distinct Values\n",
      "DIAG CD 11 POA CD: 0.003696847330371393 4 Distinct Values\n",
      "DIAG CD 14 POA CD: 0.0027264345514404135 4 Distinct Values\n",
      "ICD PROCEDURE 08 CD: 6.802824102773282E-4 123 Distinct Values\n",
      "DIAG CD 25 POA CD: 5.901953875637276E-4 3 Distinct Values\n",
      "ICD PROCEDURE 22 CD: 7.127870426697086E-5 19 Distinct Values\n",
      "DIAG CD 18: 0.008426030211174976 776 Distinct Values\n",
      "ICD PROCEDURE 19 CD: 1.0677337702778992E-4 25 Distinct Values\n",
      "DIAG CD 17: 0.009504180896284856 852 Distinct Values\n",
      "ICD PROCEDURE 11 CD: 3.441440011157673E-4 72 Distinct Values\n",
      "DIAG CD 21 POA CD: 0.0011582066046519435 3 Distinct Values\n",
      "DIAG CD 24: 0.002962551287631949 426 Distinct Values\n",
      "DIAG CD 23 POA CD: 8.552479982885395E-4 4 Distinct Values\n",
      "ICD PROCEDURE 23 CD: 5.912563696299478E-5 17 Distinct Values\n",
      "DIAG CD 12 POA CD: 0.003360901827040054 4 Distinct Values\n",
      "DIAG CD 19: 0.00686021358726428 663 Distinct Values\n",
      "DIAG CD 20: 0.005973329032819359 609 Distinct Values\n",
      "DIAG CD 23: 0.003879336245761256 451 Distinct Values\n",
      "ICD PROCEDURE 17 CD: 1.3233339953218408E-4 34 Distinct Values\n",
      "DIAG CD 24 POA CD: 7.640035405936079E-4 3 Distinct Values\n",
      "ICD PROCEDURE 20 CD: 9.288415725181724E-5 24 Distinct Values\n",
      "DIAG CD 20 POA CD: 0.0012831131297205865 4 Distinct Values\n",
      "res29: List[Unit] = List((), (), (), (), (), (), (), (), (), (), (), (), (), (), (), (), (), (), (), (), (), (), (), (), (), (), (), (), (), (), (), (), (), (), (), (), (), (), (), (), (), (), (), (), (), ())\n"
     ]
    }
   ],
   "source": [
    "println(\"/n ************* rare Coverage Columns *******************\")\n",
    "Coverages.rare.map(p => println (s\"${p.column}: ${p.profile.completeness} ${p.profile.approximateNumDistinctValues} Distinct Values\"))\n"
   ]
  },
  {
   "cell_type": "code",
   "execution_count": 34,
   "id": "363ccd4d",
   "metadata": {},
   "outputs": [
    {
     "data": {
      "application/vnd.jupyter.widget-view+json": {
       "model_id": "f2692fc00d334c2fb7ef1e5f78b3f881",
       "version_major": 2,
       "version_minor": 0
      },
      "text/plain": [
       "VBox()"
      ]
     },
     "metadata": {},
     "output_type": "display_data"
    },
    {
     "data": {
      "application/vnd.jupyter.widget-view+json": {
       "model_id": "",
       "version_major": 2,
       "version_minor": 0
      },
      "text/plain": [
       "FloatProgress(value=0.0, bar_style='info', description='Progress:', layout=Layout(height='25px', width='50%'),…"
      ]
     },
     "metadata": {},
     "output_type": "display_data"
    },
    {
     "name": "stdout",
     "output_type": "stream",
     "text": [
      "+----------------+--------------------+\n",
      "|SOURCE CLAIM NBR| SOURCE CLAIM SUFFIX|\n",
      "+----------------+--------------------+\n",
      "| 820190700130157|584025025264SHIRL...|\n",
      "| 820190710438204|572551333292ROSA ...|\n",
      "| 820190740972652|582352901921ELIZA...|\n",
      "| 820190740972652|582352901921ELIZA...|\n",
      "| 820190740972652|582352901921ELIZA...|\n",
      "| 820183260219012|582964062474MARY ...|\n",
      "| 820183260219012|582964062474MARY ...|\n",
      "| 820183310262184|584047861372FRANC...|\n",
      "| 820183310262184|584047861372FRANC...|\n",
      "| 820183310262184|584047861372FRANC...|\n",
      "| 820183310262184|584047861372FRANC...|\n",
      "| 820190670016733|584057485056MICHA...|\n",
      "| 820183520351971|584128847771JUDY ...|\n",
      "| 820183130139819|581754258972ROSEM...|\n",
      "| 820183470975768|584906069314RICHA...|\n",
      "| 820183510200851|572526241832LOIS ...|\n",
      "| 820183510200851|572526241832LOIS ...|\n",
      "| 820183520398946|57366806108 STEVE...|\n",
      "| 820183530240401|583836096673DIANE...|\n",
      "| 820183530240401|583836096673DIANE...|\n",
      "+----------------+--------------------+\n",
      "only showing top 20 rows\n",
      "\n"
     ]
    }
   ],
   "source": [
    "df_claim.select(\"SOURCE CLAIM NBR\", \"SOURCE CLAIM SUFFIX\").show()"
   ]
  },
  {
   "cell_type": "code",
   "execution_count": 35,
   "id": "3b99e15e",
   "metadata": {},
   "outputs": [
    {
     "data": {
      "application/vnd.jupyter.widget-view+json": {
       "model_id": "9822f668c01d46bcba7aa3ec77dda26a",
       "version_major": 2,
       "version_minor": 0
      },
      "text/plain": [
       "VBox()"
      ]
     },
     "metadata": {},
     "output_type": "display_data"
    },
    {
     "data": {
      "application/vnd.jupyter.widget-view+json": {
       "model_id": "",
       "version_major": 2,
       "version_minor": 0
      },
      "text/plain": [
       "FloatProgress(value=0.0, bar_style='info', description='Progress:', layout=Layout(height='25px', width='50%'),…"
      ]
     },
     "metadata": {},
     "output_type": "display_data"
    },
    {
     "name": "stdout",
     "output_type": "stream",
     "text": [
      "getStatistics: (cov: List[Profile], column: String)Unit\n"
     ]
    }
   ],
   "source": [
    "def getStatistics(cov:List[Profile], column:String) = {\n",
    "    cov.filter(p => p.column == column).map(p => p.profile.asInstanceOf[NumericColumnProfile]).foreach { p =>\n",
    "            println(s\"**** $column ****\")\n",
    "            println(s\"\\t**Statistics\\n\" +\n",
    "              s\"\\tminimum: ${p.minimum.get}\\n\" +\n",
    "              s\"\\tmaximum: ${p.maximum.get}\\n\" +\n",
    "              s\"\\tmean: ${p.mean.get}\\n\" +\n",
    "              s\"\\tstandard deviation: ${p.stdDev.get}\\n\"\n",
    "        )\n",
    "    }\n",
    "}"
   ]
  },
  {
   "cell_type": "code",
   "execution_count": 36,
   "id": "51de6f94",
   "metadata": {},
   "outputs": [
    {
     "data": {
      "application/vnd.jupyter.widget-view+json": {
       "model_id": "faf8525c213f44c8876ff4d7e529bb6a",
       "version_major": 2,
       "version_minor": 0
      },
      "text/plain": [
       "VBox()"
      ]
     },
     "metadata": {},
     "output_type": "display_data"
    },
    {
     "data": {
      "application/vnd.jupyter.widget-view+json": {
       "model_id": "",
       "version_major": 2,
       "version_minor": 0
      },
      "text/plain": [
       "FloatProgress(value=0.0, bar_style='info', description='Progress:', layout=Layout(height='25px', width='50%'),…"
      ]
     },
     "metadata": {},
     "output_type": "display_data"
    },
    {
     "name": "stdout",
     "output_type": "stream",
     "text": [
      "getHistogram: (cov: List[Profile], column: String)Unit\n"
     ]
    }
   ],
   "source": [
    "def getHistogram(cov:List[Profile], column:String) = {\n",
    "    cov.filter(p => p.column == column).map(_.profile).foreach { _.histogram.foreach { _.values.foreach { case(key, entry) => \n",
    "                println(s\"\\t $key occured ${entry.absolute} times. ${entry.ratio}\")\n",
    "            }\n",
    "        }\n",
    "    }\n",
    "}"
   ]
  },
  {
   "cell_type": "code",
   "execution_count": 37,
   "id": "b3584759",
   "metadata": {},
   "outputs": [
    {
     "data": {
      "application/vnd.jupyter.widget-view+json": {
       "model_id": "7f7a029ab326423bad4cdaaeb67d248c",
       "version_major": 2,
       "version_minor": 0
      },
      "text/plain": [
       "VBox()"
      ]
     },
     "metadata": {},
     "output_type": "display_data"
    },
    {
     "data": {
      "application/vnd.jupyter.widget-view+json": {
       "model_id": "",
       "version_major": 2,
       "version_minor": 0
      },
      "text/plain": [
       "FloatProgress(value=0.0, bar_style='info', description='Progress:', layout=Layout(height='25px', width='50%'),…"
      ]
     },
     "metadata": {},
     "output_type": "display_data"
    },
    {
     "name": "stdout",
     "output_type": "stream",
     "text": [
      "\t CP occured 7260971 times. 0.7003418194858616\n",
      "\t NullValue occured 1278584 times. 0.12332315401418224\n",
      "\t HG occured 61140 times. 0.005897131229881731\n",
      "\t HC occured 1767058 times. 0.17043789527007444\n"
     ]
    }
   ],
   "source": [
    "getHistogram(Coverages.high, \"HCPCS CPT4 TYPE CD 1\")"
   ]
  },
  {
   "cell_type": "code",
   "execution_count": 38,
   "id": "5a782946",
   "metadata": {},
   "outputs": [
    {
     "data": {
      "application/vnd.jupyter.widget-view+json": {
       "model_id": "b3fcc5ea828f4937851696fbc3dbb1d7",
       "version_major": 2,
       "version_minor": 0
      },
      "text/plain": [
       "VBox()"
      ]
     },
     "metadata": {},
     "output_type": "display_data"
    },
    {
     "data": {
      "application/vnd.jupyter.widget-view+json": {
       "model_id": "",
       "version_major": 2,
       "version_minor": 0
      },
      "text/plain": [
       "FloatProgress(value=0.0, bar_style='info', description='Progress:', layout=Layout(height='25px', width='50%'),…"
      ]
     },
     "metadata": {},
     "output_type": "display_data"
    },
    {
     "name": "stdout",
     "output_type": "stream",
     "text": [
      "\t 20181113 occured 492486 times. 0.04750171035131721\n",
      "\t 20181121 occured 393083 times. 0.03791400123054629\n",
      "\t 20181102 occured 407271 times. 0.03928247519014004\n",
      "\t 20181103 occured 111164 times. 0.01072209185539046\n",
      "\t 20181114 occured 481536 times. 0.04644555093085261\n",
      "\t 20181104 occured 92891 times. 0.008959607737568594\n",
      "\t 20181115 occured 436640 times. 0.04211520085403269\n",
      "\t 20181129 occured 466324 times. 0.044978309186185284\n",
      "\t 20181108 occured 473367 times. 0.0456576270673115\n",
      "\t 20181119 occured 502723 times. 0.0484890988433077\n",
      "\t 20181107 occured 480598 times. 0.04635507809647857\n",
      "\t 20181118 occured 100351 times. 0.009679146484296066\n",
      "\t 20181120 occured 474406 times. 0.04575784164611175\n",
      "\t 20181125 occured 99409 times. 0.009588287838261579\n",
      "\t 20181126 occured 500263 times. 0.04825182467213484\n",
      "\t 20181110 occured 112710 times. 0.010871208062151944\n",
      "\t 20181124 occured 109190 times. 0.0105316938009615\n",
      "\t 20181106 occured 485789 times. 0.04685576517881936\n",
      "\t 20181130 occured 416907 times. 0.04021189548014888\n",
      "\t 20181111 occured 92643 times. 0.008935687414621085\n",
      "\t 20181127 occured 485584 times. 0.046835992331221626\n",
      "\t 20181123 occured 183025 times. 0.017653294788176378\n",
      "\t 20181117 occured 113942 times. 0.010990038053568598\n",
      "\t 20181101 occured 498548 times. 0.04808640792271961\n",
      "\t 20181116 occured 402205 times. 0.038793844722188116\n",
      "\t 20181112 occured 492496 times. 0.04750267488046831\n",
      "\t 20181105 occured 506777 times. 0.04888011896116738\n",
      "\t 20181109 occured 404562 times. 0.03902118424310456\n",
      "\t 20181122 occured 84580 times. 0.008157987560081726\n",
      "\t 20181128 occured 466283 times. 0.044974354616665733\n"
     ]
    }
   ],
   "source": [
    "getHistogram(Coverages.full, \"SERVICE FROM DATE SKEY\")"
   ]
  },
  {
   "cell_type": "code",
   "execution_count": 39,
   "id": "a7c13ccf",
   "metadata": {},
   "outputs": [
    {
     "data": {
      "application/vnd.jupyter.widget-view+json": {
       "model_id": "f1817e32a8574b38914652f183322807",
       "version_major": 2,
       "version_minor": 0
      },
      "text/plain": [
       "VBox()"
      ]
     },
     "metadata": {},
     "output_type": "display_data"
    },
    {
     "data": {
      "application/vnd.jupyter.widget-view+json": {
       "model_id": "",
       "version_major": 2,
       "version_minor": 0
      },
      "text/plain": [
       "FloatProgress(value=0.0, bar_style='info', description='Progress:', layout=Layout(height='25px', width='50%'),…"
      ]
     },
     "metadata": {},
     "output_type": "display_data"
    },
    {
     "name": "stdout",
     "output_type": "stream",
     "text": [
      "**** SERVICE FROM DATE SKEY ****\n",
      "\t**Statistics\n",
      "\tminimum: 2.0181101E7\n",
      "\tmaximum: 2.018113E7\n",
      "\tmean: 2.018111541915206E7\n",
      "\tstandard deviation: 8.929153507544166\n",
      "\n"
     ]
    }
   ],
   "source": [
    "getStatistics(Coverages.full, \"SERVICE FROM DATE SKEY\")"
   ]
  },
  {
   "cell_type": "code",
   "execution_count": 40,
   "id": "718fb096",
   "metadata": {},
   "outputs": [
    {
     "data": {
      "application/vnd.jupyter.widget-view+json": {
       "model_id": "e2ccb5fdab654fc68f750532ca0005c8",
       "version_major": 2,
       "version_minor": 0
      },
      "text/plain": [
       "VBox()"
      ]
     },
     "metadata": {},
     "output_type": "display_data"
    },
    {
     "data": {
      "application/vnd.jupyter.widget-view+json": {
       "model_id": "",
       "version_major": 2,
       "version_minor": 0
      },
      "text/plain": [
       "FloatProgress(value=0.0, bar_style='info', description='Progress:', layout=Layout(height='25px', width='50%'),…"
      ]
     },
     "metadata": {},
     "output_type": "display_data"
    },
    {
     "name": "stdout",
     "output_type": "stream",
     "text": [
      "+----------------+-----------+\n",
      "|SOURCE MEMBER ID| MEMBER KEY|\n",
      "+----------------+-----------+\n",
      "|       768718931|35856706062|\n",
      "|       574453334|36333952331|\n",
      "|       632180015|38734431603|\n",
      "|       632180015|38734431603|\n",
      "|       632180015|38734431603|\n",
      "|       294376436|35804550111|\n",
      "|       294376436|35804550111|\n",
      "|       073715054|35949961362|\n",
      "|       073715054|35949961362|\n",
      "|       073715054|35949961362|\n",
      "|       073715054|35949961362|\n",
      "|       761139541|17502265693|\n",
      "|       325696581|35850290440|\n",
      "|       920761205|35994416047|\n",
      "|       875939821|36144412508|\n",
      "|       310944203|35944779958|\n",
      "|       310944203|35944779958|\n",
      "|       058015273|35994503060|\n",
      "|       016104183|35759134125|\n",
      "|       016104183|35759134125|\n",
      "+----------------+-----------+\n",
      "only showing top 20 rows\n",
      "\n"
     ]
    }
   ],
   "source": [
    "df_claim.select(\"SOURCE MEMBER ID\", \"MEMBER KEY\").show()"
   ]
  },
  {
   "cell_type": "code",
   "execution_count": 37,
   "id": "364ad791",
   "metadata": {},
   "outputs": [
    {
     "data": {
      "application/vnd.jupyter.widget-view+json": {
       "model_id": "679a505da5f64b16882f6b8c8dee968d",
       "version_major": 2,
       "version_minor": 0
      },
      "text/plain": [
       "VBox()"
      ]
     },
     "metadata": {},
     "output_type": "display_data"
    },
    {
     "data": {
      "application/vnd.jupyter.widget-view+json": {
       "model_id": "",
       "version_major": 2,
       "version_minor": 0
      },
      "text/plain": [
       "FloatProgress(value=0.0, bar_style='info', description='Progress:', layout=Layout(height='25px', width='50%'),…"
      ]
     },
     "metadata": {},
     "output_type": "display_data"
    },
    {
     "name": "stdout",
     "output_type": "stream",
     "text": [
      "df_members: org.apache.spark.sql.DataFrame = [SOURCE MEMBER ID: string, count: bigint]\n"
     ]
    }
   ],
   "source": [
    "val df_members = df_claim.groupBy(\"SOURCE MEMBER ID\").count()"
   ]
  },
  {
   "cell_type": "code",
   "execution_count": 38,
   "id": "ce70cc03",
   "metadata": {},
   "outputs": [
    {
     "data": {
      "application/vnd.jupyter.widget-view+json": {
       "model_id": "2c2497018cbf4a9a8221aefa7b7130ae",
       "version_major": 2,
       "version_minor": 0
      },
      "text/plain": [
       "VBox()"
      ]
     },
     "metadata": {},
     "output_type": "display_data"
    },
    {
     "data": {
      "application/vnd.jupyter.widget-view+json": {
       "model_id": "",
       "version_major": 2,
       "version_minor": 0
      },
      "text/plain": [
       "FloatProgress(value=0.0, bar_style='info', description='Progress:', layout=Layout(height='25px', width='50%'),…"
      ]
     },
     "metadata": {},
     "output_type": "display_data"
    },
    {
     "name": "stdout",
     "output_type": "stream",
     "text": [
      "res30: Long = 980184\n"
     ]
    }
   ],
   "source": [
    "df_members.count()"
   ]
  },
  {
   "cell_type": "code",
   "execution_count": 39,
   "id": "5f8c5bfd",
   "metadata": {},
   "outputs": [
    {
     "data": {
      "application/vnd.jupyter.widget-view+json": {
       "model_id": "a251a190b18648ee9d7bc65ebe943c29",
       "version_major": 2,
       "version_minor": 0
      },
      "text/plain": [
       "VBox()"
      ]
     },
     "metadata": {},
     "output_type": "display_data"
    },
    {
     "data": {
      "application/vnd.jupyter.widget-view+json": {
       "model_id": "",
       "version_major": 2,
       "version_minor": 0
      },
      "text/plain": [
       "FloatProgress(value=0.0, bar_style='info', description='Progress:', layout=Layout(height='25px', width='50%'),…"
      ]
     },
     "metadata": {},
     "output_type": "display_data"
    },
    {
     "name": "stdout",
     "output_type": "stream",
     "text": [
      "df_members2: org.apache.spark.sql.DataFrame = [SOURCE MEMBER ID: string, MEMBER KEY: string ... 1 more field]\n"
     ]
    }
   ],
   "source": [
    "val df_members2 = df_claim.groupBy(\"SOURCE MEMBER ID\", \"MEMBER KEY\").count()"
   ]
  },
  {
   "cell_type": "code",
   "execution_count": 40,
   "id": "7e21bd76",
   "metadata": {},
   "outputs": [
    {
     "data": {
      "application/vnd.jupyter.widget-view+json": {
       "model_id": "dda36342802d4a908710382de64bd803",
       "version_major": 2,
       "version_minor": 0
      },
      "text/plain": [
       "VBox()"
      ]
     },
     "metadata": {},
     "output_type": "display_data"
    },
    {
     "data": {
      "application/vnd.jupyter.widget-view+json": {
       "model_id": "",
       "version_major": 2,
       "version_minor": 0
      },
      "text/plain": [
       "FloatProgress(value=0.0, bar_style='info', description='Progress:', layout=Layout(height='25px', width='50%'),…"
      ]
     },
     "metadata": {},
     "output_type": "display_data"
    },
    {
     "name": "stdout",
     "output_type": "stream",
     "text": [
      "res31: Long = 980630\n"
     ]
    }
   ],
   "source": [
    "df_members2.count()"
   ]
  },
  {
   "cell_type": "code",
   "execution_count": 44,
   "id": "ac29b716",
   "metadata": {},
   "outputs": [
    {
     "data": {
      "application/vnd.jupyter.widget-view+json": {
       "model_id": "7ad92a1eafb64607bcfb709ba250e608",
       "version_major": 2,
       "version_minor": 0
      },
      "text/plain": [
       "VBox()"
      ]
     },
     "metadata": {},
     "output_type": "display_data"
    },
    {
     "data": {
      "application/vnd.jupyter.widget-view+json": {
       "model_id": "",
       "version_major": 2,
       "version_minor": 0
      },
      "text/plain": [
       "FloatProgress(value=0.0, bar_style='info', description='Progress:', layout=Layout(height='25px', width='50%'),…"
      ]
     },
     "metadata": {},
     "output_type": "display_data"
    },
    {
     "name": "stdout",
     "output_type": "stream",
     "text": [
      "df_sources: org.apache.spark.sql.DataFrame = [keys: bigint, count: bigint]\n"
     ]
    }
   ],
   "source": [
    "val df_sources = df_members2.groupBy(\"SOURCE MEMBER ID\").agg(count(\"*\").alias(\"keys\")).groupBy(\"keys\").count()"
   ]
  },
  {
   "cell_type": "code",
   "execution_count": 45,
   "id": "cb5607f1",
   "metadata": {},
   "outputs": [
    {
     "data": {
      "application/vnd.jupyter.widget-view+json": {
       "model_id": "fd44ec625bd848d09558db1df123a6dd",
       "version_major": 2,
       "version_minor": 0
      },
      "text/plain": [
       "VBox()"
      ]
     },
     "metadata": {},
     "output_type": "display_data"
    },
    {
     "data": {
      "application/vnd.jupyter.widget-view+json": {
       "model_id": "",
       "version_major": 2,
       "version_minor": 0
      },
      "text/plain": [
       "FloatProgress(value=0.0, bar_style='info', description='Progress:', layout=Layout(height='25px', width='50%'),…"
      ]
     },
     "metadata": {},
     "output_type": "display_data"
    },
    {
     "name": "stdout",
     "output_type": "stream",
     "text": [
      "+----+------+\n",
      "|keys| count|\n",
      "+----+------+\n",
      "|   1|979744|\n",
      "|   3|     6|\n",
      "|   2|   434|\n",
      "+----+------+\n",
      "\n"
     ]
    }
   ],
   "source": [
    "df_sources.show()"
   ]
  },
  {
   "cell_type": "code",
   "execution_count": 63,
   "id": "2cf5711a",
   "metadata": {},
   "outputs": [
    {
     "data": {
      "application/vnd.jupyter.widget-view+json": {
       "model_id": "879bdee68d3348e693943b825685b65b",
       "version_major": 2,
       "version_minor": 0
      },
      "text/plain": [
       "VBox()"
      ]
     },
     "metadata": {},
     "output_type": "display_data"
    },
    {
     "data": {
      "application/vnd.jupyter.widget-view+json": {
       "model_id": "",
       "version_major": 2,
       "version_minor": 0
      },
      "text/plain": [
       "FloatProgress(value=0.0, bar_style='info', description='Progress:', layout=Layout(height='25px', width='50%'),…"
      ]
     },
     "metadata": {},
     "output_type": "display_data"
    },
    {
     "name": "stdout",
     "output_type": "stream",
     "text": [
      "df_null_hcpcs: org.apache.spark.sql.Dataset[org.apache.spark.sql.Row] = [SOURCE PLATFORM CD: string, SOURCE CLAIM NBR: string ... 157 more fields]\n"
     ]
    }
   ],
   "source": [
    "val df_null_hcpcs = df_claim.filter($\"HCPCS CPT4 TYPE CD 1\".isNull)"
   ]
  },
  {
   "cell_type": "code",
   "execution_count": 64,
   "id": "cd044aff",
   "metadata": {},
   "outputs": [
    {
     "data": {
      "application/vnd.jupyter.widget-view+json": {
       "model_id": "732c12bcb3594663a88577ac0f2d3da0",
       "version_major": 2,
       "version_minor": 0
      },
      "text/plain": [
       "VBox()"
      ]
     },
     "metadata": {},
     "output_type": "display_data"
    },
    {
     "data": {
      "application/vnd.jupyter.widget-view+json": {
       "model_id": "",
       "version_major": 2,
       "version_minor": 0
      },
      "text/plain": [
       "FloatProgress(value=0.0, bar_style='info', description='Progress:', layout=Layout(height='25px', width='50%'),…"
      ]
     },
     "metadata": {},
     "output_type": "display_data"
    },
    {
     "name": "stdout",
     "output_type": "stream",
     "text": [
      "columnNamesString: String = SOURCE PLATFORM CD|SOURCE CLAIM NBR| SOURCE CLAIM SUFFIX|SOURCE LINE ID|SOURCE LINE SUFFIX|SOURCE MEMBER ID| MEMBER KEY|MEMBER AGE|SOURCE AUTHORIZATION KEY| PLAN GEN KEY|CLAIM FORM TYPE CD|SERVICE FROM DATE SKEY|SERVICE TO DATE SKEY|BILL TYPE CD|SOURCE ADMIT DATE SKEY|ADMIT TYPE CD|ADMITTING DIAG CD|CAUSE SUB CD|PRIMARY DIAG CD|DIAG LINE POINTER NBR|HCPCS CPT4 BASE CD 1|HCPCS CPT4 SUFFIX CD 1|HCPCS CPT4 TYPE CD 1|CPT MODIFIER CD|CPT MODIFIER CD 2|CPT MODIFIER CD 3|CPT MODIFIER CD 4|NATIONAL DRUG CD ID|DRG STANDARD CD|IN PLAN NETWORK IND\n",
      "columnNamesList: Array[String] = Array(SOURCE PLATFORM CD, SOURCE CLAIM NBR, SOURCE CLAIM SUFFIX, SOURCE LINE ID, SOURCE LINE SUFFIX, SOURCE MEMBER ID, MEMBER KEY, MEMBER AGE, SOURCE AUTHORIZATION KEY, PLAN GEN KEY, CLAIM FORM TYPE CD, SERVICE FROM DATE SKEY, SERVICE TO DATE SKEY, BILL TYPE CD, SOURCE ADMIT DATE SKEY, ADMIT TYPE CD, ADMITTING DIAG CD, CAUSE SUB CD, PRIMARY DIAG CD, DIAG LINE POINTER NBR, HCPCS CPT4 BASE CD 1, HCPCS CPT4 SUFFIX CD 1, HCPCS CPT4 TYPE CD 1, CPT MODIFIER CD, CPT MODIFIER CD 2, CPT MODIFIER CD 3, CPT MODIFIER CD 4, NATIONAL DRUG CD ID, DRG STANDARD CD, IN PLAN NETWORK IND)\n"
     ]
    }
   ],
   "source": [
    "val columnNamesString = (s\"SOURCE PLATFORM CD|SOURCE CLAIM NBR| SOURCE CLAIM SUFFIX|SOURCE LINE ID|SOURCE LINE SUFFIX|SOURCE MEMBER ID| MEMBER KEY|MEMBER AGE|SOURCE AUTHORIZATION KEY| PLAN GEN KEY|CLAIM FORM TYPE CD\"+\n",
    "s\"|SERVICE FROM DATE SKEY|SERVICE TO DATE SKEY|BILL TYPE CD|SOURCE ADMIT DATE SKEY|ADMIT TYPE CD|ADMITTING DIAG CD|CAUSE SUB CD|PRIMARY DIAG CD\"+\n",
    "s\"|DIAG LINE POINTER NBR|HCPCS CPT4 BASE CD 1|HCPCS CPT4 SUFFIX CD 1|HCPCS CPT4 TYPE CD 1|CPT MODIFIER CD|CPT MODIFIER CD 2|CPT MODIFIER CD 3|CPT MODIFIER CD 4|NATIONAL DRUG CD ID|\"+ \n",
    "s\"DRG STANDARD CD|IN PLAN NETWORK IND\")\n",
    "val columnNamesList = columnNamesString.split(\"[|]\").map(_.trim)\n"
   ]
  },
  {
   "cell_type": "code",
   "execution_count": 65,
   "id": "9def6c98",
   "metadata": {},
   "outputs": [
    {
     "data": {
      "application/vnd.jupyter.widget-view+json": {
       "model_id": "77a3a9740d6f406aa1666c91ebceba00",
       "version_major": 2,
       "version_minor": 0
      },
      "text/plain": [
       "VBox()"
      ]
     },
     "metadata": {},
     "output_type": "display_data"
    },
    {
     "data": {
      "application/vnd.jupyter.widget-view+json": {
       "model_id": "",
       "version_major": 2,
       "version_minor": 0
      },
      "text/plain": [
       "FloatProgress(value=0.0, bar_style='info', description='Progress:', layout=Layout(height='25px', width='50%'),…"
      ]
     },
     "metadata": {},
     "output_type": "display_data"
    },
    {
     "name": "stdout",
     "output_type": "stream",
     "text": [
      "+------------------+----------------+--------------------+--------------+------------------+----------------+-----------+----------+------------------------+-------------+------------------+----------------------+--------------------+------------+----------------------+-------------+-----------------+------------+---------------+---------------------+--------------------+----------------------+--------------------+---------------+-----------------+-----------------+-----------------+-------------------+---------------+-------------------+\n",
      "|SOURCE PLATFORM CD|SOURCE CLAIM NBR| SOURCE CLAIM SUFFIX|SOURCE LINE ID|SOURCE LINE SUFFIX|SOURCE MEMBER ID| MEMBER KEY|MEMBER AGE|SOURCE AUTHORIZATION KEY| PLAN GEN KEY|CLAIM FORM TYPE CD|SERVICE FROM DATE SKEY|SERVICE TO DATE SKEY|BILL TYPE CD|SOURCE ADMIT DATE SKEY|ADMIT TYPE CD|ADMITTING DIAG CD|CAUSE SUB CD|PRIMARY DIAG CD|DIAG LINE POINTER NBR|HCPCS CPT4 BASE CD 1|HCPCS CPT4 SUFFIX CD 1|HCPCS CPT4 TYPE CD 1|CPT MODIFIER CD|CPT MODIFIER CD 2|CPT MODIFIER CD 3|CPT MODIFIER CD 4|NATIONAL DRUG CD ID|DRG STANDARD CD|IN PLAN NETWORK IND|\n",
      "+------------------+----------------+--------------------+--------------+------------------+----------------+-----------+----------+------------------------+-------------+------------------+----------------------+--------------------+------------+----------------------+-------------+-----------------+------------+---------------+---------------------+--------------------+----------------------+--------------------+---------------+-----------------+-----------------+-----------------+-------------------+---------------+-------------------+\n",
      "|                LV| 820183340284616|58274283463 IMPEA...|             1|  0201912902411699|       357750338|36347727812|        89|                    null|1110004657988|                 A|              20181116|            20181119|        null|              20181116|         null|             I130|          95|           I130|                    1|                null|                  null|                null|           null|             null|             null|             null|               null|            291|                  Y|\n",
      "|                LV| 820183340284616|58274283463 IMPEA...|             1|  0201912902411799|       357750338|36347727812|        89|                    null|1110004657988|                 A|              20181116|            20181120|        null|              20181116|         null|             I130|          95|           I130|                    1|                null|                  null|                null|           null|             null|             null|             null|               null|            291|                  Y|\n",
      "|                LV| 820183340284616|58274283463 IMPEA...|             1|  0201912902411899|       357750338|36347727812|        89|                    null|1110004657988|                 A|              20181116|            20181120|        null|              20181116|         null|             I130|          95|           I130|                    1|                null|                  null|                null|           null|             null|             null|             null|               null|            291|                  Y|\n",
      "|                LV| 820183340284616|58274283463 IMPEA...|             1|  0201912902411999|       357750338|36347727812|        89|                    null|1110004657988|                 A|              20181116|            20181120|        null|              20181116|         null|             I130|          95|           I130|                    1|                null|                  null|                null|           null|             null|             null|             null|               null|            291|                  Y|\n",
      "|                LV| 820190081097395|582348035536CONNI...|            96|  0201901014044284|       929679154|35764543344|        63|                    null|4800004663286|                 H|              20181123|            20181123|         131|              19000101|            2|             null|        null|           Z591|                    1|                null|                  null|                null|           null|             null|             null|             null|               null|           0000|                  Y|\n",
      "|                LV| 820183270148184|584118453272ROBER...|             4|  0201910002344196|       579532120|39059125453|        71|                    null|7720004657988|                 H|              20181114|            20181116|         111|              20181114|            3|             C182|          F1|           C182|                    1|                null|                  null|                null|           null|             null|             null|             null|               null|            330|                  Y|\n",
      "|                LV| 820183270148184|584118453272ROBER...|             3|  0201910002344197|       579532120|39059125453|        71|                    null|7720004657988|                 H|              20181114|            20181116|         111|              20181114|            3|             C182|          F1|           C182|                    1|                null|                  null|                null|           null|             null|             null|             null|               null|            330|                  Y|\n",
      "|                LV| 820183270148184|584118453272ROBER...|             4|  0201910002344396|       579532120|39059125453|        71|                    null|7720004657988|                 H|              20181114|            20181116|         111|              20181114|            3|             C182|          F1|           C182|                    1|                null|                  null|                null|           null|             null|             null|             null|               null|            330|                  Y|\n",
      "|                LV| 820183270148184|584118453272ROBER...|             3|  0201910002344397|       579532120|39059125453|        71|                    null|7720004657988|                 H|              20181114|            20181116|         111|              20181114|            3|             C182|          F1|           C182|                    1|                null|                  null|                null|           null|             null|             null|             null|               null|            330|                  Y|\n",
      "|                LV| 820183270148184|584118453272ROBER...|             4|  0201910002344496|       579532120|39059125453|        71|                    null|7720004657988|                 H|              20181114|            20181116|         111|              20181114|            3|             C182|          F1|           C182|                    1|                null|                  null|                null|           null|             null|             null|             null|               null|            330|                  Y|\n",
      "|                LV| 820183270148184|584118453272ROBER...|             3|  0201910002344497|       579532120|39059125453|        71|                    null|7720004657988|                 H|              20181114|            20181116|         111|              20181114|            3|             C182|          F1|           C182|                    1|                null|                  null|                null|           null|             null|             null|             null|               null|            330|                  Y|\n",
      "|                LV| 820183270148184|584118453272ROBER...|             3|  0201910002344597|       579532120|39059125453|        71|                    null|7720004657988|                 H|              20181114|            20181116|         111|              20181114|            3|             C182|          F1|           C182|                    1|                null|                  null|                null|           null|             null|             null|             null|               null|            330|                  Y|\n",
      "|                LV| 820183250424739|585145038473LINDA...|             3|  0201910513135397|       627948143|38976713733|        71|                    null|7020004658086|                 A|              20181103|            20181104|        null|              20181025|         null|            J9622|          95|           I130|                    1|                null|                  null|                null|           null|             null|             null|             null|               null|            291|                  Y|\n",
      "|                LV| 820183380229411|584064071255EDWIN...|             3|  0201910202573997|       377601332|35949936927|        82|                    null|6500004660786|                 H|              20181108|            20181108|         133|              20181108|            3|            Z5112|        null|          Z5112|                    1|                null|                  null|                null|           null|             null|             null|             null|        00409798437|           0000|                  Y|\n",
      "|                LV| 820183380229411|584064071255EDWIN...|             2|  0201910202573998|       377601332|35949936927|        82|                    null|6500004660786|                 H|              20181108|            20181108|         133|              20181108|            3|            Z5112|        null|          Z5112|                    1|                null|                  null|                null|           null|             null|             null|             null|        00338004902|           0000|                  Y|\n",
      "|                LV| 820183380229411|584064071255EDWIN...|             1|  0201910202573999|       377601332|35949936927|        82|                    null|6500004660786|                 H|              20181108|            20181108|         133|              20181108|            3|            Z5112|        null|          Z5112|                    1|                null|                  null|                null|           null|             null|             null|             null|        08290306513|           0000|                  Y|\n",
      "|                LV| 820191490537240|574796062313LAVON...|             3|  0202007616053497|       817939531|38488627670|        72|                    null|7730004658486|                 A|              20181129|            20181202|        null|              20181129|         null|          S42341A|          95|        S42411A|                    1|                null|                  null|                null|           null|             null|             null|             null|               null|            493|                  Y|\n",
      "|                LV| 820191490537240|574796062313LAVON...|             3|  0202007616072297|       817939531|38488627670|        72|                    null|7730004658486|                 A|              20181129|            20181202|        null|              20181129|         null|          S42341A|          95|        S42411A|                    1|                null|                  null|                null|           null|             null|             null|             null|               null|            493|                  Y|\n",
      "|                LV| 820183250421905|58411584696 JOE  ...|             6|  0202007814511394|       965490103|19993323679|        85|             00111274415|3350004657187|                 H|              20181114|            20181117|         111|              20181114|            1|             R112|          F1|           K567|                    1|                null|                  null|                null|           null|             null|             null|             null|               null|            388|                  Y|\n",
      "|                LV| 820183250421905|58411584696 JOE  ...|             5|  0202007814511395|       965490103|19993323679|        85|             00111274415|3350004657187|                 H|              20181114|            20181117|         111|              20181114|            1|             R112|          F1|           K567|                    1|                null|                  null|                null|           null|             null|             null|             null|               null|            388|                  Y|\n",
      "+------------------+----------------+--------------------+--------------+------------------+----------------+-----------+----------+------------------------+-------------+------------------+----------------------+--------------------+------------+----------------------+-------------+-----------------+------------+---------------+---------------------+--------------------+----------------------+--------------------+---------------+-----------------+-----------------+-----------------+-------------------+---------------+-------------------+\n",
      "only showing top 20 rows\n",
      "\n"
     ]
    }
   ],
   "source": [
    "df_null_hcpcs.select(columnNamesList.map(col): _*).show()"
   ]
  },
  {
   "cell_type": "code",
   "execution_count": 66,
   "id": "6f4cdac5",
   "metadata": {},
   "outputs": [
    {
     "data": {
      "application/vnd.jupyter.widget-view+json": {
       "model_id": "240a7da58b574792984ab53e7b4e33c6",
       "version_major": 2,
       "version_minor": 0
      },
      "text/plain": [
       "VBox()"
      ]
     },
     "metadata": {},
     "output_type": "display_data"
    },
    {
     "data": {
      "application/vnd.jupyter.widget-view+json": {
       "model_id": "",
       "version_major": 2,
       "version_minor": 0
      },
      "text/plain": [
       "FloatProgress(value=0.0, bar_style='info', description='Progress:', layout=Layout(height='25px', width='50%'),…"
      ]
     },
     "metadata": {},
     "output_type": "display_data"
    },
    {
     "name": "stdout",
     "output_type": "stream",
     "text": [
      "+------------------+----------------+-------------------+--------------+------------------+----------------+----------+----------+------------------------+------------+------------------+----------------------+--------------------+------------+----------------------+-------------+-----------------+------------+---------------+---------------------+--------------------+----------------------+--------------------+---------------+-----------------+-----------------+-----------------+-------------------+---------------+-------------------+\n",
      "|SOURCE PLATFORM CD|SOURCE CLAIM NBR|SOURCE CLAIM SUFFIX|SOURCE LINE ID|SOURCE LINE SUFFIX|SOURCE MEMBER ID|MEMBER KEY|MEMBER AGE|SOURCE AUTHORIZATION KEY|PLAN GEN KEY|CLAIM FORM TYPE CD|SERVICE FROM DATE SKEY|SERVICE TO DATE SKEY|BILL TYPE CD|SOURCE ADMIT DATE SKEY|ADMIT TYPE CD|ADMITTING DIAG CD|CAUSE SUB CD|PRIMARY DIAG CD|DIAG LINE POINTER NBR|HCPCS CPT4 BASE CD 1|HCPCS CPT4 SUFFIX CD 1|HCPCS CPT4 TYPE CD 1|CPT MODIFIER CD|CPT MODIFIER CD 2|CPT MODIFIER CD 3|CPT MODIFIER CD 4|NATIONAL DRUG CD ID|DRG STANDARD CD|IN PLAN NETWORK IND|\n",
      "+------------------+----------------+-------------------+--------------+------------------+----------------+----------+----------+------------------------+------------+------------------+----------------------+--------------------+------------+----------------------+-------------+-----------------+------------+---------------+---------------------+--------------------+----------------------+--------------------+---------------+-----------------+-----------------+-----------------+-------------------+---------------+-------------------+\n",
      "+------------------+----------------+-------------------+--------------+------------------+----------------+----------+----------+------------------------+------------+------------------+----------------------+--------------------+------------+----------------------+-------------+-----------------+------------+---------------+---------------------+--------------------+----------------------+--------------------+---------------+-----------------+-----------------+-----------------+-------------------+---------------+-------------------+\n",
      "\n"
     ]
    }
   ],
   "source": [
    "df_claim.filter($\"SOURCE CLAIM NBR\"=== \"820183340284616\").filter($\"HCPCS CPT4 TYPE CD 1\".isNotNull).select(columnNamesList.map(col): _*).show(200)"
   ]
  },
  {
   "cell_type": "code",
   "execution_count": null,
   "id": "87a48557",
   "metadata": {},
   "outputs": [],
   "source": []
  }
 ],
 "metadata": {
  "kernelspec": {
   "display_name": "Spark",
   "language": "",
   "name": "sparkkernel"
  },
  "language_info": {
   "codemirror_mode": "text/x-scala",
   "mimetype": "text/x-scala",
   "name": "scala",
   "pygments_lexer": "scala"
  }
 },
 "nbformat": 4,
 "nbformat_minor": 5
}
